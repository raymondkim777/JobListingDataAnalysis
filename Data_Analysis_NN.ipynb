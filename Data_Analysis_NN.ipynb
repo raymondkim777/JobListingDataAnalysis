{
  "nbformat": 4,
  "nbformat_minor": 0,
  "metadata": {
    "colab": {
      "provenance": [],
      "toc_visible": true,
      "authorship_tag": "ABX9TyPefxaDjnLnSYMdFgELXofO",
      "include_colab_link": true
    },
    "kernelspec": {
      "name": "python3",
      "display_name": "Python 3"
    },
    "language_info": {
      "name": "python"
    }
  },
  "cells": [
    {
      "cell_type": "markdown",
      "metadata": {
        "id": "view-in-github",
        "colab_type": "text"
      },
      "source": [
        "<a href=\"https://colab.research.google.com/github/raymondkim777/JobListingDataAnalysis/blob/main/Data_Analysis_NN.ipynb\" target=\"_parent\"><img src=\"https://colab.research.google.com/assets/colab-badge.svg\" alt=\"Open In Colab\"/></a>"
      ]
    },
    {
      "cell_type": "code",
      "source": [
        "from google.colab import drive\n",
        "drive.mount('/content/drive')"
      ],
      "metadata": {
        "colab": {
          "base_uri": "https://localhost:8080/"
        },
        "id": "_E1mV6rYiRwu",
        "outputId": "eecd2fb7-d3f9-4679-be6c-ca2a6e59c43b"
      },
      "execution_count": 1,
      "outputs": [
        {
          "output_type": "stream",
          "name": "stdout",
          "text": [
            "Mounted at /content/drive\n"
          ]
        }
      ]
    },
    {
      "cell_type": "markdown",
      "source": [
        "Downloading & Installing Kaggle"
      ],
      "metadata": {
        "id": "jtbas-sggj5I"
      }
    },
    {
      "cell_type": "code",
      "source": [
        "'''\n",
        "!pip install kaggle\n",
        "from google.colab import files\n",
        "files.upload()\n",
        "'''"
      ],
      "metadata": {
        "colab": {
          "base_uri": "https://localhost:8080/",
          "height": 36
        },
        "id": "YW2Qqt_kCLwj",
        "outputId": "50474a62-a2ee-4dbe-d41b-908242dfcf8b"
      },
      "execution_count": null,
      "outputs": [
        {
          "output_type": "execute_result",
          "data": {
            "text/plain": [
              "'\\n!pip install kaggle\\nfrom google.colab import files\\nfiles.upload()\\n'"
            ],
            "application/vnd.google.colaboratory.intrinsic+json": {
              "type": "string"
            }
          },
          "metadata": {},
          "execution_count": 39
        }
      ]
    },
    {
      "cell_type": "code",
      "source": [
        "'''\n",
        "!mkdir -p ~/.kaggle\n",
        "!cp /content/drive/MyDrive/Work/Projects/Data_Analysis/kaggle.json ~/.kaggle/\n",
        "!chmod 600 ~/.kaggle/kaggle.json\n",
        "!ls ~/.kaggle'''"
      ],
      "metadata": {
        "colab": {
          "base_uri": "https://localhost:8080/",
          "height": 36
        },
        "id": "atgrD_oxCo22",
        "outputId": "f728801c-7ef0-40c5-aeab-bfaa2ca687c3"
      },
      "execution_count": null,
      "outputs": [
        {
          "output_type": "execute_result",
          "data": {
            "text/plain": [
              "'\\n!mkdir -p ~/.kaggle\\n!cp /content/drive/MyDrive/Work/Projects/Data_Analysis/kaggle.json ~/.kaggle/\\n!chmod 600 ~/.kaggle/kaggle.json\\n!ls ~/.kaggle'"
            ],
            "application/vnd.google.colaboratory.intrinsic+json": {
              "type": "string"
            }
          },
          "metadata": {},
          "execution_count": 40
        }
      ]
    },
    {
      "cell_type": "code",
      "source": [
        "# !kaggle datasets download -d shivamb/real-or-fake-fake-jobposting-prediction"
      ],
      "metadata": {
        "id": "r2inJV7OD-10"
      },
      "execution_count": null,
      "outputs": []
    },
    {
      "cell_type": "code",
      "source": [
        "# !ls\n",
        "# !unzip  real-or-fake-fake-jobposting-prediction.zip"
      ],
      "metadata": {
        "id": "J6Zfw5l4EaSs"
      },
      "execution_count": null,
      "outputs": []
    },
    {
      "cell_type": "markdown",
      "source": [
        "#Data Manipulation"
      ],
      "metadata": {
        "id": "Fdlzzy777nDS"
      }
    },
    {
      "cell_type": "markdown",
      "source": [
        "Creating DataFrame sampling 1400 job listings (true/false)"
      ],
      "metadata": {
        "id": "6si_Ajgqgq19"
      }
    },
    {
      "cell_type": "code",
      "source": [
        "import pandas as pd\n",
        "\n",
        "file = \"./drive/MyDrive/Work/Projects/Data_Analysis/fake_job_postings.csv\"\n",
        "df = pd.read_csv(file)\n",
        "# df.info()\n",
        "\n",
        "# print(pd.isna(df))\n",
        "df.fillna(0, inplace=True)\n",
        "# print(pd.isna(df))\n",
        "# df.corr()\n",
        "# df.describe()\n",
        "col = df.columns\n",
        "col"
      ],
      "metadata": {
        "colab": {
          "base_uri": "https://localhost:8080/"
        },
        "id": "dLf90x0SEzXK",
        "outputId": "c985b9bd-05e6-402f-db70-a31bbc860e8f"
      },
      "execution_count": 2,
      "outputs": [
        {
          "output_type": "execute_result",
          "data": {
            "text/plain": [
              "Index(['job_id', 'title', 'location', 'department', 'salary_range',\n",
              "       'company_profile', 'description', 'requirements', 'benefits',\n",
              "       'telecommuting', 'has_company_logo', 'has_questions', 'employment_type',\n",
              "       'required_experience', 'required_education', 'industry', 'function',\n",
              "       'fraudulent'],\n",
              "      dtype='object')"
            ]
          },
          "metadata": {},
          "execution_count": 2
        }
      ]
    },
    {
      "cell_type": "code",
      "source": [
        "df2 = df.loc[:, [col[1], col[5], col[6], col[7], col[17]]]\n",
        "df2 = df2.drop(df2.loc[df2.loc[:, 'requirements'] == 0].index, axis='index')\n",
        "df2 = df2.drop(df2.loc[df2.loc[:, 'requirements'] == 0].index, axis='index')\n",
        "df2 = df2.loc[df2.loc[:, 'description'].str.strip().str.len() > 0]\n",
        "\n",
        "col2 = df2.columns\n",
        "df2 = df2.loc[:, [col2[0], col2[2], col2[3], col2[4]]]\n",
        "\n",
        "df_t = df2.loc[df2.loc[:, col2[-1]] == 0]\n",
        "df_f = df2.loc[df2.loc[:, col2[-1]] == 1]\n",
        "df_t = df_t.sample(n=700, replace=False)\n",
        "df_f = df_f.sample(n=700, replace=False)\n",
        "\n",
        "sample_df = pd.concat([df_t, df_f], ignore_index=True)\n",
        "sample_df"
      ],
      "metadata": {
        "colab": {
          "base_uri": "https://localhost:8080/",
          "height": 423
        },
        "id": "Pq-ravIPJlDk",
        "outputId": "137b848e-3db8-4f73-f693-88bef0474705"
      },
      "execution_count": 3,
      "outputs": [
        {
          "output_type": "execute_result",
          "data": {
            "text/plain": [
              "                                                  title  \\\n",
              "0                    Office Manager, Accountant, Europe   \n",
              "1     FX Institutional Sales / Business Development ...   \n",
              "2                                 Security Officer (SO)   \n",
              "3                                     Child Care Worker   \n",
              "4                            Big Data / Hadoop Engineer   \n",
              "...                                                 ...   \n",
              "1395                   Customer Service Rep Call Center   \n",
              "1396                                         Data Entry   \n",
              "1397                        Brand & Logo Design Contest   \n",
              "1398  Payroll Data Coordinator Positions - Earn $100...   \n",
              "1399                       Lead Software Engineer - Web   \n",
              "\n",
              "                                            description  \\\n",
              "0     Transifex, a Greek-born company internationall...   \n",
              "1     Responsibilities:Identify potential new client...   \n",
              "2     SMGI Employment OpportunitiesSecurity Manageme...   \n",
              "3     Committed and enthusiastic, you'll work as par...   \n",
              "4     We are gathering all of the world's data relat...   \n",
              "...                                                 ...   \n",
              "1395  BACKGROUND/EXPERIENCE desired:* Warm, positive...   \n",
              "1396  We are seeking extremely motivated and experie...   \n",
              "1397  Calling all hungry, young &amp; fresh designer...   \n",
              "1398  We are a full-service marketing and staffing f...   \n",
              "1399  Do you want to help improve the lives of farme...   \n",
              "\n",
              "                                           requirements  fraudulent  \n",
              "0     The following are requirements (must-haves). I...           0  \n",
              "1     Good command of English and the language of th...           0  \n",
              "2     What are we looking for? SMGI employs highly t...           0  \n",
              "3     Strong IT skills.Previous care working experie...           0  \n",
              "4     Deep knowledge of data mining, machine learnin...           0  \n",
              "...                                                 ...         ...  \n",
              "1395  EDUCATIONThe highest level of education desire...           1  \n",
              "1396   Have a yahoo messenger which you would be wor...           1  \n",
              "1397  We need your CREATIVITY for a full Brand Desig...           1  \n",
              "1398  RequirementsAll you need is access to the Inte...           1  \n",
              "1399     Creativity and passion for developing high ...           1  \n",
              "\n",
              "[1400 rows x 4 columns]"
            ],
            "text/html": [
              "\n",
              "  <div id=\"df-970daf29-b498-48c2-ad18-ca64ff799183\" class=\"colab-df-container\">\n",
              "    <div>\n",
              "<style scoped>\n",
              "    .dataframe tbody tr th:only-of-type {\n",
              "        vertical-align: middle;\n",
              "    }\n",
              "\n",
              "    .dataframe tbody tr th {\n",
              "        vertical-align: top;\n",
              "    }\n",
              "\n",
              "    .dataframe thead th {\n",
              "        text-align: right;\n",
              "    }\n",
              "</style>\n",
              "<table border=\"1\" class=\"dataframe\">\n",
              "  <thead>\n",
              "    <tr style=\"text-align: right;\">\n",
              "      <th></th>\n",
              "      <th>title</th>\n",
              "      <th>description</th>\n",
              "      <th>requirements</th>\n",
              "      <th>fraudulent</th>\n",
              "    </tr>\n",
              "  </thead>\n",
              "  <tbody>\n",
              "    <tr>\n",
              "      <th>0</th>\n",
              "      <td>Office Manager, Accountant, Europe</td>\n",
              "      <td>Transifex, a Greek-born company internationall...</td>\n",
              "      <td>The following are requirements (must-haves). I...</td>\n",
              "      <td>0</td>\n",
              "    </tr>\n",
              "    <tr>\n",
              "      <th>1</th>\n",
              "      <td>FX Institutional Sales / Business Development ...</td>\n",
              "      <td>Responsibilities:Identify potential new client...</td>\n",
              "      <td>Good command of English and the language of th...</td>\n",
              "      <td>0</td>\n",
              "    </tr>\n",
              "    <tr>\n",
              "      <th>2</th>\n",
              "      <td>Security Officer (SO)</td>\n",
              "      <td>SMGI Employment OpportunitiesSecurity Manageme...</td>\n",
              "      <td>What are we looking for? SMGI employs highly t...</td>\n",
              "      <td>0</td>\n",
              "    </tr>\n",
              "    <tr>\n",
              "      <th>3</th>\n",
              "      <td>Child Care Worker</td>\n",
              "      <td>Committed and enthusiastic, you'll work as par...</td>\n",
              "      <td>Strong IT skills.Previous care working experie...</td>\n",
              "      <td>0</td>\n",
              "    </tr>\n",
              "    <tr>\n",
              "      <th>4</th>\n",
              "      <td>Big Data / Hadoop Engineer</td>\n",
              "      <td>We are gathering all of the world's data relat...</td>\n",
              "      <td>Deep knowledge of data mining, machine learnin...</td>\n",
              "      <td>0</td>\n",
              "    </tr>\n",
              "    <tr>\n",
              "      <th>...</th>\n",
              "      <td>...</td>\n",
              "      <td>...</td>\n",
              "      <td>...</td>\n",
              "      <td>...</td>\n",
              "    </tr>\n",
              "    <tr>\n",
              "      <th>1395</th>\n",
              "      <td>Customer Service Rep Call Center</td>\n",
              "      <td>BACKGROUND/EXPERIENCE desired:* Warm, positive...</td>\n",
              "      <td>EDUCATIONThe highest level of education desire...</td>\n",
              "      <td>1</td>\n",
              "    </tr>\n",
              "    <tr>\n",
              "      <th>1396</th>\n",
              "      <td>Data Entry</td>\n",
              "      <td>We are seeking extremely motivated and experie...</td>\n",
              "      <td>Have a yahoo messenger which you would be wor...</td>\n",
              "      <td>1</td>\n",
              "    </tr>\n",
              "    <tr>\n",
              "      <th>1397</th>\n",
              "      <td>Brand &amp; Logo Design Contest</td>\n",
              "      <td>Calling all hungry, young &amp;amp; fresh designer...</td>\n",
              "      <td>We need your CREATIVITY for a full Brand Desig...</td>\n",
              "      <td>1</td>\n",
              "    </tr>\n",
              "    <tr>\n",
              "      <th>1398</th>\n",
              "      <td>Payroll Data Coordinator Positions - Earn $100...</td>\n",
              "      <td>We are a full-service marketing and staffing f...</td>\n",
              "      <td>RequirementsAll you need is access to the Inte...</td>\n",
              "      <td>1</td>\n",
              "    </tr>\n",
              "    <tr>\n",
              "      <th>1399</th>\n",
              "      <td>Lead Software Engineer - Web</td>\n",
              "      <td>Do you want to help improve the lives of farme...</td>\n",
              "      <td>Creativity and passion for developing high ...</td>\n",
              "      <td>1</td>\n",
              "    </tr>\n",
              "  </tbody>\n",
              "</table>\n",
              "<p>1400 rows × 4 columns</p>\n",
              "</div>\n",
              "    <div class=\"colab-df-buttons\">\n",
              "\n",
              "  <div class=\"colab-df-container\">\n",
              "    <button class=\"colab-df-convert\" onclick=\"convertToInteractive('df-970daf29-b498-48c2-ad18-ca64ff799183')\"\n",
              "            title=\"Convert this dataframe to an interactive table.\"\n",
              "            style=\"display:none;\">\n",
              "\n",
              "  <svg xmlns=\"http://www.w3.org/2000/svg\" height=\"24px\" viewBox=\"0 -960 960 960\">\n",
              "    <path d=\"M120-120v-720h720v720H120Zm60-500h600v-160H180v160Zm220 220h160v-160H400v160Zm0 220h160v-160H400v160ZM180-400h160v-160H180v160Zm440 0h160v-160H620v160ZM180-180h160v-160H180v160Zm440 0h160v-160H620v160Z\"/>\n",
              "  </svg>\n",
              "    </button>\n",
              "\n",
              "  <style>\n",
              "    .colab-df-container {\n",
              "      display:flex;\n",
              "      gap: 12px;\n",
              "    }\n",
              "\n",
              "    .colab-df-convert {\n",
              "      background-color: #E8F0FE;\n",
              "      border: none;\n",
              "      border-radius: 50%;\n",
              "      cursor: pointer;\n",
              "      display: none;\n",
              "      fill: #1967D2;\n",
              "      height: 32px;\n",
              "      padding: 0 0 0 0;\n",
              "      width: 32px;\n",
              "    }\n",
              "\n",
              "    .colab-df-convert:hover {\n",
              "      background-color: #E2EBFA;\n",
              "      box-shadow: 0px 1px 2px rgba(60, 64, 67, 0.3), 0px 1px 3px 1px rgba(60, 64, 67, 0.15);\n",
              "      fill: #174EA6;\n",
              "    }\n",
              "\n",
              "    .colab-df-buttons div {\n",
              "      margin-bottom: 4px;\n",
              "    }\n",
              "\n",
              "    [theme=dark] .colab-df-convert {\n",
              "      background-color: #3B4455;\n",
              "      fill: #D2E3FC;\n",
              "    }\n",
              "\n",
              "    [theme=dark] .colab-df-convert:hover {\n",
              "      background-color: #434B5C;\n",
              "      box-shadow: 0px 1px 3px 1px rgba(0, 0, 0, 0.15);\n",
              "      filter: drop-shadow(0px 1px 2px rgba(0, 0, 0, 0.3));\n",
              "      fill: #FFFFFF;\n",
              "    }\n",
              "  </style>\n",
              "\n",
              "    <script>\n",
              "      const buttonEl =\n",
              "        document.querySelector('#df-970daf29-b498-48c2-ad18-ca64ff799183 button.colab-df-convert');\n",
              "      buttonEl.style.display =\n",
              "        google.colab.kernel.accessAllowed ? 'block' : 'none';\n",
              "\n",
              "      async function convertToInteractive(key) {\n",
              "        const element = document.querySelector('#df-970daf29-b498-48c2-ad18-ca64ff799183');\n",
              "        const dataTable =\n",
              "          await google.colab.kernel.invokeFunction('convertToInteractive',\n",
              "                                                    [key], {});\n",
              "        if (!dataTable) return;\n",
              "\n",
              "        const docLinkHtml = 'Like what you see? Visit the ' +\n",
              "          '<a target=\"_blank\" href=https://colab.research.google.com/notebooks/data_table.ipynb>data table notebook</a>'\n",
              "          + ' to learn more about interactive tables.';\n",
              "        element.innerHTML = '';\n",
              "        dataTable['output_type'] = 'display_data';\n",
              "        await google.colab.output.renderOutput(dataTable, element);\n",
              "        const docLink = document.createElement('div');\n",
              "        docLink.innerHTML = docLinkHtml;\n",
              "        element.appendChild(docLink);\n",
              "      }\n",
              "    </script>\n",
              "  </div>\n",
              "\n",
              "\n",
              "<div id=\"df-f80696ce-b53b-4b1c-9c5b-bf14847dec05\">\n",
              "  <button class=\"colab-df-quickchart\" onclick=\"quickchart('df-f80696ce-b53b-4b1c-9c5b-bf14847dec05')\"\n",
              "            title=\"Suggest charts\"\n",
              "            style=\"display:none;\">\n",
              "\n",
              "<svg xmlns=\"http://www.w3.org/2000/svg\" height=\"24px\"viewBox=\"0 0 24 24\"\n",
              "     width=\"24px\">\n",
              "    <g>\n",
              "        <path d=\"M19 3H5c-1.1 0-2 .9-2 2v14c0 1.1.9 2 2 2h14c1.1 0 2-.9 2-2V5c0-1.1-.9-2-2-2zM9 17H7v-7h2v7zm4 0h-2V7h2v10zm4 0h-2v-4h2v4z\"/>\n",
              "    </g>\n",
              "</svg>\n",
              "  </button>\n",
              "\n",
              "<style>\n",
              "  .colab-df-quickchart {\n",
              "      --bg-color: #E8F0FE;\n",
              "      --fill-color: #1967D2;\n",
              "      --hover-bg-color: #E2EBFA;\n",
              "      --hover-fill-color: #174EA6;\n",
              "      --disabled-fill-color: #AAA;\n",
              "      --disabled-bg-color: #DDD;\n",
              "  }\n",
              "\n",
              "  [theme=dark] .colab-df-quickchart {\n",
              "      --bg-color: #3B4455;\n",
              "      --fill-color: #D2E3FC;\n",
              "      --hover-bg-color: #434B5C;\n",
              "      --hover-fill-color: #FFFFFF;\n",
              "      --disabled-bg-color: #3B4455;\n",
              "      --disabled-fill-color: #666;\n",
              "  }\n",
              "\n",
              "  .colab-df-quickchart {\n",
              "    background-color: var(--bg-color);\n",
              "    border: none;\n",
              "    border-radius: 50%;\n",
              "    cursor: pointer;\n",
              "    display: none;\n",
              "    fill: var(--fill-color);\n",
              "    height: 32px;\n",
              "    padding: 0;\n",
              "    width: 32px;\n",
              "  }\n",
              "\n",
              "  .colab-df-quickchart:hover {\n",
              "    background-color: var(--hover-bg-color);\n",
              "    box-shadow: 0 1px 2px rgba(60, 64, 67, 0.3), 0 1px 3px 1px rgba(60, 64, 67, 0.15);\n",
              "    fill: var(--button-hover-fill-color);\n",
              "  }\n",
              "\n",
              "  .colab-df-quickchart-complete:disabled,\n",
              "  .colab-df-quickchart-complete:disabled:hover {\n",
              "    background-color: var(--disabled-bg-color);\n",
              "    fill: var(--disabled-fill-color);\n",
              "    box-shadow: none;\n",
              "  }\n",
              "\n",
              "  .colab-df-spinner {\n",
              "    border: 2px solid var(--fill-color);\n",
              "    border-color: transparent;\n",
              "    border-bottom-color: var(--fill-color);\n",
              "    animation:\n",
              "      spin 1s steps(1) infinite;\n",
              "  }\n",
              "\n",
              "  @keyframes spin {\n",
              "    0% {\n",
              "      border-color: transparent;\n",
              "      border-bottom-color: var(--fill-color);\n",
              "      border-left-color: var(--fill-color);\n",
              "    }\n",
              "    20% {\n",
              "      border-color: transparent;\n",
              "      border-left-color: var(--fill-color);\n",
              "      border-top-color: var(--fill-color);\n",
              "    }\n",
              "    30% {\n",
              "      border-color: transparent;\n",
              "      border-left-color: var(--fill-color);\n",
              "      border-top-color: var(--fill-color);\n",
              "      border-right-color: var(--fill-color);\n",
              "    }\n",
              "    40% {\n",
              "      border-color: transparent;\n",
              "      border-right-color: var(--fill-color);\n",
              "      border-top-color: var(--fill-color);\n",
              "    }\n",
              "    60% {\n",
              "      border-color: transparent;\n",
              "      border-right-color: var(--fill-color);\n",
              "    }\n",
              "    80% {\n",
              "      border-color: transparent;\n",
              "      border-right-color: var(--fill-color);\n",
              "      border-bottom-color: var(--fill-color);\n",
              "    }\n",
              "    90% {\n",
              "      border-color: transparent;\n",
              "      border-bottom-color: var(--fill-color);\n",
              "    }\n",
              "  }\n",
              "</style>\n",
              "\n",
              "  <script>\n",
              "    async function quickchart(key) {\n",
              "      const quickchartButtonEl =\n",
              "        document.querySelector('#' + key + ' button');\n",
              "      quickchartButtonEl.disabled = true;  // To prevent multiple clicks.\n",
              "      quickchartButtonEl.classList.add('colab-df-spinner');\n",
              "      try {\n",
              "        const charts = await google.colab.kernel.invokeFunction(\n",
              "            'suggestCharts', [key], {});\n",
              "      } catch (error) {\n",
              "        console.error('Error during call to suggestCharts:', error);\n",
              "      }\n",
              "      quickchartButtonEl.classList.remove('colab-df-spinner');\n",
              "      quickchartButtonEl.classList.add('colab-df-quickchart-complete');\n",
              "    }\n",
              "    (() => {\n",
              "      let quickchartButtonEl =\n",
              "        document.querySelector('#df-f80696ce-b53b-4b1c-9c5b-bf14847dec05 button');\n",
              "      quickchartButtonEl.style.display =\n",
              "        google.colab.kernel.accessAllowed ? 'block' : 'none';\n",
              "    })();\n",
              "  </script>\n",
              "</div>\n",
              "\n",
              "  <div id=\"id_a6498469-3560-47c0-9e4e-78463f0c91ee\">\n",
              "    <style>\n",
              "      .colab-df-generate {\n",
              "        background-color: #E8F0FE;\n",
              "        border: none;\n",
              "        border-radius: 50%;\n",
              "        cursor: pointer;\n",
              "        display: none;\n",
              "        fill: #1967D2;\n",
              "        height: 32px;\n",
              "        padding: 0 0 0 0;\n",
              "        width: 32px;\n",
              "      }\n",
              "\n",
              "      .colab-df-generate:hover {\n",
              "        background-color: #E2EBFA;\n",
              "        box-shadow: 0px 1px 2px rgba(60, 64, 67, 0.3), 0px 1px 3px 1px rgba(60, 64, 67, 0.15);\n",
              "        fill: #174EA6;\n",
              "      }\n",
              "\n",
              "      [theme=dark] .colab-df-generate {\n",
              "        background-color: #3B4455;\n",
              "        fill: #D2E3FC;\n",
              "      }\n",
              "\n",
              "      [theme=dark] .colab-df-generate:hover {\n",
              "        background-color: #434B5C;\n",
              "        box-shadow: 0px 1px 3px 1px rgba(0, 0, 0, 0.15);\n",
              "        filter: drop-shadow(0px 1px 2px rgba(0, 0, 0, 0.3));\n",
              "        fill: #FFFFFF;\n",
              "      }\n",
              "    </style>\n",
              "    <button class=\"colab-df-generate\" onclick=\"generateWithVariable('sample_df')\"\n",
              "            title=\"Generate code using this dataframe.\"\n",
              "            style=\"display:none;\">\n",
              "\n",
              "  <svg xmlns=\"http://www.w3.org/2000/svg\" height=\"24px\"viewBox=\"0 0 24 24\"\n",
              "       width=\"24px\">\n",
              "    <path d=\"M7,19H8.4L18.45,9,17,7.55,7,17.6ZM5,21V16.75L18.45,3.32a2,2,0,0,1,2.83,0l1.4,1.43a1.91,1.91,0,0,1,.58,1.4,1.91,1.91,0,0,1-.58,1.4L9.25,21ZM18.45,9,17,7.55Zm-12,3A5.31,5.31,0,0,0,4.9,8.1,5.31,5.31,0,0,0,1,6.5,5.31,5.31,0,0,0,4.9,4.9,5.31,5.31,0,0,0,6.5,1,5.31,5.31,0,0,0,8.1,4.9,5.31,5.31,0,0,0,12,6.5,5.46,5.46,0,0,0,6.5,12Z\"/>\n",
              "  </svg>\n",
              "    </button>\n",
              "    <script>\n",
              "      (() => {\n",
              "      const buttonEl =\n",
              "        document.querySelector('#id_a6498469-3560-47c0-9e4e-78463f0c91ee button.colab-df-generate');\n",
              "      buttonEl.style.display =\n",
              "        google.colab.kernel.accessAllowed ? 'block' : 'none';\n",
              "\n",
              "      buttonEl.onclick = () => {\n",
              "        google.colab.notebook.generateWithVariable('sample_df');\n",
              "      }\n",
              "      })();\n",
              "    </script>\n",
              "  </div>\n",
              "\n",
              "    </div>\n",
              "  </div>\n"
            ],
            "application/vnd.google.colaboratory.intrinsic+json": {
              "type": "dataframe",
              "variable_name": "sample_df",
              "summary": "{\n  \"name\": \"sample_df\",\n  \"rows\": 1400,\n  \"fields\": [\n    {\n      \"column\": \"title\",\n      \"properties\": {\n        \"dtype\": \"string\",\n        \"num_unique_values\": 1054,\n        \"samples\": [\n          \"English Teacher Abroad (Conversational)\",\n          \"Project Engineer\",\n          \"software development life cycle\"\n        ],\n        \"semantic_type\": \"\",\n        \"description\": \"\"\n      }\n    },\n    {\n      \"column\": \"description\",\n      \"properties\": {\n        \"dtype\": \"string\",\n        \"num_unique_values\": 1173,\n        \"samples\": [\n          \"Expanding Makeup Artistry Company is seeking artistic and creative individuals with a passion for beauty and makeup design. Join our team of on-location Makeup Artists for weddings, special events, photo shoots, media/film, and working all over Minnesota.Job ResponsibilitiesPerform makeup applications satisfactorily according to a client\\u2019s requestDisplay a high level of skin care and cosmetic product knowledgeCoordinate the makeup application service schedule for group events and assign service times to each individual receiving a serviceBuild and maintain company relationships with clients through effective and consistent communicationRepresent company image with punctuality, professional appearance, positive attitude, and poise.May be required to follow up with clients on services satisfaction and feedbackAssist Lead Makeup ArtistUpdate and maintain client information records if neededMaintain proper sanitary practices\",\n          \"We\\u2019re looking for a talented and ambitious inbound marketer/growth hacker with previous\\u00a0startup experience and a proven track record of profitably acquiring new users for online\\u00a0subscription or lead generation business. This role is part marketing genius, part\\u00a0analytics/testing and part funnel optimization. Your job is to work across all aspects of the\\u00a0business using state-of-the-art tools and techniques to flat out grow the paying customer base\\u00a0of epignosis (both for eFront and talentLMS /\\u00a0#URL_23a8409babd8ae0260244d3610b8d7f88495e3eb1fe730b82be2be57e51508b9#\\u00a0and\\u00a0#URL_f2d2f1ea3f9fcc75026b0724e3bf7d48700d249cba7828de9651dc64a2a8c716#).Key Responsibilities:Designing/tweaking layouts &amp; writing instructional content for ebooks, whitepapers, blogs, presentations, posts on influencer blogger sites, etc.Understanding and creating content that aligns with our customer personas\\u2019 interests and needs.Developing new types of content and offers from scratch to address problems or gaps in our content strategy.Creatively discovering partners and channels to find ROI-positive areas of user \\u00a0acquisition opportunity.Analysing metrics and analytics to optimize campaigns, pricing, acquisition funnel and other key variables in \\u201creal time\\u201d.Managing an ad budget across numerous acquisition channels to optimize for ROI.Interfacing with ad networks (entering and managing campaigns, creative, optimization, payments) and social media to develop and optimize winning\\u00a0campaigns.Evaluating potential partnerships on an acquisition-ROI basis, and working with \\u00a0chosen partners to execute profitable campaigns.Optimizing life time value (LTV) and longer-term revenue metrics over time.\",\n          \"Why Choose AECOM? Imagine working for a truly global company whose 45,000 employees share a singular passion: to make the world a better place. We enjoy what we do at AECOM. We bring projects to life in the cities and communities in which we work, and we\\u2019re driven by a set of values and a common purpose \\u2014 to create, enhance and sustain the world\\u2019s built, natural and social environments. Innovation is built into every project we manage and every community we serve. We\\u2019ll provide you support in an environment that allows you to grow and succeed. Come share your passion with us.About the Business Line Environment:Our team of environment specialists offers clients expertise in air quality, impact analysis and permitting, environmental health and safety management consulting/due diligence, remediation consulting/engineering and construction/site restoration, specialty and emerging technologies, waste services and water and natural resources.Job Summary: Perform routine operations and maintenance (O&amp;M) and field work associated with remediation systems, including but not limited to operating and maintaining remediation equipment, scheduling and executing routine remediation events, performing environmental sampling, and conducting inspections at project sitesInspect equipment for compliance with specifications and maintaining proper project documentationFrequent travel is expected with the ability to maintain strong communication with office staff during field work. Ensure compliance with strict safety guidelinesWork as part of a team with daily direction from project management\"\n        ],\n        \"semantic_type\": \"\",\n        \"description\": \"\"\n      }\n    },\n    {\n      \"column\": \"requirements\",\n      \"properties\": {\n        \"dtype\": \"string\",\n        \"num_unique_values\": 1117,\n        \"samples\": [\n          \"Minimum Requirements: HS diploma0-2 years of related consulting experiencePreferred Qualifications: Minor repairs and troubleshooting of systems to maintain proper operationFamiliarity with electrical systems (motor starters, relays, fuses, switches, etc) strongly preferredAbility to work with minimal supervisionAbility to travel as needed to the field requiredAbility to interact effectively with internal and external clients\",\n          \"Desired Skills and ExperienceAs a UC Consultant, you will be responsible for approaching targeted accounts to present a broad portfolio of business products and services.3 years + frontline B2B Corporate Sales experience, gained within a professional B2B sales environment is essential.A combination of self-generation, marketing leads and cross selling opportunities will form your potential customer base.Self-motivation, a high level of IT literacy, sales presentation skills and a full driver\\u2019s licence are the other essential requirements as well as the drive and determination to be the best.\",\n          \"About You3 years or more of inside sales experience of a software product to interactive agenciesProven track record exceeding quotaReferenceable executive-level customers at agenciesRolodex of contacts in leadership roles in account services, design, UX or user researchPassion, enthusiam, energy, humor, and the ability to convey this through phone and email communicationsHigh degree of comfort with outbound callingBias towards immediate action and results\\u00a0Willingness to learn and adaptConsummate multi-tasker who can wear multiple hatsResponsibilities\\u00a0Passionately evangelize InVision to and develop relationships with sales prospectsManage full sales cycle in a consultative manner, from initial qualification through product demo through follow up calls to closingDevelop new business opportunites through proactive efforts, in addition to handling incoming leadsManage against company revenue targetsCoach team members and accept coaching whenever it is given\"\n        ],\n        \"semantic_type\": \"\",\n        \"description\": \"\"\n      }\n    },\n    {\n      \"column\": \"fraudulent\",\n      \"properties\": {\n        \"dtype\": \"number\",\n        \"std\": 0,\n        \"min\": 0,\n        \"max\": 1,\n        \"num_unique_values\": 2,\n        \"samples\": [\n          1,\n          0\n        ],\n        \"semantic_type\": \"\",\n        \"description\": \"\"\n      }\n    }\n  ]\n}"
            }
          },
          "metadata": {},
          "execution_count": 3
        }
      ]
    },
    {
      "cell_type": "markdown",
      "source": [
        "# LSTM (Long Short Term Memory) - RNN Subtype"
      ],
      "metadata": {
        "id": "XXXJpniQgyf0"
      }
    },
    {
      "cell_type": "markdown",
      "source": [
        "RNN (recurrent neural network) is one of the two most commonly used neural networks, with the other being CNN (convolutional neural network). Due to the nature of both, CNN is often used for processing image data and RNN for sequential data. As text data is sequential, we aim to use RNN to analyze and categorize the texts in 'description' into 0 or 1 for 'fraudulent'.\n",
        "\n",
        "However, when processing data, RNN is only able to access adjacent data, and not data further away or processed before. Thus, while it is theoretically possible for RNN to learn long-term dependencies by backpropogating through time, in practice RNN struggles to handle them effectively due to the vanishing gradient problem. Thus an altered version of RNN will be used, known as LSTM (Long Short Term Memory), that is able to adequately perform backpropagation.\n",
        "\n",
        "LSTM utilizes structures called memory cells to store information. The memory cells regulate the storage, updating, and deletion of information through various gates (input, forget, output), enabling LSTM to forget unncessary information and only retain what is needed. Thus LSTM demonstrates far better performance than RNN in fields such as NLP, speech recognition, and time series forecasting, where contextual information is crucial."
      ],
      "metadata": {
        "id": "mz3X_XuTg2NS"
      }
    },
    {
      "cell_type": "code",
      "source": [
        "import pandas as pd\n",
        "from sklearn.model_selection import train_test_split\n",
        "from tensorflow.keras.preprocessing.text import Tokenizer\n",
        "from tensorflow.keras.preprocessing.sequence import pad_sequences\n",
        "from tensorflow.keras.models import Sequential\n",
        "from tensorflow.keras.layers import Embedding, LSTM, Dense, Dropout\n",
        "\n",
        "\n",
        "# 데이터 전처리\n",
        "X = sample_df['title'] + ' ' + sample_df['description'] + ' ' + sample_df['requirements']\n",
        "y = sample_df['fraudulent']\n",
        "\n",
        "# 훈련 및 테스트 세트 분리\n",
        "X_train, X_test, y_train, y_test = train_test_split(X, y, test_size=0.2, random_state=42)\n",
        "\n",
        "# 텍스트 토큰화 및 시퀀스 패딩\n",
        "max_words = 5000\n",
        "max_len = 200\n",
        "tokenizer = Tokenizer(num_words=max_words)\n",
        "tokenizer.fit_on_texts(X_train)\n",
        "\n",
        "X_train_seq = tokenizer.texts_to_sequences(X_train)\n",
        "X_test_seq = tokenizer.texts_to_sequences(X_test)\n",
        "\n",
        "X_train_pad = pad_sequences(X_train_seq, maxlen=max_len)\n",
        "X_test_pad = pad_sequences(X_test_seq, maxlen=max_len)\n",
        "\n",
        "# LSTM 모델 정의\n",
        "model = Sequential()\n",
        "model.add(Embedding(input_dim=max_words, output_dim=128, input_length=max_len))\n",
        "model.add(LSTM(64, dropout=0.2, recurrent_dropout=0.2))\n",
        "model.add(Dense(1, activation='sigmoid'))\n",
        "\n",
        "# 모델 컴파일\n",
        "model.compile(loss='binary_crossentropy', optimizer='adam', metrics=['accuracy'])\n",
        "\n",
        "# 모델 훈련\n",
        "model.fit(X_train_pad, y_train, epochs=10, batch_size=32, validation_split=0.2)"
      ],
      "metadata": {
        "colab": {
          "base_uri": "https://localhost:8080/"
        },
        "id": "dC4MXCbccl2E",
        "outputId": "b25d0e20-3d68-4f4e-c336-230d49da0d3a"
      },
      "execution_count": 7,
      "outputs": [
        {
          "output_type": "stream",
          "name": "stdout",
          "text": [
            "Epoch 1/10\n",
            "28/28 [==============================] - 12s 336ms/step - loss: 0.6864 - accuracy: 0.5525 - val_loss: 0.6558 - val_accuracy: 0.7768\n",
            "Epoch 2/10\n",
            "28/28 [==============================] - 8s 272ms/step - loss: 0.4764 - accuracy: 0.8225 - val_loss: 0.3659 - val_accuracy: 0.8527\n",
            "Epoch 3/10\n",
            "28/28 [==============================] - 9s 335ms/step - loss: 0.2033 - accuracy: 0.9353 - val_loss: 0.3831 - val_accuracy: 0.8393\n",
            "Epoch 4/10\n",
            "28/28 [==============================] - 8s 282ms/step - loss: 0.0970 - accuracy: 0.9710 - val_loss: 0.4468 - val_accuracy: 0.7902\n",
            "Epoch 5/10\n",
            "28/28 [==============================] - 9s 315ms/step - loss: 0.0799 - accuracy: 0.9821 - val_loss: 0.4937 - val_accuracy: 0.8036\n",
            "Epoch 6/10\n",
            "28/28 [==============================] - 9s 334ms/step - loss: 0.0275 - accuracy: 0.9967 - val_loss: 0.4959 - val_accuracy: 0.8482\n",
            "Epoch 7/10\n",
            "28/28 [==============================] - 8s 281ms/step - loss: 0.0117 - accuracy: 0.9978 - val_loss: 0.5349 - val_accuracy: 0.8170\n",
            "Epoch 8/10\n",
            "28/28 [==============================] - 9s 334ms/step - loss: 0.0046 - accuracy: 1.0000 - val_loss: 0.5995 - val_accuracy: 0.8571\n",
            "Epoch 9/10\n",
            "28/28 [==============================] - 9s 327ms/step - loss: 0.0031 - accuracy: 1.0000 - val_loss: 0.6419 - val_accuracy: 0.8616\n",
            "Epoch 10/10\n",
            "28/28 [==============================] - 8s 272ms/step - loss: 0.0020 - accuracy: 1.0000 - val_loss: 0.6336 - val_accuracy: 0.8661\n"
          ]
        },
        {
          "output_type": "execute_result",
          "data": {
            "text/plain": [
              "<keras.src.callbacks.History at 0x78eae0a5a260>"
            ]
          },
          "metadata": {},
          "execution_count": 7
        }
      ]
    }
  ]
}