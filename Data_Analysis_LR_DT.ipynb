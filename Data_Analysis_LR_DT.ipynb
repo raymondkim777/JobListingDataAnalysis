{
  "nbformat": 4,
  "nbformat_minor": 0,
  "metadata": {
    "colab": {
      "provenance": [],
      "toc_visible": true,
      "include_colab_link": true
    },
    "kernelspec": {
      "name": "python3",
      "display_name": "Python 3"
    },
    "language_info": {
      "name": "python"
    }
  },
  "cells": [
    {
      "cell_type": "markdown",
      "metadata": {
        "id": "view-in-github",
        "colab_type": "text"
      },
      "source": [
        "<a href=\"https://colab.research.google.com/github/raymondkim777/JobListingDataAnalysis/blob/main/Data_Analysis_LR_DT.ipynb\" target=\"_parent\"><img src=\"https://colab.research.google.com/assets/colab-badge.svg\" alt=\"Open In Colab\"/></a>"
      ]
    },
    {
      "cell_type": "markdown",
      "source": [
        "#Prep"
      ],
      "metadata": {
        "id": "rRBm-meL7kO1"
      }
    },
    {
      "cell_type": "code",
      "source": [
        "from google.colab import drive\n",
        "drive.mount('/content/drive')"
      ],
      "metadata": {
        "colab": {
          "base_uri": "https://localhost:8080/"
        },
        "id": "_E1mV6rYiRwu",
        "outputId": "a5d2a214-fd12-459c-9901-4189ea46eded"
      },
      "execution_count": null,
      "outputs": [
        {
          "output_type": "stream",
          "name": "stdout",
          "text": [
            "Mounted at /content/drive\n"
          ]
        }
      ]
    },
    {
      "cell_type": "markdown",
      "source": [
        "Downloading & Installing Kaggle"
      ],
      "metadata": {
        "id": "jtbas-sggj5I"
      }
    },
    {
      "cell_type": "code",
      "source": [
        "'''\n",
        "!pip install kaggle\n",
        "from google.colab import files\n",
        "files.upload()\n",
        "'''"
      ],
      "metadata": {
        "colab": {
          "base_uri": "https://localhost:8080/",
          "height": 36
        },
        "id": "YW2Qqt_kCLwj",
        "outputId": "842ae0d0-0f3b-439b-c2a0-1b61f7941e92"
      },
      "execution_count": null,
      "outputs": [
        {
          "output_type": "execute_result",
          "data": {
            "text/plain": [
              "'\\n!pip install kaggle\\nfrom google.colab import files\\nfiles.upload()\\n'"
            ],
            "application/vnd.google.colaboratory.intrinsic+json": {
              "type": "string"
            }
          },
          "metadata": {},
          "execution_count": 2
        }
      ]
    },
    {
      "cell_type": "code",
      "source": [
        "'''\n",
        "!mkdir -p ~/.kaggle\n",
        "!cp /content/drive/MyDrive/Work/Projects/Data_Analysis/kaggle.json ~/.kaggle/\n",
        "!chmod 600 ~/.kaggle/kaggle.json\n",
        "!ls ~/.kaggle'''"
      ],
      "metadata": {
        "colab": {
          "base_uri": "https://localhost:8080/",
          "height": 36
        },
        "id": "atgrD_oxCo22",
        "outputId": "cf8ed9f7-904b-4d87-8de3-56b8a41895c8"
      },
      "execution_count": null,
      "outputs": [
        {
          "output_type": "execute_result",
          "data": {
            "text/plain": [
              "'\\n!mkdir -p ~/.kaggle\\n!cp /content/drive/MyDrive/Work/Projects/Data_Analysis/kaggle.json ~/.kaggle/\\n!chmod 600 ~/.kaggle/kaggle.json\\n!ls ~/.kaggle'"
            ],
            "application/vnd.google.colaboratory.intrinsic+json": {
              "type": "string"
            }
          },
          "metadata": {},
          "execution_count": 3
        }
      ]
    },
    {
      "cell_type": "code",
      "source": [
        "# !kaggle datasets download -d shivamb/real-or-fake-fake-jobposting-prediction"
      ],
      "metadata": {
        "id": "r2inJV7OD-10"
      },
      "execution_count": null,
      "outputs": []
    },
    {
      "cell_type": "code",
      "source": [
        "# !ls\n",
        "# !unzip  real-or-fake-fake-jobposting-prediction.zip"
      ],
      "metadata": {
        "id": "J6Zfw5l4EaSs"
      },
      "execution_count": null,
      "outputs": []
    },
    {
      "cell_type": "markdown",
      "source": [
        "#Data Manipulation"
      ],
      "metadata": {
        "id": "Fdlzzy777nDS"
      }
    },
    {
      "cell_type": "markdown",
      "source": [
        "Creating DataFrame sampling 1400 job listings (true/false)"
      ],
      "metadata": {
        "id": "6si_Ajgqgq19"
      }
    },
    {
      "cell_type": "code",
      "source": [
        "import pandas as pd\n",
        "\n",
        "file = \"./drive/MyDrive/Work/Projects/Data_Analysis/fake_job_postings.csv\"\n",
        "df = pd.read_csv(file)\n",
        "# df.info()\n",
        "\n",
        "# print(pd.isna(df))\n",
        "df.fillna(0, inplace=True)\n",
        "# print(pd.isna(df))\n",
        "# df.corr()\n",
        "# df.describe()\n",
        "col = df.columns\n",
        "col"
      ],
      "metadata": {
        "colab": {
          "base_uri": "https://localhost:8080/"
        },
        "id": "dLf90x0SEzXK",
        "outputId": "22dd9fd9-8164-4d9d-ac3b-3f47ad439936"
      },
      "execution_count": null,
      "outputs": [
        {
          "output_type": "execute_result",
          "data": {
            "text/plain": [
              "Index(['job_id', 'title', 'location', 'department', 'salary_range',\n",
              "       'company_profile', 'description', 'requirements', 'benefits',\n",
              "       'telecommuting', 'has_company_logo', 'has_questions', 'employment_type',\n",
              "       'required_experience', 'required_education', 'industry', 'function',\n",
              "       'fraudulent'],\n",
              "      dtype='object')"
            ]
          },
          "metadata": {},
          "execution_count": 86
        }
      ]
    },
    {
      "cell_type": "code",
      "source": [
        "df2 = df.loc[:, [col[1], col[5], col[6], col[7], col[17]]]\n",
        "df2 = df2.drop(df2.loc[df2.loc[:, 'requirements'] == 0].index, axis='index')\n",
        "df2 = df2.drop(df2.loc[df2.loc[:, 'requirements'] == 0].index, axis='index')\n",
        "df2 = df2.loc[df2.loc[:, 'description'].str.strip().str.len() > 0]\n",
        "\n",
        "df2['profile_yn'] = df2.loc[:, 'company_profile'].apply(lambda x: 1 if x != 0 else 0)\n",
        "col2 = df2.columns\n",
        "df2 = df2.loc[:, [col2[0], col2[2], col2[3], col2[4], col2[5]]]\n",
        "\n",
        "df_t = df2.loc[df2.loc[:, col2[-2]] == 0]\n",
        "df_f = df2.loc[df2.loc[:, col2[-2]] == 1]\n",
        "\n",
        "df_t = df_t.sample(n=700, replace=False)\n",
        "df_f = df_f.sample(n=700, replace=False)\n",
        "\n",
        "sample_df = pd.concat([df_t, df_f], ignore_index=True)\n",
        "sample_df"
      ],
      "metadata": {
        "colab": {
          "base_uri": "https://localhost:8080/",
          "height": 585
        },
        "id": "Pq-ravIPJlDk",
        "outputId": "7c7d22df-4f2a-4229-bb85-d474d5d10842"
      },
      "execution_count": null,
      "outputs": [
        {
          "output_type": "stream",
          "name": "stderr",
          "text": [
            "<ipython-input-87-92e3b1857c3e>:6: SettingWithCopyWarning: \n",
            "A value is trying to be set on a copy of a slice from a DataFrame.\n",
            "Try using .loc[row_indexer,col_indexer] = value instead\n",
            "\n",
            "See the caveats in the documentation: https://pandas.pydata.org/pandas-docs/stable/user_guide/indexing.html#returning-a-view-versus-a-copy\n",
            "  df2['profile_yn'] = df2.loc[:, 'company_profile'].apply(lambda x: 1 if x != 0 else 0)\n"
          ]
        },
        {
          "output_type": "execute_result",
          "data": {
            "text/plain": [
              "                                                  title  \\\n",
              "0     Homebased Inbound Customer Service Representative   \n",
              "1     WF14 0DQ Horticulture Retail Apprenticeship Un...   \n",
              "2     Licensed Practical Nurse - Part-time (Seneca C...   \n",
              "3     Leighton Buzzard DGV Apprenticeship available ...   \n",
              "4                                        SEO Consultant   \n",
              "...                                                 ...   \n",
              "1395                                  Network Marketing   \n",
              "1396                                 Remote Admin Clerk   \n",
              "1397                            Manufacturing Engineer    \n",
              "1398             Account Sales Managers $80-$130,000/yr   \n",
              "1399                           Administrative Assistant   \n",
              "\n",
              "                                            description  \\\n",
              "0     - Work from home anywhere in New Zealand! - St...   \n",
              "1     Due to government funding you must be 16-18 ye...   \n",
              "2     Crossroads Treatment Centers in Seneca, SC is ...   \n",
              "3     Government funding is only available for 16-18...   \n",
              "4     The SEO Consultant will be the fully rounded S...   \n",
              "...                                                 ...   \n",
              "1395  Are you looking to make anywhere from 600-115,...   \n",
              "1396  We are seeking individuals to be connected wit...   \n",
              "1397  Engineering: 100% Employee Owned Windings, Inc...   \n",
              "1398  We provide No Credit Check Financing to custom...   \n",
              "1399  Arise Virtual Solutions is a work-at-home busi...   \n",
              "\n",
              "                                           requirements  fraudulent  \\\n",
              "0     - Proven experience in a call centre position ...           0   \n",
              "1     16-18 year olds only due to government funding...           0   \n",
              "2     Qualifications include: A positive attitude an...           0   \n",
              "3     This is fantastic opportunity for someone want...           0   \n",
              "4     KEY SKILLS:Minimum 3/4 years SEO exposure in a...           0   \n",
              "...                                                 ...         ...   \n",
              "1395  An ambition to succeed, A desire to be the bes...           1   \n",
              "1396  Home Office SuppliesComputer with internet acc...           1   \n",
              "1397  Qualified applicants should have a BS Manufact...           1   \n",
              "1398  Experience and Skills  Required- Minimum of 3 ...           1   \n",
              "1399                                    No requirements           1   \n",
              "\n",
              "      profile_yn  \n",
              "0              1  \n",
              "1              1  \n",
              "2              1  \n",
              "3              1  \n",
              "4              1  \n",
              "...          ...  \n",
              "1395           0  \n",
              "1396           0  \n",
              "1397           0  \n",
              "1398           1  \n",
              "1399           0  \n",
              "\n",
              "[1400 rows x 5 columns]"
            ],
            "text/html": [
              "\n",
              "  <div id=\"df-9cc89b90-2bae-4dde-b84d-116c5b3993e1\" class=\"colab-df-container\">\n",
              "    <div>\n",
              "<style scoped>\n",
              "    .dataframe tbody tr th:only-of-type {\n",
              "        vertical-align: middle;\n",
              "    }\n",
              "\n",
              "    .dataframe tbody tr th {\n",
              "        vertical-align: top;\n",
              "    }\n",
              "\n",
              "    .dataframe thead th {\n",
              "        text-align: right;\n",
              "    }\n",
              "</style>\n",
              "<table border=\"1\" class=\"dataframe\">\n",
              "  <thead>\n",
              "    <tr style=\"text-align: right;\">\n",
              "      <th></th>\n",
              "      <th>title</th>\n",
              "      <th>description</th>\n",
              "      <th>requirements</th>\n",
              "      <th>fraudulent</th>\n",
              "      <th>profile_yn</th>\n",
              "    </tr>\n",
              "  </thead>\n",
              "  <tbody>\n",
              "    <tr>\n",
              "      <th>0</th>\n",
              "      <td>Homebased Inbound Customer Service Representative</td>\n",
              "      <td>- Work from home anywhere in New Zealand! - St...</td>\n",
              "      <td>- Proven experience in a call centre position ...</td>\n",
              "      <td>0</td>\n",
              "      <td>1</td>\n",
              "    </tr>\n",
              "    <tr>\n",
              "      <th>1</th>\n",
              "      <td>WF14 0DQ Horticulture Retail Apprenticeship Un...</td>\n",
              "      <td>Due to government funding you must be 16-18 ye...</td>\n",
              "      <td>16-18 year olds only due to government funding...</td>\n",
              "      <td>0</td>\n",
              "      <td>1</td>\n",
              "    </tr>\n",
              "    <tr>\n",
              "      <th>2</th>\n",
              "      <td>Licensed Practical Nurse - Part-time (Seneca C...</td>\n",
              "      <td>Crossroads Treatment Centers in Seneca, SC is ...</td>\n",
              "      <td>Qualifications include: A positive attitude an...</td>\n",
              "      <td>0</td>\n",
              "      <td>1</td>\n",
              "    </tr>\n",
              "    <tr>\n",
              "      <th>3</th>\n",
              "      <td>Leighton Buzzard DGV Apprenticeship available ...</td>\n",
              "      <td>Government funding is only available for 16-18...</td>\n",
              "      <td>This is fantastic opportunity for someone want...</td>\n",
              "      <td>0</td>\n",
              "      <td>1</td>\n",
              "    </tr>\n",
              "    <tr>\n",
              "      <th>4</th>\n",
              "      <td>SEO Consultant</td>\n",
              "      <td>The SEO Consultant will be the fully rounded S...</td>\n",
              "      <td>KEY SKILLS:Minimum 3/4 years SEO exposure in a...</td>\n",
              "      <td>0</td>\n",
              "      <td>1</td>\n",
              "    </tr>\n",
              "    <tr>\n",
              "      <th>...</th>\n",
              "      <td>...</td>\n",
              "      <td>...</td>\n",
              "      <td>...</td>\n",
              "      <td>...</td>\n",
              "      <td>...</td>\n",
              "    </tr>\n",
              "    <tr>\n",
              "      <th>1395</th>\n",
              "      <td>Network Marketing</td>\n",
              "      <td>Are you looking to make anywhere from 600-115,...</td>\n",
              "      <td>An ambition to succeed, A desire to be the bes...</td>\n",
              "      <td>1</td>\n",
              "      <td>0</td>\n",
              "    </tr>\n",
              "    <tr>\n",
              "      <th>1396</th>\n",
              "      <td>Remote Admin Clerk</td>\n",
              "      <td>We are seeking individuals to be connected wit...</td>\n",
              "      <td>Home Office SuppliesComputer with internet acc...</td>\n",
              "      <td>1</td>\n",
              "      <td>0</td>\n",
              "    </tr>\n",
              "    <tr>\n",
              "      <th>1397</th>\n",
              "      <td>Manufacturing Engineer</td>\n",
              "      <td>Engineering: 100% Employee Owned Windings, Inc...</td>\n",
              "      <td>Qualified applicants should have a BS Manufact...</td>\n",
              "      <td>1</td>\n",
              "      <td>0</td>\n",
              "    </tr>\n",
              "    <tr>\n",
              "      <th>1398</th>\n",
              "      <td>Account Sales Managers $80-$130,000/yr</td>\n",
              "      <td>We provide No Credit Check Financing to custom...</td>\n",
              "      <td>Experience and Skills  Required- Minimum of 3 ...</td>\n",
              "      <td>1</td>\n",
              "      <td>1</td>\n",
              "    </tr>\n",
              "    <tr>\n",
              "      <th>1399</th>\n",
              "      <td>Administrative Assistant</td>\n",
              "      <td>Arise Virtual Solutions is a work-at-home busi...</td>\n",
              "      <td>No requirements</td>\n",
              "      <td>1</td>\n",
              "      <td>0</td>\n",
              "    </tr>\n",
              "  </tbody>\n",
              "</table>\n",
              "<p>1400 rows × 5 columns</p>\n",
              "</div>\n",
              "    <div class=\"colab-df-buttons\">\n",
              "\n",
              "  <div class=\"colab-df-container\">\n",
              "    <button class=\"colab-df-convert\" onclick=\"convertToInteractive('df-9cc89b90-2bae-4dde-b84d-116c5b3993e1')\"\n",
              "            title=\"Convert this dataframe to an interactive table.\"\n",
              "            style=\"display:none;\">\n",
              "\n",
              "  <svg xmlns=\"http://www.w3.org/2000/svg\" height=\"24px\" viewBox=\"0 -960 960 960\">\n",
              "    <path d=\"M120-120v-720h720v720H120Zm60-500h600v-160H180v160Zm220 220h160v-160H400v160Zm0 220h160v-160H400v160ZM180-400h160v-160H180v160Zm440 0h160v-160H620v160ZM180-180h160v-160H180v160Zm440 0h160v-160H620v160Z\"/>\n",
              "  </svg>\n",
              "    </button>\n",
              "\n",
              "  <style>\n",
              "    .colab-df-container {\n",
              "      display:flex;\n",
              "      gap: 12px;\n",
              "    }\n",
              "\n",
              "    .colab-df-convert {\n",
              "      background-color: #E8F0FE;\n",
              "      border: none;\n",
              "      border-radius: 50%;\n",
              "      cursor: pointer;\n",
              "      display: none;\n",
              "      fill: #1967D2;\n",
              "      height: 32px;\n",
              "      padding: 0 0 0 0;\n",
              "      width: 32px;\n",
              "    }\n",
              "\n",
              "    .colab-df-convert:hover {\n",
              "      background-color: #E2EBFA;\n",
              "      box-shadow: 0px 1px 2px rgba(60, 64, 67, 0.3), 0px 1px 3px 1px rgba(60, 64, 67, 0.15);\n",
              "      fill: #174EA6;\n",
              "    }\n",
              "\n",
              "    .colab-df-buttons div {\n",
              "      margin-bottom: 4px;\n",
              "    }\n",
              "\n",
              "    [theme=dark] .colab-df-convert {\n",
              "      background-color: #3B4455;\n",
              "      fill: #D2E3FC;\n",
              "    }\n",
              "\n",
              "    [theme=dark] .colab-df-convert:hover {\n",
              "      background-color: #434B5C;\n",
              "      box-shadow: 0px 1px 3px 1px rgba(0, 0, 0, 0.15);\n",
              "      filter: drop-shadow(0px 1px 2px rgba(0, 0, 0, 0.3));\n",
              "      fill: #FFFFFF;\n",
              "    }\n",
              "  </style>\n",
              "\n",
              "    <script>\n",
              "      const buttonEl =\n",
              "        document.querySelector('#df-9cc89b90-2bae-4dde-b84d-116c5b3993e1 button.colab-df-convert');\n",
              "      buttonEl.style.display =\n",
              "        google.colab.kernel.accessAllowed ? 'block' : 'none';\n",
              "\n",
              "      async function convertToInteractive(key) {\n",
              "        const element = document.querySelector('#df-9cc89b90-2bae-4dde-b84d-116c5b3993e1');\n",
              "        const dataTable =\n",
              "          await google.colab.kernel.invokeFunction('convertToInteractive',\n",
              "                                                    [key], {});\n",
              "        if (!dataTable) return;\n",
              "\n",
              "        const docLinkHtml = 'Like what you see? Visit the ' +\n",
              "          '<a target=\"_blank\" href=https://colab.research.google.com/notebooks/data_table.ipynb>data table notebook</a>'\n",
              "          + ' to learn more about interactive tables.';\n",
              "        element.innerHTML = '';\n",
              "        dataTable['output_type'] = 'display_data';\n",
              "        await google.colab.output.renderOutput(dataTable, element);\n",
              "        const docLink = document.createElement('div');\n",
              "        docLink.innerHTML = docLinkHtml;\n",
              "        element.appendChild(docLink);\n",
              "      }\n",
              "    </script>\n",
              "  </div>\n",
              "\n",
              "\n",
              "<div id=\"df-1c6b13f7-467c-4e3c-aa6a-e7ec775178f5\">\n",
              "  <button class=\"colab-df-quickchart\" onclick=\"quickchart('df-1c6b13f7-467c-4e3c-aa6a-e7ec775178f5')\"\n",
              "            title=\"Suggest charts\"\n",
              "            style=\"display:none;\">\n",
              "\n",
              "<svg xmlns=\"http://www.w3.org/2000/svg\" height=\"24px\"viewBox=\"0 0 24 24\"\n",
              "     width=\"24px\">\n",
              "    <g>\n",
              "        <path d=\"M19 3H5c-1.1 0-2 .9-2 2v14c0 1.1.9 2 2 2h14c1.1 0 2-.9 2-2V5c0-1.1-.9-2-2-2zM9 17H7v-7h2v7zm4 0h-2V7h2v10zm4 0h-2v-4h2v4z\"/>\n",
              "    </g>\n",
              "</svg>\n",
              "  </button>\n",
              "\n",
              "<style>\n",
              "  .colab-df-quickchart {\n",
              "      --bg-color: #E8F0FE;\n",
              "      --fill-color: #1967D2;\n",
              "      --hover-bg-color: #E2EBFA;\n",
              "      --hover-fill-color: #174EA6;\n",
              "      --disabled-fill-color: #AAA;\n",
              "      --disabled-bg-color: #DDD;\n",
              "  }\n",
              "\n",
              "  [theme=dark] .colab-df-quickchart {\n",
              "      --bg-color: #3B4455;\n",
              "      --fill-color: #D2E3FC;\n",
              "      --hover-bg-color: #434B5C;\n",
              "      --hover-fill-color: #FFFFFF;\n",
              "      --disabled-bg-color: #3B4455;\n",
              "      --disabled-fill-color: #666;\n",
              "  }\n",
              "\n",
              "  .colab-df-quickchart {\n",
              "    background-color: var(--bg-color);\n",
              "    border: none;\n",
              "    border-radius: 50%;\n",
              "    cursor: pointer;\n",
              "    display: none;\n",
              "    fill: var(--fill-color);\n",
              "    height: 32px;\n",
              "    padding: 0;\n",
              "    width: 32px;\n",
              "  }\n",
              "\n",
              "  .colab-df-quickchart:hover {\n",
              "    background-color: var(--hover-bg-color);\n",
              "    box-shadow: 0 1px 2px rgba(60, 64, 67, 0.3), 0 1px 3px 1px rgba(60, 64, 67, 0.15);\n",
              "    fill: var(--button-hover-fill-color);\n",
              "  }\n",
              "\n",
              "  .colab-df-quickchart-complete:disabled,\n",
              "  .colab-df-quickchart-complete:disabled:hover {\n",
              "    background-color: var(--disabled-bg-color);\n",
              "    fill: var(--disabled-fill-color);\n",
              "    box-shadow: none;\n",
              "  }\n",
              "\n",
              "  .colab-df-spinner {\n",
              "    border: 2px solid var(--fill-color);\n",
              "    border-color: transparent;\n",
              "    border-bottom-color: var(--fill-color);\n",
              "    animation:\n",
              "      spin 1s steps(1) infinite;\n",
              "  }\n",
              "\n",
              "  @keyframes spin {\n",
              "    0% {\n",
              "      border-color: transparent;\n",
              "      border-bottom-color: var(--fill-color);\n",
              "      border-left-color: var(--fill-color);\n",
              "    }\n",
              "    20% {\n",
              "      border-color: transparent;\n",
              "      border-left-color: var(--fill-color);\n",
              "      border-top-color: var(--fill-color);\n",
              "    }\n",
              "    30% {\n",
              "      border-color: transparent;\n",
              "      border-left-color: var(--fill-color);\n",
              "      border-top-color: var(--fill-color);\n",
              "      border-right-color: var(--fill-color);\n",
              "    }\n",
              "    40% {\n",
              "      border-color: transparent;\n",
              "      border-right-color: var(--fill-color);\n",
              "      border-top-color: var(--fill-color);\n",
              "    }\n",
              "    60% {\n",
              "      border-color: transparent;\n",
              "      border-right-color: var(--fill-color);\n",
              "    }\n",
              "    80% {\n",
              "      border-color: transparent;\n",
              "      border-right-color: var(--fill-color);\n",
              "      border-bottom-color: var(--fill-color);\n",
              "    }\n",
              "    90% {\n",
              "      border-color: transparent;\n",
              "      border-bottom-color: var(--fill-color);\n",
              "    }\n",
              "  }\n",
              "</style>\n",
              "\n",
              "  <script>\n",
              "    async function quickchart(key) {\n",
              "      const quickchartButtonEl =\n",
              "        document.querySelector('#' + key + ' button');\n",
              "      quickchartButtonEl.disabled = true;  // To prevent multiple clicks.\n",
              "      quickchartButtonEl.classList.add('colab-df-spinner');\n",
              "      try {\n",
              "        const charts = await google.colab.kernel.invokeFunction(\n",
              "            'suggestCharts', [key], {});\n",
              "      } catch (error) {\n",
              "        console.error('Error during call to suggestCharts:', error);\n",
              "      }\n",
              "      quickchartButtonEl.classList.remove('colab-df-spinner');\n",
              "      quickchartButtonEl.classList.add('colab-df-quickchart-complete');\n",
              "    }\n",
              "    (() => {\n",
              "      let quickchartButtonEl =\n",
              "        document.querySelector('#df-1c6b13f7-467c-4e3c-aa6a-e7ec775178f5 button');\n",
              "      quickchartButtonEl.style.display =\n",
              "        google.colab.kernel.accessAllowed ? 'block' : 'none';\n",
              "    })();\n",
              "  </script>\n",
              "</div>\n",
              "\n",
              "  <div id=\"id_6f235c32-0450-4b03-b7eb-69c9f95bcc0e\">\n",
              "    <style>\n",
              "      .colab-df-generate {\n",
              "        background-color: #E8F0FE;\n",
              "        border: none;\n",
              "        border-radius: 50%;\n",
              "        cursor: pointer;\n",
              "        display: none;\n",
              "        fill: #1967D2;\n",
              "        height: 32px;\n",
              "        padding: 0 0 0 0;\n",
              "        width: 32px;\n",
              "      }\n",
              "\n",
              "      .colab-df-generate:hover {\n",
              "        background-color: #E2EBFA;\n",
              "        box-shadow: 0px 1px 2px rgba(60, 64, 67, 0.3), 0px 1px 3px 1px rgba(60, 64, 67, 0.15);\n",
              "        fill: #174EA6;\n",
              "      }\n",
              "\n",
              "      [theme=dark] .colab-df-generate {\n",
              "        background-color: #3B4455;\n",
              "        fill: #D2E3FC;\n",
              "      }\n",
              "\n",
              "      [theme=dark] .colab-df-generate:hover {\n",
              "        background-color: #434B5C;\n",
              "        box-shadow: 0px 1px 3px 1px rgba(0, 0, 0, 0.15);\n",
              "        filter: drop-shadow(0px 1px 2px rgba(0, 0, 0, 0.3));\n",
              "        fill: #FFFFFF;\n",
              "      }\n",
              "    </style>\n",
              "    <button class=\"colab-df-generate\" onclick=\"generateWithVariable('sample_df')\"\n",
              "            title=\"Generate code using this dataframe.\"\n",
              "            style=\"display:none;\">\n",
              "\n",
              "  <svg xmlns=\"http://www.w3.org/2000/svg\" height=\"24px\"viewBox=\"0 0 24 24\"\n",
              "       width=\"24px\">\n",
              "    <path d=\"M7,19H8.4L18.45,9,17,7.55,7,17.6ZM5,21V16.75L18.45,3.32a2,2,0,0,1,2.83,0l1.4,1.43a1.91,1.91,0,0,1,.58,1.4,1.91,1.91,0,0,1-.58,1.4L9.25,21ZM18.45,9,17,7.55Zm-12,3A5.31,5.31,0,0,0,4.9,8.1,5.31,5.31,0,0,0,1,6.5,5.31,5.31,0,0,0,4.9,4.9,5.31,5.31,0,0,0,6.5,1,5.31,5.31,0,0,0,8.1,4.9,5.31,5.31,0,0,0,12,6.5,5.46,5.46,0,0,0,6.5,12Z\"/>\n",
              "  </svg>\n",
              "    </button>\n",
              "    <script>\n",
              "      (() => {\n",
              "      const buttonEl =\n",
              "        document.querySelector('#id_6f235c32-0450-4b03-b7eb-69c9f95bcc0e button.colab-df-generate');\n",
              "      buttonEl.style.display =\n",
              "        google.colab.kernel.accessAllowed ? 'block' : 'none';\n",
              "\n",
              "      buttonEl.onclick = () => {\n",
              "        google.colab.notebook.generateWithVariable('sample_df');\n",
              "      }\n",
              "      })();\n",
              "    </script>\n",
              "  </div>\n",
              "\n",
              "    </div>\n",
              "  </div>\n"
            ]
          },
          "metadata": {},
          "execution_count": 87
        }
      ]
    },
    {
      "cell_type": "markdown",
      "source": [
        "Opening stopword file"
      ],
      "metadata": {
        "id": "XXXJpniQgyf0"
      }
    },
    {
      "cell_type": "code",
      "source": [
        "#!pip install nltk\n",
        "import nltk\n",
        "nltk.download('wordnet')\n",
        "\n",
        "!wget https://gist.githubusercontent.com/ZohebAbai/513218c3468130eacff6481f424e4e64/raw/b70776f341a148293ff277afa0d0302c8c38f7e2/gist_stopwords.txt\n",
        "gist_file = open(\"gist_stopwords.txt\", \"r\")\n",
        "try:\n",
        "    content = gist_file.read()\n",
        "    stopwords_list = content.split(\",\")\n",
        "finally:\n",
        "    gist_file.close()"
      ],
      "metadata": {
        "colab": {
          "base_uri": "https://localhost:8080/"
        },
        "id": "g4PL14xkiE2b",
        "outputId": "80c4b4d0-75b4-490f-8847-5ba2926265e9"
      },
      "execution_count": null,
      "outputs": [
        {
          "output_type": "stream",
          "name": "stderr",
          "text": [
            "[nltk_data] Downloading package wordnet to /root/nltk_data...\n",
            "[nltk_data]   Package wordnet is already up-to-date!\n"
          ]
        },
        {
          "output_type": "stream",
          "name": "stdout",
          "text": [
            "--2023-12-29 13:07:28--  https://gist.githubusercontent.com/ZohebAbai/513218c3468130eacff6481f424e4e64/raw/b70776f341a148293ff277afa0d0302c8c38f7e2/gist_stopwords.txt\n",
            "Resolving gist.githubusercontent.com (gist.githubusercontent.com)... 185.199.109.133, 185.199.110.133, 185.199.111.133, ...\n",
            "Connecting to gist.githubusercontent.com (gist.githubusercontent.com)|185.199.109.133|:443... connected.\n",
            "HTTP request sent, awaiting response... 200 OK\n",
            "Length: 6271 (6.1K) [text/plain]\n",
            "Saving to: ‘gist_stopwords.txt.1’\n",
            "\n",
            "gist_stopwords.txt. 100%[===================>]   6.12K  --.-KB/s    in 0s      \n",
            "\n",
            "2023-12-29 13:07:28 (21.3 MB/s) - ‘gist_stopwords.txt.1’ saved [6271/6271]\n",
            "\n"
          ]
        }
      ]
    },
    {
      "cell_type": "markdown",
      "source": [
        "Removing stopwords & nonsensical words, saving remaining words into list"
      ],
      "metadata": {
        "id": "mz3X_XuTg2NS"
      }
    },
    {
      "cell_type": "code",
      "source": [
        "from nltk.corpus import wordnet\n",
        "\n",
        "cols = ['title', 'description', 'requirements']\n",
        "\n",
        "def check_word(word):\n",
        "  return len(wordnet.synsets(word)) > 0\n",
        "\n",
        "def remove_non_alpha(word, word_list):\n",
        "  new_word = word\n",
        "  for i in range(len(word)):\n",
        "    if not word[i].isalpha():\n",
        "      new_word = word[:i]\n",
        "      rest = word[i + 1:]\n",
        "      if rest != \"\":\n",
        "        word_list.append(rest)\n",
        "      break\n",
        "  if check_word(new_word):\n",
        "    return new_word\n",
        "  return None\n",
        "\n",
        "def remove_stop(word_list):\n",
        "  i = 0\n",
        "  while i < len(word_list):\n",
        "    word_list[i] = remove_non_alpha(word_list[i], word_list)\n",
        "    if word_list[i] is None or word_list[i] == \"\" or word_list[i] in stopwords_list:\n",
        "      del word_list[i]\n",
        "    else:\n",
        "      i += 1\n",
        "\n",
        "for idx, r in sample_df.iterrows():\n",
        "  for c in cols:\n",
        "    word_list = r[c].lower().split()\n",
        "    remove_stop(word_list)\n",
        "    sample_df.at[idx, c] = word_list\n",
        "\n",
        "sample_df"
      ],
      "metadata": {
        "colab": {
          "base_uri": "https://localhost:8080/",
          "height": 423
        },
        "id": "FlBP3r3FfuT8",
        "outputId": "5ff7e41d-8351-4cf3-f32f-db762ee5ebbd"
      },
      "execution_count": null,
      "outputs": [
        {
          "output_type": "execute_result",
          "data": {
            "text/plain": [
              "                                                  title  \\\n",
              "0          [inbound, customer, service, representative]   \n",
              "1     [horticulture, retail, apprenticeship, nas, ye...   \n",
              "2     [licensed, practical, nurse, center, time, sen...   \n",
              "3            [buzzard, apprenticeship, nas, year, olds]   \n",
              "4                                          [consultant]   \n",
              "...                                                 ...   \n",
              "1395                               [network, marketing]   \n",
              "1396                                    [remote, clerk]   \n",
              "1397                          [manufacturing, engineer]   \n",
              "1398                         [account, sales, managers]   \n",
              "1399                        [administrative, assistant]   \n",
              "\n",
              "                                            description  \\\n",
              "0     [work, zealand, starting, hours, week, late, e...   \n",
              "1     [government, funding, years, apply, position, ...   \n",
              "2     [crossroads, treatment, centers, seneca, seeki...   \n",
              "3     [government, funding, year, olds, job, apprent...   \n",
              "4     [consultant, fully, rounded, professional, ind...   \n",
              "...                                                 ...   \n",
              "1395  [month, paid, vacations, tired, working, abili...   \n",
              "1396  [seeking, individuals, connected, companies, h...   \n",
              "1397  [engineering, employee, owned, windings, stato...   \n",
              "1398  [provide, credit, check, financing, customers,...   \n",
              "1399  [virtual, solutions, work, business, process, ...   \n",
              "\n",
              "                                           requirements  fraudulent  \\\n",
              "0     [proven, experience, centre, position, excelle...           0   \n",
              "1     [year, olds, government, funding, time, availa...           0   \n",
              "2     [qualifications, include, positive, attitude, ...           0   \n",
              "3     [fantastic, opportunity, wanting, start, caree...           0   \n",
              "4     [key, skills, years, exposure, role, agency, d...           0   \n",
              "...                                                 ...         ...   \n",
              "1395  [ambition, succeed, desire, field, discourage,...           1   \n",
              "1396  [office, internet, work, area, work, independe...           1   \n",
              "1397  [qualified, applicants, manufacturing, mechani...           1   \n",
              "1398  [experience, skills, required, minimum, years,...           1   \n",
              "1399                                     [requirements]           1   \n",
              "\n",
              "      profile_yn  \n",
              "0              1  \n",
              "1              1  \n",
              "2              1  \n",
              "3              1  \n",
              "4              1  \n",
              "...          ...  \n",
              "1395           0  \n",
              "1396           0  \n",
              "1397           0  \n",
              "1398           1  \n",
              "1399           0  \n",
              "\n",
              "[1400 rows x 5 columns]"
            ],
            "text/html": [
              "\n",
              "  <div id=\"df-8de43d45-b351-4d65-a7e6-9cc593c06cf7\" class=\"colab-df-container\">\n",
              "    <div>\n",
              "<style scoped>\n",
              "    .dataframe tbody tr th:only-of-type {\n",
              "        vertical-align: middle;\n",
              "    }\n",
              "\n",
              "    .dataframe tbody tr th {\n",
              "        vertical-align: top;\n",
              "    }\n",
              "\n",
              "    .dataframe thead th {\n",
              "        text-align: right;\n",
              "    }\n",
              "</style>\n",
              "<table border=\"1\" class=\"dataframe\">\n",
              "  <thead>\n",
              "    <tr style=\"text-align: right;\">\n",
              "      <th></th>\n",
              "      <th>title</th>\n",
              "      <th>description</th>\n",
              "      <th>requirements</th>\n",
              "      <th>fraudulent</th>\n",
              "      <th>profile_yn</th>\n",
              "    </tr>\n",
              "  </thead>\n",
              "  <tbody>\n",
              "    <tr>\n",
              "      <th>0</th>\n",
              "      <td>[inbound, customer, service, representative]</td>\n",
              "      <td>[work, zealand, starting, hours, week, late, e...</td>\n",
              "      <td>[proven, experience, centre, position, excelle...</td>\n",
              "      <td>0</td>\n",
              "      <td>1</td>\n",
              "    </tr>\n",
              "    <tr>\n",
              "      <th>1</th>\n",
              "      <td>[horticulture, retail, apprenticeship, nas, ye...</td>\n",
              "      <td>[government, funding, years, apply, position, ...</td>\n",
              "      <td>[year, olds, government, funding, time, availa...</td>\n",
              "      <td>0</td>\n",
              "      <td>1</td>\n",
              "    </tr>\n",
              "    <tr>\n",
              "      <th>2</th>\n",
              "      <td>[licensed, practical, nurse, center, time, sen...</td>\n",
              "      <td>[crossroads, treatment, centers, seneca, seeki...</td>\n",
              "      <td>[qualifications, include, positive, attitude, ...</td>\n",
              "      <td>0</td>\n",
              "      <td>1</td>\n",
              "    </tr>\n",
              "    <tr>\n",
              "      <th>3</th>\n",
              "      <td>[buzzard, apprenticeship, nas, year, olds]</td>\n",
              "      <td>[government, funding, year, olds, job, apprent...</td>\n",
              "      <td>[fantastic, opportunity, wanting, start, caree...</td>\n",
              "      <td>0</td>\n",
              "      <td>1</td>\n",
              "    </tr>\n",
              "    <tr>\n",
              "      <th>4</th>\n",
              "      <td>[consultant]</td>\n",
              "      <td>[consultant, fully, rounded, professional, ind...</td>\n",
              "      <td>[key, skills, years, exposure, role, agency, d...</td>\n",
              "      <td>0</td>\n",
              "      <td>1</td>\n",
              "    </tr>\n",
              "    <tr>\n",
              "      <th>...</th>\n",
              "      <td>...</td>\n",
              "      <td>...</td>\n",
              "      <td>...</td>\n",
              "      <td>...</td>\n",
              "      <td>...</td>\n",
              "    </tr>\n",
              "    <tr>\n",
              "      <th>1395</th>\n",
              "      <td>[network, marketing]</td>\n",
              "      <td>[month, paid, vacations, tired, working, abili...</td>\n",
              "      <td>[ambition, succeed, desire, field, discourage,...</td>\n",
              "      <td>1</td>\n",
              "      <td>0</td>\n",
              "    </tr>\n",
              "    <tr>\n",
              "      <th>1396</th>\n",
              "      <td>[remote, clerk]</td>\n",
              "      <td>[seeking, individuals, connected, companies, h...</td>\n",
              "      <td>[office, internet, work, area, work, independe...</td>\n",
              "      <td>1</td>\n",
              "      <td>0</td>\n",
              "    </tr>\n",
              "    <tr>\n",
              "      <th>1397</th>\n",
              "      <td>[manufacturing, engineer]</td>\n",
              "      <td>[engineering, employee, owned, windings, stato...</td>\n",
              "      <td>[qualified, applicants, manufacturing, mechani...</td>\n",
              "      <td>1</td>\n",
              "      <td>0</td>\n",
              "    </tr>\n",
              "    <tr>\n",
              "      <th>1398</th>\n",
              "      <td>[account, sales, managers]</td>\n",
              "      <td>[provide, credit, check, financing, customers,...</td>\n",
              "      <td>[experience, skills, required, minimum, years,...</td>\n",
              "      <td>1</td>\n",
              "      <td>1</td>\n",
              "    </tr>\n",
              "    <tr>\n",
              "      <th>1399</th>\n",
              "      <td>[administrative, assistant]</td>\n",
              "      <td>[virtual, solutions, work, business, process, ...</td>\n",
              "      <td>[requirements]</td>\n",
              "      <td>1</td>\n",
              "      <td>0</td>\n",
              "    </tr>\n",
              "  </tbody>\n",
              "</table>\n",
              "<p>1400 rows × 5 columns</p>\n",
              "</div>\n",
              "    <div class=\"colab-df-buttons\">\n",
              "\n",
              "  <div class=\"colab-df-container\">\n",
              "    <button class=\"colab-df-convert\" onclick=\"convertToInteractive('df-8de43d45-b351-4d65-a7e6-9cc593c06cf7')\"\n",
              "            title=\"Convert this dataframe to an interactive table.\"\n",
              "            style=\"display:none;\">\n",
              "\n",
              "  <svg xmlns=\"http://www.w3.org/2000/svg\" height=\"24px\" viewBox=\"0 -960 960 960\">\n",
              "    <path d=\"M120-120v-720h720v720H120Zm60-500h600v-160H180v160Zm220 220h160v-160H400v160Zm0 220h160v-160H400v160ZM180-400h160v-160H180v160Zm440 0h160v-160H620v160ZM180-180h160v-160H180v160Zm440 0h160v-160H620v160Z\"/>\n",
              "  </svg>\n",
              "    </button>\n",
              "\n",
              "  <style>\n",
              "    .colab-df-container {\n",
              "      display:flex;\n",
              "      gap: 12px;\n",
              "    }\n",
              "\n",
              "    .colab-df-convert {\n",
              "      background-color: #E8F0FE;\n",
              "      border: none;\n",
              "      border-radius: 50%;\n",
              "      cursor: pointer;\n",
              "      display: none;\n",
              "      fill: #1967D2;\n",
              "      height: 32px;\n",
              "      padding: 0 0 0 0;\n",
              "      width: 32px;\n",
              "    }\n",
              "\n",
              "    .colab-df-convert:hover {\n",
              "      background-color: #E2EBFA;\n",
              "      box-shadow: 0px 1px 2px rgba(60, 64, 67, 0.3), 0px 1px 3px 1px rgba(60, 64, 67, 0.15);\n",
              "      fill: #174EA6;\n",
              "    }\n",
              "\n",
              "    .colab-df-buttons div {\n",
              "      margin-bottom: 4px;\n",
              "    }\n",
              "\n",
              "    [theme=dark] .colab-df-convert {\n",
              "      background-color: #3B4455;\n",
              "      fill: #D2E3FC;\n",
              "    }\n",
              "\n",
              "    [theme=dark] .colab-df-convert:hover {\n",
              "      background-color: #434B5C;\n",
              "      box-shadow: 0px 1px 3px 1px rgba(0, 0, 0, 0.15);\n",
              "      filter: drop-shadow(0px 1px 2px rgba(0, 0, 0, 0.3));\n",
              "      fill: #FFFFFF;\n",
              "    }\n",
              "  </style>\n",
              "\n",
              "    <script>\n",
              "      const buttonEl =\n",
              "        document.querySelector('#df-8de43d45-b351-4d65-a7e6-9cc593c06cf7 button.colab-df-convert');\n",
              "      buttonEl.style.display =\n",
              "        google.colab.kernel.accessAllowed ? 'block' : 'none';\n",
              "\n",
              "      async function convertToInteractive(key) {\n",
              "        const element = document.querySelector('#df-8de43d45-b351-4d65-a7e6-9cc593c06cf7');\n",
              "        const dataTable =\n",
              "          await google.colab.kernel.invokeFunction('convertToInteractive',\n",
              "                                                    [key], {});\n",
              "        if (!dataTable) return;\n",
              "\n",
              "        const docLinkHtml = 'Like what you see? Visit the ' +\n",
              "          '<a target=\"_blank\" href=https://colab.research.google.com/notebooks/data_table.ipynb>data table notebook</a>'\n",
              "          + ' to learn more about interactive tables.';\n",
              "        element.innerHTML = '';\n",
              "        dataTable['output_type'] = 'display_data';\n",
              "        await google.colab.output.renderOutput(dataTable, element);\n",
              "        const docLink = document.createElement('div');\n",
              "        docLink.innerHTML = docLinkHtml;\n",
              "        element.appendChild(docLink);\n",
              "      }\n",
              "    </script>\n",
              "  </div>\n",
              "\n",
              "\n",
              "<div id=\"df-58f95aed-70dd-43d0-8793-9bb347c3cb2f\">\n",
              "  <button class=\"colab-df-quickchart\" onclick=\"quickchart('df-58f95aed-70dd-43d0-8793-9bb347c3cb2f')\"\n",
              "            title=\"Suggest charts\"\n",
              "            style=\"display:none;\">\n",
              "\n",
              "<svg xmlns=\"http://www.w3.org/2000/svg\" height=\"24px\"viewBox=\"0 0 24 24\"\n",
              "     width=\"24px\">\n",
              "    <g>\n",
              "        <path d=\"M19 3H5c-1.1 0-2 .9-2 2v14c0 1.1.9 2 2 2h14c1.1 0 2-.9 2-2V5c0-1.1-.9-2-2-2zM9 17H7v-7h2v7zm4 0h-2V7h2v10zm4 0h-2v-4h2v4z\"/>\n",
              "    </g>\n",
              "</svg>\n",
              "  </button>\n",
              "\n",
              "<style>\n",
              "  .colab-df-quickchart {\n",
              "      --bg-color: #E8F0FE;\n",
              "      --fill-color: #1967D2;\n",
              "      --hover-bg-color: #E2EBFA;\n",
              "      --hover-fill-color: #174EA6;\n",
              "      --disabled-fill-color: #AAA;\n",
              "      --disabled-bg-color: #DDD;\n",
              "  }\n",
              "\n",
              "  [theme=dark] .colab-df-quickchart {\n",
              "      --bg-color: #3B4455;\n",
              "      --fill-color: #D2E3FC;\n",
              "      --hover-bg-color: #434B5C;\n",
              "      --hover-fill-color: #FFFFFF;\n",
              "      --disabled-bg-color: #3B4455;\n",
              "      --disabled-fill-color: #666;\n",
              "  }\n",
              "\n",
              "  .colab-df-quickchart {\n",
              "    background-color: var(--bg-color);\n",
              "    border: none;\n",
              "    border-radius: 50%;\n",
              "    cursor: pointer;\n",
              "    display: none;\n",
              "    fill: var(--fill-color);\n",
              "    height: 32px;\n",
              "    padding: 0;\n",
              "    width: 32px;\n",
              "  }\n",
              "\n",
              "  .colab-df-quickchart:hover {\n",
              "    background-color: var(--hover-bg-color);\n",
              "    box-shadow: 0 1px 2px rgba(60, 64, 67, 0.3), 0 1px 3px 1px rgba(60, 64, 67, 0.15);\n",
              "    fill: var(--button-hover-fill-color);\n",
              "  }\n",
              "\n",
              "  .colab-df-quickchart-complete:disabled,\n",
              "  .colab-df-quickchart-complete:disabled:hover {\n",
              "    background-color: var(--disabled-bg-color);\n",
              "    fill: var(--disabled-fill-color);\n",
              "    box-shadow: none;\n",
              "  }\n",
              "\n",
              "  .colab-df-spinner {\n",
              "    border: 2px solid var(--fill-color);\n",
              "    border-color: transparent;\n",
              "    border-bottom-color: var(--fill-color);\n",
              "    animation:\n",
              "      spin 1s steps(1) infinite;\n",
              "  }\n",
              "\n",
              "  @keyframes spin {\n",
              "    0% {\n",
              "      border-color: transparent;\n",
              "      border-bottom-color: var(--fill-color);\n",
              "      border-left-color: var(--fill-color);\n",
              "    }\n",
              "    20% {\n",
              "      border-color: transparent;\n",
              "      border-left-color: var(--fill-color);\n",
              "      border-top-color: var(--fill-color);\n",
              "    }\n",
              "    30% {\n",
              "      border-color: transparent;\n",
              "      border-left-color: var(--fill-color);\n",
              "      border-top-color: var(--fill-color);\n",
              "      border-right-color: var(--fill-color);\n",
              "    }\n",
              "    40% {\n",
              "      border-color: transparent;\n",
              "      border-right-color: var(--fill-color);\n",
              "      border-top-color: var(--fill-color);\n",
              "    }\n",
              "    60% {\n",
              "      border-color: transparent;\n",
              "      border-right-color: var(--fill-color);\n",
              "    }\n",
              "    80% {\n",
              "      border-color: transparent;\n",
              "      border-right-color: var(--fill-color);\n",
              "      border-bottom-color: var(--fill-color);\n",
              "    }\n",
              "    90% {\n",
              "      border-color: transparent;\n",
              "      border-bottom-color: var(--fill-color);\n",
              "    }\n",
              "  }\n",
              "</style>\n",
              "\n",
              "  <script>\n",
              "    async function quickchart(key) {\n",
              "      const quickchartButtonEl =\n",
              "        document.querySelector('#' + key + ' button');\n",
              "      quickchartButtonEl.disabled = true;  // To prevent multiple clicks.\n",
              "      quickchartButtonEl.classList.add('colab-df-spinner');\n",
              "      try {\n",
              "        const charts = await google.colab.kernel.invokeFunction(\n",
              "            'suggestCharts', [key], {});\n",
              "      } catch (error) {\n",
              "        console.error('Error during call to suggestCharts:', error);\n",
              "      }\n",
              "      quickchartButtonEl.classList.remove('colab-df-spinner');\n",
              "      quickchartButtonEl.classList.add('colab-df-quickchart-complete');\n",
              "    }\n",
              "    (() => {\n",
              "      let quickchartButtonEl =\n",
              "        document.querySelector('#df-58f95aed-70dd-43d0-8793-9bb347c3cb2f button');\n",
              "      quickchartButtonEl.style.display =\n",
              "        google.colab.kernel.accessAllowed ? 'block' : 'none';\n",
              "    })();\n",
              "  </script>\n",
              "</div>\n",
              "\n",
              "  <div id=\"id_88fb5750-0963-4065-87d2-6eb41e491ccb\">\n",
              "    <style>\n",
              "      .colab-df-generate {\n",
              "        background-color: #E8F0FE;\n",
              "        border: none;\n",
              "        border-radius: 50%;\n",
              "        cursor: pointer;\n",
              "        display: none;\n",
              "        fill: #1967D2;\n",
              "        height: 32px;\n",
              "        padding: 0 0 0 0;\n",
              "        width: 32px;\n",
              "      }\n",
              "\n",
              "      .colab-df-generate:hover {\n",
              "        background-color: #E2EBFA;\n",
              "        box-shadow: 0px 1px 2px rgba(60, 64, 67, 0.3), 0px 1px 3px 1px rgba(60, 64, 67, 0.15);\n",
              "        fill: #174EA6;\n",
              "      }\n",
              "\n",
              "      [theme=dark] .colab-df-generate {\n",
              "        background-color: #3B4455;\n",
              "        fill: #D2E3FC;\n",
              "      }\n",
              "\n",
              "      [theme=dark] .colab-df-generate:hover {\n",
              "        background-color: #434B5C;\n",
              "        box-shadow: 0px 1px 3px 1px rgba(0, 0, 0, 0.15);\n",
              "        filter: drop-shadow(0px 1px 2px rgba(0, 0, 0, 0.3));\n",
              "        fill: #FFFFFF;\n",
              "      }\n",
              "    </style>\n",
              "    <button class=\"colab-df-generate\" onclick=\"generateWithVariable('sample_df')\"\n",
              "            title=\"Generate code using this dataframe.\"\n",
              "            style=\"display:none;\">\n",
              "\n",
              "  <svg xmlns=\"http://www.w3.org/2000/svg\" height=\"24px\"viewBox=\"0 0 24 24\"\n",
              "       width=\"24px\">\n",
              "    <path d=\"M7,19H8.4L18.45,9,17,7.55,7,17.6ZM5,21V16.75L18.45,3.32a2,2,0,0,1,2.83,0l1.4,1.43a1.91,1.91,0,0,1,.58,1.4,1.91,1.91,0,0,1-.58,1.4L9.25,21ZM18.45,9,17,7.55Zm-12,3A5.31,5.31,0,0,0,4.9,8.1,5.31,5.31,0,0,0,1,6.5,5.31,5.31,0,0,0,4.9,4.9,5.31,5.31,0,0,0,6.5,1,5.31,5.31,0,0,0,8.1,4.9,5.31,5.31,0,0,0,12,6.5,5.46,5.46,0,0,0,6.5,12Z\"/>\n",
              "  </svg>\n",
              "    </button>\n",
              "    <script>\n",
              "      (() => {\n",
              "      const buttonEl =\n",
              "        document.querySelector('#id_88fb5750-0963-4065-87d2-6eb41e491ccb button.colab-df-generate');\n",
              "      buttonEl.style.display =\n",
              "        google.colab.kernel.accessAllowed ? 'block' : 'none';\n",
              "\n",
              "      buttonEl.onclick = () => {\n",
              "        google.colab.notebook.generateWithVariable('sample_df');\n",
              "      }\n",
              "      })();\n",
              "    </script>\n",
              "  </div>\n",
              "\n",
              "    </div>\n",
              "  </div>\n"
            ]
          },
          "metadata": {},
          "execution_count": 89
        }
      ]
    },
    {
      "cell_type": "markdown",
      "source": [
        "##Updated Data Manipulation"
      ],
      "metadata": {
        "id": "YYlpu70xu2iX"
      }
    },
    {
      "cell_type": "markdown",
      "source": [
        "Using vector space model w/ tf-idf didn't yield significant results.\n",
        "Instead of having word sample space separated by columns, attempt to have\n",
        "sample space be all words in dataframe. Results not yet known."
      ],
      "metadata": {
        "id": "wduia5f-hYs9"
      }
    },
    {
      "cell_type": "code",
      "source": [
        "sample_df2 = sample_df.copy()"
      ],
      "metadata": {
        "id": "f_7x-K-5vBti"
      },
      "execution_count": null,
      "outputs": []
    },
    {
      "cell_type": "code",
      "source": [
        "from gensim.models import KeyedVectors\n",
        "import gensim.downloader as api\n",
        "\n",
        "\n",
        "model_path = \"/content/drive/MyDrive/Work/Projects/Data_Analysis/\"\n",
        "\n",
        "# model = api.load(\"word2vec-google-news-300\")\n",
        "# model.save(model_path + 'word2vvec-google-new-300.model')"
      ],
      "metadata": {
        "id": "PlbjU0GTvuGM"
      },
      "execution_count": null,
      "outputs": []
    },
    {
      "cell_type": "code",
      "source": [
        "model = KeyedVectors.load(model_path + 'word2vvec-google-new-300.model')\n",
        "sim_score = model.similarity(\"you\", \"suck\")\n",
        "print(f\"score : {sim_score}\")"
      ],
      "metadata": {
        "colab": {
          "base_uri": "https://localhost:8080/"
        },
        "outputId": "b90d842f-2c38-49de-ddc3-d58f539e889a",
        "id": "DM0mltmWvuGM"
      },
      "execution_count": null,
      "outputs": [
        {
          "output_type": "stream",
          "name": "stdout",
          "text": [
            "score : 0.3054656982421875\n"
          ]
        }
      ]
    },
    {
      "cell_type": "code",
      "source": [
        "import numpy as np\n",
        "\n",
        "cols = [\n",
        "    'title',\n",
        "    'description',\n",
        "    'requirements',\n",
        "    'rel_sim_score'\n",
        "]\n",
        "\n",
        "sample_df2[cols[3]] = None\n",
        "\n",
        "sim_standard = 0.25\n",
        "rel_sim_score = 0\n",
        "\n",
        "for idx, r in sample_df2.iterrows():\n",
        "  rel_sim_scores = []\n",
        "  words = set(r[cols[0]] + r[cols[1]] + r[cols[2]])\n",
        "  for word1 in words:\n",
        "    for word2 in words:\n",
        "      try:\n",
        "        rel_sim_score = model.similarity(word1, word2)\n",
        "        rel_sim_scores.append((word1 != word2) * (rel_sim_score / sim_standard) ** 2)\n",
        "      except KeyError:\n",
        "        rel_sim_scores.append(0)\n",
        "  if len(rel_sim_scores) == 0:\n",
        "    rel_sim_scores.append(0)\n",
        "  sample_df2.at[idx, cols[3]] = np.sqrt(sum(rel_sim_scores)) / len(rel_sim_scores)\n",
        "\n",
        "sample_df2"
      ],
      "metadata": {
        "colab": {
          "base_uri": "https://localhost:8080/",
          "height": 406
        },
        "id": "7-hra1-gvx7K",
        "outputId": "a38f5bb2-e1b4-4428-d3dd-9e9c84626ec3"
      },
      "execution_count": null,
      "outputs": [
        {
          "output_type": "error",
          "ename": "KeyboardInterrupt",
          "evalue": "ignored",
          "traceback": [
            "\u001b[0;31m---------------------------------------------------------------------------\u001b[0m",
            "\u001b[0;31mKeyboardInterrupt\u001b[0m                         Traceback (most recent call last)",
            "\u001b[0;32m<ipython-input-103-8f75e576c7e6>\u001b[0m in \u001b[0;36m<cell line: 15>\u001b[0;34m()\u001b[0m\n\u001b[1;32m     19\u001b[0m     \u001b[0;32mfor\u001b[0m \u001b[0mword2\u001b[0m \u001b[0;32min\u001b[0m \u001b[0mwords\u001b[0m\u001b[0;34m:\u001b[0m\u001b[0;34m\u001b[0m\u001b[0;34m\u001b[0m\u001b[0m\n\u001b[1;32m     20\u001b[0m       \u001b[0;32mtry\u001b[0m\u001b[0;34m:\u001b[0m\u001b[0;34m\u001b[0m\u001b[0;34m\u001b[0m\u001b[0m\n\u001b[0;32m---> 21\u001b[0;31m         \u001b[0mrel_sim_score\u001b[0m \u001b[0;34m=\u001b[0m \u001b[0mmodel\u001b[0m\u001b[0;34m.\u001b[0m\u001b[0msimilarity\u001b[0m\u001b[0;34m(\u001b[0m\u001b[0mword1\u001b[0m\u001b[0;34m,\u001b[0m \u001b[0mword2\u001b[0m\u001b[0;34m)\u001b[0m\u001b[0;34m\u001b[0m\u001b[0;34m\u001b[0m\u001b[0m\n\u001b[0m\u001b[1;32m     22\u001b[0m         \u001b[0mrel_sim_scores\u001b[0m\u001b[0;34m.\u001b[0m\u001b[0mappend\u001b[0m\u001b[0;34m(\u001b[0m\u001b[0;34m(\u001b[0m\u001b[0mword1\u001b[0m \u001b[0;34m!=\u001b[0m \u001b[0mword2\u001b[0m\u001b[0;34m)\u001b[0m \u001b[0;34m*\u001b[0m \u001b[0;34m(\u001b[0m\u001b[0mrel_sim_score\u001b[0m \u001b[0;34m/\u001b[0m \u001b[0msim_standard\u001b[0m\u001b[0;34m)\u001b[0m \u001b[0;34m**\u001b[0m \u001b[0;36m2\u001b[0m\u001b[0;34m)\u001b[0m\u001b[0;34m\u001b[0m\u001b[0;34m\u001b[0m\u001b[0m\n\u001b[1;32m     23\u001b[0m       \u001b[0;32mexcept\u001b[0m \u001b[0mKeyError\u001b[0m\u001b[0;34m:\u001b[0m\u001b[0;34m\u001b[0m\u001b[0;34m\u001b[0m\u001b[0m\n",
            "\u001b[0;32m/usr/local/lib/python3.10/dist-packages/gensim/models/keyedvectors.py\u001b[0m in \u001b[0;36msimilarity\u001b[0;34m(self, w1, w2)\u001b[0m\n\u001b[1;32m   1232\u001b[0m \u001b[0;34m\u001b[0m\u001b[0m\n\u001b[1;32m   1233\u001b[0m         \"\"\"\n\u001b[0;32m-> 1234\u001b[0;31m         \u001b[0;32mreturn\u001b[0m \u001b[0mdot\u001b[0m\u001b[0;34m(\u001b[0m\u001b[0mmatutils\u001b[0m\u001b[0;34m.\u001b[0m\u001b[0munitvec\u001b[0m\u001b[0;34m(\u001b[0m\u001b[0mself\u001b[0m\u001b[0;34m[\u001b[0m\u001b[0mw1\u001b[0m\u001b[0;34m]\u001b[0m\u001b[0;34m)\u001b[0m\u001b[0;34m,\u001b[0m \u001b[0mmatutils\u001b[0m\u001b[0;34m.\u001b[0m\u001b[0munitvec\u001b[0m\u001b[0;34m(\u001b[0m\u001b[0mself\u001b[0m\u001b[0;34m[\u001b[0m\u001b[0mw2\u001b[0m\u001b[0;34m]\u001b[0m\u001b[0;34m)\u001b[0m\u001b[0;34m)\u001b[0m\u001b[0;34m\u001b[0m\u001b[0;34m\u001b[0m\u001b[0m\n\u001b[0m\u001b[1;32m   1235\u001b[0m \u001b[0;34m\u001b[0m\u001b[0m\n\u001b[1;32m   1236\u001b[0m     \u001b[0;32mdef\u001b[0m \u001b[0mn_similarity\u001b[0m\u001b[0;34m(\u001b[0m\u001b[0mself\u001b[0m\u001b[0;34m,\u001b[0m \u001b[0mws1\u001b[0m\u001b[0;34m,\u001b[0m \u001b[0mws2\u001b[0m\u001b[0;34m)\u001b[0m\u001b[0;34m:\u001b[0m\u001b[0;34m\u001b[0m\u001b[0;34m\u001b[0m\u001b[0m\n",
            "\u001b[0;32m/usr/local/lib/python3.10/dist-packages/gensim/matutils.py\u001b[0m in \u001b[0;36munitvec\u001b[0;34m(vec, norm, return_norm)\u001b[0m\n\u001b[1;32m    750\u001b[0m                 \u001b[0mveclen\u001b[0m \u001b[0;34m=\u001b[0m \u001b[0;36m0.0\u001b[0m\u001b[0;34m\u001b[0m\u001b[0;34m\u001b[0m\u001b[0m\n\u001b[1;32m    751\u001b[0m             \u001b[0;32melse\u001b[0m\u001b[0;34m:\u001b[0m\u001b[0;34m\u001b[0m\u001b[0;34m\u001b[0m\u001b[0m\n\u001b[0;32m--> 752\u001b[0;31m                 \u001b[0mveclen\u001b[0m \u001b[0;34m=\u001b[0m \u001b[0mblas_nrm2\u001b[0m\u001b[0;34m(\u001b[0m\u001b[0mvec\u001b[0m\u001b[0;34m)\u001b[0m\u001b[0;34m\u001b[0m\u001b[0;34m\u001b[0m\u001b[0m\n\u001b[0m\u001b[1;32m    753\u001b[0m         \u001b[0;32mif\u001b[0m \u001b[0mnorm\u001b[0m \u001b[0;34m==\u001b[0m \u001b[0;34m'unique'\u001b[0m\u001b[0;34m:\u001b[0m\u001b[0;34m\u001b[0m\u001b[0;34m\u001b[0m\u001b[0m\n\u001b[1;32m    754\u001b[0m             \u001b[0mveclen\u001b[0m \u001b[0;34m=\u001b[0m \u001b[0mnp\u001b[0m\u001b[0;34m.\u001b[0m\u001b[0mcount_nonzero\u001b[0m\u001b[0;34m(\u001b[0m\u001b[0mvec\u001b[0m\u001b[0;34m)\u001b[0m\u001b[0;34m\u001b[0m\u001b[0;34m\u001b[0m\u001b[0m\n",
            "\u001b[0;31mKeyboardInterrupt\u001b[0m: "
          ]
        }
      ]
    },
    {
      "cell_type": "markdown",
      "source": [
        "##Old Data Manipulation"
      ],
      "metadata": {
        "id": "IvgsuQ6Eu_lz"
      }
    },
    {
      "cell_type": "markdown",
      "source": [
        "Calculating tf-idf (separately for each column)"
      ],
      "metadata": {
        "id": "51BDATkzhsNd"
      }
    },
    {
      "cell_type": "code",
      "source": [
        "cols = ['description', 'requirements']\n",
        "tfreq_list = {c: [dict() for i in range(1400)] for c in cols}\n",
        "dfreq = {c: dict() for c in cols}\n",
        "\n",
        "def update_freq(word: str, freq: dict):\n",
        "  if word in freq.keys():\n",
        "    freq[word] += 1\n",
        "  else:\n",
        "    freq[word] = 1\n",
        "\n",
        "def run_freq(tfreq_list: list, dfreq: dict, col: str):\n",
        "  for idx, r in sample_df.iterrows():\n",
        "    for word in r[col]:\n",
        "      update_freq(word, tfreq_list[idx])\n",
        "      update_freq(word, dfreq)\n",
        "\n",
        "for c in cols:\n",
        "  run_freq(tfreq_list[c], dfreq[c], c)\n",
        "  dfreq[c] = dict(sorted(dfreq[c].items(), key=lambda x:x[1], reverse=True))\n",
        "\n",
        "for c in cols:\n",
        "  print(dfreq[c])"
      ],
      "metadata": {
        "id": "SmD9VvpHewNT",
        "colab": {
          "base_uri": "https://localhost:8080/"
        },
        "outputId": "e8d264bf-dda3-4cfc-aa7c-cc6c94efef05"
      },
      "execution_count": null,
      "outputs": [
        {
          "output_type": "stream",
          "name": "stdout",
          "text": [
            "{'work': 1458, 'team': 1305, 'amp': 867, 'company': 847, 'customer': 796, 'business': 726, 'management': 708, 'experience': 700, 'service': 621, 'product': 619, 'project': 613, 'position': 611, 'time': 601, 'sales': 592, 'support': 583, 'development': 542, 'design': 513, 'services': 480, 'skills': 475, 'ensure': 462, 'job': 453, 'products': 453, 'engineering': 451, 'provide': 437, 'solutions': 437, 'data': 431, 'quality': 422, 'responsible': 412, 'marketing': 406, 'customers': 404, 'people': 401, 'including': 398, 'responsibilities': 389, 'process': 386, 'manager': 383, 'working': 381, 'required': 378, 'client': 377, 'equipment': 365, 'industry': 361, 'technical': 360, 'high': 346, 'systems': 344, 'url': 332, 'duties': 327, 'opportunity': 326, 'technology': 309, 'develop': 305, 'based': 302, 'role': 296, 'projects': 294, 'production': 292, 'training': 288, 'clients': 286, 'office': 282, 'maintain': 280, 'environment': 280, 'requirements': 280, 'include': 277, 'software': 275, 'operations': 269, 'perform': 264, 'ability': 259, 'manage': 256, 'day': 247, 'level': 246, 'activities': 246, 'maintenance': 244, 'seeking': 241, 'strong': 236, 'test': 231, 'candidates': 230, 'communication': 230, 'lead': 226, 'join': 223, 'opportunities': 221, 'global': 221, 'safety': 220, 'staff': 218, 'years': 216, 'performance': 216, 'tasks': 215, 'assist': 214, 'key': 214, 'food': 214, 'web': 213, 'field': 210, 'procedures': 207, 'candidate': 206, 'growth': 200, 'standards': 199, 'reports': 196, 'assigned': 196, 'knowledge': 195, 'start': 190, 'email': 190, 'build': 189, 'great': 186, 'growing': 185, 'market': 185, 'needed': 184, 'oil': 184, 'financial': 183, 'teams': 179, 'internal': 176, 'gas': 176, 'professional': 175, 'mail': 174, 'issues': 172, 'corporate': 171, 'exciting': 170, 'plans': 168, 'phone': 167, 'site': 167, 'processes': 166, 'media': 164, 'account': 163, 'create': 162, 'daily': 159, 'cost': 159, 'building': 158, 'social': 157, 'leading': 157, 'free': 157, 'hours': 156, 'companies': 156, 'apply': 152, 'application': 151, 'general': 151, 'managing': 150, 'entry': 150, 'analysis': 149, 'positions': 149, 'person': 148, 'reporting': 147, 'schedule': 147, 'good': 147, 'testing': 147, 'control': 147, 'deliver': 146, 'members': 145, 'planning': 144, 'user': 144, 'individual': 144, 'compliance': 142, 'delivery': 142, 'set': 142, 'review': 142, 'employees': 139, 'online': 138, 'contact': 137, 'developing': 137, 'senior': 136, 'engineer': 136, 'engineers': 136, 'organization': 136, 'area': 135, 'credit': 135, 'goals': 134, 'excellent': 134, 'improve': 134, 'small': 134, 'meet': 134, 'content': 132, 'department': 132, 'mobile': 131, 'existing': 130, 'experienced': 129, 'closely': 129, 'benefits': 128, 'limited': 128, 'applications': 128, 'paid': 128, 'timely': 128, 'learn': 128, 'career': 127, 'relationships': 127, 'salary': 127, 'jobs': 127, 'calls': 125, 'managers': 124, 'creative': 123, 'programs': 123, 'administrative': 123, 'fast': 122, 'providing': 121, 'areas': 120, 'problems': 120, 'money': 120, 'individuals': 119, 'digital': 119, 'manufacturing': 119, 'resources': 119, 'platform': 119, 'motivated': 118, 'specific': 118, 'plan': 118, 'care': 118, 'operating': 118, 'drive': 117, 'success': 117, 'highly': 117, 'technologies': 116, 'monthly': 115, 'external': 115, 'implementation': 115, 'successful': 115, 'security': 115, 'leader': 114, 'group': 113, 'implement': 111, 'tools': 111, 'documentation': 111, 'provider': 111, 'ensuring': 110, 'db': 110, 'executive': 109, 'finance': 109, 'talented': 109, 'months': 108, 'director': 108, 'identify': 108, 'travel': 108, 'processing': 108, 'accounts': 107, 'potential': 107, 'personal': 107, 'brand': 107, 'understanding': 107, 'execution': 107, 'offer': 106, 'retail': 105, 'direct': 105, 'description': 105, 'complete': 104, 'electrical': 104, 'effective': 103, 'policies': 103, 'achieve': 103, 'directly': 103, 'improvement': 103, 'contract': 103, 'leadership': 103, 'program': 103, 'current': 102, 'grow': 102, 'internet': 102, 'strategy': 101, 'employee': 101, 'focus': 99, 'computer': 99, 'follow': 99, 'values': 99, 'order': 98, 'developer': 98, 'type': 98, 'maintaining': 97, 'resume': 97, 'status': 97, 'effectively': 95, 'life': 95, 'includes': 95, 'responsibility': 95, 'board': 95, 'love': 94, 'supporting': 94, 'communications': 94, 'local': 94, 'code': 94, 'bring': 94, 'center': 94, 'week': 93, 'plant': 93, 'partners': 93, 'accounting': 93, 'weekly': 92, 'large': 92, 'written': 92, 'functional': 92, 'objectives': 92, 'personnel': 92, 'participate': 92, 'change': 91, 'aspects': 90, 'future': 90, 'users': 90, 'real': 90, 'making': 89, 'levels': 89, 'community': 89, 'health': 89, 'communicate': 88, 'play': 88, 'documents': 88, 'manner': 88, 'understand': 88, 'budget': 87, 'accurate': 87, 'cross': 87, 'execute': 87, 'strategic': 87, 'cash': 87, 'hiring': 87, 'representative': 86, 'oriented': 86, 'flexible': 86, 'range': 86, 'year': 85, 'primary': 85, 'construction': 85, 'perfect': 84, 'challenges': 84, 'long': 84, 'functions': 84, 'cruise': 84, 'relevant': 83, 'assistant': 83, 'variety': 83, 'highest': 83, 'problem': 82, 'preparation': 82, 'practices': 80, 'driven': 79, 'innovative': 79, 'creating': 78, 'month': 78, 'requires': 78, 'firm': 78, 'report': 77, 'operation': 77, 'provided': 77, 'monitor': 76, 'impact': 76, 'coordinate': 76, 'countries': 76, 'earn': 76, 'campaigns': 75, 'require': 75, 'luxury': 75, 'materials': 75, 'established': 75, 'businesses': 74, 'today': 74, 'complex': 74, 'pay': 74, 'technician': 74, 'basis': 73, 'dynamic': 73, 'term': 73, 'passionate': 72, 'strategies': 72, 'schedules': 72, 'times': 72, 'energy': 72, 'track': 71, 'initiatives': 71, 'events': 71, 'location': 71, 'wide': 71, 'commercial': 71, 'safe': 71, 'maximize': 71, 'developers': 70, 'direction': 70, 'culture': 70, 'monitoring': 70, 'core': 69, 'employment': 69, 'friendly': 69, 'qualified': 69, 'controls': 69, 'solving': 68, 'orders': 68, 'writing': 68, 'interested': 68, 'requests': 68, 'database': 68, 'medical': 68, 'international': 68, 'proper': 68, 'attention': 68, 'specifications': 68, 'passion': 67, 'focused': 67, 'london': 67, 'solution': 67, 'met': 67, 'english': 67, 'power': 67, 'regulatory': 66, 'environmental': 66, 'incoming': 66, 'open': 66, 'petroleum': 66, 'conduct': 65, 'multiple': 65, 'close': 65, 'preferred': 65, 'bb': 65, 'efficient': 65, 'supervision': 65, 'efforts': 65, 'document': 65, 'files': 65, 'standard': 65, 'essential': 64, 'trends': 64, 'decisions': 64, 'major': 64, 'meetings': 64, 'member': 64, 'continuous': 64, 'minimum': 64, 'homes': 64, 'housekeeping': 64, 'prepare': 64, 'send': 64, 'records': 63, 'leads': 63, 'insurance': 63, 'features': 63, 'mechanical': 63, 'sites': 63, 'feedback': 63, 'scope': 63, 'expertise': 63, 'recovery': 63, 'ultra': 63, 'competitive': 62, 'additional': 62, 'paced': 62, 'base': 62, 'critical': 62, 'network': 62, 'facilities': 62, 'place': 62, 'risk': 62, 'performs': 62, 'class': 61, 'operational': 61, 'employ': 61, 'industrial': 61, 'payroll': 61, 'student': 61, 'hotel': 61, 'ideal': 60, 'architecture': 60, 'items': 60, 'departments': 60, 'consulting': 60, 'organizations': 60, 'material': 60, 'handling': 59, 'ideas': 59, 'volume': 59, 'hour': 59, 'relations': 59, 'maintains': 58, 'located': 58, 'degree': 58, 'designers': 58, 'professionals': 58, 'establish': 58, 'offshore': 58, 'delivering': 57, 'action': 57, 'logs': 57, 'resource': 57, 'city': 57, 'tax': 57, 'applicants': 56, 'serve': 56, 'address': 56, 'advertising': 56, 'loans': 56, 'point': 56, 'supplier': 56, 'word': 56, 'offers': 56, 'learning': 56, 'prepared': 56, 'certification': 56, 'workers': 56, 'exceptional': 55, 'works': 55, 'revenue': 55, 'human': 55, 'stakeholders': 55, 'expected': 55, 'flow': 55, 'tech': 55, 'define': 55, 'supervisor': 55, 'hard': 54, 'helping': 54, 'assure': 54, 'supply': 54, 'clean': 54, 'inventory': 53, 'website': 53, 'verbal': 53, 'staffing': 53, 'independently': 53, 'applying': 53, 'partner': 53, 'store': 53, 'flexibility': 52, 'recommendations': 52, 'performing': 52, 'operate': 52, 'mission': 52, 'generation': 52, 'public': 52, 'reviews': 52, 'typing': 52, 'forward': 51, 'scale': 51, 'increase': 51, 'experiences': 51, 'record': 51, 'excel': 51, 'background': 51, 'title': 51, 'education': 51, 'active': 51, 'answer': 51, 'private': 51, 'resolve': 51, 'discoveries': 51, 'annual': 50, 'agile': 50, 'filing': 50, 'agency': 50, 'hire': 50, 'facility': 50, 'cleaning': 50, 'capital': 50, 'ranging': 50, 'involved': 50, 'desire': 50, 'ensures': 50, 'permanent': 49, 'enjoy': 49, 'cover': 49, 'share': 49, 'packages': 49, 'integrity': 49, 'investment': 49, 'questions': 49, 'guidelines': 49, 'practice': 49, 'discipline': 49, 'demonstrate': 48, 'package': 48, 'startup': 48, 'video': 48, 'completion': 48, 'access': 48, 'special': 48, 'basic': 48, 'talent': 48, 'addition': 48, 'approach': 47, 'implementing': 47, 'expert': 47, 'meeting': 47, 'head': 47, 'suppliers': 47, 'ambitious': 47, 'scheduling': 47, 'detailed': 47, 'things': 47, 'contribute': 47, 'recruitment': 47, 'vendors': 47, 'vision': 47, 'conditions': 47, 'income': 47, 'designs': 47, 'faces': 47, 'integral': 46, 'big': 46, 'interface': 46, 'billing': 46, 'tidewater': 46, 'assisting': 45, 'agencies': 45, 'designer': 45, 'previous': 45, 'organizational': 45, 'challenging': 45, 'collaborate': 45, 'continued': 45, 'contractors': 45, 'outstanding': 45, 'unique': 45, 'applicable': 45, 'space': 45, 'audit': 45, 'preparing': 44, 'expanding': 44, 'comprehensive': 44, 'dedicated': 44, 'positive': 44, 'recruiting': 44, 'desk': 44, 'tracking': 44, 'input': 44, 'enthusiastic': 44, 'regulations': 44, 'relationship': 43, 'search': 43, 'check': 43, 'edge': 43, 'purpose': 43, 'write': 43, 'generate': 43, 'analyze': 43, 'accuracy': 43, 'principles': 43, 'rapidly': 43, 'answering': 43, 'integration': 43, 'post': 43, 'promote': 43, 'waste': 43, 'offices': 43, 'york': 43, 'guidance': 43, 'portfolio': 43, 'houston': 43, 'techniques': 42, 'telephone': 42, 'supplies': 42, 'campaign': 42, 'suite': 42, 'live': 42, 'proven': 42, 'ongoing': 42, 'programming': 42, 'associates': 42, 'concepts': 42, 'living': 42, 'develops': 42, 'repair': 42, 'benefit': 42, 'designed': 42, 'correct': 42, 'weather': 42, 'policy': 41, 'state': 41, 'visual': 41, 'facilitate': 41, 'fun': 41, 'actively': 41, 'size': 41, 'models': 41, 'language': 41, 'assists': 41, 'costs': 41, 'coordinator': 41, 'number': 40, 'copy': 40, 'progress': 40, 'resolution': 40, 'presentations': 40, 'metrics': 40, 'assistance': 40, 'fortune': 40, 'innovation': 40, 'infrastructure': 40, 'summary': 40, 'adhere': 40, 'housing': 40, 'largest': 40, 'sap': 40, 'regional': 39, 'inquiries': 39, 'train': 39, 'task': 39, 'associate': 39, 'outgoing': 39, 'american': 39, 'automation': 39, 'entrepreneurial': 39, 'kids': 39, 'asia': 39, 'school': 38, 'activity': 38, 'changing': 38, 'storage': 38, 'function': 38, 'handle': 38, 'united': 38, 'latest': 38, 'insights': 38, 'estate': 38, 'regular': 38, 'automated': 38, 'cases': 38, 'openings': 38, 'skilled': 37, 'networking': 37, 'server': 37, 'vendor': 37, 'satisfaction': 37, 'expectations': 37, 'specialist': 37, 'case': 37, 'unit': 37, 'fe': 37, 'advancement': 37, 'contracts': 37, 'invoices': 37, 'visit': 37, 'recruit': 37, 'room': 36, 'produce': 36, 'update': 36, 'national': 36, 'model': 36, 'hands': 36, 'winning': 36, 'terms': 36, 'purchase': 36, 'enterprise': 36, 'respond': 36, 'closing': 36, 'aa': 36, 'robust': 36, 'ready': 36, 'appraisal': 36, 'inbound': 36, 'beverage': 36, 'restaurants': 36, 'vessel': 36, 'government': 35, 'selling': 35, 'deadlines': 35, 'clear': 35, 'defined': 35, 'pipeline': 35, 'qualifications': 35, 'demand': 35, 'quick': 35, 'diverse': 35, 'industries': 35, 'opening': 35, 'earning': 35, 'main': 35, 'serving': 35, 'students': 35, 'electronic': 35, 'clerk': 35, 'involve': 34, 'executives': 34, 'utilizing': 34, 'updates': 34, 'setting': 34, 'optimization': 34, 'interact': 34, 'independent': 34, 'hospitality': 34, 'north': 34, 'prospects': 34, 'sensitive': 34, 'launch': 34, 'demands': 34, 'procedure': 34, 'administration': 34, 'interaction': 34, 'studies': 34, 'advanced': 34, 'minutes': 34, 'lean': 34, 'player': 33, 'mentor': 33, 'determine': 33, 'submit': 33, 'entire': 33, 'attitude': 33, 'add': 33, 'troubleshooting': 33, 'source': 33, 'efficiently': 33, 'demonstrating': 33, 'hardware': 33, 'repairs': 33, 'intelligence': 33, 'improvements': 33, 'read': 33, 'fabrication': 33, 'creation': 33, 'identifying': 33, 'selection': 33, 'broad': 33, 'biggest': 33, 'fields': 33, 'built': 32, 'reviewing': 32, 'select': 32, 'posting': 32, 'joining': 32, 'methods': 32, 'initial': 32, 'temporary': 32, 'drawings': 32, 'lab': 32, 'deep': 32, 'parts': 32, 'house': 32, 'forms': 32, 'sector': 32, 'street': 32, 'analyst': 32, 'physical': 32, 'bonuses': 32, 'extremely': 32, 'backed': 32, 'target': 32, 'solve': 32, 'region': 32, 'brands': 32, 'comfort': 32, 'funding': 31, 'collaboration': 31, 'comfortable': 31, 'driving': 31, 'targets': 31, 'quarterly': 31, 'efficiency': 31, 'light': 31, 'property': 31, 'channels': 31, 'country': 31, 'representatives': 31, 'concept': 31, 'ios': 31, 'paper': 31, 'distribution': 31, 'consumers': 31, 'cloud': 31, 'duty': 31, 'sell': 31, 'locations': 31, 'exploration': 31, 'assembly': 31, 'patients': 30, 'proactive': 30, 'establishing': 30, 'providers': 30, 'outbound': 30, 'markets': 30, 'employer': 30, 'windows': 30, 'solid': 30, 'coordinating': 30, 'earnings': 30, 'thinking': 30, 'clerical': 30, 'environments': 30, 'assets': 30, 'short': 30, 'decision': 30, 'advantage': 30, 'productivity': 30, 'shipments': 30, 'extra': 30, 'considered': 30, 'auto': 30, 'deliverables': 30, 'suitable': 30, 'skill': 30, 'legal': 30, 'qatar': 30, 'decide': 30, 'cutting': 29, 'coaching': 29, 'respect': 29, 'minimal': 29, 'print': 29, 'leaders': 29, 'offering': 29, 'cycle': 29, 'represent': 29, 'tests': 29, 'running': 29, 'hand': 29, 'measure': 29, 'designing': 29, 'reliable': 29, 'list': 29, 'interview': 29, 'reach': 29, 'confidential': 29, 'interfaces': 29, 'motor': 29, 'medium': 29, 'corrective': 29, 'generating': 29, 'maximum': 29, 'wages': 29, 'night': 28, 'rate': 28, 'platforms': 28, 'profile': 28, 'acquisition': 28, 'equal': 28, 'booking': 28, 'committed': 28, 'ownership': 28, 'party': 28, 'prior': 28, 'amazing': 28, 'energetic': 28, 'possess': 28, 'continuously': 28, 'meets': 28, 'ways': 28, 'modeling': 28, 'expansion': 28, 'verify': 28, 'appointments': 28, 'awareness': 28, 'honest': 28, 'properties': 28, 'hardworking': 28, 'duration': 28, 'achieving': 27, 'junior': 27, 'details': 27, 'early': 27, 'receive': 27, 'interpersonal': 27, 'conference': 27, 'desirable': 27, 'ground': 27, 'book': 27, 'statements': 27, 'groups': 27, 'assurance': 27, 'supervise': 27, 'manages': 27, 'installation': 27, 'spend': 27, 'keeping': 27, 'collaborative': 27, 'actions': 27, 'evaluate': 27, 'calculations': 27, 'busy': 27, 'recruiters': 27, 'routine': 27, 'accommodation': 27, 'tooling': 27, 'selected': 26, 'improving': 26, 'compensation': 26, 'stay': 26, 'law': 26, 'scalable': 26, 'usa': 26, 'organisation': 26, 'smart': 26, 'components': 26, 'heavy': 26, 'info': 26, 'received': 26, 'asset': 26, 'coordination': 26, 'assessments': 26, 'requested': 26, 'analytical': 26, 'patient': 26, 'structure': 26, 'emergency': 26, 'budgets': 26, 'family': 26, 'collateral': 26, 'audits': 26, 'days': 25, 'minded': 25, 'consultant': 25, 'undertake': 25, 'easy': 25, 'match': 25, 'starter': 25, 'organized': 25, 'federal': 25, 'phones': 25, 'websites': 25, 'investors': 25, 'voice': 25, 'types': 25, 'deployment': 25, 'shops': 25, 'labor': 25, 'urgent': 25, 'lift': 25, 'evaluation': 25, 'face': 25, 'financing': 25, 'water': 25, 'banking': 25, 'chance': 25, 'remotely': 25, 'capabilities': 25, 'approved': 25, 'reliability': 25, 'wanting': 25, 'technicians': 25, 'visa': 25, 'inspection': 25, 'drawing': 25, 'urgently': 25, 'link': 24, 'communicating': 24, 'internally': 24, 'profit': 24, 'determining': 24, 'healthcare': 24, 'claims': 24, 'accurately': 24, 'states': 24, 'java': 24, 'exceed': 24, 'enhance': 24, 'expand': 24, 'fit': 24, 'goal': 24, 'analysts': 24, 'databases': 24, 'owners': 24, 'science': 24, 'shift': 24, 'scanning': 24, 'investor': 24, 'shipping': 24, 'collection': 24, 'bank': 24, 'automotive': 24, 'transactions': 24, 'guarantee': 24, 'consistent': 24, 'equally': 24, 'administrator': 24, 'stack': 24, 'bahrain': 24, 'sanitation': 24, 'targeted': 23, 'traffic': 23, 'effort': 23, 'monitors': 23, 'heart': 23, 'inside': 23, 'calling': 23, 'fantastic': 23, 'profitability': 23, 'regard': 23, 'awesome': 23, 'expense': 23, 'holidays': 23, 'backup': 23, 'html': 23, 'prioritize': 23, 'deliveries': 23, 'cooperation': 23, 'notes': 23, 'engagement': 23, 'risks': 23, 'feature': 23, 'millions': 23, 'owner': 23, 'card': 23, 'bachelor': 23, 'transfer': 23, 'issue': 23, 'developed': 23, 'oversee': 23, 'matters': 23, 'liaison': 23, 'venture': 23, 'approval': 23, 'satisfying': 23, 'sorting': 23, 'sale': 23, 'players': 23, 'vehicle': 23, 'bid': 23, 'boarding': 23, 'lawyers': 23, 'figure': 23, 'mechanics': 23, 'inspections': 23, 'rotation': 23, 'friday': 22, 'assess': 22, 'developments': 22, 'networks': 22, 'fashion': 22, 'architect': 22, 'young': 22, 'net': 22, 'simple': 22, 'difference': 22, 'takes': 22, 'sourcing': 22, 'operator': 22, 'delivered': 22, 'superior': 22, 'car': 22, 'directors': 22, 'integrated': 22, 'clinic': 22, 'estimates': 22, 'assessment': 22, 'boxes': 22, 'cooperative': 22, 'final': 22, 'predictive': 22, 'morning': 22, 'defining': 22, 'engaging': 22, 'furnished': 22, 'proposals': 22, 'parties': 22, 'commitment': 22, 'capable': 22, 'frameworks': 22, 'aboard': 22, 'adventure': 22, 'safely': 22, 'coach': 22, 'disciplines': 22, 'mature': 22, 'accountant': 22, 'connected': 22, 'concerns': 22, 'partnerships': 22, 'perm': 22, 'incentives': 22, 'speakers': 22, 'operates': 22, 'bars': 22, 'compression': 22, 'seekers': 22, 'preventive': 22, 'instrumentation': 22, 'discussed': 22, 'shortly': 22, 'monday': 21, 'fully': 21, 'worldwide': 21, 'lives': 21, 'articles': 21, 'disability': 21, 'influence': 21, 'request': 21, 'properly': 21, 'css': 21, 'organize': 21, 'sets': 21, 'channel': 21, 'billion': 21, 'checks': 21, 'initiative': 21, 'experts': 21, 'residential': 21, 'consistently': 21, 'enter': 21, 'maintained': 21, 'file': 21, 'founded': 21, 'receiving': 21, 'afternoon': 21, 'airfare': 21, 'contacts': 21, 'consumer': 21, 'instructions': 21, 'eb': 21, 'messaging': 21, 'conjunction': 21, 'alignment': 21, 'compelling': 21, 'coordinates': 21, 'mentoring': 21, 'cable': 21, 'priorities': 21, 'steps': 21, 'qualification': 21, 'boutiques': 21, 'tour': 21, 'photographers': 21, 'nannies': 21, 'speaker': 21, 'wifi': 21, 'euros': 21, 'paste': 21, 'sailing': 21, 'adrian': 21, 'starting': 20, 'advice': 20, 'managed': 20, 'equivalent': 20, 'military': 20, 'funded': 20, 'ship': 20, 'personality': 20, 'offerings': 20, 'situations': 20, 'supports': 20, 'prospective': 20, 'green': 20, 'academic': 20, 'enable': 20, 'dealing': 20, 'huge': 20, 'clinical': 20, 'assignments': 20, 'writers': 20, 'talk': 20, 'guide': 20, 'creates': 20, 'sit': 20, 'accountable': 20, 'adoption': 20, 'presence': 20, 'rewarding': 20, 'award': 20, 'fee': 20, 'units': 20, 'encouraged': 20, 'india': 20, 'excited': 20, 'retailers': 20, 'payment': 20, 'optimisation': 20, 'frame': 20, 'technically': 20, 'outlets': 20, 'bakersfield': 20, 'legitimate': 20, 'centers': 19, 'helps': 19, 'fastest': 19, 'pressure': 19, 'branch': 19, 'vacation': 19, 'california': 19, 'aid': 19, 'phase': 19, 'correspondence': 19, 'roles': 19, 'laws': 19, 'trade': 19, 'callers': 19, 'collect': 19, 'extensive': 19, 'android': 19, 'challenge': 19, 'lines': 19, 'advisors': 19, 'tool': 19, 'graphics': 19, 'adherence': 19, 'mailing': 19, 'proficiency': 19, 'errors': 19, 'guests': 19, 'desired': 19, 'payments': 19, 'comply': 19, 'balance': 19, 'blog': 19, 'confident': 19, 'operators': 19, 'reconciliation': 19, 'helpful': 19, 'demonstrations': 19, 'art': 19, 'constantly': 19, 'introduction': 19, 'children': 19, 'study': 19, 'kitchen': 19, 'prepares': 19, 'drilling': 19, 'informed': 18, 'territory': 18, 'analyses': 18, 'engine': 18, 'worked': 18, 'workload': 18, 'common': 18, 'applicant': 18, 'college': 18, 'translate': 18, 'conducting': 18, 'scheduled': 18, 'colleagues': 18, 'wireless': 18, 'remediation': 18, 'ideally': 18, 'inform': 18, 'audience': 18, 'typically': 18, 'average': 18, 'usage': 18, 'initiate': 18, 'commission': 18, 'ruby': 18, 'interesting': 18, 'capacity': 18, 'beautiful': 18, 'google': 18, 'matter': 18, 'effectiveness': 18, 'stories': 18, 'payable': 18, 'display': 18, 'usability': 18, 'charge': 18, 'liaise': 18, 'america': 18, 'factory': 18, 'involves': 18, 'stores': 18, 'departmental': 18, 'completed': 18, 'strengthen': 18, 'identifies': 18, 'format': 18, 'weeks': 18, 'layout': 18, 'planned': 18, 'dentists': 18, 'retreats': 18, 'interviews': 17, 'carry': 17, 'complaints': 17, 'step': 17, 'editing': 17, 'sound': 17, 'motivate': 17, 'labs': 17, 'root': 17, 'coverage': 17, 'driver': 17, 'creativity': 17, 'functionality': 17, 'gain': 17, 'completing': 17, 'stock': 17, 'thousands': 17, 'attend': 17, 'shifts': 17, 'floor': 17, 'executing': 17, 'trading': 17, 'game': 17, 'engage': 17, 'division': 17, 'rules': 17, 'verification': 17, 'device': 17, 'games': 17, 'finding': 17, 'graphic': 17, 'cold': 17, 'excellence': 17, 'happy': 17, 'phases': 17, 'gather': 17, 'agreed': 17, 'stokes': 17, 'procurement': 17, 'supervises': 17, 'university': 17, 'singapore': 17, 'weekends': 17, 'hazardous': 17, 'optical': 17, 'rg': 17, 'insight': 16, 'pricing': 16, 'news': 16, 'leave': 16, 'age': 16, 'options': 16, 'ceo': 16, 'queries': 16, 'letter': 16, 'utilize': 16, 'abilities': 16, 'load': 16, 'teamwork': 16, 'retention': 16, 'fax': 16, 'newly': 16, 'pro': 16, 'numbers': 16, 'specialists': 16, 'seeks': 16, 'kind': 16, 'equity': 16, 'analyzing': 16, 'negotiation': 16, 'result': 16, 'oral': 16, 'occupational': 16, 'points': 16, 'carried': 16, 'professionally': 16, 'insure': 16, 'fees': 16, 'purchasing': 16, 'attendance': 16, 'charges': 16, 'definition': 16, 'presentation': 16, 'ultimately': 16, 'approvals': 16, 'funds': 16, 'strive': 16, 'response': 16, 'inspire': 16, 'advise': 16, 'methodology': 16, 'familiar': 16, 'revenues': 16, 'easily': 16, 'adapt': 16, 'topics': 16, 'thrive': 16, 'hospital': 16, 'depth': 16, 'dollar': 16, 'restaurant': 16, 'oversight': 16, 'sustainable': 16, 'performed': 16, 'rapport': 16, 'domain': 16, 'chef': 16, 'hourly': 15, 'treatment': 15, 'contributing': 15, 'marketplace': 15, 'gathering': 15, 'participating': 15, 'sharing': 15, 'periods': 15, 'implemented': 15, 'visitors': 15, 'devices': 15, 'occasionally': 15, 'workforce': 15, 'receivable': 15, 'proficient': 15, 'sources': 15, 'release': 15, 'assignment': 15, 'log': 15, 'interactive': 15, 'extraordinary': 15, 'oracle': 15, 'economic': 15, 'manuals': 15, 'developmental': 15, 'period': 15, 'supported': 15, 'succeed': 15, 'forecasting': 15, 'deals': 15, 'started': 15, 'telecom': 15, 'reasonable': 15, 'low': 15, 'advocate': 15, 'force': 15, 'metering': 15, 'pickup': 15, 'alongside': 15, 'rest': 15, 'searching': 15, 'lunch': 15, 'participates': 15, 'promoting': 15, 'leverage': 15, 'typical': 15, 'depending': 15, 'screen': 15, 'peer': 15, 'appropriately': 15, 'expenses': 15, 'tickets': 15, 'drivers': 15, 'saving': 15, 'workplace': 15, 'packaging': 15, 'exchange': 15, 'identified': 15, 'custom': 15, 'interactions': 15, 'publishers': 15, 'simulation': 15, 'entering': 15, 'prevent': 15, 'menu': 15, 'removal': 15, 'wells': 15, 'menus': 15, 'cooks': 15, 'minimize': 15, 'centre': 14, 'natural': 14, 'recommends': 14, 'productive': 14, 'trust': 14, 'aggressive': 14, 'sense': 14, 'collections': 14, 'submitted': 14, 'pride': 14, 'mark': 14, 'star': 14, 'overtime': 14, 'lot': 14, 'roll': 14, 'framework': 14, 'facing': 14, 'secondary': 14, 'foster': 14, 'discuss': 14, 'checking': 14, 'retain': 14, 'transportation': 14, 'minute': 14, 'event': 14, 'aviation': 14, 'perspective': 14, 'quantitative': 14, 'deal': 14, 'break': 14, 'downtown': 14, 'catering': 14, 'prices': 14, 'folding': 14, 'inserting': 14, 'stage': 14, 'deadline': 14, 'optimize': 14, 'discover': 14, 'statistical': 14, 'familiarity': 14, 'dealer': 14, 'visits': 14, 'style': 14, 'thought': 14, 'securing': 14, 'showing': 14, 'documented': 14, 'requiring': 14, 'outs': 14, 'trash': 14, 'vacancies': 14, 'incorporate': 14, 'return': 14, 'roi': 14, 'estimate': 14, 'emails': 14, 'conceptual': 14, 'europe': 14, 'continue': 14, 'compiling': 14, 'guest': 14, 'entrepreneurs': 14, 'component': 14, 'replacing': 14, 'raw': 14, 'responses': 14, 'globe': 14, 'machine': 14, 'retirement': 14, 'texas': 14, 'ice': 14, 'cultural': 14, 'demonstrated': 14, 'subcontractors': 14, 'responding': 14, 'tender': 14, 'mold': 14, 'motors': 14, 'dsl': 14, 'reps': 13, 'organic': 13, 'establishes': 13, 'approaches': 13, 'spirit': 13, 'debt': 13, 'stability': 13, 'qualify': 13, 'generated': 13, 'articulate': 13, 'hear': 13, 'history': 13, 'updated': 13, 'abc': 13, 'domestic': 13, 'press': 13, 'peers': 13, 'emerging': 13, 'defects': 13, 'placement': 13, 'judgment': 13, 'form': 13, 'stand': 13, 'specialized': 13, 'sort': 13, 'hundreds': 13, 'outcomes': 13, 'designated': 13, 'regularly': 13, 'increasing': 13, 'expect': 13, 'structures': 13, 'massive': 13, 'focusing': 13, 'responsive': 13, 'contribution': 13, 'reality': 13, 'tactical': 13, 'jobholder': 13, 'mutual': 13, 'underwriting': 13, 'beach': 13, 'measures': 13, 'resolving': 13, 'principal': 13, 'involvement': 13, 'identification': 13, 'rooms': 13, 'actual': 13, 'eager': 13, 'coding': 13, 'central': 13, 'establishment': 13, 'internship': 13, 'confidence': 13, 'raise': 13, 'overseas': 13, 'statement': 13, 'philosophy': 13, 'chain': 13, 'artists': 13, 'sheets': 13, 'valuable': 13, 'calendar': 13, 'letters': 13, 'virtual': 13, 'receptionist': 13, 'competencies': 13, 'australia': 13, 'boss': 13, 'suggestions': 13, 'mindset': 13, 'intervention': 13, 'learners': 13, 'manual': 13, 'tailor': 13, 'enhancement': 13, 'achievements': 13, 'diagrams': 13, 'ledger': 13, 'secures': 13, 'portion': 13, 'molding': 13, 'piping': 13, 'medication': 12, 'emphasis': 12, 'apprenticeship': 12, 'organizing': 12, 'educational': 12, 'visibility': 12, 'lots': 12, 'prospect': 12, 'loan': 12, 'race': 12, 'marital': 12, 'religion': 12, 'protected': 12, 'explore': 12, 'eye': 12, 'interpret': 12, 'distribute': 12, 'proprietary': 12, 'vacations': 12, 'route': 12, 'methodologies': 12, 'financially': 12, 'accountability': 12, 'mitigation': 12, 'adding': 12, 'aim': 12, 'drop': 12, 'normal': 12, 'availability': 12, 'sectors': 12, 'certified': 12, 'keyboard': 12, 'install': 12, 'involving': 12, 'minimizing': 12, 'rare': 12, 'classes': 12, 'acts': 12, 'participation': 12, 'purges': 12, 'buy': 12, 'mid': 12, 'talents': 12, 'graduates': 12, 'master': 12, 'collaborating': 12, 'investigation': 12, 'adjustments': 12, 'teaching': 12, 'secure': 12, 'supervising': 12, 'firms': 12, 'partnership': 12, 'incidents': 12, 'meaningful': 12, 'turn': 12, 'investigations': 12, 'centered': 12, 'occasional': 12, 'fellow': 12, 'producing': 12, 'array': 12, 'hero': 12, 'inspect': 12, 'researching': 12, 'china': 12, 'releases': 12, 'overseeing': 12, 'align': 12, 'cities': 12, 'coming': 12, 'builds': 12, 'communicates': 12, 'advisor': 12, 'consists': 12, 'subject': 12, 'brilliant': 12, 'hrs': 12, 'directing': 12, 'recommend': 12, 'accidents': 12, 'preventative': 12, 'vend': 12, 'editor': 12, 'shop': 12, 'farmers': 12, 'updating': 12, 'greece': 12, 'criteria': 12, 'rewards': 12, 'estimating': 12, 'discounts': 12, 'apex': 12, 'intermediate': 12, 'deputed': 12, 'register': 12, 'modules': 12, 'interior': 12, 'attends': 12, 'bids': 12, 'pumps': 12, 'church': 12, 'leavers': 11, 'plants': 11, 'rounded': 11, 'workshops': 11, 'moving': 11, 'editorial': 11, 'branding': 11, 'verbally': 11, 'touch': 11, 'sex': 11, 'characteristic': 11, 'remote': 11, 'hq': 11, 'victor': 11, 'workflow': 11, 'steam': 11, 'profitable': 11, 'commitments': 11, 'runs': 11, 'invoice': 11, 'inspiring': 11, 'specialty': 11, 'single': 11, 'image': 11, 'ethical': 11, 'troubleshoot': 11, 'desktop': 11, 'choice': 11, 'cooking': 11, 'internationally': 11, 'registered': 11, 'advance': 11, 'outlook': 11, 'scrum': 11, 'optimal': 11, 'keen': 11, 'rep': 11, 'commerce': 11, 'therapy': 11, 'directed': 11, 'speed': 11, 'analyzes': 11, 'evaluates': 11, 'structured': 11, 'warehouse': 11, 'serves': 11, 'door': 11, 'acting': 11, 'motivation': 11, 'statistics': 11, 'elements': 11, 'vehicles': 11, 'mind': 11, 'accept': 11, 'idea': 11, 'trouble': 11, 'consisting': 11, 'fixed': 11, 'reservations': 11, 'organisational': 11, 'greater': 11, 'recruiter': 11, 'profits': 11, 'constructive': 11, 'seek': 11, 'spreadsheets': 11, 'speaking': 11, 'nationwide': 11, 'worker': 11, 'seamless': 11, 'consistency': 11, 'journey': 11, 'engaged': 11, 'diagnose': 11, 'aligned': 11, 'promotion': 11, 'verifying': 11, 'interacts': 11, 'negotiate': 11, 'contractor': 11, 'reduce': 11, 'hazard': 11, 'nation': 11, 'south': 11, 'logistics': 11, 'bonus': 11, 'relating': 11, 'dot': 11, 'implements': 11, 'interviewing': 11, 'adequate': 11, 'instant': 11, 'taxes': 11, 'fresh': 11, 'feel': 11, 'empower': 11, 'produced': 11, 'solar': 11, 'original': 11, 'chip': 11, 'agents': 11, 'preferably': 11, 'orientation': 11, 'youth': 11, 'willingness': 11, 'apis': 11, 'specification': 11, 'greet': 11, 'installs': 11, 'font': 11, 'investigate': 11, 'demeanor': 11, 'reformation': 11, 'earliest': 11, 'ecf': 11, 'grass': 11, 'cuts': 11, 'eviction': 11, 'locks': 11, 'keys': 11, 'debris': 11, 'generators': 11, 'tired': 11, 'cleanliness': 11, 'onshore': 11, 'enquiries': 10, 'paperwork': 10, 'rotating': 10, 'saturdays': 10, 'enthusiasm': 10, 'price': 10, 'lists': 10, 'streams': 10, 'enables': 10, 'privately': 10, 'held': 10, 'dental': 10, 'languages': 10, 'modern': 10, 'choose': 10, 'shape': 10, 'trained': 10, 'tape': 10, 'positioning': 10, 'leaving': 10, 'secured': 10, 'weight': 10, 'sleeves': 10, 'dates': 10, 'wholesale': 10, 'served': 10, 'champion': 10, 'listening': 10, 'gap': 10, 'inclusion': 10, 'sending': 10, 'note': 10, 'projections': 10, 'respected': 10, 'sophisticated': 10, 'higher': 10, 'electronics': 10, 'therapist': 10, 'diagnostic': 10, 'provision': 10, 'refer': 10, 'protocols': 10, 'officer': 10, 'box': 10, 'led': 10, 'view': 10, 'modification': 10, 'commit': 10, 'picture': 10, 'gaming': 10, 'landscape': 10, 'architectures': 10, 'facilitating': 10, 'directs': 10, 'exercises': 10, 'delivers': 10, 'hold': 10, 'association': 10, 'goods': 10, 'validate': 10, 'budgeting': 10, 'majority': 10, 'allowing': 10, 'shared': 10, 'controller': 10, 'measurement': 10, 'forecasts': 10, 'fulfill': 10, 'imperative': 10, 'larger': 10, 'landing': 10, 'educate': 10, 'conferences': 10, 'story': 10, 'banks': 10, 'focuses': 10, 'timelines': 10, 'practical': 10, 'codes': 10, 'correctly': 10, 'dozens': 10, 'entries': 10, 'committee': 10, 'merchandise': 10, 'integrate': 10, 'foundation': 10, 'acquire': 10, 'combines': 10, 'connect': 10, 'electric': 10, 'bodies': 10, 'inter': 10, 'freelance': 10, 'wanted': 10, 'realizing': 10, 'mining': 10, 'prescribed': 10, 'rails': 10, 'recipes': 10, 'assistants': 10, 'answers': 10, 'modifications': 10, 'bar': 10, 'demonstrators': 10, 'directions': 10, 'protect': 10, 'troubleshoots': 10, 'thoroughness': 10, 'ordinate': 10, 'persons': 10, 'man': 10, 'personalised': 10, 'empowers': 10, 'chefs': 10, 'approves': 10, 'totally': 10, 'machining': 10, 'climate': 10, 'demonstrates': 10, 'late': 9, 'therapists': 9, 'outreach': 9, 'split': 9, 'pitch': 9, 'evaluating': 9, 'attending': 9, 'contributes': 9, 'tight': 9, 'logical': 9, 'difficult': 9, 'studio': 9, 'consultants': 9, 'screening': 9, 'assemblies': 9, 'valves': 9, 'processed': 9, 'flows': 9, 'pace': 9, 'homeowners': 9, 'damage': 9, 'directives': 9, 'push': 9, 'scripts': 9, 'pleasant': 9, 'evolve': 9, 'videos': 9, 'attract': 9, 'adults': 9, 'disabilities': 9, 'backgrounds': 9, 'pick': 9, 'regions': 9, 'acceptance': 9, 'combination': 9, 'berlin': 9, 'upgrades': 9, 'promotional': 9, 'producer': 9, 'installations': 9, 'essentially': 9, 'objective': 9, 'validation': 9, 'segments': 9, 'launches': 9, 'healthy': 9, 'encourage': 9, 'true': 9, 'resourceful': 9, 'aerospace': 9, 'internships': 9, 'january': 9, 'evolving': 9, 'accepted': 9, 'reception': 9, 'craft': 9, 'contributor': 9, 'sign': 9, 'consideration': 9, 'coffee': 9, 'spanish': 9, 'ultrasound': 9, 'integrations': 9, 'sessions': 9, 'factors': 9, 'accomplish': 9, 'encompasses': 9, 'bce': 9, 'issued': 9, 'supportive': 9, 'owned': 9, 'buying': 9, 'audiences': 9, 'blogs': 9, 'twitter': 9, 'athens': 9, 'smarter': 9, 'furniture': 9, 'cleaner': 9, 'confidentiality': 9, 'incident': 9, 'additionally': 9, 'respective': 9, 'applied': 9, 'communities': 9, 'license': 9, 'diploma': 9, 'named': 9, 'casino': 9, 'mix': 9, 'startups': 9, 'formal': 9, 'faxing': 9, 'failures': 9, 'reduction': 9, 'agent': 9, 'ads': 9, 'holder': 9, 'families': 9, 'stellar': 9, 'journal': 9, 'farm': 9, 'continually': 9, 'loss': 9, 'recognition': 9, 'accident': 9, 'consults': 9, 'makers': 9, 'registers': 9, 'recording': 9, 'capture': 9, 'reputation': 9, 'beans': 9, 'recognized': 9, 'founders': 9, 'soft': 9, 'behalf': 9, 'interests': 9, 'minor': 9, 'explain': 9, 'click': 9, 'credible': 9, 'incumbent': 9, 'union': 9, 'graduate': 9, 'super': 9, 'discrepancies': 9, 'memory': 9, 'observations': 9, 'assign': 9, 'yeast': 9, 'continual': 9, 'shopping': 9, 'addresses': 9, 'controlling': 9, 'bills': 9, 'sigma': 9, 'concise': 9, 'electricity': 9, 'reward': 9, 'fixes': 9, 'overview': 9, 'inputs': 9, 'harm': 9, 'micro': 9, 'compassion': 9, 'tenders': 9, 'prints': 9, 'permits': 9, 'classification': 9, 'cad': 9, 'novation': 9, 'forklift': 9, 'subcontracting': 9, 'lessons': 9, 'distributes': 9, 'stm': 9, 'garden': 8, 'treating': 8, 'counseling': 8, 'drug': 8, 'screens': 8, 'administer': 8, 'olds': 8, 'externally': 8, 'merchandising': 8, 'publications': 8, 'accomplishing': 8, 'owning': 8, 'wider': 8, 'launching': 8, 'headquarters': 8, 'elegant': 8, 'refining': 8, 'documenting': 8, 'strengths': 8, 'injection': 8, 'truck': 8, 'represents': 8, 'zone': 8, 'collecting': 8, 'adhering': 8, 'shaping': 8, 'physicians': 8, 'purchases': 8, 'linux': 8, 'literate': 8, 'rich': 8, 'competitor': 8, 'guides': 8, 'writer': 8, 'reference': 8, 'institutional': 8, 'interacting': 8, 'matching': 8, 'traditional': 8, 'hearing': 8, 'journeyman': 8, 'lower': 8, 'rapid': 8, 'scan': 8, 'annually': 8, 'fund': 8, 'alternative': 8, 'measurable': 8, 'ventures': 8, 'commissions': 8, 'cool': 8, 'revision': 8, 'interns': 8, 'broader': 8, 'marketers': 8, 'meter': 8, 'minds': 8, 'intellectual': 8, 'holiday': 8, 'affect': 8, 'mortgage': 8, 'thing': 8, 'enhancements': 8, 'bug': 8, 'lending': 8, 'acquisitions': 8, 'virginia': 8, 'nights': 8, 'handled': 8, 'compile': 8, 'workshop': 8, 'consult': 8, 'auditors': 8, 'specializes': 8, 'trusted': 8, 'fails': 8, 'posts': 8, 'employers': 8, 'contractual': 8, 'webcam': 8, 'bringing': 8, 'quotes': 8, 'smooth': 8, 'loading': 8, 'superb': 8, 'disrupting': 8, 'caliber': 8, 'utilization': 8, 'frequent': 8, 'increasingly': 8, 'kingdom': 8, 'participants': 8, 'audio': 8, 'photo': 8, 'created': 8, 'holding': 8, 'nurture': 8, 'innovate': 8, 'stable': 8, 'rework': 8, 'ease': 8, 'executes': 8, 'devise': 8, 'demos': 8, 'realistic': 8, 'operated': 8, 'music': 8, 'chicago': 8, 'hires': 8, 'professionalism': 8, 'allocation': 8, 'everyday': 8, 'commissioning': 8, 'pieces': 8, 'park': 8, 'station': 8, 'readiness': 8, 'summaries': 8, 'tasking': 8, 'deploy': 8, 'tile': 8, 'prototype': 8, 'stuff': 8, 'discussing': 8, 'win': 8, 'carriers': 8, 'express': 8, 'speak': 8, 'addressed': 8, 'flat': 8, 'constraints': 8, 'sustainability': 8, 'total': 8, 'child': 8, 'mutually': 8, 'shooting': 8, 'inquires': 8, 'accomplished': 8, 'fuel': 8, 'optimum': 8, 'kick': 8, 'silicon': 8, 'deviations': 8, 'amazon': 8, 'receipts': 8, 'relies': 8, 'escalations': 8, 'examples': 8, 'listed': 8, 'casualty': 8, 'alphabetic': 8, 'numeric': 8, 'figures': 8, 'legislative': 8, 'routines': 8, 'comprehend': 8, 'economical': 8, 'separation': 8, 'trillion': 8, 'soil': 8, 'measurements': 8, 'extreme': 8, 'gasoline': 8, 'oversees': 8, 'routers': 8, 'method': 8, 'rig': 8, 'bin': 8, 'impressive': 7, 'window': 7, 'resolves': 7, 'save': 7, 'sick': 7, 'path': 7, 'python': 7, 'escalate': 7, 'detailing': 7, 'constant': 7, 'avoid': 7, 'unloading': 7, 'phenomenal': 7, 'freedom': 7, 'spaces': 7, 'president': 7, 'indicators': 7, 'courteous': 7, 'relish': 7, 'certifications': 7, 'aptitude': 7, 'profiles': 7, 'patience': 7, 'tablet': 7, 'fulfilling': 7, 'overnight': 7, 'weekend': 7, 'exploring': 7, 'findings': 7, 'ambition': 7, 'aircraft': 7, 'sufficient': 7, 'sydney': 7, 'extend': 7, 'listings': 7, 'hotels': 7, 'reits': 7, 'qualitative': 7, 'conversations': 7, 'enabling': 7, 'facilitation': 7, 'maturity': 7, 'santa': 7, 'motivating': 7, 'pain': 7, 'vacancy': 7, 'configuration': 7, 'copies': 7, 'images': 7, 'experiment': 7, 'choices': 7, 'sold': 7, 'quoting': 7, 'vayu': 7, 'demanding': 7, 'couple': 7, 'tremendous': 7, 'intern': 7, 'sizes': 7, 'item': 7, 'promotions': 7, 'investments': 7, 'printing': 7, 'vibrant': 7, 'fraud': 7, 'aware': 7, 'talking': 7, 'defines': 7, 'chart': 7, 'settlement': 7, 'timeline': 7, 'sponsor': 7, 'understands': 7, 'powerful': 7, 'pushing': 7, 'fly': 7, 'stakeholder': 7, 'disposal': 7, 'protection': 7, 'ranked': 7, 'expenditures': 7, 'bundles': 7, 'authorized': 7, 'achieved': 7, 'fall': 7, 'fellowship': 7, 'tackle': 7, 'restful': 7, 'archive': 7, 'coordinated': 7, 'offered': 7, 'filling': 7, 'revisions': 7, 'parameters': 7, 'liaising': 7, 'augmented': 7, 'east': 7, 'upcoming': 7, 'moment': 7, 'earned': 7, 'setup': 7, 'currency': 7, 'lei': 7, 'strength': 7, 'proposition': 7, 'controlled': 7, 'air': 7, 'faster': 7, 'manually': 7, 'budgetary': 7, 'broker': 7, 'personable': 7, 'advertisers': 7, 'programmer': 7, 'toyota': 7, 'computers': 7, 'notify': 7, 'negotiations': 7, 'entertainment': 7, 'seasoned': 7, 'receivables': 7, 'table': 7, 'option': 7, 'intelligent': 7, 'telecommunications': 7, 'institutions': 7, 'focal': 7, 'acceptable': 7, 'absolutely': 7, 'county': 7, 'licensed': 7, 'capability': 7, 'pertinent': 7, 'kindly': 7, 'pos': 7, 'volumes': 7, 'comprised': 7, 'dashboards': 7, 'layouts': 7, 'prototypes': 7, 'bugs': 7, 'bigger': 7, 'sciences': 7, 'contacted': 7, 'forums': 7, 'informal': 7, 'genuine': 7, 'fri': 7, 'consist': 7, 'proposed': 7, 'relation': 7, 'acumen': 7, 'interdisciplinary': 7, 'termination': 7, 'host': 7, 'priority': 7, 'fuels': 7, 'achieves': 7, 'machinery': 7, 'mandatory': 7, 'recommending': 7, 'flash': 7, 'output': 7, 'heavily': 7, 'plumbing': 7, 'machines': 7, 'appointment': 7, 'instruments': 7, 'curriculum': 7, 'civil': 7, 'demonstrable': 7, 'memos': 7, 'suites': 7, 'gateway': 7, 'bookkeeper': 7, 'reconcile': 7, 'ocean': 7, 'disk': 7, 'inventories': 7, 'diagram': 7, 'pid': 7, 'vessels': 7, 'attendant': 7, 'requisition': 7, 'theft': 7, 'safeguards': 7, 'exceeds': 7, 'entered': 7, 'firmware': 7, 'fitness': 7, 'agronomic': 7, 'growers': 7, 'participant': 7, 'calibration': 7, 'corrects': 7, 'paycheck': 7, 'statutory': 7, 'confined': 7, 'combined': 6, 'aspect': 6, 'targeting': 6, 'pitches': 6, 'submitting': 6, 'incredible': 6, 'covering': 6, 'premium': 6, 'thinker': 6, 'geographic': 6, 'aggressively': 6, 'vertical': 6, 'gis': 6, 'delinquent': 6, 'knowledgeable': 6, 'presenting': 6, 'configure': 6, 'arrangements': 6, 'publish': 6, 'buildings': 6, 'roof': 6, 'periodic': 6, 'experiments': 6, 'maker': 6, 'manufacturers': 6, 'vital': 6, 'strives': 6, 'premier': 6, 'necessity': 6, 'balancing': 6, 'hospitals': 6, 'combine': 6, 'vice': 6, 'lobby': 6, 'atmosphere': 6, 'engagements': 6, 'beneficial': 6, 'penetration': 6, 'remain': 6, 'saturday': 6, 'cooperatively': 6, 'august': 6, 'disciplinary': 6, 'browser': 6, 'obsessed': 6, 'prospecting': 6, 'worth': 6, 'persuade': 6, 'nature': 6, 'analysing': 6, 'assigning': 6, 'selecting': 6, 'lightweight': 6, 'traded': 6, 'researchers': 6, 'valuation': 6, 'unusual': 6, 'cohesive': 6, 'loves': 6, 'solver': 6, 'cultivate': 6, 'text': 6, 'walk': 6, 'versed': 6, 'servers': 6, 'resolved': 6, 'occur': 6, 'incentive': 6, 'upbeat': 6, 'evaluations': 6, 'premises': 6, 'context': 6, 'objects': 6, 'determined': 6, 'ins': 6, 'presented': 6, 'batch': 6, 'spectrum': 6, 'launched': 6, 'eliminating': 6, 'sized': 6, 'raised': 6, 'ordering': 6, 'transition': 6, 'carolina': 6, 'west': 6, 'physician': 6, 'smoothly': 6, 'sample': 6, 'prove': 6, 'structural': 6, 'greatness': 6, 'upward': 6, 'mobility': 6, 'curious': 6, 'rolling': 6, 'round': 6, 'disruptive': 6, 'blend': 6, 'casual': 6, 'newest': 6, 'enforcing': 6, 'numerical': 6, 'joint': 6, 'refine': 6, 'lenders': 6, 'ambassador': 6, 'discussions': 6, 'doubled': 6, 'submission': 6, 'calculate': 6, 'drafting': 6, 'road': 6, 'river': 6, 'talks': 6, 'reading': 6, 'reported': 6, 'message': 6, 'communicated': 6, 'inclusive': 6, 'actionable': 6, 'proposal': 6, 'exposure': 6, 'chief': 6, 'treasury': 6, 'aims': 6, 'delight': 6, 'floors': 6, 'tables': 6, 'dust': 6, 'continuing': 6, 'importantly': 6, 'exercise': 6, 'dream': 6, 'variances': 6, 'meals': 6, 'brought': 6, 'segmentation': 6, 'transform': 6, 'personalized': 6, 'continues': 6, 'cancellations': 6, 'accepting': 6, 'compliant': 6, 'securities': 6, 'series': 6, 'centric': 6, 'span': 6, 'teammates': 6, 'relates': 6, 'lasting': 6, 'philippines': 6, 'canada': 6, 'simply': 6, 'founder': 6, 'architectural': 6, 'technological': 6, 'alliance': 6, 'outsourced': 6, 'consultative': 6, 'picking': 6, 'extraction': 6, 'charter': 6, 'milestones': 6, 'corporation': 6, 'remaining': 6, 'messages': 6, 'analyse': 6, 'numerous': 6, 'connections': 6, 'patent': 6, 'treat': 6, 'perks': 6, 'carrying': 6, 'corrected': 6, 'possesses': 6, 'exempt': 6, 'warehousing': 6, 'fat': 6, 'quota': 6, 'enforce': 6, 'courses': 6, 'conception': 6, 'escalated': 6, 'tagging': 6, 'hub': 6, 'pounds': 6, 'library': 6, 'discovery': 6, 'expenditure': 6, 'para': 6, 'logo': 6, 'settings': 6, 'consultation': 6, 'recorded': 6, 'agricultural': 6, 'greatest': 6, 'increased': 6, 'logic': 6, 'beer': 6, 'upgrade': 6, 'executed': 6, 'exposed': 6, 'hazards': 6, 'native': 6, 'powers': 6, 'teach': 6, 'closure': 6, 'submissions': 6, 'escalation': 6, 'disciplined': 6, 'administering': 6, 'specializing': 6, 'competent': 6, 'coders': 6, 'personally': 6, 'welfare': 6, 'tuning': 6, 'tester': 6, 'initially': 6, 'visible': 6, 'packs': 6, 'min': 6, 'forming': 6, 'preserving': 6, 'maximizing': 6, 'label': 6, 'surveillance': 6, 'outlined': 6, 'composed': 6, 'propose': 6, 'forecast': 6, 'oklahoma': 6, 'revolutionizing': 6, 'afraid': 6, 'friends': 6, 'teacher': 6, 'reconciliations': 6, 'dynamics': 6, 'membership': 6, 'introductions': 6, 'movement': 6, 'intensive': 6, 'instructional': 6, 'confirm': 6, 'suit': 6, 'books': 6, 'paying': 6, 'banquet': 6, 'imagine': 6, 'spa': 6, 'sorts': 6, 'interpretation': 6, 'rated': 6, 'supervisory': 6, 'spare': 6, 'magnetic': 6, 'subsequent': 6, 'throughput': 6, 'remove': 6, 'switches': 6, 'wiring': 6, 'adheres': 6, 'trains': 6, 'broadband': 6, 'firewalls': 6, 'automate': 6, 'diversity': 6, 'debug': 6, 'calibrated': 6, 'jv': 6, 'papers': 6, 'white': 6, 'learnt': 6, 'feasibility': 6, 'shrink': 6, 'clocked': 6, 'paychecks': 6, 'refinery': 6, 'staffs': 6, 'scaffolding': 6, 'surface': 6, 'verifies': 6, 'crossroads': 5, 'enhancing': 5, 'competition': 5, 'copywriter': 5, 'authority': 5, 'reason': 5, 'ahead': 5, 'autonomy': 5, 'combining': 5, 'geography': 5, 'universities': 5, 'carefully': 5, 'salaries': 5, 'verticals': 5, 'enrollment': 5, 'blocks': 5, 'prefer': 5, 'portal': 5, 'valve': 5, 'conformances': 5, 'hats': 5, 'harnesses': 5, 'discretion': 5, 'dispatcher': 5, 'row': 5, 'strategically': 5, 'manufacturer': 5, 'modify': 5, 'knit': 5, 'brightest': 5, 'shipped': 5, 'md': 5, 'progression': 5, 'tag': 5, 'impressions': 5, 'utmost': 5, 'december': 5, 'possibility': 5, 'bleeding': 5, 'flair': 5, 'cerebral': 5, 'palsy': 5, 'kinds': 5, 'independence': 5, 'pager': 5, 'asked': 5, 'errands': 5, 'acquiring': 5, 'hit': 5, 'hunt': 5, 'requirement': 5, 'preeminent': 5, 'concentrating': 5, 'trusts': 5, 'publishing': 5, 'implications': 5, 'forces': 5, 'covered': 5, 'germany': 5, 'breaking': 5, 'bay': 5, 'citizens': 5, 'spending': 5, 'fluent': 5, 'belgium': 5, 'classify': 5, 'separate': 5, 'cues': 5, 'dollars': 5, 'evolution': 5, 'wonderful': 5, 'grounds': 5, 'governance': 5, 'transfers': 5, 'conflicts': 5, 'medicine': 5, 'conducts': 5, 'glass': 5, 'improved': 5, 'mi': 5, 'wholeheartedly': 5, 'thoughtful': 5, 'dependable': 5, 'washington': 5, 'abroad': 5, 'implementations': 5, 'loved': 5, 'version': 5, 'usps': 5, 'freight': 5, 'arrival': 5, 'competency': 5, 'complexity': 5, 'initiating': 5, 'pending': 5, 'attributes': 5, 'dell': 5, 'globally': 5, 'fixing': 5, 'taxi': 5, 'placing': 5, 'printed': 5, 'map': 5, 'ethic': 5, 'dedication': 5, 'indian': 5, 'fluids': 5, 'checklist': 5, 'attorney': 5, 'western': 5, 'beauty': 5, 'parallel': 5, 'substantial': 5, 'escrow': 5, 'leveraging': 5, 'correcting': 5, 'newsletters': 5, 'dubai': 5, 'agreements': 5, 'simulations': 5, 'purchased': 5, 'sundays': 5, 'oregon': 5, 'july': 5, 'thanksgiving': 5, 'christmas': 5, 'pursue': 5, 'advocacy': 5, 'terminal': 5, 'transparency': 5, 'adjusting': 5, 'accessories': 5, 'atlanta': 5, 'accessible': 5, 'negotiating': 5, 'telemarketing': 5, 'attractive': 5, 'paramount': 5, 'sass': 5, 'communicator': 5, 'flight': 5, 'pixel': 5, 'referral': 5, 'storm': 5, 'gaps': 5, 'templates': 5, 'marketplaces': 5, 'handover': 5, 'educating': 5, 'laptop': 5, 'pa': 5, 'relocate': 5, 'applies': 5, 'allocated': 5, 'anticipate': 5, 'justify': 5, 'hydraulic': 5, 'command': 5, 'outsourcing': 5, 'finally': 5, 'latin': 5, 'popular': 5, 'transport': 5, 'planet': 5, 'innovators': 5, 'peter': 5, 'flipping': 5, 'gazillion': 5, 'jump': 5, 'button': 5, 'unlimited': 5, 'footprint': 5, 'maximise': 5, 'divisional': 5, 'coaches': 5, 'pull': 5, 'batches': 5, 'believes': 5, 'veterans': 5, 'resumes': 5, 'subsidiary': 5, 'brokers': 5, 'introduced': 5, 'convey': 5, 'entail': 5, 'learner': 5, 'dealership': 5, 'brown': 5, 'happen': 5, 'fielding': 5, 'rural': 5, 'governors': 5, 'subordinates': 5, 'edit': 5, 'lost': 5, 'prevention': 5, 'promotes': 5, 'relate': 5, 'limits': 5, 'handles': 5, 'explains': 5, 'cards': 5, 'charging': 5, 'finished': 5, 'printers': 5, 'permit': 5, 'programme': 5, 'identity': 5, 'exhibit': 5, 'closed': 5, 'naturally': 5, 'deliverable': 5, 'corp': 5, 'guiding': 5, 'die': 5, 'successes': 5, 'loyalty': 5, 'sharp': 5, 'placements': 5, 'finish': 5, 'studios': 5, 'knowing': 5, 'complicated': 5, 'measuring': 5, 'references': 5, 'predictable': 5, 'mon': 5, 'briefs': 5, 'stages': 5, 'subjects': 5, 'scalability': 5, 'copiers': 5, 'savings': 5, 'bed': 5, 'women': 5, 'quotations': 5, 'reducing': 5, 'hot': 5, 'acquired': 5, 'sabre': 5, 'positioned': 5, 'promising': 5, 'scenarios': 5, 'walking': 5, 'dna': 5, 'scheme': 5, 'rewarded': 5, 'invest': 5, 'frequently': 5, 'lake': 5, 'yearly': 5, 'authorities': 5, 'speech': 5, 'schools': 5, 'bound': 5, 'allocate': 5, 'shutdown': 5, 'heat': 5, 'classified': 5, 'boards': 5, 'supervisors': 5, 'rankings': 5, 'reconciling': 5, 'visas': 5, 'ibex': 5, 'generalist': 5, 'reflect': 5, 'recurring': 5, 'waiting': 5, 'empowerment': 5, 'cap': 5, 'forum': 5, 'solicit': 5, 'purposes': 5, 'newport': 5, 'translates': 5, 'periodically': 5, 'cook': 5, 'vary': 5, 'tolerance': 5, 'safer': 5, 'orderly': 5, 'reasons': 5, 'connection': 5, 'procedural': 5, 'depends': 5, 'adequately': 5, 'bulletins': 5, 'specialties': 5, 'instrument': 5, 'wind': 5, 'relative': 5, 'condition': 5, 'planner': 5, 'colorado': 5, 'port': 5, 'chemical': 5, 'wage': 5, 'ethernet': 5, 'regression': 5, 'efficiencies': 5, 'pumping': 5, 'moved': 5, 'double': 5, 'servo': 5, 'impossible': 5, 'cancel': 5, 'intervals': 5, 'shortcomings': 5, 'legislation': 5, 'tidy': 5, 'subcontracted': 5, 'completes': 5, 'steel': 5, 'scopes': 5, 'rebates': 5, 'emphasizing': 5, 'trainer': 5, 'extended': 5, 'pipelines': 5, 'tanks': 5, 'notification': 5, 'realising': 5, 'optician': 5, 'standardisation': 5, 'sops': 5, 'belts': 5, 'geophysical': 5, 'returning': 5, 'tidying': 4, 'lpn': 4, 'opiate': 4, 'nurses': 4, 'addiction': 4, 'recalls': 4, 'wednesday': 4, 'count': 4, 'historical': 4, 'tasked': 4, 'scaling': 4, 'governments': 4, 'propositions': 4, 'servicing': 4, 'supplemental': 4, 'faxes': 4, 'hacker': 4, 'soho': 4, 'mentality': 4, 'architects': 4, 'ajax': 4, 'trucks': 4, 'driveways': 4, 'unload': 4, 'camera': 4, 'firmly': 4, 'boundaries': 4, 'belief': 4, 'brooklyn': 4, 'thrives': 4, 'generates': 4, 'missing': 4, 'claim': 4, 'tightly': 4, 'ideation': 4, 'fact': 4, 'libraries': 4, 'characteristics': 4, 'investing': 4, 'gsa': 4, 'pertaining': 4, 'columbia': 4, 'prompt': 4, 'researcher': 4, 'crest': 4, 'plenty': 4, 'multivariate': 4, 'beta': 4, 'attached': 4, 'thursday': 4, 'spearhead': 4, 'cms': 4, 'workable': 4, 'bathroom': 4, 'asap': 4, 'gross': 4, 'quotas': 4, 'territories': 4, 'accountants': 4, 'reservation': 4, 'lodging': 4, 'charlotte': 4, 'respectful': 4, 'persuasive': 4, 'starts': 4, 'transforming': 4, 'visually': 4, 'influencing': 4, 'bend': 4, 'administers': 4, 'object': 4, 'licenses': 4, 'wire': 4, 'tie': 4, 'sheet': 4, 'billions': 4, 'pei': 4, 'budgeted': 4, 'happiness': 4, 'understood': 4, 'pharmaceutical': 4, 'arbor': 4, 'adopted': 4, 'speeches': 4, 'october': 4, 'revolution': 4, 'european': 4, 'urgency': 4, 'savvy': 4, 'evangelist': 4, 'middle': 4, 'deploying': 4, 'maintainable': 4, 'iteration': 4, 'pub': 4, 'recognize': 4, 'absence': 4, 'organizes': 4, 'varied': 4, 'informational': 4, 'publicly': 4, 'accommodate': 4, 'prime': 4, 'mathematical': 4, 'varying': 4, 'district': 4, 'assemble': 4, 'labels': 4, 'attach': 4, 'rock': 4, 'flawless': 4, 'alliances': 4, 'playing': 4, 'outcome': 4, 'edmonton': 4, 'orlando': 4, 'uphold': 4, 'cpa': 4, 'wealth': 4, 'presents': 4, 'bear': 4, 'procuring': 4, 'lifestyle': 4, 'caring': 4, 'watch': 4, 'experiencing': 4, 'mitigate': 4, 'generally': 4, 'installing': 4, 'variance': 4, 'disbursements': 4, 'hud': 4, 'buyer': 4, 'engages': 4, 'mediums': 4, 'tactics': 4, 'transparent': 4, 'patterns': 4, 'aligning': 4, 'cycles': 4, 'replenish': 4, 'sunday': 4, 'exclusive': 4, 'weekdays': 4, 'recreation': 4, 'movements': 4, 'invoicing': 4, 'merge': 4, 'contacting': 4, 'doors': 4, 'georgia': 4, 'completely': 4, 'addressing': 4, 'emotional': 4, 'careers': 4, 'issuing': 4, 'parcels': 4, 'punctual': 4, 'examination': 4, 'conducted': 4, 'compatible': 4, 'tier': 4, 'heroes': 4, 'messenger': 4, 'van': 4, 'inception': 4, 'coast': 4, 'mayo': 4, 'innovations': 4, 'prioritizing': 4, 'conversion': 4, 'boutique': 4, 'arizona': 4, 'stuffy': 4, 'names': 4, 'stylist': 4, 'born': 4, 'helped': 4, 'seminars': 4, 'grows': 4, 'lifting': 4, 'lantern': 4, 'warm': 4, 'trial': 4, 'austin': 4, 'openers': 4, 'masters': 4, 'scientific': 4, 'brings': 4, 'referrals': 4, 'introducing': 4, 'spokesperson': 4, 'funnel': 4, 'estimation': 4, 'ops': 4, 'element': 4, 'descriptions': 4, 'arranging': 4, 'cars': 4, 'warranties': 4, 'seller': 4, 'situation': 4, 'smile': 4, 'scene': 4, 'multinational': 4, 'memorable': 4, 'representing': 4, 'banners': 4, 'airport': 4, 'entities': 4, 'amendments': 4, 'osha': 4, 'retailer': 4, 'engines': 4, 'threats': 4, 'embedded': 4, 'sellers': 4, 'counties': 4, 'adult': 4, 'debit': 4, 'japan': 4, 'indirect': 4, 'ats': 4, 'empathy': 4, 'organised': 4, 'tuesday': 4, 'obligations': 4, 'comparing': 4, 'bookkeeping': 4, 'ascertain': 4, 'packing': 4, 'jack': 4, 'pattern': 4, 'fault': 4, 'tolerant': 4, 'programmes': 4, 'official': 4, 'views': 4, 'rates': 4, 'sponsored': 4, 'hungry': 4, 'utility': 4, 'resolutions': 4, 'survey': 4, 'authoring': 4, 'intuitive': 4, 'sir': 4, 'usable': 4, 'mathematics': 4, 'regarded': 4, 'formats': 4, 'athletes': 4, 'consume': 4, 'parents': 4, 'invite': 4, 'receipt': 4, 'needing': 4, 'algorithms': 4, 'linear': 4, 'clientele': 4, 'performers': 4, 'undergoing': 4, 'segment': 4, 'mixers': 4, 'transit': 4, 'yrs': 4, 'researched': 4, 'links': 4, 'sounds': 4, 'counsel': 4, 'upkeep': 4, 'diligence': 4, 'deeply': 4, 'article': 4, 'intuition': 4, 'organise': 4, 'excess': 4, 'coupled': 4, 'uncapped': 4, 'hunger': 4, 'generous': 4, 'caregivers': 4, 'tracing': 4, 'personas': 4, 'snacks': 4, 'tracks': 4, 'colombia': 4, 'indonesia': 4, 'samples': 4, 'intended': 4, 'exists': 4, 'consultancy': 4, 'prestigious': 4, 'bidding': 4, 'patches': 4, 'routinely': 4, 'enjoys': 4, 'greek': 4, 'pathologists': 4, 'milestone': 4, 'mental': 4, 'chinese': 4, 'ride': 4, 'mechanism': 4, 'deposit': 4, 'inspecting': 4, 'horizontal': 4, 'fulfilled': 4, 'commodity': 4, 'household': 4, 'appearance': 4, 'interprets': 4, 'calgary': 4, 'drives': 4, 'sun': 4, 'rental': 4, 'tracked': 4, 'carrier': 4, 'powered': 4, 'dry': 4, 'milling': 4, 'clustering': 4, 'collaborates': 4, 'replacement': 4, 'deposits': 4, 'deficiencies': 4, 'exhibiting': 4, 'welcoming': 4, 'ddc': 4, 'clinics': 4, 'clarity': 4, 'impacts': 4, 'unified': 4, 'ecc': 4, 'assessing': 4, 'turnover': 4, 'feeding': 4, 'categories': 4, 'alternate': 4, 'shot': 4, 'brainstorming': 4, 'standing': 4, 'fundamental': 4, 'utilizes': 4, 'concurrent': 4, 'plays': 4, 'exceptions': 4, 'strict': 4, 'albany': 4, 'teachers': 4, 'notch': 4, 'daniels': 4, 'backlog': 4, 'weekday': 4, 'clearing': 4, 'mapping': 4, 'spot': 4, 'worthiness': 4, 'reimbursement': 4, 'migration': 4, 'accessing': 4, 'containers': 4, 'export': 4, 'sampling': 4, 'counter': 4, 'defect': 4, 'simplicity': 4, 'correctness': 4, 'surrounding': 4, 'relational': 4, 'crystal': 4, 'moderate': 4, 'bit': 4, 'preservation': 4, 'authorised': 4, 'miscellaneous': 4, 'aberdeen': 4, 'occurrences': 4, 'fossil': 4, 'nuclear': 4, 'megawatts': 4, 'adjustment': 4, 'transformers': 4, 'signal': 4, 'batteries': 4, 'volts': 4, 'dcs': 4, 'vi': 4, 'turbine': 4, 'encounters': 4, 'variations': 4, 'norm': 4, 'ratio': 4, 'cognitive': 4, 'accountabilities': 4, 'listen': 4, 'grand': 4, 'devoted': 4, 'intends': 4, 'cafe': 4, 'calibrates': 4, 'excitation': 4, 'emission': 4, 'sketches': 4, 'requisitions': 4, 'eliminate': 4, 'schemes': 4, 'sip': 4, 'locating': 4, 'allen': 4, 'enters': 4, 'customise': 4, 'nec': 4, 'focussed': 4, 'disposition': 4, 'authorisation': 4, 'caused': 4, 'omissions': 4, 'intentionally': 4, 'misusing': 4, 'recklessly': 4, 'interfering': 4, 'equality': 4, 'dispose': 4, 'standardization': 4, 'algorithmic': 4, 'sw': 4, 'gate': 4, 'feed': 4, 'immune': 4, 'peripheral': 4, 'theme': 4, 'surf': 4, 'utilities': 4, 'gatekeeper': 4, 'presidents': 4, 'costing': 4, 'reputable': 4, 'logbook': 4, 'diagnosing': 4, 'fires': 4, 'processor': 4, 'switchboard': 4, 'matches': 4, 'sustain': 4, 'expressed': 4, 'briefings': 4, 'outlet': 4, 'sas': 4, 'dallas': 4, 'softening': 4, 'oilfield': 4, 'readings': 4, 'vapor': 4, 'wisconsin': 4, 'margin': 4, 'esp': 4, 'unpleasant': 4, 'temperature': 4, 'extremes': 4, 'incomplete': 4, 'recover': 3, 'medications': 3, 'urine': 3, 'aiding': 3, 'submits': 3, 'investigating': 3, 'upload': 3, 'needle': 3, 'appreciation': 3, 'inspires': 3, 'deeper': 3, 'uncommon': 3, 'volatile': 3, 'ramp': 3, 'hampton': 3, 'complement': 3, 'jet': 3, 'thoughts': 3, 'loop': 3, 'superstar': 3, 'encompass': 3, 'handing': 3, 'contracted': 3, 'staffed': 3, 'manpower': 3, 'maximization': 3, 'floating': 3, 'azure': 3, 'precisely': 3, 'uploading': 3, 'photos': 3, 'instances': 3, 'precise': 3, 'reactive': 3, 'connects': 3, 'contributions': 3, 'factories': 3, 'trainings': 3, 'billings': 3, 'intake': 3, 'ships': 3, 'museum': 3, 'rights': 3, 'unix': 3, 'touchstone': 3, 'traits': 3, 'dashboard': 3, 'remains': 3, 'abreast': 3, 'competitors': 3, 'scanned': 3, 'longer': 3, 'harness': 3, 'inspired': 3, 'enlighten': 3, 'grab': 3, 'daytime': 3, 'roughly': 3, 'volunteer': 3, 'proving': 3, 'demo': 3, 'incorporated': 3, 'balanced': 3, 'induction': 3, 'pioneered': 3, 'unprecedented': 3, 'bookings': 3, 'credentials': 3, 'headed': 3, 'valuing': 3, 'module': 3, 'static': 3, 'dec': 3, 'rehabilitation': 3, 'arises': 3, 'helpdesk': 3, 'malfunctions': 3, 'visionary': 3, 'cooperate': 3, 'modelling': 3, 'electricians': 3, 'conduit': 3, 'clips': 3, 'tied': 3, 'carbon': 3, 'continuity': 3, 'neat': 3, 'arrange': 3, 'body': 3, 'guru': 3, 'casper': 3, 'sleep': 3, 'fridge': 3, 'loaded': 3, 'transaction': 3, 'midwest': 3, 'creatively': 3, 'half': 3, 'fail': 3, 'unmanned': 3, 'aerial': 3, 'composite': 3, 'swift': 3, 'remarkable': 3, 'rhythm': 3, 'stomach': 3, 'keynote': 3, 'dull': 3, 'ago': 3, 'functioning': 3, 'tallinn': 3, 'extends': 3, 'extensions': 3, 'plano': 3, 'courier': 3, 'jaguar': 3, 'land': 3, 'rigor': 3, 'thinkers': 3, 'advantages': 3, 'allowance': 3, 'stocking': 3, 'signs': 3, 'produces': 3, 'searches': 3, 'unparalleled': 3, 'diagnostics': 3, 'imaging': 3, 'jacksonville': 3, 'florida': 3, 'compassionate': 3, 'positively': 3, 'protocol': 3, 'literally': 3, 'renowned': 3, 'donor': 3, 'delhi': 3, 'facets': 3, 'tutor': 3, 'cultivating': 3, 'distributed': 3, 'delightful': 3, 'closers': 3, 'speedy': 3, 'officers': 3, 'attorneys': 3, 'qualities': 3, 'realtor': 3, 'cfc': 3, 'partnered': 3, 'jargon': 3, 'mixed': 3, 'incorporating': 3, 'alternatives': 3, 'draft': 3, 'vast': 3, 'consumption': 3, 'revolutionising': 3, 'guardian': 3, 'pivotal': 3, 'organising': 3, 'restrooms': 3, 'sinks': 3, 'fixtures': 3, 'mops': 3, 'cleaners': 3, 'walls': 3, 'panels': 3, 'kitchenettes': 3, 'specialising': 3, 'fits': 3, 'nhs': 3, 'abdominal': 3, 'construct': 3, 'interpreting': 3, 'empowering': 3, 'nonprofit': 3, 'functionally': 3, 'folders': 3, 'slots': 3, 'variable': 3, 'measured': 3, 'optimising': 3, 'economy': 3, 'granted': 3, 'russian': 3, 'trustworthy': 3, 'police': 3, 'citizen': 3, 'designations': 3, 'advisory': 3, 'writes': 3, 'fundamentally': 3, 'fleet': 3, 'crucial': 3, 'filled': 3, 'modernization': 3, 'satisfy': 3, 'ethos': 3, 'yacht': 3, 'copywriters': 3, 'intercom': 3, 'yahoo': 3, 'uniquely': 3, 'breathe': 3, 'tomorrow': 3, 'beckons': 3, 'alike': 3, 'pursuing': 3, 'magazine': 3, 'rent': 3, 'modernise': 3, 'disrupted': 3, 'pool': 3, 'freelancers': 3, 'telling': 3, 'delegated': 3, 'protective': 3, 'observation': 3, 'assisted': 3, 'dozen': 3, 'gun': 3, 'ky': 3, 'biotech': 3, 'molecular': 3, 'detection': 3, 'employs': 3, 'prioritizes': 3, 'battery': 3, 'math': 3, 'coo': 3, 'decks': 3, 'utilise': 3, 'receives': 3, 'exceptionally': 3, 'transformation': 3, 'failure': 3, 'accessibility': 3, 'mechanisms': 3, 'franchises': 3, 'sister': 3, 'distinctively': 3, 'invested': 3, 'possessing': 3, 'environmentally': 3, 'dice': 3, 'rising': 3, 'inspirational': 3, 'stars': 3, 'profitably': 3, 'grants': 3, 'honored': 3, 'optimistic': 3, 'solves': 3, 'canvas': 3, 'warner': 3, 'thriving': 3, 'allied': 3, 'specialize': 3, 'injury': 3, 'toolbox': 3, 'behavioral': 3, 'negative': 3, 'conversions': 3, 'exit': 3, 'population': 3, 'japanese': 3, 'signed': 3, 'calendars': 3, 'preliminary': 3, 'postings': 3, 'chucking': 3, 'humour': 3, 'balances': 3, 'brochures': 3, 'shoots': 3, 'advertisements': 3, 'exhibits': 3, 'fruits': 3, 'pallet': 3, 'integrating': 3, 'belt': 3, 'studying': 3, 'agenda': 3, 'publication': 3, 'campus': 3, 'likes': 3, 'editors': 3, 'tone': 3, 'streamline': 3, 'intelligently': 3, 'displaying': 3, 'appealing': 3, 'hayes': 3, 'affairs': 3, 'seta': 3, 'ultimate': 3, 'reinforce': 3, 'distinctive': 3, 'june': 3, 'putting': 3, 'hosted': 3, 'neighborhood': 3, 'exemplary': 3, 'mac': 3, 'analytic': 3, 'acquainted': 3, 'centred': 3, 'radio': 3, 'feeds': 3, 'called': 3, 'sports': 3, 'highlight': 3, 'basics': 3, 'severe': 3, 'trainee': 3, 'invaluable': 3, 'publisher': 3, 'headquartered': 3, 'stimulating': 3, 'computing': 3, 'domains': 3, 'enquires': 3, 'promise': 3, 'finest': 3, 'possibilities': 3, 'animations': 3, 'fort': 3, 'embed': 3, 'litigation': 3, 'mixer': 3, 'copyediting': 3, 'southern': 3, 'trades': 3, 'turning': 3, 'releasing': 3, 'scales': 3, 'regulation': 3, 'buyers': 3, 'sweeping': 3, 'dusting': 3, 'stocked': 3, 'owns': 3, 'opinions': 3, 'attracting': 3, 'retaining': 3, 'frequency': 3, 'hired': 3, 'succession': 3, 'retrieve': 3, 'queue': 3, 'summer': 3, 'quantity': 3, 'settlements': 3, 'modular': 3, 'recognised': 3, 'men': 3, 'qualifying': 3, 'blue': 3, 'locate': 3, 'skip': 3, 'adhered': 3, 'eligible': 3, 'preferences': 3, 'listing': 3, 'holds': 3, 'strategists': 3, 'navigation': 3, 'band': 3, 'producers': 3, 'computerized': 3, 'easier': 3, 'worlds': 3, 'testers': 3, 'mongo': 3, 'ambitions': 3, 'exceeding': 3, 'residents': 3, 'ages': 3, 'norms': 3, 'achievement': 3, 'projected': 3, 'crisis': 3, 'pure': 3, 'praxis': 3, 'exchanges': 3, 'tough': 3, 'trips': 3, 'presently': 3, 'cut': 3, 'steady': 3, 'historic': 3, 'deserve': 3, 'netherlands': 3, 'ministry': 3, 'kenya': 3, 'delays': 3, 'backups': 3, 'aiming': 3, 'birth': 3, 'standardized': 3, 'definite': 3, 'relocation': 3, 'heads': 3, 'convenient': 3, 'accommodations': 3, 'genetic': 3, 'clothing': 3, 'surveys': 3, 'fosters': 3, 'gathers': 3, 'scripting': 3, 'productions': 3, 'enquiry': 3, 'embraces': 3, 'ecosystem': 3, 'trend': 3, 'dock': 3, 'appraisals': 3, 'delay': 3, 'reserves': 3, 'scientists': 3, 'tons': 3, 'scientist': 3, 'heating': 3, 'plated': 3, 'portals': 3, 'tenants': 3, 'exterior': 3, 'flooring': 3, 'roofing': 3, 'gained': 3, 'amounts': 3, 'displays': 3, 'edd': 3, 'indianapolis': 3, 'provisioning': 3, 'impacting': 3, 'whisk': 3, 'convert': 3, 'eve': 3, 'diesel': 3, 'filed': 3, 'illustrations': 3, 'foremost': 3, 'tags': 3, 'movie': 3, 'hope': 3, 'dubuque': 3, 'iowa': 3, 'shipment': 3, 'dublin': 3, 'slow': 3, 'complying': 3, 'prioritized': 3, 'wear': 3, 'outings': 3, 'divided': 3, 'behaviors': 3, 'morale': 3, 'sow': 3, 'ape': 3, 'spent': 3, 'leisure': 3, 'smaller': 3, 'programmers': 3, 'adapters': 3, 'pet': 3, 'eligibility': 3, 'helsinki': 3, 'template': 3, 'calibre': 3, 'niche': 3, 'undertaking': 3, 'weights': 3, 'society': 3, 'commercialization': 3, 'sustainment': 3, 'backbone': 3, 'dba': 3, 'disorders': 3, 'bilingual': 3, 'charity': 3, 'socially': 3, 'volunteers': 3, 'thailand': 3, 'aba': 3, 'filter': 3, 'bath': 3, 'captivating': 3, 'confidently': 3, 'comfortably': 3, 'objections': 3, 'explaining': 3, 'challenged': 3, 'comments': 3, 'bw': 3, 'inn': 3, 'refunds': 3, 'legacy': 3, 'credibility': 3, 'directory': 3, 'remarkably': 3, 'restored': 3, 'left': 3, 'evenings': 3, 'enhanced': 3, 'greets': 3, 'sweet': 3, 'wood': 3, 'fighting': 3, 'sage': 3, 'acknowledgements': 3, 'unwanted': 3, 'locally': 3, 'appeal': 3, 'eugene': 3, 'progressed': 3, 'affiliate': 3, 'optimise': 3, 'transcribe': 3, 'misses': 3, 'fearlessly': 3, 'fda': 3, 'moderating': 3, 'delegating': 3, 'notifying': 3, 'emergencies': 3, 'unexpected': 3, 'terminals': 3, 'enlistment': 3, 'waiter': 3, 'sous': 3, 'waitress': 3, 'closeout': 3, 'enforcement': 3, 'ordinances': 3, 'anticipating': 3, 'insert': 3, 'defense': 3, 'composites': 3, 'plastics': 3, 'mixture': 3, 'accomplishments': 3, 'suitably': 3, 'flood': 3, 'shortages': 3, 'yield': 3, 'siemens': 3, 'pneumatics': 3, 'hydraulics': 3, 'calibrate': 3, 'returns': 3, 'parking': 3, 'graphite': 3, 'trials': 3, 'boost': 3, 'culinary': 3, 'applicability': 3, 'metal': 3, 'chats': 3, 'rings': 3, 'harsh': 3, 'grade': 3, 'subcontracts': 3, 'jointly': 3, 'sls': 3, 'remained': 3, 'subcontract': 3, 'variation': 3, 'overlook': 3, 'permissions': 3, 'tendering': 3, 'cpi': 3, 'aided': 3, 'differentiates': 3, 'slicks': 3, 'translators': 3, 'ticket': 3, 'compressors': 3, 'finalize': 3, 'superintendent': 3, 'damages': 3, 'observe': 3, 'valid': 3, 'paired': 3, 'suited': 3, 'contingent': 3, 'unmatched': 3, 'tune': 3, 'undeniably': 3, 'hesitate': 3, 'counselor': 3, 'dignity': 3, 'abandonment': 3, 'rosters': 3, 'registrants': 3, 'kv': 3, 'umbilical': 3, 'riser': 3, 'accomplishment': 3, 'lounge': 3, 'observing': 3, 'obey': 3, 'determination': 3, 'earns': 3, 'lubrication': 3, 'trainees': 3, 'singular': 3, 'cashier': 3, 'bartender': 3, 'concierge': 3, 'instructed': 3, 'copying': 3, 'validity': 3, 'honesty': 3, 'commodities': 3, 'mba': 3, 'insuring': 3, 'electrician': 3, 'lighting': 3, 'practitioners': 3, 'laser': 3, 'false': 3, 'attained': 3, 'expediting': 3, 'discrepancy': 3, 'resins': 3, 'shapes': 3, 'electrodes': 3, 'protects': 3, 'ash': 3, 'piston': 3, 'ssas': 3, 'cabling': 3, 'barracuda': 3, 'zealand': 2, 'evening': 2, 'watering': 2, 'affordable': 2, 'outpatient': 2, 'dependence': 2, 'doctors': 2, 'dosing': 2, 'impairment': 2, 'bottle': 2, 'methadone': 2, 'recommended': 2, 'staying': 2, 'referring': 2, 'societies': 2, 'relevance': 2, 'appoint': 2, 'puts': 2, 'meant': 2, 'fed': 2, 'typography': 2, 'institute': 2, 'hybrid': 2, 'carpets': 2, 'aspire': 2, 'ubiquitous': 2, 'node': 2, 'heights': 2, 'harder': 2, 'viewing': 2, 'agendas': 2, 'noting': 2, 'dictation': 2, 'routing': 2, 'pleased': 2, 'criterion': 2, 'thermal': 2, 'attire': 2, 'cones': 2, 'caution': 2, 'wearing': 2, 'damaging': 2, 'stocker': 2, 'boom': 2, 'physically': 2, 'irregularities': 2, 'cod': 2, 'forefront': 2, 'attribute': 2, 'certificates': 2, 'expiration': 2, 'soap': 2, 'distinct': 2, 'embody': 2, 'metric': 2, 'grounded': 2, 'password': 2, 'privacy': 2, 'compatibility': 2, 'comparison': 2, 'registration': 2, 'notice': 2, 'encouraging': 2, 'bridging': 2, 'intricacies': 2, 'technologists': 2, 'portland': 2, 'chores': 2, 'satisfied': 2, 'planners': 2, 'curiosity': 2, 'adaptation': 2, 'tricks': 2, 'armed': 2, 'affiliated': 2, 'disciplining': 2, 'appraising': 2, 'pms': 2, 'publically': 2, 'acclaimed': 2, 'resourcefulness': 2, 'reit': 2, 'macroeconomic': 2, 'sprint': 2, 'branded': 2, 'changer': 2, 'bad': 2, 'weighing': 2, 'cisco': 2, 'restoration': 2, 'lbs': 2, 'vancouver': 2, 'entails': 2, 'apple': 2, 'workstation': 2, 'hits': 2, 'nurturing': 2, 'brussels': 2, 'administrators': 2, 'cummings': 2, 'contracting': 2, 'upper': 2, 'confirmation': 2, 'staples': 2, 'reporter': 2, 'imperatives': 2, 'knack': 2, 'exclusively': 2, 'hollywood': 2, 'rounder': 2, 'mattress': 2, 'april': 2, 'ranking': 2, 'catered': 2, 'transmission': 2, 'limitations': 2, 'pharmacy': 2, 'practitioner': 2, 'southeast': 2, 'mile': 2, 'collected': 2, 'enterprises': 2, 'airframe': 2, 'ear': 2, 'mesmerized': 2, 'soaring': 2, 'fidgeted': 2, 'wondered': 2, 'wing': 2, 'insider': 2, 'profession': 2, 'spring': 2, 'percent': 2, 'charged': 2, 'incubator': 2, 'deciding': 2, 'corporations': 2, 'yammer': 2, 'prominent': 2, 'tiger': 2, 'deviation': 2, 'shoot': 2, 'breaks': 2, 'rover': 2, 'fostering': 2, 'dealers': 2, 'anniversary': 2, 'effects': 2, 'classroom': 2, 'dinner': 2, 'consolidating': 2, 'mexico': 2, 'choosing': 2, 'passenger': 2, 'sketching': 2, 'mention': 2, 'appeals': 2, 'acute': 2, 'illnesses': 2, 'injuries': 2, 'blood': 2, 'attentive': 2, 'stabilization': 2, 'diagnosis': 2, 'prescriptions': 2, 'empathetic': 2, 'ray': 2, 'philadelphia': 2, 'shoulder': 2, 'behaviour': 2, 'donors': 2, 'mobilization': 2, 'adept': 2, 'inr': 2, 'annum': 2, 'sensibility': 2, 'tutors': 2, 'multiply': 2, 'disruption': 2, 'multiplier': 2, 'pays': 2, 'irrepressible': 2, 'orchestrated': 2, 'incorporates': 2, 'facet': 2, 'lender': 2, 'disburse': 2, 'sanchez': 2, 'laid': 2, 'logistical': 2, 'sustained': 2, 'revising': 2, 'expose': 2, 'completeness': 2, 'covenant': 2, 'brewing': 2, 'themes': 2, 'countertops': 2, 'toilets': 2, 'mirrors': 2, 'polish': 2, 'metalwork': 2, 'vacuum': 2, 'chairs': 2, 'transports': 2, 'washes': 2, 'woodwork': 2, 'session': 2, 'vascular': 2, 'undertaken': 2, 'complaint': 2, 'gd': 2, 'browsers': 2, 'elicit': 2, 'hygiene': 2, 'dressing': 2, 'nederland': 2, 'appropriations': 2, 'enabled': 2, 'tiered': 2, 'quarter': 2, 'averaging': 2, 'waco': 2, 'persuasion': 2, 'orientated': 2, 'unpaid': 2, 'revolutionary': 2, 'envision': 2, 'dirty': 2, 'chops': 2, 'cultivation': 2, 'annuity': 2, 'trainers': 2, 'dividends': 2, 'consecutive': 2, 'questionnaire': 2, 'integrator': 2, 'rocket': 2, 'pickups': 2, 'miami': 2, 'grid': 2, 'untapped': 2, 'derive': 2, 'convince': 2, 'centralized': 2, 'stake': 2, 'scrappy': 2, 'handbook': 2, 'fives': 2, 'nice': 2, 'juggle': 2, 'fabulous': 2, 'lights': 2, 'parametric': 2, 'answered': 2, 'calif': 2, 'attribution': 2, 'activation': 2, 'superstars': 2, 'stuck': 2, 'rut': 2, 'tension': 2, 'pleasure': 2, 'customize': 2, 'chaos': 2, 'hubs': 2, 'boredom': 2, 'bucharest': 2, 'launcher': 2, 'wired': 2, 'destinations': 2, 'turkish': 2, 'groundbreaking': 2, 'draw': 2, 'hidden': 2, 'guarantees': 2, 'overcome': 2, 'awards': 2, 'breakthrough': 2, 'insightful': 2, 'atlas': 2, 'lifts': 2, 'turns': 2, 'charismatic': 2, 'automatic': 2, 'sockets': 2, 'versatile': 2, 'lausanne': 2, 'entrepreneur': 2, 'reaches': 2, 'opinion': 2, 'transferring': 2, 'mitigating': 2, 'mediates': 2, 'arising': 2, 'calculator': 2, 'boston': 2, 'advising': 2, 'outward': 2, 'panel': 2, 'hunter': 2, 'customized': 2, 'gaap': 2, 'compromising': 2, 'stationary': 2, 'reviewer': 2, 'turnaround': 2, 'actors': 2, 'accelerate': 2, 'identifiers': 2, 'dramatically': 2, 'dealerships': 2, 'adaptations': 2, 'pack': 2, 'punch': 2, 'prestige': 2, 'brimming': 2, 'suits': 2, 'dreams': 2, 'lifetime': 2, 'logos': 2, 'serial': 2, 'prevented': 2, 'universal': 2, 'hershey': 2, 'clorox': 2, 'arrogance': 2, 'tenaciously': 2, 'compromise': 2, 'genuinely': 2, 'expands': 2, 'ranges': 2, 'formulation': 2, 'adopt': 2, 'distributor': 2, 'simultaneously': 2, 'terminations': 2, 'verifications': 2, 'increases': 2, 'orientations': 2, 'posters': 2, 'occurs': 2, 'covers': 2, 'shirts': 2, 'portage': 2, 'mock': 2, 'gen': 2, 'solved': 2, 'holders': 2, 'hunting': 2, 'artist': 2, 'diplomacy': 2, 'fans': 2, 'kiwi': 2, 'shaking': 2, 'ordinary': 2, 'earlier': 2, 'finishing': 2, 'multimedia': 2, 'photography': 2, 'bias': 2, 'imaginative': 2, 'upholding': 2, 'journalism': 2, 'expanded': 2, 'tens': 2, 'jive': 2, 'naming': 2, 'deck': 2, 'newsletter': 2, 'spoken': 2, 'capitalizing': 2, 'trenches': 2, 'revise': 2, 'learnings': 2, 'monetization': 2, 'deaf': 2, 'rooted': 2, 'statuses': 2, 'holistic': 2, 'shares': 2, 'trending': 2, 'icons': 2, 'grunt': 2, 'sind': 2, 'mit': 2, 'biological': 2, 'grooming': 2, 'lengths': 2, 'tertiary': 2, 'merchandiser': 2, 'definitions': 2, 'reliably': 2, 'retained': 2, 'neighbor': 2, 'limitless': 2, 'noises': 2, 'relaxed': 2, 'caffeine': 2, 'prioritising': 2, 'conceptualize': 2, 'economics': 2, 'film': 2, 'ink': 2, 'notices': 2, 'doc': 2, 'rough': 2, 'builder': 2, 'styles': 2, 'approaching': 2, 'conventional': 2, 'perspectives': 2, 'louis': 2, 'intimidated': 2, 'bloggers': 2, 'formulate': 2, 'skids': 2, 'minneapolis': 2, 'consensus': 2, 'illustrate': 2, 'crusty': 2, 'diving': 2, 'advances': 2, 'robustness': 2, 'setups': 2, 'baked': 2, 'bagels': 2, 'muffins': 2, 'aspirations': 2, 'stanford': 2, 'numerically': 2, 'refinement': 2, 'utilising': 2, 'proposing': 2, 'guard': 2, 'stored': 2, 'configuring': 2, 'script': 2, 'bachelors': 2, 'crane': 2, 'multicultural': 2, 'organisations': 2, 'fin': 2, 'flexibly': 2, 'fundraising': 2, 'cleaned': 2, 'trajectory': 2, 'fancy': 2, 'instrumental': 2, 'relocating': 2, 'counters': 2, 'jams': 2, 'proofread': 2, 'portions': 2, 'extending': 2, 'zend': 2, 'artificial': 2, 'outsource': 2, 'entity': 2, 'september': 2, 'ccc': 2, 'arisen': 2, 'scorecard': 2, 'promises': 2, 'financier': 2, 'embrace': 2, 'learned': 2, 'maximising': 2, 'strictly': 2, 'buoyant': 2, 'reap': 2, 'voluntary': 2, 'cell': 2, 'bespoke': 2, 'customised': 2, 'modelers': 2, 'underlying': 2, 'eagerness': 2, 'fair': 2, 'differential': 2, 'brokerage': 2, 'metro': 2, 'auckland': 2, 'inductive': 2, 'exponential': 2, 'mass': 2, 'enrich': 2, 'lifelong': 2, 'desires': 2, 'participatory': 2, 'iterative': 2, 'relentless': 2, 'grew': 2, 'tire': 2, 'tactful': 2, 'gatherings': 2, 'movies': 2, 'melbourne': 2, 'toronto': 2, 'arrived': 2, 'kicking': 2, 'exist': 2, 'aligns': 2, 'adjusts': 2, 'cultivates': 2, 'drink': 2, 'eat': 2, 'red': 2, 'penchant': 2, 'connectors': 2, 'crawling': 2, 'scrapping': 2, 'columnar': 2, 'adaptable': 2, 'revolutionize': 2, 'nursing': 2, 'centra': 2, 'manufactures': 2, 'cares': 2, 'humanity': 2, 'poverty': 2, 'jakarta': 2, 'binding': 2, 'conflict': 2, 'educates': 2, 'mindful': 2, 'laboratory': 2, 'improves': 2, 'creator': 2, 'bristol': 2, 'places': 2, 'commute': 2, 'endless': 2, 'gulf': 2, 'sheraton': 2, 'austria': 2, 'ukraine': 2, 'ukrainian': 2, 'feels': 2, 'thrice': 2, 'envisioning': 2, 'wellness': 2, 'treatments': 2, 'parent': 2, 'caregiver': 2, 'pretty': 2, 'strange': 2, 'ethics': 2, 'loyal': 2, 'rollerblading': 2, 'snowboarding': 2, 'bulgaria': 2, 'hungary': 2, 'hawaii': 2, 'responders': 2, 'tripod': 2, 'topping': 2, 'spread': 2, 'podcasts': 2, 'worry': 2, 'mastered': 2, 'fashioned': 2, 'pregnancy': 2, 'artwork': 2, 'expression': 2, 'purchaser': 2, 'deb': 2, 'aimed': 2, 'vitality': 2, 'clever': 2, 'acreage': 2, 'compare': 2, 'macro': 2, 'season': 2, 'retrieving': 2, 'emailing': 2, 'digging': 2, 'uncover': 2, 'wall': 2, 'accelerator': 2, 'disseminate': 2, 'french': 2, 'reads': 2, 'unresolved': 2, 'introduce': 2, 'letting': 2, 'flagship': 2, 'winnipeg': 2, 'bus': 2, 'disorganized': 2, 'outdoor': 2, 'avid': 2, 'foreign': 2, 'expansive': 2, 'rating': 2, 'courtesy': 2, 'timings': 2, 'till': 2, 'hill': 2, 'sat': 2, 'poland': 2, 'brainstorm': 2, 'mountain': 2, 'initiated': 2, 'adjust': 2, 'inquisitive': 2, 'clinton': 2, 'birmingham': 2, 'ireland': 2, 'eec': 2, 'taste': 2, 'bright': 2, 'intensively': 2, 'doctor': 2, 'settling': 2, 'returned': 2, 'acknowledge': 2, 'relentlessly': 2, 'mercer': 2, 'habits': 2, 'processors': 2, 'houses': 2, 'rendering': 2, 'chosen': 2, 'fraudulent': 2, 'siding': 2, 'branches': 2, 'thomas': 2, 'stands': 2, 'blowing': 2, 'winner': 2, 'booming': 2, 'secretarial': 2, 'yorkshire': 2, 'forecasted': 2, 'orange': 2, 'pong': 2, 'exhibitions': 2, 'debugging': 2, 'workflows': 2, 'admired': 2, 'unify': 2, 'cowes': 2, 'tablets': 2, 'bold': 2, 'valley': 2, 'oman': 2, 'remind': 2, 'buys': 2, 'deployed': 2, 'graduating': 2, 'consolidate': 2, 'purr': 2, 'animal': 2, 'animals': 2, 'finland': 2, 'dedicate': 2, 'doubling': 2, 'bds': 2, 'interviewed': 2, 'imagination': 2, 'inspector': 2, 'replace': 2, 'spark': 2, 'appetite': 2, 'specialise': 2, 'hackers': 2, 'puppet': 2, 'ample': 2, 'apprenticeships': 2, 'assessors': 2, 'probation': 2, 'vocational': 2, 'substance': 2, 'utilized': 2, 'governmental': 2, 'polished': 2, 'hills': 2, 'pillars': 2, 'coolest': 2, 'extension': 2, 'variability': 2, 'lookout': 2, 'funny': 2, 'investigates': 2, 'taught': 2, 'teaches': 2, 'compiles': 2, 'color': 2, 'mistakes': 2, 'salt': 2, 'pint': 2, 'meal': 2, 'stockholm': 2, 'gambling': 2, 'spartan': 2, 'adjusted': 2, 'talked': 2, 'accrual': 2, 'secretary': 2, 'roman': 2, 'pagination': 2, 'widow': 2, 'orphan': 2, 'serif': 2, 'shale': 2, 'completions': 2, 'exam': 2, 'logged': 2, 'flaws': 2, 'assumptions': 2, 'executions': 2, 'hilarious': 2, 'journeys': 2, 'pitching': 2, 'valued': 2, 'opera': 2, 'escalating': 2, 'iconography': 2, 'teller': 2, 'disaster': 2, 'frictionless': 2, 'dogged': 2, 'relic': 2, 'colleague': 2, 'communicative': 2, 'lieu': 2, 'lading': 2, 'labeling': 2, 'container': 2, 'manifest': 2, 'approve': 2, 'estimated': 2, 'conforming': 2, 'overflow': 2, 'contingency': 2, 'springfield': 2, 'picky': 2, 'gms': 2, 'disclosure': 2, 'navigate': 2, 'upgrading': 2, 'vietnam': 2, 'striving': 2, 'fiction': 2, 'textbooks': 2, 'trees': 2, 'detroit': 2, 'quote': 2, 'differences': 2, 'savannah': 2, 'reaching': 2, 'wedding': 2, 'statutes': 2, 'competing': 2, 'included': 2, 'contemporary': 2, 'petty': 2, 'preference': 2, 'emissions': 2, 'gender': 2, 'veteran': 2, 'comparisons': 2, 'bureau': 2, 'considerable': 2, 'experiential': 2, 'retrieval': 2, 'psi': 2, 'diversified': 2, 'discussion': 2, 'falls': 2, 'recurrence': 2, 'interdepartmental': 2, 'ams': 2, 'attitudes': 2, 'disseminated': 2, 'alerts': 2, 'lateral': 2, 'behavioural': 2, 'practicable': 2, 'dangerous': 2, 'inductions': 2, 'reductions': 2, 'systematic': 2, 'nova': 2, 'crew': 2, 'keeper': 2, 'pastry': 2, 'australian': 2, 'taxation': 2, 'anticipates': 2, 'des': 2, 'optics': 2, 'exploitation': 2, 'sizing': 2, 'ordination': 2, 'makeup': 2, 'photocopying': 2, 'composing': 2, 'nascent': 2, 'volatility': 2, 'amplifies': 2, 'dive': 2, 'avoiding': 2, 'pitfalls': 2, 'concern': 2, 'beds': 2, 'replicate': 2, 'badges': 2, 'satisfies': 2, 'stressful': 2, 'mums': 2, 'tuition': 2, 'narratives': 2, 'arm': 2, 'subcontractor': 2, 'robotics': 2, 'sensors': 2, 'bradley': 2, 'reacts': 2, 'etiquette': 2, 'cottonwood': 2, 'obstacles': 2, 'yorktown': 2, 'controllable': 2, 'finalise': 2, 'assortment': 2, 'drinks': 2, 'coffees': 2, 'teas': 2, 'races': 2, 'kayaking': 2, 'sporting': 2, 'firsthand': 2, 'reply': 2, 'receptive': 2, 'belongings': 2, 'liability': 2, 'tellus': 2, 'ante': 2, 'classical': 2, 'buckling': 2, 'shear': 2, 'bearing': 2, 'enlisted': 2, 'formalised': 2, 'bending': 2, 'refrain': 2, 'rectify': 2, 'circuit': 2, 'conformance': 2, 'halt': 2, 'hass': 2, 'ess': 2, 'algorithm': 2, 'refurbishment': 2, 'strip': 2, 'newcastle': 2, 'utilises': 2, 'johns': 2, 'tolerances': 2, 'inspects': 2, 'assembles': 2, 'flush': 2, 'flushed': 2, 'inspectors': 2, 'stamping': 2, 'etching': 2, 'marks': 2, 'wishes': 2, 'banqueting': 2, 'dishes': 2, 'intercontinental': 2, 'shipyard': 2, 'upstream': 2, 'accredited': 2, 'separators': 2, 'heaters': 2, 'exchangers': 2, 'columns': 2, 'superintendents': 2, 'conforms': 2, 'foreman': 2, 'unloaded': 2, 'reviewed': 2, 'networked': 2, 'captured': 2, 'procures': 2, 'passports': 2, 'clearances': 2, 'topsides': 2, 'competence': 2, 'uncertainties': 2, 'satisfactory': 2, 'conformities': 2, 'decompose': 2, 'fcc': 2, 'dispensing': 2, 'sapphire': 2, 'tank': 2, 'gauging': 2, 'salaried': 2, 'oslo': 2, 'stress': 2, 'minnesota': 2, 'openly': 2, 'sustaining': 2, 'procure': 2, 'ports': 2, 'fab': 2, 'classifying': 2, 'auctions': 2, 'terabytes': 2, 'extract': 2, 'terabyte': 2, 'courteously': 2, 'aspiration': 2, 'faults': 2, 'dampers': 2, 'switching': 2, 'circuits': 2, 'abnormal': 2, 'calmly': 2, 'indicating': 2, 'mechanic': 2, 'scheduler': 2, 'nominate': 2, 'isolation': 2, 'lock': 2, 'excavations': 2, 'barricaded': 2, 'notations': 2, 'breakdown': 2, 'disassemble': 2, 'reassemble': 2, 'disconnect': 2, 'thread': 2, 'conduits': 2, 'tubing': 2, 'brushes': 2, 'phasing': 2, 'terminates': 2, 'dispense': 2, 'substances': 2, 'accumulation': 2, 'extinguishers': 2, 'instruct': 2, 'refuse': 2, 'wiping': 2, 'hosing': 2, 'gateways': 2, 'walked': 2, 'disappointed': 2, 'molecule': 2, 'someday': 2, 'warren': 2, 'prerequisite': 2, 'telephones': 2, 'warmly': 2, 'permitting': 2, 'accustomed': 2, 'viable': 2, 'extensible': 2, 'undergo': 2, 'isms': 2, 'restrictions': 2, 'mbs': 2, 'quotation': 2, 'housekeeper': 2, 'allowances': 2, 'authorizing': 2, 'chargeable': 2, 'estimators': 2, 'occupying': 2, 'warranty': 2, 'credits': 2, 'actuarial': 2, 'partially': 2, 'workloads': 2, 'hydrocarbon': 2, 'crews': 2, 'noticing': 2, 'diverting': 2, 'isolating': 2, 'dehydrate': 2, 'looked': 2, 'stoop': 2, 'kneel': 2, 'crawl': 2, 'shawnee': 2, 'bayer': 2, 'listens': 2, 'confusion': 2, 'misunderstandings': 2, 'trait': 2, 'facilitators': 2, 'champions': 2, 'yellow': 2, 'catalyst': 2, 'mother': 2, 'mom': 2, 'foreclosed': 2, 'closest': 2, 'island': 2, 'queens': 2, 'dermatology': 2, 'surgeons': 2, 'microbiology': 2, 'successor': 2, 'belongs': 2, 'foreperson': 2, 'bases': 2, 'forepersons': 2, 'ensured': 2, 'pressured': 2, 'percentile': 2, 'capitalized': 2, 'formed': 2, 'ascii': 2, 'assures': 2, 'reproduction': 2, 'clashes': 2, 'scaffolds': 2, 'excitement': 2, 'pastor': 2, 'baptist': 2, 'gospel': 2, 'confront': 2, 'recurrent': 2, 'clearance': 2, 'foundations': 2, 'liaises': 2, 'bins': 2, 'sand': 2, 'pulled': 2, 'sentence': 2, 'punctuation': 2, 'grammar': 2, 'confirming': 2, 'rejecting': 2, 'unacceptable': 2, 'courage': 2, 'affiliates': 2, 'essentials': 2, 'clarification': 2, 'clarifications': 2, 'utilised': 2, 'concisely': 2, 'resin': 2, 'ledgers': 2, 'certifying': 2, 'registrations': 2, 'springs': 2, 'scanner': 2, 'deleting': 2, 'purging': 2, 'duplication': 2, 'transcribing': 2, 'recordings': 2, 'recommendation': 2, 'demonstration': 2, 'anticipation': 2, 'diligent': 2, 'competences': 2, 'binders': 2, 'concluded': 2, 'linkages': 2, 'spanning': 2, 'arranges': 2, 'wpm': 2, 'stations': 2, 'underground': 2, 'temp': 2, 'male': 2, 'female': 2, 'desks': 2, 'prolific': 2, 'windings': 2, 'stator': 2, 'confirmed': 2, 'lms': 2, 'governing': 2, 'marker': 2, 'refraction': 2, 'nitric': 2, 'oxide': 2, 'ophthalmic': 2, 'blade': 2, 'chopper': 2, 'lenses': 2, 'spectacles': 2, 'donating': 2, 'revised': 2, 'chemistry': 2, 'fills': 2, 'linked': 2, 'motion': 2, 'clerks': 2, 'receptionists': 2, 'employed': 2, 'wrap': 2, 'boys': 2, 'daycare': 2, 'hl': 2, 'highways': 2, 'seneca': 1, 'profiling': 1, 'obtains': 1, 'literature': 1, 'boils': 1, 'centering': 1, 'empowered': 1, 'aaa': 1, 'colour': 1, 'composition': 1, 'horsebox': 1, 'masking': 1, 'grinding': 1, 'stripping': 1, 'coursework': 1, 'league': 1, 'fantasy': 1, 'expires': 1, 'ton': 1, 'walnut': 1, 'creek': 1, 'agnostic': 1, 'angular': 1, 'smattering': 1, 'slowly': 1, 'retired': 1, 'rationalizing': 1, 'madrid': 1, 'executable': 1, 'entitlements': 1, 'employing': 1, 'viewer': 1, 'altering': 1, 'reordering': 1, 'designation': 1, 'cornerstone': 1, 'capturing': 1, 'authorizations': 1, 'censuses': 1, 'auburn': 1, 'communicators': 1, 'renovated': 1, 'cooper': 1, 'museums': 1, 'forge': 1, 'incredibly': 1, 'passive': 1, 'bpms': 1, 'struts': 1, 'commensurate': 1, 'spear': 1, 'lastly': 1, 'mangers': 1, 'mason': 1, 'businesslike': 1, 'badge': 1, 'cves': 1, 'attributed': 1, 'accreditation': 1, 'vulnerability': 1, 'firewall': 1, 'kernel': 1, 'personalise': 1, 'priced': 1, 'pains': 1, 'armor': 1, 'criminal': 1, 'odd': 1, 'uncertainty': 1, 'principle': 1, 'festivals': 1, 'eating': 1, 'showering': 1, 'webpage': 1, 'mondays': 1, 'fridays': 1, 'positivity': 1, 'attracted': 1, 'flights': 1, 'reactivate': 1, 'flown': 1, 'segmented': 1, 'indicative': 1, 'projecting': 1, 'orienting': 1, 'lodgings': 1, 'traveler': 1, 'optimised': 1, 'trustful': 1, 'signature': 1, 'clutter': 1, 'compete': 1, 'fad': 1, 'careful': 1, 'facts': 1, 'persuading': 1, 'lan': 1, 'telephony': 1, 'outages': 1, 'wan': 1, 'wlan': 1, 'acuity': 1, 'softwares': 1, 'intranet': 1, 'faint': 1, 'troubleshooter': 1, 'mouse': 1, 'renewals': 1, 'terminate': 1, 'character': 1, 'fasteners': 1, 'removed': 1, 'flagged': 1, 'manhattan': 1, 'asheville': 1, 'fiscal': 1, 'viability': 1, 'functionalities': 1, 'specialization': 1, 'thrown': 1, 'gut': 1, 'feeling': 1, 'friendliness': 1, 'outrageously': 1, 'nasa': 1, 'inflated': 1, 'mini': 1, 'lerer': 1, 'angel': 1, 'ashton': 1, 'promoter': 1, 'score': 1, 'imagines': 1, 'nps': 1, 'pcs': 1, 'leveling': 1, 'schedulers': 1, 'thresholds': 1, 'outage': 1, 'maximizes': 1, 'advises': 1, 'compound': 1, 'ratings': 1, 'insurances': 1, 'orthopedic': 1, 'podiatrist': 1, 'neurologist': 1, 'rheumatologist': 1, 'lucrative': 1, 'topical': 1, 'cream': 1, 'clinically': 1, 'dermal': 1, 'nashville': 1, 'southwest': 1, 'northwest': 1, 'singed': 1, 'calm': 1, 'busiest': 1, 'describing': 1, 'favorite': 1, 'secret': 1, 'motto': 1, 'anecdote': 1, 'winter': 1, 'incurring': 1, 'punitive': 1, 'faced': 1, 'expats': 1, 'agreement': 1, 'counterpart': 1, 'energised': 1, 'bite': 1, 'bullet': 1, 'kendall': 1, 'square': 1, 'thrill': 1, 'fiddling': 1, 'incubation': 1, 'recipient': 1, 'dispatching': 1, 'csts': 1, 'breadth': 1, 'dependencies': 1, 'advocating': 1, 'concurrently': 1, 'collegial': 1, 'meritocratic': 1, 'characterized': 1, 'informality': 1, 'automobile': 1, 'economist': 1, 'econometric': 1, 'stochastic': 1, 'sophistication': 1, 'expeditiously': 1, 'predicting': 1, 'borrowers': 1, 'divisions': 1, 'pots': 1, 'snack': 1, 'baskets': 1, 'caterer': 1, 'afterward': 1, 'condiment': 1, 'closets': 1, 'soda': 1, 'pens': 1, 'pads': 1, 'bottles': 1, 'tents': 1, 'lanyards': 1, 'boxing': 1, 'correction': 1, 'reuse': 1, 'inconsistencies': 1, 'combating': 1, 'exceeded': 1, 'authentic': 1, 'refrigerator': 1, 'argument': 1, 'bashing': 1, 'damn': 1, 'iterating': 1, 'refined': 1, 'alberta': 1, 'upheld': 1, 'competes': 1, 'giants': 1, 'catching': 1, 'flags': 1, 'invites': 1, 'bilateral': 1, 'allot': 1, 'seminar': 1, 'venue': 1, 'multilateral': 1, 'unswervingly': 1, 'frustration': 1, 'commonly': 1, 'expects': 1, 'universe': 1, 'revolve': 1, 'maniacally': 1, 'multiplying': 1, 'god': 1, 'expressing': 1, 'workstations': 1, 'formulates': 1, 'packaged': 1, 'slows': 1, 'scenario': 1, 'transformations': 1, 'consumable': 1, 'heartbeat': 1, 'customizing': 1, 'meticulous': 1, 'resonate': 1, 'broadcaster': 1, 'commercially': 1, 'collaborators': 1, 'tourism': 1, 'grip': 1, 'believer': 1, 'sphere': 1, 'borrowing': 1, 'liquidity': 1, 'appliance': 1, 'visualisations': 1, 'sensor': 1, 'jets': 1, 'seat': 1, 'telegraph': 1, 'timetable': 1, 'execs': 1, 'agreeing': 1, 'prescribing': 1, 'disinfect': 1, 'fittings': 1, 'sweeps': 1, 'vacuums': 1, 'brooms': 1, 'scrubbing': 1, 'waxing': 1, 'polishing': 1, 'cleans': 1, 'disinfects': 1, 'refrigerators': 1, 'replenishes': 1, 'partition': 1, 'empties': 1, 'wastebaskets': 1, 'rugs': 1, 'upholstered': 1, 'partitions': 1, 'sills': 1, 'gynaecology': 1, 'shortage': 1, 'pelvic': 1, 'untoward': 1, 'evidence': 1, 'creations': 1, 'instinctively': 1, 'intuitively': 1, 'experimentation': 1, 'realize': 1, 'laundry': 1, 'martin': 1, 'luther': 1, 'king': 1, 'bathing': 1, 'payables': 1, 'locking': 1, 'thermostat': 1, 'capped': 1, 'percentage': 1, 'salesmen': 1, 'preset': 1, 'temple': 1, 'freelancer': 1, 'advantageous': 1, 'benchmarks': 1, 'inviting': 1, 'handful': 1, 'propel': 1, 'manifesto': 1, 'radically': 1, 'fellows': 1, 'enormous': 1, 'mashing': 1, 'conceptualization': 1, 'illustrator': 1, 'mainstream': 1, 'replying': 1, 'mails': 1, 'agility': 1, 'mmpi': 1, 'entrance': 1, 'picked': 1, 'notified': 1, 'affirmative': 1, 'semantically': 1, 'plain': 1, 'surplus': 1, 'pension': 1, 'tyson': 1, 'mainstay': 1, 'jones': 1, 'jonathan': 1, 'aesthetics': 1, 'technologist': 1, 'aviary': 1, 'reliant': 1, 'couriers': 1, 'advancements': 1, 'individually': 1, 'dispatch': 1, 'orient': 1, 'continents': 1, 'subsidiaries': 1, 'artefacts': 1, 'ws': 1, 'closer': 1, 'joy': 1, 'initiation': 1, 'moonlighting': 1, 'dual': 1, 'gardening': 1, 'adjacent': 1, 'drafters': 1, 'las': 1, 'vegas': 1, 'surrounded': 1, 'neon': 1, 'countless': 1, 'mojave': 1, 'desert': 1, 'decides': 1, 'stick': 1, 'impersonal': 1, 'bessemer': 1, 'egos': 1, 'forever': 1, 'gurus': 1, 'instance': 1, 'whisper': 1, 'tinder': 1, 'witness': 1, 'traveling': 1, 'handset': 1, 'shanghai': 1, 'interwoven': 1, 'minimising': 1, 'churn': 1, 'drip': 1, 'tangibly': 1, 'connecting': 1, 'biased': 1, 'magical': 1, 'bike': 1, 'arrives': 1, 'solo': 1, 'fewer': 1, 'juggling': 1, 'plug': 1, 'worrying': 1, 'practicing': 1, 'checklists': 1, 'telecommuting': 1, 'phoenix': 1, 'preferable': 1, 'evangelise': 1, 'forgotten': 1, 'apprentices': 1, 'journeymen': 1, 'craftsman': 1, 'hottest': 1, 'hailed': 1, 'simplest': 1, 'serge': 1, 'broaden': 1, 'turkey': 1, 'evangelising': 1, 'salespeople': 1, 'autonomous': 1, 'striking': 1, 'factoring': 1, 'fluctuating': 1, 'began': 1, 'british': 1, 'praise': 1, 'informing': 1, 'admission': 1, 'discharge': 1, 'maneuvers': 1, 'excite': 1, 'lined': 1, 'witty': 1, 'laugh': 1, 'thunderbolt': 1, 'catch': 1, 'magically': 1, 'josh': 1, 'jason': 1, 'crazy': 1, 'barrier': 1, 'mobilizing': 1, 'recruitments': 1, 'assays': 1, 'finalizing': 1, 'characterization': 1, 'directive': 1, 'theory': 1, 'principals': 1, 'precedents': 1, 'counterparts': 1, 'surviving': 1, 'spouses': 1, 'proofreading': 1, 'bicycle': 1, 'slide': 1, 'intermediary': 1, 'passed': 1, 'hugely': 1, 'intermediaries': 1, 'sponsorship': 1, 'demoing': 1, 'seizing': 1, 'discovering': 1, 'matrices': 1, 'reciprocating': 1, 'screw': 1, 'unplanned': 1, 'chronic': 1, 'mode': 1, 'domestically': 1, 'centrifugal': 1, 'gui': 1, 'forecourt': 1, 'fear': 1, 'vested': 1, 'advertise': 1, 'matt': 1, 'legislations': 1, 'envelopes': 1, 'therefor': 1, 'holy': 1, 'grail': 1, 'manifestations': 1, 'docs': 1, 'promoters': 1, 'proof': 1, 'highs': 1, 'lows': 1, 'shine': 1, 'dreaming': 1, 'capitalize': 1, 'leapfrog': 1, 'destined': 1, 'humming': 1, 'starters': 1, 'vitamin': 1, 'partnering': 1, 'companys': 1, 'capitalization': 1, 'convertible': 1, 'hassle': 1, 'seconds': 1, 'backers': 1, 'freeing': 1, 'upwards': 1, 'texts': 1, 'tweets': 1, 'fifty': 1, 'depended': 1, 'contrast': 1, 'remember': 1, 'grownups': 1, 'tandem': 1, 'uplift': 1, 'transmitted': 1, 'safeguarded': 1, 'administered': 1, 'conformity': 1, 'brochure': 1, 'compressed': 1, 'understandable': 1, 'committees': 1, 'fatality': 1, 'envoy': 1, 'fine': 1, 'watches': 1, 'adp': 1, 'unemployment': 1, 'likelihood': 1, 'attack': 1, 'campaigners': 1, 'fulfillment': 1, 'cater': 1, 'charities': 1, 'trumbull': 1, 'summit': 1, 'paradigm': 1, 'amplification': 1, 'kiosk': 1, 'fingers': 1, 'rejoice': 1, 'guinness': 1, 'downloads': 1, 'withstand': 1, 'typed': 1, 'officially': 1, 'capitalise': 1, 'roadblocks': 1, 'unity': 1, 'animate': 1, 'arranged': 1, 'incurred': 1, 'amortization': 1, 'depreciation': 1, 'owed': 1, 'franchise': 1, 'filings': 1, 'substantiate': 1, 'transmitting': 1, 'compute': 1, 'storing': 1, 'vegetables': 1, 'handler': 1, 'fork': 1, 'hedge': 1, 'alerting': 1, 'cassandra': 1, 'structuring': 1, 'interruption': 1, 'steadfast': 1, 'remit': 1, 'decade': 1, 'addictive': 1, 'showcase': 1, 'mag': 1, 'cosmopolitan': 1, 'pilot': 1, 'overwhelmed': 1, 'graceful': 1, 'eloquent': 1, 'fearless': 1, 'pulse': 1, 'articulation': 1, 'newsworthy': 1, 'pop': 1, 'advocates': 1, 'upset': 1, 'evangelists': 1, 'tame': 1, 'acc': 1, 'mailboxes': 1, 'removing': 1, 'patching': 1, 'quantifiable': 1, 'accelerating': 1, 'relied': 1, 'beacon': 1, 'concert': 1, 'iterate': 1, 'scoring': 1, 'throwing': 1, 'toggling': 1, 'interventions': 1, 'tangible': 1, 'verb': 1, 'reportes': 1, 'hamburg': 1, 'als': 1, 'uns': 1, 'ta': 1, 'der': 1, 'zu': 1, 'chen': 1, 'merchandisers': 1, 'discreet': 1, 'mystery': 1, 'aggregating': 1, 'multidimensional': 1, 'translated': 1, 'dictionary': 1, 'modifying': 1, 'wastewater': 1, 'discharges': 1, 'intranets': 1, 'shiny': 1, 'geeks': 1, 'roundabout': 1, 'wooden': 1, 'invaders': 1, 'tasty': 1, 'specialisms': 1, 'bought': 1, 'irreverent': 1, 'dependency': 1, 'puke': 1, 'rainbows': 1, 'beautifully': 1, 'breeds': 1, 'television': 1, 'documentaries': 1, 'specials': 1, 'migrate': 1, 'political': 1, 'broadcast': 1, 'welcomes': 1, 'lisbon': 1, 'visualizing': 1, 'tagged': 1, 'metadata': 1, 'edited': 1, 'annotated': 1, 'athlete': 1, 'headache': 1, 'latent': 1, 'handed': 1, 'sketch': 1, 'throw': 1, 'clicking': 1, 'crafting': 1, 'selectively': 1, 'manchester': 1, 'unbiased': 1, 'truth': 1, 'satellite': 1, 'imagery': 1, 'seeds': 1, 'conceive': 1, 'saint': 1, 'journalists': 1, 'differentiation': 1, 'acceleration': 1, 'pacific': 1, 'forklifts': 1, 'tokyo': 1, 'simulators': 1, 'finite': 1, 'objection': 1, 'questioning': 1, 'mates': 1, 'stopping': 1, 'inventive': 1, 'nimble': 1, 'apparatus': 1, 'apt': 1, 'periodical': 1, 'mis': 1, 'visionaries': 1, 'achievable': 1, 'romania': 1, 'deputy': 1, 'affinity': 1, 'edges': 1, 'repairing': 1, 'inadequate': 1, 'guessed': 1, 'lie': 1, 'calculated': 1, 'gritty': 1, 'chat': 1, 'beverages': 1, 'drops': 1, 'signage': 1, 'expensive': 1, 'arena': 1, 'translating': 1, 'hierarchical': 1, 'enjoying': 1, 'forgetting': 1, 'requesting': 1, 'encounter': 1, 'lively': 1, 'dynamically': 1, 'bakery': 1, 'baking': 1, 'circle': 1, 'ingredients': 1, 'differently': 1, 'mixing': 1, 'punctuality': 1, 'fairness': 1, 'retouched': 1, 'formatted': 1, 'stretch': 1, 'achiever': 1, 'rooter': 1, 'george': 1, 'brazil': 1, 'sole': 1, 'saves': 1, 'chest': 1, 'shortness': 1, 'pediatrics': 1, 'congenial': 1, 'huddles': 1, 'mins': 1, 'visitor': 1, 'amending': 1, 'gratification': 1, 'momentum': 1, 'ferocious': 1, 'beagle': 1, 'knocking': 1, 'shell': 1, 'scowl': 1, 'leaves': 1, 'unlocked': 1, 'hosting': 1, 'wrong': 1, 'eventuality': 1, 'pedestrian': 1, 'succeeding': 1, 'categorising': 1, 'broadly': 1, 'mopping': 1, 'vacuuming': 1, 'carpet': 1, 'buffing': 1, 'carpeted': 1, 'uncarpeted': 1, 'urinals': 1, 'removes': 1, 'informs': 1, 'hedgehog': 1, 'treble': 1, 'fairly': 1, 'fluid': 1, 'insists': 1, 'essence': 1, 'strained': 1, 'interdependence': 1, 'offs': 1, 'cart': 1, 'shredding': 1, 'tea': 1, 'microwaves': 1, 'dishwasher': 1, 'restock': 1, 'distinctly': 1, 'copier': 1, 'reload': 1, 'serviceability': 1, 'extensively': 1, 'institution': 1, 'originally': 1, 'sourced': 1, 'encyclopedia': 1, 'publishable': 1, 'optimist': 1, 'pessimist': 1, 'headcount': 1, 'mapped': 1, 'underperformers': 1, 'promoted': 1, 'tilers': 1, 'tiler': 1, 'question': 1, 'convention': 1, 'loses': 1, 'quantitatively': 1, 'miller': 1, 'irving': 1, 'deepen': 1, 'apache': 1, 'manipulate': 1, 'caching': 1, 'aachen': 1, 'ai': 1, 'pin': 1, 'tweet': 1, 'followers': 1, 'redeemed': 1, 'strategist': 1, 'decentralized': 1, 'redesigning': 1, 'honoree': 1, 'pressing': 1, 'crate': 1, 'shortlist': 1, 'tricky': 1, 'tenured': 1, 'oss': 1, 'remuneration': 1, 'readable': 1, 'trafficked': 1, 'subscription': 1, 'negotiator': 1, 'speciality': 1, 'radiology': 1, 'certificate': 1, 'constraint': 1, 'hses': 1, 'shortlisting': 1, 'pto': 1, 'unseen': 1, 'istanbul': 1, 'thrilling': 1, 'pepsi': 1, 'coca': 1, 'cola': 1, 'nestle': 1, 'brothers': 1, 'nast': 1, 'wearable': 1, 'reshaping': 1, 'prescription': 1, 'enrollments': 1, 'cobra': 1, 'interchanges': 1, 'faxed': 1, 'photocopies': 1, 'glimpse': 1, 'variant': 1, 'fundamentals': 1, 'premiere': 1, 'graduated': 1, 'spun': 1, 'patents': 1, 'conglomerates': 1, 'topologies': 1, 'alpha': 1, 'lips': 1, 'flutter': 1, 'peoples': 1, 'observational': 1, 'flowcharts': 1, 'rationale': 1, 'unwavering': 1, 'merits': 1, 'tenfold': 1, 'ideating': 1, 'diplomat': 1, 'rolled': 1, 'fueled': 1, 'workspace': 1, 'rarely': 1, 'commuter': 1, 'candidacy': 1, 'visited': 1, 'chains': 1, 'commercials': 1, 'ties': 1, 'miles': 1, 'joined': 1, 'venders': 1, 'roller': 1, 'coaster': 1, 'tivoli': 1, 'migrating': 1, 'adapting': 1, 'appreciated': 1, 'learns': 1, 'imposes': 1, 'beliefs': 1, 'activates': 1, 'acquisitive': 1, 'supermarket': 1, 'quit': 1, 'boring': 1, 'bull': 1, 'nerd': 1, 'sodas': 1, 'tap': 1, 'category': 1, 'mergers': 1, 'transcript': 1, 'petting': 1, 'gift': 1, 'antique': 1, 'analogue': 1, 'realise': 1, 'expertly': 1, 'crafted': 1, 'handsomely': 1, 'bridge': 1, 'informative': 1, 'verifiable': 1, 'bogota': 1, 'taxis': 1, 'licensing': 1, 'carries': 1, 'formatting': 1, 'conscientious': 1, 'bali': 1, 'medan': 1, 'disadvantaged': 1, 'escape': 1, 'sightsee': 1, 'underwriters': 1, 'municipal': 1, 'renewal': 1, 'stalwart': 1, 'ebitda': 1, 'recognizes': 1, 'instills': 1, 'strides': 1, 'qualitatively': 1, 'mediator': 1, 'instill': 1, 'turnstile': 1, 'banding': 1, 'quotient': 1, 'marketer': 1, 'converts': 1, 'editorials': 1, 'untold': 1, 'reader': 1, 'persuasively': 1, 'cedar': 1, 'rapids': 1, 'opened': 1, 'extracts': 1, 'fermentations': 1, 'pathogen': 1, 'forest': 1, 'seeding': 1, 'influences': 1, 'pursuits': 1, 'spurt': 1, 'taster': 1, 'perfectionism': 1, 'sensibilities': 1, 'independents': 1, 'treated': 1, 'playbook': 1, 'chi': 1, 'pb': 1, 'logging': 1, 'accelerated': 1, 'jumpstart': 1, 'rounds': 1, 'permitted': 1, 'revolves': 1, 'absolute': 1, 'rush': 1, 'edits': 1, 'bargain': 1, 'ritzy': 1, 'palatial': 1, 'meteoric': 1, 'resort': 1, 'persian': 1, 'paradise': 1, 'situated': 1, 'famed': 1, 'serene': 1, 'distance': 1, 'centres': 1, 'proximity': 1, 'gold': 1, 'spice': 1, 'textile': 1, 'souks': 1, 'brews': 1, 'cuisine': 1, 'communicable': 1, 'vocation': 1, 'strengthening': 1, 'import': 1, 'gc': 1, 'pediatric': 1, 'lifespan': 1, 'golden': 1, 'diagnoses': 1, 'benefited': 1, 'gabriel': 1, 'coordinators': 1, 'biannual': 1, 'signatures': 1, 'laying': 1, 'unstoppable': 1, 'hug': 1, 'sparring': 1, 'nuggets': 1, 'genius': 1, 'nail': 1, 'brains': 1, 'repository': 1, 'happiest': 1, 'denver': 1, 'advancing': 1, 'ontario': 1, 'province': 1, 'borders': 1, 'windsor': 1, 'kitchener': 1, 'grey': 1, 'bruce': 1, 'oxford': 1, 'huron': 1, 'barrie': 1, 'newmarket': 1, 'stretcher': 1, 'wheelchair': 1, 'trip': 1, 'waterloo': 1, 'perth': 1, 'sits': 1, 'surprising': 1, 'animated': 1, 'quizzes': 1, 'viral': 1, 'inspiration': 1, 'nv': 1, 'observes': 1, 'glasses': 1, 'helmets': 1, 'respirators': 1, 'jersey': 1, 'correlates': 1, 'refines': 1, 'retrieves': 1, 'perception': 1, 'aesthetic': 1, 'convergence': 1, 'wining': 1, 'fusion': 1, 'recognisable': 1, 'ended': 1, 'introductory': 1, 'hobbyists': 1, 'duplications': 1, 'disparate': 1, 'shelf': 1, 'forthcoming': 1, 'packed': 1, 'autism': 1, 'harvard': 1, 'contents': 1, 'franklin': 1, 'postage': 1, 'synthesize': 1, 'discount': 1, 'crude': 1, 'hedging': 1, 'slides': 1, 'newark': 1, 'techs': 1, 'pandas': 1, 'cheaper': 1, 'greener': 1, 'households': 1, 'redefining': 1, 'featured': 1, 'brute': 1, 'craving': 1, 'undergraduate': 1, 'daba': 1, 'polk': 1, 'bible': 1, 'france': 1, 'contributors': 1, 'reportage': 1, 'published': 1, 'beats': 1, 'tenant': 1, 'apartments': 1, 'appliances': 1, 'quest': 1, 'linking': 1, 'loving': 1, 'illustrators': 1, 'conceptualising': 1, 'visualising': 1, 'coherence': 1, 'fatest': 1, 'freshers': 1, 'shelters': 1, 'adopting': 1, 'economies': 1, 'compliment': 1, 'billboards': 1, 'passport': 1, 'embassies': 1, 'consulates': 1, 'molds': 1, 'coder': 1, 'gamer': 1, 'painter': 1, 'ninja': 1, 'revolving': 1, 'hinder': 1, 'localised': 1, 'tact': 1, 'suggestively': 1, 'invited': 1, 'iss': 1, 'surveying': 1, 'roots': 1, 'krakow': 1, 'bloomington': 1, 'validated': 1, 'redesigns': 1, 'renewable': 1, 'pollution': 1, 'piece': 1, 'deregulation': 1, 'cluster': 1, 'unscheduled': 1, 'meaningfully': 1, 'instituting': 1, 'sponsors': 1, 'black': 1, 'continuum': 1, 'supermarkets': 1, 'canal': 1, 'soma': 1, 'embodies': 1, 'circus': 1, 'autopilot': 1, 'chronicle': 1, 'eskimo': 1, 'anxious': 1, 'spirited': 1, 'africa': 1, 'reveal': 1, 'enduring': 1, 'oils': 1, 'coal': 1, 'substitution': 1, 'download': 1, 'guys': 1, 'painted': 1, 'optimizing': 1, 'diversification': 1, 'obtaining': 1, 'spousal': 1, 'problematic': 1, 'personalizing': 1, 'hacking': 1, 'exited': 1, 'posted': 1, 'foods': 1, 'sanitary': 1, 'flux': 1, 'caters': 1, 'notable': 1, 'farms': 1, 'avenue': 1, 'telco': 1, 'hardening': 1, 'vulnerabilities': 1, 'negotiable': 1, 'efts': 1, 'lockbox': 1, 'supplied': 1, 'championship': 1, 'richmond': 1, 'finalized': 1, 'accounted': 1, 'drawers': 1, 'shelves': 1, 'comment': 1, 'egg': 1, 'perfumery': 1, 'cosmetics': 1, 'merchandised': 1, 'fragrance': 1, 'probationary': 1, 'ade': 1, 'cinematographers': 1, 'documentary': 1, 'pioneering': 1, 'cinematography': 1, 'films': 1, 'conventions': 1, 'hardcore': 1, 'solely': 1, 'globalization': 1, 'translation': 1, 'minister': 1, 'celebrate': 1, 'decor': 1, 'venues': 1, 'tips': 1, 'compose': 1, 'cro': 1, 'commenting': 1, 'carlos': 1, 'moscow': 1, 'odessa': 1, 'kiev': 1, 'riga': 1, 'announced': 1, 'monetize': 1, 'moves': 1, 'quicker': 1, 'foreseeable': 1, 'conditioning': 1, 'glad': 1, 'indexing': 1, 'leaflets': 1, 'receptions': 1, 'glaucoma': 1, 'booked': 1, 'assumed': 1, 'mailings': 1, 'ends': 1, 'orchestrating': 1, 'uncomplicated': 1, 'awarded': 1, 'collective': 1, 'endlessly': 1, 'intimate': 1, 'artful': 1, 'resourcefully': 1, 'sows': 1, 'constituents': 1, 'universally': 1, 'motivations': 1, 'tailoring': 1, 'attuned': 1, 'nuances': 1, 'diplomatic': 1, 'slip': 1, 'cracks': 1, 'unfailingly': 1, 'grace': 1, 'behave': 1, 'sellable': 1, 'energized': 1, 'tempering': 1, 'craftsmanship': 1, 'ass': 1, 'extraordinarily': 1, 'shaped': 1, 'fae': 1, 'paris': 1, 'occasion': 1, 'storeroom': 1, 'exec': 1, 'affective': 1, 'selective': 1, 'flask': 1, 'repeat': 1, 'refurbished': 1, 'lecturers': 1, 'syndication': 1, 'attrition': 1, 'resiliency': 1, 'specifics': 1, 'palladium': 1, 'baker': 1, 'hughes': 1, 'algebra': 1, 'equations': 1, 'theses': 1, 'petrel': 1, 'threaded': 1, 'seniors': 1, 'paw': 1, 'lovers': 1, 'lover': 1, 'robinson': 1, 'visiting': 1, 'puppies': 1, 'kittens': 1, 'geriatrics': 1, 'arthritics': 1, 'vomit': 1, 'diarrhea': 1, 'sitters': 1, 'dogs': 1, 'refilling': 1, 'bowls': 1, 'scooping': 1, 'litter': 1, 'pill': 1, 'cans': 1, 'memorial': 1, 'shore': 1, 'pubs': 1, 'lounges': 1, 'clubs': 1, 'swords': 1, 'acquirers': 1, 'defending': 1, 'dispute': 1, 'arbitration': 1, 'strengthened': 1, 'forging': 1, 'breed': 1, 'fidelity': 1, 'generator': 1, 'query': 1, 'expedite': 1, 'tailored': 1, 'achievers': 1, 'rethink': 1, 'sequoia': 1, 'atlantic': 1, 'pioneers': 1, 'concentration': 1, 'watching': 1, 'flourish': 1, 'reestablished': 1, 'accompanying': 1, 'appointed': 1, 'wishing': 1, 'underpin': 1, 'athletic': 1, 'workout': 1, 'munich': 1, 'visualize': 1, 'scholarly': 1, 'journals': 1, 'specialism': 1, 'intrigue': 1, 'derivatives': 1, 'framing': 1, 'comparable': 1, 'author': 1, 'validations': 1, 'reacted': 1, 'electromechanical': 1, 'assemblers': 1, 'hypothesis': 1, 'complements': 1, 'blending': 1, 'herbs': 1, 'ambassadors': 1, 'backer': 1, 'lemaitre': 1, 'february': 1, 'grown': 1, 'ghent': 1, 'handlebars': 1, 'chums': 1, 'richardson': 1, 'empires': 1, 'enthusiast': 1, 'assessor': 1, 'excelling': 1, 'declared': 1, 'dbs': 1, 'overwhelming': 1, 'disorder': 1, 'oasis': 1, 'testimony': 1, 'hearings': 1, 'error': 1, 'optimized': 1, 'volunteering': 1, 'marginalised': 1, 'divide': 1, 'grassroots': 1, 'stipends': 1, 'upgraded': 1, 'sooner': 1, 'familiarize': 1, 'tribe': 1, 'conceptually': 1, 'animating': 1, 'isolate': 1, 'collegiate': 1, 'knowledgeability': 1, 'revolutionised': 1, 'actualising': 1, 'block': 1, 'campbell': 1, 'soup': 1, 'traction': 1, 'cup': 1, 'espresso': 1, 'tasting': 1, 'delighted': 1, 'betterment': 1, 'frederick': 1, 'douglass': 1, 'albert': 1, 'einstein': 1, 'instruction': 1, 'thirst': 1, 'purposeful': 1, 'pathway': 1, 'acknowledgement': 1, 'establishments': 1, 'concord': 1, 'purify': 1, 'staging': 1, 'pinpoint': 1, 'telepathy': 1, 'enthusiasts': 1, 'likewise': 1, 'attracts': 1, 'relaying': 1, 'ordinating': 1, 'incremental': 1, 'businessperson': 1, 'concerned': 1, 'firing': 1, 'missed': 1, 'motivates': 1, 'collects': 1, 'hitting': 1, 'registering': 1, 'prides': 1, 'sharps': 1, 'regulated': 1, 'specialised': 1, 'diary': 1, 'utah': 1, 'raises': 1, 'gaining': 1, 'decades': 1, 'icon': 1, 'converting': 1, 'scratch': 1, 'hertfordshire': 1, 'nutritious': 1, 'aged': 1, 'dietary': 1, 'contamination': 1, 'legible': 1, 'pharmaceuticals': 1, 'scotland': 1, 'physiotherapist': 1, 'pharmacists': 1, 'washing': 1, 'continence': 1, 'catheter': 1, 'stoma': 1, 'peg': 1, 'swedish': 1, 'burning': 1, 'helpers': 1, 'compensates': 1, 'ring': 1, 'traditions': 1, 'richest': 1, 'wash': 1, 'ancient': 1, 'kurdistan': 1, 'attaching': 1, 'illness': 1, 'scrub': 1, 'implants': 1, 'drugs': 1, 'increment': 1, 'cst': 1, 'arlington': 1, 'hierarchies': 1, 'maps': 1, 'navigational': 1, 'comps': 1, 'recreational': 1, 'candid': 1, 'cogs': 1, 'sears': 1, 'estimations': 1, 'prosecution': 1, 'courts': 1, 'seal': 1, 'foremen': 1, 'exams': 1, 'educators': 1, 'clarifying': 1, 'flag': 1, 'moderation': 1, 'abusive': 1, 'faq': 1, 'specialises': 1, 'explained': 1, 'coached': 1, 'thessaloniki': 1, 'iaas': 1, 'fan': 1, 'disrupt': 1, 'voided': 1, 'circulating': 1, 'identical': 1, 'loose': 1, 'printer': 1, 'mounting': 1, 'constructed': 1, 'descriptive': 1, 'screaming': 1, 'century': 1, 'evolves': 1, 'octopus': 1, 'selenium': 1, 'nancy': 1, 'jasmine': 1, 'gulp': 1, 'swings': 1, 'shrinkage': 1, 'abundant': 1, 'entertaining': 1, 'headlines': 1, 'expeditions': 1, 'depths': 1, 'outlandish': 1, 'morph': 1, 'demographic': 1, 'survive': 1, 'beaches': 1, 'freshly': 1, 'brewed': 1, 'eyes': 1, 'famously': 1, 'blow': 1, 'peninsula': 1, 'capitalists': 1, 'capitol': 1, 'bunch': 1, 'biz': 1, 'addicts': 1, 'assume': 1, 'assembled': 1, 'realized': 1, 'overlapping': 1, 'emerge': 1, 'diversifying': 1, 'constructively': 1, 'memberships': 1, 'luncheons': 1, 'radius': 1, 'lend': 1, 'paths': 1, 'configurations': 1, 'allocations': 1, 'migrations': 1, 'fas': 1, 'nas': 1, 'esrs': 1, 'peak': 1, 'hypotheses': 1, 'simplifying': 1, 'moxie': 1, 'telecoms': 1, 'solicitors': 1, 'photocopier': 1, 'reel': 1, 'enjoyable': 1, 'reels': 1, 'march': 1, 'addictions': 1, 'psycho': 1, 'november': 1, 'rico': 1, 'bimonthly': 1, 'guideline': 1, 'regulators': 1, 'underwrites': 1, 'underwriter': 1, 'jumbo': 1, 'underwrite': 1, 'powerhouse': 1, 'abb': 1, 'spoiling': 1, 'rely': 1, 'accompany': 1, 'tactically': 1, 'orpington': 1, 'reworking': 1, 'sensitivity': 1, 'shareholders': 1, 'identities': 1, 'collaterals': 1, 'facilitates': 1, 'helper': 1, 'usual': 1, 'closes': 1, 'buffalo': 1, 'sawyer': 1, 'benton': 1, 'harbor': 1, 'niles': 1, 'homemaker': 1, 'companionship': 1, 'lakefront': 1, 'brewery': 1, 'fish': 1, 'fry': 1, 'anaheim': 1, 'universes': 1, 'canned': 1, 'explorer': 1, 'subordinate': 1, 'pillar': 1, 'timework': 1, 'performances': 1, 'cascading': 1, 'upholstery': 1, 'obsessive': 1, 'gumption': 1, 'jumping': 1, 'countryside': 1, 'staring': 1, 'seams': 1, 'perfected': 1, 'midline': 1, 'commentary': 1, 'typologies': 1, 'affords': 1, 'coded': 1, 'depend': 1, 'sight': 1, 'lloyds': 1, 'agree': 1, 'vat': 1, 'cid': 1, 'behold': 1, 'ego': 1, 'remake': 1, 'unfair': 1, 'outright': 1, 'rothschild': 1, 'boulevard': 1, 'reign': 1, 'overpriced': 1, 'cookie': 1, 'faculty': 1, 'dead': 1, 'rebuilding': 1, 'parse': 1, 'marc': 1, 'wait': 1, 'parks': 1, 'crowd': 1, 'minus': 1, 'bureaucracy': 1, 'itemized': 1, 'specs': 1, 'permission': 1, 'forgiveness': 1, 'stint': 1, 'cvs': 1, 'cutter': 1, 'alto': 1, 'ignite': 1, 'succinctly': 1, 'proposes': 1, 'lottery': 1, 'ngos': 1, 'exploit': 1, 'ordinates': 1, 'discovers': 1, 'kitchenette': 1, 'pushed': 1, 'filming': 1, 'footage': 1, 'evangelize': 1, 'installment': 1, 'cited': 1, 'judicial': 1, 'frank': 1, 'bankruptcy': 1, 'conclusive': 1, 'disclosed': 1, 'illustration': 1, 'animation': 1, 'plugged': 1, 'parallax': 1, 'worksheets': 1, 'experimenting': 1, 'describes': 1, 'wise': 1, 'sexual': 1, 'origin': 1, 'amnesty': 1, 'drone': 1, 'brainpower': 1, 'cio': 1, 'euro': 1, 'smarts': 1, 'licensee': 1, 'cocoa': 1, 'preforming': 1, 'feet': 1, 'thrust': 1, 'timetables': 1, 'explode': 1, 'juice': 1, 'beneath': 1, 'dvd': 1, 'subscribers': 1, 'viewed': 1, 'tripled': 1, 'formula': 1, 'mouth': 1, 'banging': 1, 'drum': 1, 'african': 1, 'republic': 1, 'associations': 1, 'camaraderie': 1, 'ping': 1, 'shuffleboard': 1, 'impromptu': 1, 'battles': 1, 'relax': 1, 'zen': 1, 'streaming': 1, 'curve': 1, 'pollutes': 1, 'killer': 1, 'clothes': 1, 'kill': 1, 'eclectic': 1, 'segal': 1, 'shocking': 1, 'landfills': 1, 'sewing': 1, 'backing': 1, 'pressed': 1, 'contests': 1, 'archiving': 1, 'relief': 1, 'manufactured': 1, 'poor': 1, 'unsatisfactory': 1, 'circumstances': 1, 'withhold': 1, 'maturely': 1, 'feelings': 1, 'spite': 1, 'disagreement': 1, 'worthwhile': 1, 'doe': 1, 'scenes': 1, 'caterers': 1, 'pilots': 1, 'tugs': 1, 'preferential': 1, 'usda': 1, 'berthings': 1, 'sailings': 1, 'spout': 1, 'gardner': 1, 'visitation': 1, 'greenberg': 1, 'farrows': 1, 'zoning': 1, 'asks': 1, 'authoritative': 1, 'officials': 1, 'foresight': 1, 'younger': 1, 'distributing': 1, 'groundskeepers': 1, 'absent': 1, 'unavailable': 1, 'homeland': 1, 'lay': 1, 'motherless': 1, 'creditors': 1, 'instantly': 1, 'compensate': 1, 'appraise': 1, 'soliciting': 1, 'explanations': 1, 'summarizing': 1, 'relatives': 1, 'fixture': 1, 'gauge': 1, 'progressive': 1, 'robotic': 1, 'overages': 1, 'fha': 1, 'deletion': 1, 'accruals': 1, 'substantiating': 1, 'researches': 1, 'mastering': 1, 'overlooking': 1, 'optimizes': 1, 'gains': 1, 'downtime': 1, 'optimizations': 1, 'gearboxes': 1, 'casting': 1, 'reside': 1, 'maximized': 1, 'solicitation': 1, 'booth': 1, 'examine': 1, 'blockbuster': 1, 'disney': 1, 'signing': 1, 'decent': 1, 'supplement': 1, 'selections': 1, 'tastes': 1, 'alcohol': 1, 'greeting': 1, 'tested': 1, 'contest': 1, 'individualized': 1, 'narrative': 1, 'dignified': 1, 'pocket': 1, 'james': 1, 'broken': 1, 'worn': 1, 'father': 1, 'reminder': 1, 'ascribe': 1, 'interim': 1, 'lathes': 1, 'powder': 1, 'dolor': 1, 'felis': 1, 'purus': 1, 'dui': 1, 'diam': 1, 'integer': 1, 'git': 1, 'constructing': 1, 'optometry': 1, 'consecutively': 1, 'heightened': 1, 'stockton': 1, 'beam': 1, 'formulas': 1, 'abs': 1, 'tees': 1, 'cumberland': 1, 'marble': 1, 'arch': 1, 'basketball': 1, 'baseball': 1, 'football': 1, 'timers': 1, 'workmanship': 1, 'personalities': 1, 'delegates': 1, 'boat': 1, 'inspected': 1, 'sse': 1, 'patters': 1, 'determines': 1, 'outlining': 1, 'geographical': 1, 'referred': 1, 'equipped': 1, 'subscriptions': 1, 'represented': 1, 'john': 1, 'newfoundland': 1, 'undertakes': 1, 'psychometric': 1, 'gypsum': 1, 'checkout': 1, 'arc': 1, 'rockwell': 1, 'constituencies': 1, 'reflects': 1, 'landlord': 1, 'drafts': 1, 'corrosion': 1, 'ergonomics': 1, 'pipe': 1, 'urban': 1, 'hydrants': 1, 'contained': 1, 'examines': 1, 'ks': 1, 'crop': 1, 'hone': 1, 'dent': 1, 'outputs': 1, 'tallying': 1, 'proofing': 1, 'walks': 1, 'professions': 1, 'notifies': 1, 'sally': 1, 'holdover': 1, 'cells': 1, 'inmate': 1, 'restricted': 1, 'elevators': 1, 'docks': 1, 'forwards': 1, 'prisoners': 1, 'sells': 1, 'rendered': 1, 'peripherals': 1, 'mogul': 1, 'happily': 1, 'maverick': 1, 'frames': 1, 'alphabetical': 1, 'dependability': 1, 'deputies': 1, 'competently': 1, 'routes': 1, 'toughest': 1, 'refers': 1, 'investigators': 1, 'matched': 1, 'authorize': 1, 'anthony': 1, 'blends': 1, 'pioneer': 1, 'memoranda': 1, 'alphabetically': 1, 'calculators': 1, 'typewriters': 1, 'reconsider': 1, 'cancellation': 1, 'attempt': 1, 'overdue': 1, 'aging': 1, 'deductions': 1, 'justification': 1, 'faceted': 1, 'caxton': 1, 'westminster': 1, 'storekeeper': 1, 'auditor': 1, 'captain': 1, 'washer': 1, 'warder': 1, 'adviser': 1, 'indication': 1, 'furnishings': 1, 'relocates': 1, 'assumption': 1, 'continental': 1, 'masseur': 1, 'inconveniences': 1, 'hostess': 1, 'tackling': 1, 'tennis': 1, 'raising': 1, 'pervasive': 1, 'synthetic': 1, 'benchmark': 1, 'rigging': 1, 'arriving': 1, 'departure': 1, 'sediment': 1, 'chlorides': 1, 'stimulation': 1, 'conducive': 1, 'moderately': 1, 'adapts': 1, 'polar': 1, 'generational': 1, 'mas': 1, 'cucumber': 1, 'exploratory': 1, 'behavior': 1, 'blackberry': 1, 'switch': 1, 'gears': 1, 'pass': 1, 'terry': 1, 'troy': 1, 'citizenship': 1, 'trail': 1, 'investigated': 1, 'implies': 1, 'masts': 1, 'substructures': 1, 'spares': 1, 'cab': 1, 'render': 1, 'maryland': 1, 'quantification': 1, 'extrapolation': 1, 'collating': 1, 'losses': 1, 'oldest': 1, 'recruits': 1, 'cam': 1, 'lowest': 1, 'synergies': 1, 'comprehending': 1, 'assuring': 1, 'electronically': 1, 'finger': 1, 'arms': 1, 'climb': 1, 'crouch': 1, 'smell': 1, 'americas': 1, 'modified': 1, 'feeders': 1, 'unsafe': 1, 'truthful': 1, 'appleton': 1, 'cpr': 1, 'delegation': 1, 'prop': 1, 'yard': 1, 'pursuant': 1, 'approving': 1, 'climbing': 1, 'stepping': 1, 'uneven': 1, 'surfaces': 1, 'twist': 1, 'mechanically': 1, 'handheld': 1, 'judge': 1, 'distances': 1, 'signify': 1, 'recall': 1, 'spatial': 1, 'alert': 1, 'outdoors': 1, 'precipitation': 1, 'turbulent': 1, 'rigs': 1, 'died': 1, 'told': 1, 'decided': 1, 'mothers': 1, 'husband': 1, 'daughters': 1, 'nanny': 1, 'maid': 1, 'apartment': 1, 'nutrition': 1, 'rise': 1, 'friend': 1, 'influential': 1, 'manageability': 1, 'pairing': 1, 'dependent': 1, 'northern': 1, 'cosmetic': 1, 'dermatologists': 1, 'plastic': 1, 'assurances': 1, 'streamlined': 1, 'protecting': 1, 'revamp': 1, 'capacities': 1, 'realistically': 1, 'resilient': 1, 'takers': 1, 'unsure': 1, 'annuities': 1, 'medicare': 1, 'supplements': 1, 'financed': 1, 'height': 1, 'padding': 1, 'alt': 1, 'acoustics': 1, 'facades': 1, 'seismic': 1, 'framed': 1, 'optometrist': 1, 'farmington': 1, 'metered': 1, 'duplicating': 1, 'suspended': 1, 'expedites': 1, 'disapprovals': 1, 'elite': 1, 'realty': 1, 'ers': 1, 'considerations': 1, 'plot': 1, 'timing': 1, 'revises': 1, 'attentively': 1, 'probe': 1, 'expedition': 1, 'misdirected': 1, 'unstructured': 1, 'reliance': 1, 'colonial': 1, 'illinois': 1, 'talker': 1, 'dresser': 1, 'bacon': 1, 'wellhead': 1, 'frontier': 1, 'geologist': 1, 'geophysicist': 1, 'siting': 1, 'risers': 1, 'umbilicals': 1, 'utas': 1, 'skirted': 1, 'suction': 1, 'caisson': 1, 'piles': 1, 'mms': 1, 'naval': 1, 'stanchions': 1, 'mover': 1, 'ramping': 1, 'upholds': 1, 'rom': 1, 'modest': 1, 'arrogant': 1, 'collectively': 1, 'franchisees': 1, 'warranted': 1, 'reasoning': 1, 'decorative': 1, 'paint': 1, 'etch': 1, 'decorating': 1, 'styling': 1, 'lubricants': 1, 'polymers': 1, 'additives': 1, 'charts': 1, 'itineraries': 1, 'holdings': 1, 'redeem': 1, 'reimbursements': 1, 'scores': 1, 'compilation': 1, 'directories': 1, 'marketable': 1, 'cargo': 1, 'discovered': 1, 'gimmicks': 1, 'slice': 1, 'pie': 1, 'stream': 1, 'amaze': 1, 'afford': 1, 'dreamed': 1, 'horizontally': 1, 'vertically': 1, 'dictated': 1, 'transcription': 1, 'abbreviations': 1, 'calculation': 1, 'yards': 1, 'remedial': 1, 'theories': 1, 'precepts': 1, 'customizes': 1, 'initiates': 1, 'heighten': 1, 'summarization': 1, 'recurrences': 1, 'congo': 1, 'gates': 1, 'stays': 1, 'pom': 1, 'enhances': 1, 'councils': 1, 'trailing': 1, 'detect': 1, 'prism': 1, 'garbled': 1, 'indecipherable': 1, 'delighting': 1, 'precursor': 1, 'flex': 1, 'withholding': 1, 'summarize': 1, 'newspapers': 1, 'secretaries': 1, 'paralegals': 1, 'houseworks': 1, 'decipher': 1, 'categorize': 1, 'competitiveness': 1, 'centralised': 1, 'supplying': 1, 'geographies': 1, 'mrds': 1, 'mrd': 1, 'inherent': 1, 'crunch': 1, 'leases': 1, 'indexes': 1, 'cobol': 1, 'rubicon': 1, 'reorganizations': 1, 'loads': 1, 'unloads': 1, 'purge': 1, 'cpu': 1, 'contention': 1, 'rebuild': 1, 'nationally': 1, 'lowering': 1, 'ares': 1, 'warnings': 1, 'facilitator': 1, 'grapevine': 1, 'laboratories': 1, 'questionnaires': 1, 'council': 1, 'petrochemical': 1, 'mileage': 1, 'augment': 1, 'titan': 1, 'stance': 1, 'eminent': 1, 'encompassing': 1, 'instigating': 1, 'pertain': 1, 'experimental': 1, 'predict': 1, 'adaptability': 1, 'logistic': 1, 'scorecards': 1, 'stringent': 1, 'mediation': 1, 'apprised': 1, 'cascade': 1, 'pose': 1, 'lawsuits': 1, 'harassment': 1, 'scrap': 1, 'spreadsheet': 1, 'tenure': 1, 'aas': 1, 'computations': 1, 'multiplication': 1, 'subtraction': 1, 'percentages': 1, 'fractions': 1, 'ratios': 1, 'fluently': 1, 'respirator': 1, 'cashiers': 1, 'attendants': 1, 'keepers': 1, 'butler': 1, 'niches': 1, 'evaluated': 1, 'assessed': 1, 'intent': 1, 'shipyards': 1, 'prevailing': 1, 'unemployed': 1, 'mundane': 1, 'trailers': 1, 'orderliness': 1, 'sweeper': 1, 'scrubber': 1, 'scissor': 1, 'cherry': 1, 'picker': 1, 'tear': 1, 'embarked': 1, 'unconventional': 1, 'liquid': 1, 'galleria': 1, 'aires': 1, 'argentina': 1, 'adds': 1, 'barely': 1, 'canyon': 1, 'dad': 1, 'tcp': 1, 'hie': 1, 'pix': 1, 'slips': 1, 'sterile': 1, 'injectable': 1, 'mixtures': 1, 'inhaled': 1, 'nasal': 1, 'formulations': 1, 'changeover': 1, 'inhalation': 1, 'mdi': 1, 'dimension': 1, 'transporting': 1, 'transitions': 1, 'towers': 1, 'caller': 1, 'literacy': 1, 'rail': 1, 'bridges': 1, 'marine': 1, 'roadways': 1, 'roadway': 1, 'drainage': 1, 'hover': 1, 'thames': 1, 'deluxe': 1, 'hustle': 1, 'bustle': 1, 'congestion': 1, 'gem': 1, 'barman': 1, 'translator': 1, 'nurse': 1, 'interpreter': 1, 'sends': 1, 'browse': 1, 'basin': 1, 'plover': 1, 'behaviours': 1, 'exercising': 1, 'examining': 1, 'destination': 1, 'quantities': 1, 'forwarding': 1, 'damaged': 1, 'replaces': 1, 'limit': 1, 'accomplishes': 1, 'viewpoint': 1, 'closeouts': 1}\n",
            "{'experience': 2169, 'skills': 1246, 'work': 960, 'ability': 783, 'years': 686, 'knowledge': 553, 'required': 533, 'communication': 465, 'management': 459, 'degree': 440, 'team': 435, 'amp': 430, 'strong': 400, 'development': 397, 'working': 385, 'environment': 357, 'preferred': 350, 'high': 324, 'design': 319, 'computer': 317, 'customer': 313, 'excellent': 312, 'good': 303, 'written': 303, 'business': 292, 'understanding': 289, 'service': 266, 'sales': 254, 'office': 251, 'requirements': 249, 'software': 247, 'including': 246, 'qualifications': 244, 'engineering': 238, 'web': 236, 'minimum': 232, 'data': 228, 'technical': 209, 'project': 203, 'time': 196, 'industry': 193, 'excel': 191, 'verbal': 189, 'marketing': 187, 'projects': 177, 'equivalent': 174, 'job': 174, 'level': 171, 'systems': 167, 'product': 167, 'word': 160, 'position': 152, 'english': 149, 'internet': 148, 'fast': 148, 'professional': 146, 'background': 144, 'effectively': 143, 'school': 143, 'company': 142, 'education': 139, 'attention': 137, 'client': 136, 'support': 135, 'year': 134, 'relevant': 134, 'field': 133, 'diploma': 131, 'applications': 127, 'tools': 126, 'basic': 126, 'url': 125, 'multiple': 123, 'bachelor': 123, 'writing': 121, 'email': 119, 'record': 119, 'science': 119, 'equipment': 119, 'services': 117, 'motivated': 113, 'technology': 113, 'problem': 113, 'proven': 112, 'process': 111, 'interpersonal': 110, 'oriented': 110, 'learn': 110, 'personal': 109, 'people': 108, 'user': 108, 'products': 107, 'mobile': 106, 'phone': 103, 'digital': 103, 'paced': 103, 'highly': 100, 'quality': 99, 'technologies': 99, 'role': 98, 'solving': 98, 'accounting': 98, 'testing': 98, 'organizational': 97, 'based': 97, 'track': 96, 'demonstrated': 96, 'meet': 95, 'manage': 93, 'test': 91, 'tasks': 91, 'communicate': 91, 'application': 90, 'oral': 90, 'perform': 90, 'managing': 88, 'driven': 88, 'provide': 88, 'financial': 87, 'processes': 85, 'html': 85, 'organization': 85, 'previous': 84, 'solutions': 84, 'customers': 83, 'independently': 83, 'creative': 83, 'media': 83, 'problems': 83, 'candidate': 82, 'training': 82, 'large': 81, 'proficient': 81, 'maintain': 81, 'teams': 80, 'social': 80, 'attitude': 79, 'develop': 79, 'online': 79, 'analytical': 79, 'leadership': 79, 'issues': 79, 'reports': 78, 'follow': 78, 'starter': 77, 'css': 77, 'travel': 77, 'key': 76, 'developing': 76, 'production': 76, 'certification': 76, 'include': 75, 'access': 75, 'proficiency': 74, 'essential': 73, 'desire': 73, 'build': 73, 'language': 73, 'hands': 72, 'windows': 71, 'passion': 71, 'program': 71, 'programming': 71, 'administrative': 71, 'performance': 71, 'operations': 70, 'procedures': 69, 'candidates': 69, 'control': 69, 'current': 69, 'hours': 68, 'server': 68, 'understand': 68, 'general': 68, 'complex': 68, 'functional': 67, 'university': 67, 'responsibilities': 66, 'duties': 66, 'needed': 66, 'building': 65, 'flexible': 65, 'great': 65, 'area': 65, 'desirable': 65, 'mechanical': 64, 'valid': 63, 'planning': 63, 'typing': 63, 'clients': 62, 'preferably': 62, 'analysis': 62, 'license': 61, 'presentation': 61, 'task': 61, 'standards': 61, 'entry': 61, 'drive': 60, 'solid': 60, 'drug': 60, 'check': 60, 'possess': 60, 'internal': 60, 'database': 59, 'relationships': 59, 'pressure': 59, 'prior': 59, 'willingness': 58, 'considered': 58, 'java': 58, 'college': 57, 'cross': 57, 'practices': 57, 'apply': 57, 'driving': 55, 'code': 55, 'lead': 55, 'programs': 55, 'networking': 55, 'player': 54, 'prioritize': 54, 'familiarity': 54, 'ideal': 53, 'architecture': 53, 'effective': 53, 'employment': 53, 'focus': 52, 'responsible': 52, 'security': 52, 'retail': 52, 'gas': 52, 'driver': 51, 'content': 51, 'staff': 51, 'long': 51, 'successful': 51, 'oil': 51, 'months': 50, 'agile': 50, 'manufacturing': 50, 'deadlines': 50, 'change': 50, 'church': 50, 'communications': 49, 'administration': 49, 'patient': 49, 'outlook': 48, 'specific': 48, 'levels': 48, 'life': 48, 'positive': 47, 'order': 47, 'employer': 47, 'day': 47, 'teaching': 47, 'demonstrate': 46, 'assistant': 46, 'electrical': 46, 'existing': 46, 'initiative': 45, 'skill': 45, 'discipline': 45, 'finance': 45, 'delivery': 45, 'experienced': 45, 'making': 45, 'create': 45, 'processing': 45, 'start': 44, 'agency': 44, 'growth': 44, 'employee': 44, 'safety': 44, 'set': 44, 'concepts': 44, 'linux': 44, 'ideally': 43, 'ensure': 43, 'attendance': 43, 'exceptional': 43, 'maintaining': 43, 'things': 43, 'learning': 43, 'success': 43, 'policies': 43, 'schedule': 42, 'daily': 42, 'clean': 42, 'construction': 42, 'minimal': 42, 'love': 42, 'market': 42, 'functions': 42, 'external': 42, 'sense': 41, 'individual': 41, 'supervision': 41, 'additional': 41, 'person': 41, 'documentation': 41, 'pass': 41, 'power': 41, 'reporting': 41, 'desired': 41, 'expertise': 41, 'attributes': 41, 'negotiation': 41, 'brand': 40, 'areas': 40, 'food': 40, 'suite': 40, 'providing': 40, 'maintenance': 40, 'manager': 40, 'mail': 40, 'offshore': 40, 'opportunity': 39, 'deliver': 39, 'employees': 39, 'resources': 39, 'open': 39, 'ruby': 39, 'applicants': 39, 'health': 39, 'require': 38, 'google': 38, 'environments': 38, 'handle': 38, 'dynamic': 38, 'techniques': 38, 'abilities': 38, 'responsibility': 38, 'passport': 38, 'holders': 38, 'advanced': 37, 'criminal': 37, 'requires': 37, 'network': 37, 'methodologies': 37, 'organized': 37, 'engineer': 37, 'direct': 36, 'complete': 36, 'languages': 36, 'limited': 36, 'accuracy': 36, 'friendly': 36, 'enterprise': 36, 'availability': 35, 'approach': 35, 'platforms': 35, 'senior': 35, 'implementation': 35, 'closely': 35, 'speaking': 35, 'extensive': 35, 'interaction': 35, 'close': 34, 'compliance': 34, 'ideas': 34, 'thinking': 34, 'periods': 34, 'type': 34, 'passionate': 34, 'account': 34, 'consumer': 34, 'response': 34, 'activities': 34, 'portfolio': 34, 'energy': 33, 'competitive': 33, 'master': 33, 'big': 33, 'performing': 33, 'principles': 33, 'developer': 33, 'assist': 33, 'strategic': 33, 'leading': 33, 'comfortable': 33, 'works': 33, 'ethic': 32, 'exposure': 32, 'visual': 32, 'lift': 32, 'oracle': 32, 'submit': 32, 'delivering': 32, 'resolve': 32, 'colleagues': 32, 'human': 32, 'volume': 32, 'frameworks': 32, 'telephone': 32, 'focused': 31, 'commercial': 31, 'opportunities': 31, 'graphic': 31, 'ownership': 31, 'write': 31, 'supporting': 31, 'potential': 31, 'corporate': 31, 'startup': 31, 'center': 31, 'public': 31, 'trends': 31, 'site': 31, 'creating': 30, 'small': 30, 'decision': 30, 'personality': 30, 'tech': 30, 'confident': 30, 'innovative': 30, 'assigned': 30, 'glasses': 30, 'website': 29, 'manner': 29, 'integrity': 29, 'net': 29, 'video': 29, 'eye': 29, 'participate': 29, 'operate': 29, 'demonstrable': 29, 'care': 29, 'contact': 29, 'direction': 29, 'shift': 29, 'designing': 29, 'advertising': 29, 'state': 28, 'familiar': 28, 'review': 28, 'active': 28, 'proactive': 28, 'analyze': 28, 'insurance': 28, 'perfect': 28, 'expert': 28, 'directions': 28, 'handling': 28, 'print': 28, 'integration': 28, 'depth': 28, 'consulting': 28, 'applicable': 28, 'address': 28, 'cost': 28, 'note': 28, 'strategies': 27, 'offer': 27, 'adobe': 27, 'coordinate': 27, 'history': 27, 'priorities': 27, 'individually': 27, 'policy': 27, 'physical': 27, 'teamwork': 27, 'certificate': 27, 'post': 27, 'spoken': 27, 'solve': 27, 'guidance': 27, 'continuous': 27, 'patients': 26, 'points': 26, 'python': 26, 'members': 26, 'grow': 26, 'calls': 26, 'plan': 26, 'speaker': 26, 'personnel': 26, 'databases': 26, 'certifications': 26, 'running': 25, 'operating': 25, 'plans': 25, 'entrepreneurial': 25, 'collaborative': 25, 'platform': 25, 'interface': 25, 'major': 25, 'local': 25, 'executive': 25, 'stand': 25, 'skilled': 25, 'balance': 25, 'screening': 25, 'specifications': 25, 'relationship': 25, 'source': 25, 'real': 25, 'graduate': 25, 'clear': 25, 'object': 25, 'implement': 25, 'international': 25, 'variety': 25, 'plant': 25, 'benefits': 25, 'managed': 25, 'spell': 25, 'class': 24, 'qualification': 24, 'interfaces': 24, 'fluent': 24, 'read': 24, 'pounds': 24, 'intermediate': 24, 'lbs': 24, 'point': 24, 'challenges': 24, 'detailed': 24, 'includes': 24, 'adapt': 24, 'qualified': 24, 'identify': 24, 'week': 24, 'scrum': 24, 'quick': 24, 'companies': 24, 'culinary': 24, 'inquiries': 24, 'capable': 23, 'hard': 23, 'advantage': 23, 'meeting': 23, 'succeed': 23, 'changing': 23, 'global': 23, 'patterns': 23, 'positions': 23, 'asset': 23, 'extended': 23, 'automation': 23, 'documents': 23, 'android': 23, 'party': 23, 'collaboration': 23, 'scale': 23, 'higher': 23, 'legal': 22, 'wanting': 22, 'vehicle': 22, 'standard': 22, 'latest': 22, 'range': 22, 'enthusiastic': 22, 'recruitment': 22, 'strategy': 22, 'status': 22, 'flexibility': 22, 'command': 22, 'troubleshooting': 22, 'resume': 22, 'clerical': 22, 'risk': 22, 'ios': 22, 'basis': 22, 'qualities': 22, 'exchange': 22, 'claims': 22, 'neatly': 22, 'government': 21, 'goals': 21, 'solution': 21, 'expectations': 21, 'pace': 21, 'future': 21, 'facing': 21, 'credit': 21, 'core': 21, 'copy': 21, 'consistent': 21, 'helpful': 21, 'selling': 21, 'recruiting': 21, 'cycle': 21, 'number': 21, 'execute': 21, 'walk': 21, 'weekly': 21, 'improvement': 21, 'contract': 21, 'verbally': 21, 'department': 21, 'enjoy': 21, 'mathematical': 21, 'monthly': 21, 'member': 21, 'fe': 21, 'distributed': 21, 'managers': 21, 'partners': 21, 'technician': 21, 'literate': 21, 'career': 20, 'studies': 20, 'developed': 20, 'directed': 20, 'expected': 20, 'deep': 20, 'monitoring': 20, 'reliable': 20, 'requirement': 20, 'commitment': 20, 'creativity': 20, 'growing': 20, 'subject': 20, 'materials': 20, 'engineers': 20, 'feedback': 20, 'scripting': 20, 'campaigns': 20, 'accounts': 20, 'concept': 20, 'city': 20, 'define': 20, 'environmental': 20, 'maintains': 20, 'performs': 20, 'pro': 19, 'illustrator': 19, 'usability': 19, 'developers': 19, 'coding': 19, 'completion': 19, 'diverse': 19, 'certified': 19, 'agencies': 19, 'document': 19, 'modeling': 19, 'space': 19, 'events': 19, 'individuals': 19, 'community': 19, 'bonus': 19, 'storage': 19, 'accountability': 19, 'weekends': 19, 'practical': 19, 'hardware': 19, 'property': 19, 'instil': 19, 'version': 18, 'items': 18, 'common': 18, 'file': 18, 'browser': 18, 'challenge': 18, 'entire': 18, 'associate': 18, 'framework': 18, 'screen': 18, 'industrial': 18, 'inventory': 18, 'execution': 18, 'chemical': 18, 'instructions': 18, 'independent': 18, 'bachelors': 18, 'troubleshoot': 18, 'worked': 18, 'implementing': 18, 'vendors': 18, 'statistics': 18, 'critical': 18, 'questions': 18, 'achieve': 18, 'regulations': 18, 'assurance': 18, 'files': 18, 'broad': 18, 'sensitive': 18, 'operational': 18, 'timely': 18, 'executing': 17, 'organisational': 17, 'awareness': 17, 'share': 17, 'ajax': 17, 'math': 17, 'engaging': 17, 'responsive': 17, 'short': 17, 'dealing': 17, 'times': 17, 'motivation': 17, 'accurately': 17, 'hour': 17, 'simultaneously': 17, 'facilities': 17, 'spanish': 17, 'accredited': 17, 'culture': 17, 'install': 17, 'configure': 17, 'models': 17, 'decisions': 17, 'prepare': 17, 'lean': 17, 'applied': 17, 'methods': 17, 'campaign': 17, 'located': 17, 'relations': 17, 'db': 17, 'unix': 17, 'takes': 17, 'confidentiality': 17, 'exceed': 16, 'funding': 16, 'thrive': 16, 'vision': 16, 'store': 16, 'savvy': 16, 'leader': 16, 'forward': 16, 'capital': 16, 'objectives': 16, 'french': 16, 'establish': 16, 'accept': 16, 'function': 16, 'assignments': 16, 'electronic': 16, 'requests': 16, 'improve': 16, 'experiences': 16, 'capacity': 16, 'devices': 16, 'vendor': 16, 'presentations': 16, 'sigma': 16, 'efficiency': 16, 'pay': 16, 'sap': 16, 'demonstrates': 16, 'tracking': 16, 'orientation': 16, 'generate': 16, 'bring': 16, 'send': 15, 'communicator': 15, 'organisation': 15, 'directly': 15, 'scalable': 15, 'users': 15, 'associates': 15, 'editing': 15, 'features': 15, 'mba': 15, 'markets': 15, 'automated': 15, 'cloud': 15, 'location': 15, 'electronics': 15, 'infrastructure': 15, 'resolution': 15, 'analytic': 15, 'quantitative': 15, 'sit': 15, 'constantly': 15, 'machine': 15, 'operation': 15, 'hearing': 15, 'medical': 15, 'pharmaceutical': 15, 'posting': 15, 'speak': 15, 'letter': 15, 'industries': 15, 'values': 15, 'sound': 15, 'bright': 15, 'extremely': 15, 'stakeholders': 15, 'competencies': 15, 'mindset': 15, 'shifts': 15, 'meetings': 15, 'codes': 15, 'capabilities': 15, 'modern': 15, 'git': 15, 'applicant': 15, 'formal': 15, 'transactions': 15, 'olds': 14, 'practice': 14, 'treatment': 14, 'exceeding': 14, 'energetic': 14, 'networks': 14, 'impact': 14, 'beneficial': 14, 'concise': 14, 'display': 14, 'ambition': 14, 'salary': 14, 'domain': 14, 'hand': 14, 'wide': 14, 'director': 14, 'moving': 14, 'estate': 14, 'banking': 14, 'talent': 14, 'profile': 14, 'combination': 14, 'journalism': 14, 'carry': 14, 'schedules': 14, 'accurate': 14, 'helping': 14, 'presenting': 14, 'target': 14, 'term': 14, 'listening': 14, 'income': 14, 'regulatory': 14, 'rest': 14, 'regular': 14, 'academic': 14, 'title': 14, 'news': 14, 'trust': 14, 'interact': 14, 'incoming': 14, 'group': 14, 'canada': 14, 'architect': 14, 'seeking': 14, 'forms': 14, 'overtime': 14, 'relational': 14, 'compelling': 14, 'messaging': 14, 'supplies': 14, 'posts': 14, 'model': 14, 'controls': 14, 'registration': 14, 'deal': 13, 'licensed': 13, 'organised': 13, 'case': 13, 'branding': 13, 'ambitious': 13, 'committed': 13, 'paid': 13, 'interpret': 13, 'weighing': 13, 'supervisor': 13, 'configuration': 13, 'optimization': 13, 'aspects': 13, 'websites': 13, 'report': 13, 'outgoing': 13, 'card': 13, 'california': 13, 'tight': 13, 'nature': 13, 'law': 13, 'encouraged': 13, 'search': 13, 'shipping': 13, 'representative': 13, 'standing': 13, 'expect': 13, 'fun': 13, 'challenging': 13, 'ready': 13, 'tcp': 13, 'methodology': 13, 'reviews': 13, 'budgets': 13, 'superior': 13, 'emerging': 13, 'openings': 13, 'match': 13, 'transportation': 13, 'students': 13, 'demand': 13, 'hiring': 13, 'ensuring': 13, 'holidays': 13, 'creation': 13, 'criteria': 13, 'publisher': 13, 'size': 13, 'input': 13, 'setup': 13, 'assisting': 13, 'comprehensive': 13, 'receive': 13, 'camera': 13, 'centers': 12, 'honest': 12, 'house': 12, 'revenue': 12, 'translate': 12, 'roles': 12, 'supervisory': 12, 'assess': 12, 'billing': 12, 'preparation': 12, 'united': 12, 'minded': 12, 'rails': 12, 'deliverables': 12, 'outstanding': 12, 'influencing': 12, 'simple': 12, 'supply': 12, 'departments': 12, 'budget': 12, 'live': 12, 'fluency': 12, 'safe': 12, 'operator': 12, 'equal': 12, 'load': 12, 'military': 12, 'sites': 12, 'interested': 12, 'statistical': 12, 'packages': 12, 'professionally': 12, 'adept': 12, 'details': 12, 'locations': 12, 'photographs': 12, 'metrics': 12, 'native': 12, 'room': 12, 'remote': 12, 'cpa': 12, 'medium': 12, 'age': 12, 'efficiently': 12, 'cad': 12, 'involving': 12, 'articulate': 12, 'coordination': 12, 'records': 12, 'firm': 12, 'osha': 12, 'approaches': 12, 'designs': 12, 'payment': 12, 'references': 12, 'mission': 12, 'communicating': 12, 'aptitude': 12, 'structured': 12, 'calculations': 12, 'provided': 12, 'turn': 12, 'catering': 12, 'difficult': 11, 'recovery': 11, 'visit': 11, 'gain': 11, 'hold': 11, 'recommendations': 11, 'trade': 11, 'urgency': 11, 'art': 11, 'continuously': 11, 'organize': 11, 'enthusiasm': 11, 'components': 11, 'action': 11, 'tasking': 11, 'excited': 11, 'jobs': 11, 'payroll': 11, 'layout': 11, 'gained': 11, 'discuss': 11, 'inspire': 11, 'states': 11, 'statements': 11, 'economic': 11, 'unit': 11, 'scheduling': 11, 'learner': 11, 'engage': 11, 'logical': 11, 'scope': 11, 'distribution': 11, 'receiving': 11, 'conceptual': 11, 'strict': 11, 'material': 11, 'applying': 11, 'partner': 11, 'analyzing': 11, 'stack': 11, 'game': 11, 'objective': 11, 'implementations': 11, 'interview': 11, 'adhere': 11, 'preparing': 11, 'competent': 11, 'bb': 11, 'servers': 11, 'engagement': 11, 'cleaning': 11, 'keen': 11, 'labor': 11, 'efforts': 11, 'efficient': 11, 'virtual': 11, 'easy': 11, 'payments': 11, 'partnerships': 11, 'aa': 11, 'contacts': 11, 'root': 11, 'repair': 11, 'satisfaction': 11, 'msc': 11, 'peers': 11, 'tier': 11, 'demands': 11, 'discretion': 11, 'pricing': 11, 'deadline': 11, 'connection': 11, 'package': 11, 'dispensing': 11, 'deleted': 11, 'instruments': 11, 'providers': 11, 'participates': 11, 'bull': 11, 'confidence': 10, 'route': 10, 'audit': 10, 'fashion': 10, 'sell': 10, 'mentality': 10, 'calling': 10, 'train': 10, 'motivate': 10, 'tool': 10, 'join': 10, 'productivity': 10, 'progress': 10, 'beverage': 10, 'piping': 10, 'machining': 10, 'educational': 10, 'face': 10, 'max': 10, 'event': 10, 'flash': 10, 'meticulous': 10, 'economics': 10, 'proposals': 10, 'workflow': 10, 'voice': 10, 'eligible': 10, 'groups': 10, 'maximum': 10, 'competing': 10, 'acumen': 10, 'reach': 10, 'conditions': 10, 'roll': 10, 'mental': 10, 'mathematics': 10, 'solver': 10, 'masters': 10, 'nights': 10, 'identifying': 10, 'protocols': 10, 'proper': 10, 'sets': 10, 'respond': 10, 'cash': 10, 'goal': 10, 'thinker': 10, 'robust': 10, 'stay': 10, 'thought': 10, 'integrated': 10, 'hospitality': 10, 'selection': 10, 'nice': 10, 'loss': 10, 'grasp': 10, 'setting': 10, 'starting': 10, 'disciplines': 10, 'creatively': 10, 'consistently': 10, 'mature': 10, 'deployment': 10, 'civil': 10, 'inside': 10, 'audits': 10, 'primary': 10, 'mentor': 10, 'leads': 10, 'comfort': 10, 'cms': 10, 'phd': 10, 'competency': 10, 'correct': 10, 'evidence': 10, 'analyst': 10, 'filing': 10, 'unique': 10, 'increasing': 10, 'provider': 10, 'received': 10, 'accepted': 10, 'voltages': 10, 'discourage': 10, 'premise': 10, 'keys': 10, 'headset': 9, 'monitor': 9, 'early': 9, 'lifting': 9, 'enjoys': 9, 'designer': 9, 'represent': 9, 'conduct': 9, 'undergraduate': 9, 'risks': 9, 'protection': 9, 'instrumentation': 9, 'error': 9, 'image': 9, 'consultant': 9, 'types': 9, 'fields': 9, 'custom': 9, 'auto': 9, 'resourceful': 9, 'libraries': 9, 'description': 9, 'telecom': 9, 'night': 9, 'national': 9, 'attend': 9, 'cover': 9, 'initiatives': 9, 'enable': 9, 'sitting': 9, 'specialist': 9, 'regularly': 9, 'wireless': 9, 'picture': 9, 'special': 9, 'base': 9, 'routers': 9, 'resource': 9, 'junior': 9, 'pipeline': 9, 'confidential': 9, 'rapid': 9, 'involved': 9, 'assessments': 9, 'collaborate': 9, 'influence': 9, 'produce': 9, 'smart': 9, 'speed': 9, 'updates': 9, 'traffic': 9, 'situations': 9, 'judgment': 9, 'intelligence': 9, 'dedicated': 9, 'stories': 9, 'terms': 9, 'designers': 9, 'addresses': 9, 'effectiveness': 9, 'pitch': 9, 'negotiating': 9, 'gis': 9, 'difference': 9, 'result': 9, 'computers': 9, 'ins': 9, 'flow': 9, 'built': 9, 'twitter': 9, 'form': 9, 'quarterly': 9, 'trading': 9, 'repairs': 9, 'routine': 9, 'innovation': 9, 'professionals': 9, 'installation': 9, 'collection': 9, 'pride': 9, 'submitted': 9, 'soap': 9, 'chemistry': 9, 'businesses': 9, 'mentoring': 9, 'confined': 9, 'alliance': 9, 'professionalism': 9, 'motor': 9, 'fundamental': 9, 'frames': 9, 'bookkeeping': 9, 'appearance': 9, 'ladders': 9, 'lenses': 9, 'cooking': 9, 'dsl': 9, 'hotel': 9, 'update': 9, 'prepares': 9, 'paper': 9, 'broadband': 8, 'serving': 8, 'permanent': 8, 'loading': 8, 'extra': 8, 'explain': 8, 'insight': 8, 'autonomous': 8, 'cold': 8, 'natural': 8, 'ethical': 8, 'studio': 8, 'feature': 8, 'situation': 8, 'contribute': 8, 'hire': 8, 'healthcare': 8, 'cultural': 8, 'preferable': 8, 'reception': 8, 'feel': 8, 'afraid': 8, 'valuation': 8, 'investment': 8, 'eager': 8, 'actively': 8, 'advance': 8, 'integrate': 8, 'dependable': 8, 'york': 8, 'reasonable': 8, 'accommodations': 8, 'bend': 8, 'occasionally': 8, 'list': 8, 'procurement': 8, 'average': 8, 'monday': 8, 'responses': 8, 'issue': 8, 'evenings': 8, 'workplace': 8, 'analyses': 8, 'workload': 8, 'underwriting': 8, 'assets': 8, 'foundation': 8, 'loan': 8, 'humor': 8, 'evaluation': 8, 'participation': 8, 'occasional': 8, 'rapidly': 8, 'emails': 8, 'spirit': 8, 'selenium': 8, 'contractor': 8, 'manages': 8, 'broker': 8, 'computing': 8, 'capability': 8, 'car': 8, 'administer': 8, 'deploying': 8, 'reading': 8, 'orientated': 8, 'period': 8, 'contribution': 8, 'communicates': 8, 'promote': 8, 'prioritise': 8, 'elements': 8, 'answer': 8, 'benefit': 8, 'lieu': 8, 'profit': 8, 'step': 8, 'federal': 8, 'aggressive': 8, 'menu': 8, 'developments': 8, 'feet': 8, 'managerial': 8, 'recognized': 8, 'books': 8, 'audio': 8, 'free': 8, 'educated': 8, 'selecting': 8, 'geology': 8, 'receivables': 8, 'entries': 8, 'correspondence': 8, 'demonstration': 8, 'develops': 8, 'responds': 8, 'balances': 8, 'monitors': 8, 'controlling': 8, 'sale': 7, 'targets': 7, 'laptop': 7, 'addictions': 7, 'fantastic': 7, 'depot': 7, 'typography': 7, 'dedication': 7, 'talk': 7, 'pivot': 7, 'amazing': 7, 'sourcing': 7, 'listed': 7, 'interactive': 7, 'queries': 7, 'compatibility': 7, 'tablet': 7, 'grunt': 7, 'board': 7, 'prototype': 7, 'feasibility': 7, 'collaborating': 7, 'disability': 7, 'outbound': 7, 'closing': 7, 'addition': 7, 'securities': 7, 'desktop': 7, 'internally': 7, 'loves': 7, 'cisco': 7, 'weekend': 7, 'regional': 7, 'completed': 7, 'versed': 7, 'improving': 7, 'disciplined': 7, 'scanning': 7, 'orders': 7, 'disabilities': 7, 'overhead': 7, 'parts': 7, 'moderate': 7, 'centric': 7, 'lines': 7, 'checks': 7, 'friday': 7, 'champion': 7, 'contributor': 7, 'concisely': 7, 'color': 7, 'guide': 7, 'purpose': 7, 'assessment': 7, 'consideration': 7, 'structure': 7, 'bank': 7, 'facilitate': 7, 'sector': 7, 'educating': 7, 'lifestyle': 7, 'insights': 7, 'mac': 7, 'directory': 7, 'channel': 7, 'sophisticated': 7, 'fundamentals': 7, 'heavy': 7, 'clinical': 7, 'auditing': 7, 'thousands': 7, 'recruiter': 7, 'european': 7, 'internationally': 7, 'council': 7, 'air': 7, 'spring': 7, 'fit': 7, 'ticketing': 7, 'supplier': 7, 'exciting': 7, 'stable': 7, 'eb': 7, 'traditional': 7, 'coordinating': 7, 'concerns': 7, 'laws': 7, 'disaster': 7, 'periodic': 7, 'cases': 7, 'play': 7, 'executives': 7, 'organizations': 7, 'achieving': 7, 'winning': 7, 'student': 7, 'generation': 7, 'centered': 7, 'literacy': 7, 'apis': 7, 'table': 7, 'bootstrap': 7, 'greater': 7, 'pleasant': 7, 'audiences': 7, 'engines': 7, 'angular': 7, 'created': 7, 'offers': 7, 'utilize': 7, 'automotive': 7, 'coach': 7, 'stellar': 7, 'territory': 7, 'division': 7, 'restaurant': 7, 'promotes': 7, 'graphics': 7, 'vary': 7, 'printer': 7, 'place': 7, 'dental': 7, 'arrangements': 7, 'logic': 7, 'conflict': 7, 'chartered': 7, 'constructive': 7, 'demographic': 7, 'degrees': 7, 'recognised': 7, 'acceptable': 7, 'tact': 7, 'usage': 7, 'grammatically': 7, 'upstream': 7, 'doctors': 7, 'graduation': 7, 'vocational': 7, 'payables': 7, 'distributes': 7, 'measures': 7, 'liability': 7, 'miscellaneous': 7, 'agents': 7, 'printing': 7, 'centre': 6, 'apprenticeship': 6, 'wider': 6, 'prospect': 6, 'conference': 6, 'request': 6, 'validation': 6, 'increase': 6, 'multimedia': 6, 'routing': 6, 'establishing': 6, 'corrective': 6, 'punctuality': 6, 'drilling': 6, 'channels': 6, 'lot': 6, 'prototypes': 6, 'animation': 6, 'estimates': 6, 'improvements': 6, 'developmental': 6, 'pick': 6, 'presence': 6, 'foreign': 6, 'box': 6, 'conducting': 6, 'green': 6, 'cpr': 6, 'examination': 6, 'strategically': 6, 'electrician': 6, 'editorial': 6, 'forklift': 6, 'warehouse': 6, 'performed': 6, 'stage': 6, 'counseling': 6, 'substance': 6, 'device': 6, 'expand': 6, 'logistics': 6, 'facility': 6, 'assembly': 6, 'surface': 6, 'prioritizing': 6, 'pull': 6, 'gathering': 6, 'happy': 6, 'ways': 6, 'german': 6, 'interests': 6, 'political': 6, 'overcome': 6, 'advocate': 6, 'regions': 6, 'fixed': 6, 'seeks': 6, 'month': 6, 'startups': 6, 'oversee': 6, 'timelines': 6, 'style': 6, 'luxury': 6, 'press': 6, 'sounds': 6, 'broadcaster': 6, 'region': 6, 'assignment': 6, 'institution': 6, 'release': 6, 'posted': 6, 'automatically': 6, 'forwards': 6, 'expenses': 6, 'citizen': 6, 'demeanor': 6, 'encourage': 6, 'courses': 6, 'combined': 6, 'tablets': 6, 'augmented': 6, 'reality': 6, 'debugging': 6, 'abreast': 6, 'excellence': 6, 'hydraulic': 6, 'acquired': 6, 'commerce': 6, 'loyalty': 6, 'grade': 6, 'easily': 6, 'promotions': 6, 'anticipate': 6, 'depending': 6, 'budgeting': 6, 'craft': 6, 'petrochemical': 6, 'family': 6, 'rotating': 6, 'upbeat': 6, 'structures': 6, 'demonstrating': 6, 'spreadsheets': 6, 'ethics': 6, 'wpm': 6, 'acquisition': 6, 'investigations': 6, 'annual': 6, 'backup': 6, 'context': 6, 'owner': 6, 'identification': 6, 'character': 6, 'calendars': 6, 'accountant': 6, 'effort': 6, 'mid': 6, 'emphasis': 6, 'legislation': 6, 'lamp': 6, 'sass': 6, 'weigh': 6, 'collateral': 6, 'methodical': 6, 'wednesday': 6, 'physics': 6, 'log': 6, 'packaging': 6, 'iterate': 6, 'generally': 6, 'numbers': 6, 'walking': 6, 'rates': 6, 'publishing': 6, 'utilizing': 6, 'auditor': 6, 'add': 6, 'study': 6, 'curriculum': 6, 'shell': 6, 'incident': 6, 'drafting': 6, 'behavior': 6, 'purchase': 6, 'contracts': 6, 'amazon': 6, 'specification': 6, 'force': 6, 'bar': 6, 'hnd': 6, 'regard': 6, 'fine': 6, 'guidelines': 6, 'contractual': 6, 'concentration': 6, 'telco': 6, 'varied': 6, 'inspection': 6, 'measurements': 6, 'kv': 6, 'unable': 6, 'price': 6, 'rating': 6, 'installing': 6, 'cooperation': 6, 'occur': 6, 'bravo': 6, 'retrofit': 6, 'fittings': 6, 'underground': 6, 'sumps': 6, 'sump': 6, 'locate': 6, 'pump': 6, 'colored': 6, 'ink': 6, 'sold': 6, 'brown': 6, 'billings': 6, 'reimbursement': 6, 'verifies': 6, 'generated': 6, 'researches': 6, 'initiates': 6, 'tracers': 6, 'resubmits': 6, 'receipt': 6, 'reimbursements': 6, 'reconciles': 6, 'ledgers': 6, 'batches': 6, 'manuals': 6, 'litigation': 6, 'ensures': 6, 'wage': 6, 'certifying': 6, 'receptionist': 6, 'sapphire': 6, 'copies': 6, 'rapport': 5, 'opiate': 5, 'collect': 5, 'unloading': 5, 'landscape': 5, 'quota': 5, 'qualify': 5, 'performer': 5, 'operates': 5, 'coupled': 5, 'competitor': 5, 'fair': 5, 'push': 5, 'mandarin': 5, 'streams': 5, 'drawings': 5, 'truck': 5, 'tables': 5, 'haves': 5, 'institutions': 5, 'stock': 5, 'yrs': 5, 'chinese': 5, 'writer': 5, 'delivered': 5, 'semantic': 5, 'accessibility': 5, 'deals': 5, 'hungry': 5, 'sponsorship': 5, 'presented': 5, 'occupational': 5, 'scaling': 5, 'determination': 5, 'allowed': 5, 'imaging': 5, 'engine': 5, 'machinery': 5, 'stressful': 5, 'climb': 5, 'workforce': 5, 'completing': 5, 'understands': 5, 'adaptable': 5, 'substituted': 5, 'quotas': 5, 'desk': 5, 'highest': 5, 'aerospace': 5, 'tactical': 5, 'knowledgeable': 5, 'polish': 5, 'sas': 5, 'hot': 5, 'established': 5, 'grows': 5, 'versions': 5, 'determine': 5, 'dallas': 5, 'proprietary': 5, 'mining': 5, 'projections': 5, 'effects': 5, 'refine': 5, 'mortgage': 5, 'audience': 5, 'sharp': 5, 'apple': 5, 'road': 5, 'hear': 5, 'superb': 5, 'leverage': 5, 'treasury': 5, 'adjust': 5, 'launching': 5, 'templates': 5, 'mark': 5, 'ledger': 5, 'investigation': 5, 'bash': 5, 'upgrade': 5, 'consistency': 5, 'alignment': 5, 'licenses': 5, 'earning': 5, 'technically': 5, 'mandatory': 5, 'involvement': 5, 'evolving': 5, 'stress': 5, 'sinatra': 5, 'enhance': 5, 'personally': 5, 'participating': 5, 'true': 5, 'progressive': 5, 'coaching': 5, 'alternative': 5, 'browsers': 5, 'express': 5, 'transfer': 5, 'structural': 5, 'sleeves': 5, 'stakeholder': 5, 'transformation': 5, 'forecasting': 5, 'estimating': 5, 'definition': 5, 'exhibit': 5, 'basics': 5, 'accountabilities': 5, 'impeccable': 5, 'suppliers': 5, 'tuning': 5, 'text': 5, 'greek': 5, 'busy': 5, 'algorithms': 5, 'modules': 5, 'properly': 5, 'clustering': 5, 'investigate': 5, 'apache': 5, 'secure': 5, 'simulation': 5, 'boxes': 5, 'characteristics': 5, 'blog': 5, 'days': 5, 'duty': 5, 'parties': 5, 'waterfall': 5, 'telecommunications': 5, 'generating': 5, 'defined': 5, 'explore': 5, 'initiate': 5, 'valued': 5, 'commensurate': 5, 'actions': 5, 'arts': 5, 'aid': 5, 'chef': 5, 'deploy': 5, 'elegant': 5, 'entering': 5, 'manual': 5, 'machines': 5, 'coverage': 5, 'prospects': 5, 'outcome': 5, 'rigorous': 5, 'drivers': 5, 'fraud': 5, 'psychology': 5, 'correctly': 5, 'manufacturers': 5, 'comprehension': 5, 'disorder': 5, 'requested': 5, 'stooping': 5, 'payable': 5, 'publications': 5, 'bw': 5, 'anti': 5, 'transport': 5, 'verification': 5, 'cameras': 5, 'tracks': 5, 'adjusting': 5, 'repairing': 5, 'survival': 5, 'conception': 5, 'schematics': 5, 'infrastructures': 5, 'invoices': 5, 'subtraction': 5, 'multiplication': 5, 'scripts': 5, 'cable': 5, 'briefs': 5, 'skillful': 5, 'encourages': 5, 'obstacles': 5, 'respect': 5, 'reconcile': 5, 'climbing': 5, 'hat': 5, 'thoroughness': 5, 'normal': 5, 'conflicting': 5, 'outlets': 5, 'bringing': 5, 'membership': 5, 'water': 5, 'safely': 5, 'peripheral': 5, 'pressurize': 5, 'distributing': 5, 'resilience': 4, 'compatible': 4, 'wired': 4, 'recommended': 4, 'morning': 4, 'south': 4, 'crossroads': 4, 'involve': 4, 'outreach': 4, 'holder': 4, 'submitting': 4, 'happen': 4, 'technological': 4, 'broadcast': 4, 'preference': 4, 'fleet': 4, 'vital': 4, 'matter': 4, 'awesome': 4, 'doe': 4, 'promotional': 4, 'constant': 4, 'bilingual': 4, 'checking': 4, 'bad': 4, 'output': 4, 'template': 4, 'integrations': 4, 'head': 4, 'reference': 4, 'demanding': 4, 'parallel': 4, 'designation': 4, 'authorization': 4, 'updated': 4, 'liaise': 4, 'options': 4, 'secondary': 4, 'atmosphere': 4, 'finish': 4, 'numeric': 4, 'private': 4, 'london': 4, 'met': 4, 'sufficient': 4, 'rate': 4, 'kneel': 4, 'fumes': 4, 'temperature': 4, 'issued': 4, 'registered': 4, 'relocate': 4, 'electric': 4, 'fabrication': 4, 'edit': 4, 'bug': 4, 'patience': 4, 'positioning': 4, 'findings': 4, 'upgrades': 4, 'expansion': 4, 'carefully': 4, 'relating': 4, 'updating': 4, 'qualitative': 4, 'prepared': 4, 'affect': 4, 'varying': 4, 'reviewing': 4, 'collections': 4, 'late': 4, 'scheduled': 4, 'mixed': 4, 'beauty': 4, 'bloggers': 4, 'relate': 4, 'entertainment': 4, 'interviewing': 4, 'serve': 4, 'calm': 4, 'answered': 4, 'researching': 4, 'countries': 4, 'debt': 4, 'petroleum': 4, 'relates': 4, 'fellow': 4, 'fellowship': 4, 'valuable': 4, 'agility': 4, 'threaded': 4, 'bid': 4, 'hibernate': 4, 'settings': 4, 'administrators': 4, 'extreme': 4, 'docs': 4, 'attentive': 4, 'sheet': 4, 'lots': 4, 'talking': 4, 'kind': 4, 'punctual': 4, 'micro': 4, 'prove': 4, 'negotiate': 4, 'living': 4, 'country': 4, 'brands': 4, 'sharing': 4, 'navigate': 4, 'ems': 4, 'consultative': 4, 'huge': 4, 'microfilming': 4, 'knowledgeability': 4, 'restful': 4, 'final': 4, 'symbol': 4, 'trusted': 4, 'fully': 4, 'genuine': 4, 'tactics': 4, 'architectures': 4, 'bids': 4, 'diagrams': 4, 'heart': 4, 'tax': 4, 'round': 4, 'proofreading': 4, 'eligibility': 4, 'supports': 4, 'studying': 4, 'touch': 4, 'phase': 4, 'curiosity': 4, 'opinions': 4, 'iterative': 4, 'trained': 4, 'graphs': 4, 'compliant': 4, 'functionality': 4, 'reconciliation': 4, 'pos': 4, 'systematic': 4, 'links': 4, 'constraints': 4, 'convey': 4, 'sketch': 4, 'visualization': 4, 'assistance': 4, 'directors': 4, 'yahoo': 4, 'neat': 4, 'determined': 4, 'illustrations': 4, 'debug': 4, 'recognition': 4, 'supervising': 4, 'navigation': 4, 'teach': 4, 'architectural': 4, 'tableau': 4, 'cincinnati': 4, 'profitable': 4, 'importantly': 4, 'meets': 4, 'capture': 4, 'organising': 4, 'alike': 4, 'transcript': 4, 'escalation': 4, 'appreciated': 4, 'matrix': 4, 'conferences': 4, 'increased': 4, 'belt': 4, 'sciences': 4, 'shaped': 4, 'groomed': 4, 'certificates': 4, 'ceo': 4, 'strengths': 4, 'casual': 4, 'intervention': 4, 'scaffolding': 4, 'assists': 4, 'discussions': 4, 'interacting': 4, 'blogs': 4, 'shares': 4, 'equally': 4, 'recognize': 4, 'mouth': 4, 'pixel': 4, 'pretty': 4, 'tolerance': 4, 'accomplishments': 4, 'holiday': 4, 'integrating': 4, 'limits': 4, 'analyse': 4, 'residential': 4, 'sheets': 4, 'organizing': 4, 'relocation': 4, 'maven': 4, 'gather': 4, 'figures': 4, 'series': 4, 'grammar': 4, 'retain': 4, 'aware': 4, 'harm': 4, 'reduction': 4, 'sw': 4, 'foster': 4, 'plenty': 4, 'light': 4, 'loans': 4, 'phones': 4, 'vacation': 4, 'rotation': 4, 'advisor': 4, 'suites': 4, 'homeless': 4, 'incorporate': 4, 'abstract': 4, 'host': 4, 'evening': 4, 'faster': 4, 'listen': 4, 'single': 4, 'man': 4, 'proof': 4, 'instrument': 4, 'volts': 4, 'blueprints': 4, 'maritime': 4, 'applies': 4, 'permitting': 4, 'guideline': 4, 'calibrate': 4, 'controllers': 4, 'transformers': 4, 'generators': 4, 'emissions': 4, 'ftp': 4, 'evaluated': 4, 'deposits': 4, 'guests': 4, 'fees': 4, 'percentages': 4, 'offices': 4, 'idiomatic': 4, 'fibres': 4, 'banquet': 4, 'guilds': 4, 'papers': 4, 'intern': 4, 'reservations': 4, 'heat': 4, 'exercise': 4, 'tape': 4, 'establishes': 4, 'menus': 4, 'independence': 4, 'wifi': 4, 'radios': 4, 'wave': 4, 'spaces': 4, 'accessed': 4, 'routinely': 4, 'surfaces': 4, 'grounds': 4, 'mechanic': 4, 'casino': 4, 'mapping': 4, 'recruit': 4, 'composure': 4, 'emotional': 4, 'gasoline': 4, 'weights': 4, 'tank': 4, 'gauging': 4, 'appointments': 4, 'surgeries': 4, 'pastor': 4, 'hazardous': 4, 'impediments': 3, 'bee': 3, 'dba': 3, 'journey': 3, 'mile': 3, 'persuasive': 3, 'experts': 3, 'fcc': 3, 'unstructured': 3, 'unrelenting': 3, 'hunter': 3, 'coursework': 3, 'protocol': 3, 'talented': 3, 'usable': 3, 'surveys': 3, 'players': 3, 'numerical': 3, 'examples': 3, 'adaptive': 3, 'exempt': 3, 'repeatedly': 3, 'partnership': 3, 'charts': 3, 'loads': 3, 'idea': 3, 'adapting': 3, 'liaison': 3, 'partnering': 3, 'keynote': 3, 'engagements': 3, 'hosted': 3, 'markup': 3, 'velocity': 3, 'canvas': 3, 'prospecting': 3, 'comparable': 3, 'starters': 3, 'resourcefulness': 3, 'coordinator': 3, 'citizens': 3, 'facilitation': 3, 'persuading': 3, 'lan': 3, 'wan': 3, 'therapy': 3, 'hosting': 3, 'helpdesk': 3, 'midstream': 3, 'blue': 3, 'journeyman': 3, 'keystrokes': 3, 'housekeeping': 3, 'stoop': 3, 'automobile': 3, 'noise': 3, 'outlined': 3, 'intended': 3, 'bradley': 3, 'north': 3, 'intuitive': 3, 'recurring': 3, 'requiring': 3, 'diligent': 3, 'contracting': 3, 'trouble': 3, 'composites': 3, 'theory': 3, 'pattern': 3, 'genuinely': 3, 'receptive': 3, 'utilization': 3, 'approval': 3, 'factor': 3, 'recruiters': 3, 'compensation': 3, 'publication': 3, 'influential': 3, 'reit': 3, 'newport': 3, 'housing': 3, 'divisions': 3, 'workshops': 3, 'leveraging': 3, 'merchant': 3, 'launch': 3, 'saturdays': 3, 'book': 3, 'appreciation': 3, 'workflows': 3, 'survey': 3, 'activation': 3, 'original': 3, 'interviews': 3, 'employ': 3, 'upload': 3, 'videos': 3, 'validate': 3, 'wear': 3, 'suitable': 3, 'fresh': 3, 'roi': 3, 'published': 3, 'programmes': 3, 'floor': 3, 'reside': 3, 'gui': 3, 'terminal': 3, 'mon': 3, 'hardworking': 3, 'grads': 3, 'reservation': 3, 'adoption': 3, 'reliant': 3, 'prefer': 3, 'utility': 3, 'sectors': 3, 'thrives': 3, 'formats': 3, 'invest': 3, 'finding': 3, 'edge': 3, 'stays': 3, 'continually': 3, 'contributing': 3, 'pitches': 3, 'writers': 3, 'brainstorming': 3, 'branded': 3, 'topics': 3, 'humour': 3, 'collecting': 3, 'externally': 3, 'venture': 3, 'staying': 3, 'formulas': 3, 'conventions': 3, 'exploring': 3, 'led': 3, 'proposing': 3, 'white': 3, 'mitigation': 3, 'satisfactory': 3, 'austin': 3, 'backbone': 3, 'orally': 3, 'dutch': 3, 'sensibilities': 3, 'centred': 3, 'font': 3, 'aligned': 3, 'pipelines': 3, 'brilliant': 3, 'anticipates': 3, 'failure': 3, 'visa': 3, 'map': 3, 'promoting': 3, 'star': 3, 'converting': 3, 'rules': 3, 'oversight': 3, 'forensics': 3, 'continual': 3, 'units': 3, 'incidents': 3, 'geographic': 3, 'flows': 3, 'profiling': 3, 'acceptance': 3, 'psychometrics': 3, 'sort': 3, 'mix': 3, 'rock': 3, 'unity': 3, 'balanced': 3, 'warehousing': 3, 'estimate': 3, 'reputation': 3, 'posses': 3, 'expression': 3, 'articles': 3, 'stages': 3, 'informatics': 3, 'wire': 3, 'framing': 3, 'samples': 3, 'kinds': 3, 'tough': 3, 'seta': 3, 'ninja': 3, 'allocation': 3, 'handles': 3, 'snapshots': 3, 'duration': 3, 'mis': 3, 'query': 3, 'ssas': 3, 'hazard': 3, 'bower': 3, 'recommend': 3, 'fails': 3, 'beautiful': 3, 'farmers': 3, 'escalate': 3, 'iis': 3, 'guides': 3, 'foot': 3, 'leaders': 3, 'inform': 3, 'maximize': 3, 'exceptionally': 3, 'navigating': 3, 'accommodation': 3, 'threading': 3, 'motion': 3, 'evangelist': 3, 'geography': 3, 'young': 3, 'numerous': 3, 'notes': 3, 'evaluate': 3, 'experiencing': 3, 'philosophy': 3, 'requisite': 3, 'jump': 3, 'align': 3, 'regulation': 3, 'plumbing': 3, 'lists': 3, 'designed': 3, 'appraisal': 3, 'focusing': 3, 'cut': 3, 'pushing': 3, 'broader': 3, 'children': 3, 'gaming': 3, 'modelling': 3, 'workers': 3, 'magnetic': 3, 'component': 3, 'incomplete': 3, 'geographies': 3, 'limitations': 3, 'exceeds': 3, 'priority': 3, 'seek': 3, 'processed': 3, 'shortlisted': 3, 'migrating': 3, 'matters': 3, 'mongo': 3, 'games': 3, 'rich': 3, 'diversity': 3, 'carrier': 3, 'entity': 3, 'accomplish': 3, 'biology': 3, 'possesses': 3, 'traits': 3, 'earn': 3, 'money': 3, 'owning': 3, 'sustainable': 3, 'transition': 3, 'reconciliations': 3, 'yearly': 3, 'backgrounds': 3, 'courteous': 3, 'remain': 3, 'hierarchies': 3, 'productive': 3, 'emergency': 3, 'responder': 3, 'reward': 3, 'confluence': 3, 'crowd': 3, 'hunger': 3, 'vertical': 3, 'experiment': 3, 'circumstances': 3, 'documented': 3, 'etiquette': 3, 'minute': 3, 'delighting': 3, 'friend': 3, 'referral': 3, 'completely': 3, 'empowered': 3, 'viral': 3, 'click': 3, 'fans': 3, 'ember': 3, 'summary': 3, 'plated': 3, 'joining': 3, 'agreed': 3, 'multivariate': 3, 'coming': 3, 'portal': 3, 'legacy': 3, 'configuring': 3, 'diligence': 3, 'greeting': 3, 'kitchen': 3, 'adequately': 3, 'competence': 3, 'mind': 3, 'juggling': 3, 'actuate': 3, 'tooling': 3, 'scales': 3, 'producing': 3, 'select': 3, 'path': 3, 'paperwork': 3, 'terminology': 3, 'wholesale': 3, 'organise': 3, 'maths': 3, 'controlled': 3, 'programmer': 3, 'subsurface': 3, 'seismic': 3, 'interpretation': 3, 'geophysics': 3, 'coordinates': 3, 'animals': 3, 'airline': 3, 'chat': 3, 'thoughts': 3, 'phases': 3, 'flat': 3, 'static': 3, 'keeping': 3, 'scientific': 3, 'buying': 3, 'aided': 3, 'super': 3, 'culturally': 3, 'designated': 3, 'barriers': 3, 'behaviours': 3, 'crisis': 3, 'overwhelming': 3, 'cab': 3, 'restaurants': 3, 'sip': 3, 'instruction': 3, 'verify': 3, 'administering': 3, 'fax': 3, 'technologically': 3, 'leave': 3, 'faxes': 3, 'typical': 3, 'credibility': 3, 'waste': 3, 'salt': 3, 'automating': 3, 'attitudes': 3, 'consultants': 3, 'aix': 3, 'youth': 3, 'agent': 3, 'deliveries': 3, 'comply': 3, 'surrounding': 3, 'qualifying': 3, 'chain': 3, 'workshop': 3, 'envision': 3, 'central': 3, 'involves': 3, 'defines': 3, 'sop': 3, 'sizing': 3, 'transcribing': 3, 'minutes': 3, 'tune': 3, 'optimal': 3, 'yield': 3, 'honesty': 3, 'appropriately': 3, 'feed': 3, 'learns': 3, 'molding': 3, 'sees': 3, 'functionally': 3, 'fly': 3, 'teammates': 3, 'injection': 3, 'novation': 3, 'reservoir': 3, 'topside': 3, 'view': 3, 'installations': 3, 'ordering': 3, 'receivable': 3, 'texas': 3, 'pneumatics': 3, 'motors': 3, 'servo': 3, 'male': 3, 'female': 3, 'forklifts': 3, 'nec': 3, 'dec': 3, 'migration': 3, 'enforce': 3, 'commenced': 3, 'numeracy': 3, 'theoretical': 3, 'connections': 3, 'transform': 3, 'premium': 3, 'scenarios': 3, 'punctuate': 3, 'transcribe': 3, 'pressurized': 3, 'disciplinary': 3, 'inspections': 3, 'davis': 3, 'spreadsheet': 3, 'steps': 3, 'clarification': 3, 'count': 3, 'reduce': 3, 'served': 3, 'substantial': 3, 'oilfield': 3, 'preventive': 3, 'trains': 3, 'umbilical': 3, 'vessels': 3, 'devise': 3, 'optical': 3, 'processor': 3, 'fda': 3, 'domestic': 3, 'responding': 3, 'ers': 3, 'brokerage': 3, 'brokers': 3, 'county': 3, 'mls': 3, 'conscious': 3, 'cards': 3, 'contributions': 3, 'kneeling': 3, 'geologic': 3, 'biological': 3, 'marshal': 3, 'answering': 3, 'hl': 3, 'ease': 2, 'addiction': 2, 'carolina': 2, 'addicted': 2, 'optimisation': 2, 'spot': 2, 'carrying': 2, 'makers': 2, 'succinctly': 2, 'relentless': 2, 'proxy': 2, 'styling': 2, 'biz': 2, 'reputable': 2, 'today': 2, 'presentable': 2, 'scratch': 2, 'gadgets': 2, 'impacts': 2, 'mechanisms': 2, 'perceive': 2, 'alternatives': 2, 'specialization': 2, 'thing': 2, 'cargo': 2, 'pound': 2, 'bundles': 2, 'shingles': 2, 'random': 2, 'endorsement': 2, 'overview': 2, 'delights': 2, 'accountable': 2, 'penetration': 2, 'boot': 2, 'principle': 2, 'everyday': 2, 'outwards': 2, 'transforms': 2, 'fonts': 2, 'library': 2, 'retina': 2, 'markups': 2, 'razor': 2, 'educate': 2, 'sounding': 2, 'debate': 2, 'clock': 2, 'tricks': 2, 'interactions': 2, 'stretch': 2, 'publicly': 2, 'traded': 2, 'stunning': 2, 'waiting': 2, 'fastest': 2, 'interesting': 2, 'physician': 2, 'negative': 2, 'skin': 2, 'chest': 2, 'ray': 2, 'multicultural': 2, 'descriptions': 2, 'conduit': 2, 'precision': 2, 'remittance': 2, 'editor': 2, 'remaining': 2, 'absolute': 2, 'counting': 2, 'pallet': 2, 'laminate': 2, 'satisfactorily': 2, 'waist': 2, 'stairs': 2, 'airborne': 2, 'particles': 2, 'dirt': 2, 'dust': 2, 'loud': 2, 'shoes': 2, 'identifies': 2, 'contents': 2, 'variables': 2, 'abuse': 2, 'feels': 2, 'distance': 2, 'adherence': 2, 'purchasing': 2, 'portuguese': 2, 'sequence': 2, 'swift': 2, 'suggestion': 2, 'lack': 2, 'leaving': 2, 'adopted': 2, 'massive': 2, 'empathy': 2, 'adversity': 2, 'choose': 2, 'rise': 2, 'break': 2, 'supported': 2, 'visits': 2, 'switches': 2, 'firewalls': 2, 'patches': 2, 'fixes': 2, 'evolution': 2, 'trending': 2, 'offered': 2, 'enhancement': 2, 'scalability': 2, 'diagnostic': 2, 'benchmarks': 2, 'buildings': 2, 'vector': 2, 'soft': 2, 'beach': 2, 'react': 2, 'balancing': 2, 'commonly': 2, 'financing': 2, 'dealer': 2, 'prime': 2, 'investments': 2, 'activity': 2, 'lenders': 2, 'investors': 2, 'dig': 2, 'volumes': 2, 'peak': 2, 'uncompromising': 2, 'entrepreneur': 2, 'informed': 2, 'counsel': 2, 'illustrate': 2, 'donors': 2, 'recommending': 2, 'delegate': 2, 'sports': 2, 'brainstorm': 2, 'switching': 2, 'weather': 2, 'closer': 2, 'settlement': 2, 'bondable': 2, 'radiate': 2, 'aspirations': 2, 'frequently': 2, 'builder': 2, 'television': 2, 'photos': 2, 'tourism': 2, 'absolutely': 2, 'tone': 2, 'paradigms': 2, 'facets': 2, 'shared': 2, 'launched': 2, 'measurably': 2, 'improved': 2, 'main': 2, 'ultrasound': 2, 'advisory': 2, 'sized': 2, 'cell': 2, 'equivalents': 2, 'classified': 2, 'russian': 2, 'ticket': 2, 'instincts': 2, 'confidently': 2, 'hustle': 2, 'settle': 2, 'teachable': 2, 'realtor': 2, 'landing': 2, 'targeting': 2, 'eagerness': 2, 'layer': 2, 'ws': 2, 'intelligent': 2, 'wearables': 2, 'cutting': 2, 'millions': 2, 'hospital': 2, 'intimate': 2, 'spread': 2, 'parametric': 2, 'faced': 2, 'employed': 2, 'newly': 2, 'intercom': 2, 'represents': 2, 'outsourcing': 2, 'domestically': 2, 'bias': 2, 'backed': 2, 'optimising': 2, 'delight': 2, 'consumers': 2, 'curious': 2, 'polyglot': 2, 'focuses': 2, 'guiding': 2, 'abroad': 2, 'connected': 2, 'inbound': 2, 'realistic': 2, 'conversation': 2, 'unassisted': 2, 'nursing': 2, 'competition': 2, 'overnight': 2, 'pipes': 2, 'stylus': 2, 'jade': 2, 'diagnostics': 2, 'propose': 2, 'immersed': 2, 'numerate': 2, 'sage': 2, 'lasting': 2, 'analysts': 2, 'memory': 2, 'proposition': 2, 'revenues': 2, 'advise': 2, 'dot': 2, 'adp': 2, 'ada': 2, 'outcomes': 2, 'cultures': 2, 'dimensional': 2, 'personalities': 2, 'measure': 2, 'expectation': 2, 'twist': 2, 'temperatures': 2, 'maintained': 2, 'scrappy': 2, 'inter': 2, 'raising': 2, 'alongside': 2, 'finger': 2, 'meals': 2, 'images': 2, 'roadblocks': 2, 'friends': 2, 'chosen': 2, 'contemporary': 2, 'manipulate': 2, 'american': 2, 'engaged': 2, 'caching': 2, 'compromising': 2, 'surround': 2, 'cool': 2, 'mit': 2, 'shape': 2, 'journeys': 2, 'petty': 2, 'aging': 2, 'closure': 2, 'stored': 2, 'triggers': 2, 'dts': 2, 'cucumber': 2, 'producer': 2, 'logs': 2, 'errors': 2, 'fluently': 2, 'positively': 2, 'critique': 2, 'tactfully': 2, 'story': 2, 'negotiable': 2, 'burning': 2, 'allowing': 2, 'agriculture': 2, 'enabled': 2, 'knowing': 2, 'actionable': 2, 'preparedness': 2, 'orientations': 2, 'empathic': 2, 'canvasses': 2, 'publishers': 2, 'creates': 2, 'acceleration': 2, 'equations': 2, 'plusses': 2, 'exemplary': 2, 'shapes': 2, 'sizes': 2, 'totally': 2, 'rewarded': 2, 'inspect': 2, 'painting': 2, 'pop': 2, 'resolving': 2, 'fulfilling': 2, 'ultimate': 2, 'thinks': 2, 'blueprint': 2, 'aimed': 2, 'visitor': 2, 'minor': 2, 'simply': 2, 'couple': 2, 'figure': 2, 'openness': 2, 'definite': 2, 'deposit': 2, 'streamlining': 2, 'rewards': 2, 'draw': 2, 'containers': 2, 'vagrant': 2, 'passive': 2, 'peer': 2, 'shipped': 2, 'happening': 2, 'chip': 2, 'productively': 2, 'caring': 2, 'chance': 2, 'imaginative': 2, 'challenged': 2, 'reactive': 2, 'retirement': 2, 'privacy': 2, 'inspiring': 2, 'approachable': 2, 'vend': 2, 'stimulating': 2, 'boundless': 2, 'flair': 2, 'kindly': 2, 'attachment': 2, 'weeks': 2, 'scheduler': 2, 'diagnose': 2, 'reflects': 2, 'enter': 2, 'sow': 2, 'wild': 2, 'black': 2, 'upwards': 2, 'union': 2, 'reporters': 2, 'biotechnology': 2, 'biotech': 2, 'retention': 2, 'legally': 2, 'segments': 2, 'evolve': 2, 'lay': 2, 'kenya': 2, 'dress': 2, 'hardening': 2, 'presents': 2, 'patch': 2, 'deployments': 2, 'informal': 2, 'speech': 2, 'pathologist': 2, 'east': 2, 'spectrum': 2, 'indirect': 2, 'weighting': 2, 'arrows': 2, 'licence': 2, 'verifiable': 2, 'actual': 2, 'brings': 2, 'label': 2, 'statement': 2, 'loyal': 2, 'ads': 2, 'transaction': 2, 'helps': 2, 'premier': 2, 'graphite': 2, 'alliances': 2, 'expanded': 2, 'assured': 2, 'obligations': 2, 'tested': 2, 'lateral': 2, 'sources': 2, 'incredible': 2, 'encouraging': 2, 'drives': 2, 'dance': 2, 'fiddling': 2, 'hired': 2, 'holy': 2, 'trinity': 2, 'groundwork': 2, 'foremost': 2, 'offspring': 2, 'fear': 2, 'refer': 2, 'grails': 2, 'healthy': 2, 'featured': 2, 'street': 2, 'seasoned': 2, 'household': 2, 'info': 2, 'editors': 2, 'vast': 2, 'accomplished': 2, 'dogs': 2, 'intuition': 2, 'hq': 2, 'item': 2, 'tests': 2, 'mocking': 2, 'respectful': 2, 'crystal': 2, 'seamless': 2, 'advancement': 2, 'doer': 2, 'ranges': 2, 'mediums': 2, 'mass': 2, 'functioning': 2, 'stocked': 2, 'landlord': 2, 'assertive': 2, 'analytically': 2, 'convert': 2, 'representation': 2, 'quoting': 2, 'rbc': 2, 'discounts': 2, 'conversions': 2, 'tackle': 2, 'attractive': 2, 'specialized': 2, 'enhancements': 2, 'film': 2, 'reliability': 2, 'maps': 2, 'flex': 2, 'ant': 2, 'cassandra': 2, 'win': 2, 'styles': 2, 'logically': 2, 'informative': 2, 'organiser': 2, 'garden': 2, 'gcse': 2, 'faculty': 2, 'inception': 2, 'temporary': 2, 'funnel': 2, 'evaluating': 2, 'waco': 2, 'valley': 2, 'china': 2, 'springs': 2, 'layouts': 2, 'extraordinary': 2, 'germany': 2, 'furnished': 2, 'connects': 2, 'delivers': 2, 'clarify': 2, 'cultivate': 2, 'schemes': 2, 'promotion': 2, 'learned': 2, 'skillfully': 2, 'transitioning': 2, 'evaluations': 2, 'raw': 2, 'differentiated': 2, 'licensing': 2, 'determinants': 2, 'hiv': 2, 'tenant': 2, 'modalities': 2, 'aids': 2, 'principals': 2, 'differences': 2, 'edd': 2, 'volunteering': 2, 'zend': 2, 'converse': 2, 'golden': 2, 'graceful': 2, 'degradation': 2, 'achievement': 2, 'resident': 2, 'authoring': 2, 'fulfill': 2, 'solicit': 2, 'chrome': 2, 'lectures': 2, 'classroom': 2, 'lower': 2, 'complaints': 2, 'return': 2, 'rewarding': 2, 'greet': 2, 'sick': 2, 'dell': 2, 'blend': 2, 'administrator': 2, 'asap': 2, 'fri': 2, 'objects': 2, 'stuck': 2, 'inn': 2, 'message': 2, 'deployed': 2, 'contention': 2, 'motivational': 2, 'strength': 2, 'gc': 2, 'charge': 2, 'ats': 2, 'quitter': 2, 'race': 2, 'excitement': 2, 'mediation': 2, 'bartender': 2, 'beer': 2, 'condition': 2, 'unload': 2, 'optional': 2, 'breaking': 2, 'frequent': 2, 'window': 2, 'tangible': 2, 'discovering': 2, 'mother': 2, 'perspective': 2, 'readiness': 2, 'downtown': 2, 'ahead': 2, 'tenacity': 2, 'queuing': 2, 'encoding': 2, 'reaching': 2, 'sustainability': 2, 'facilitating': 2, 'sessions': 2, 'psi': 2, 'simulations': 2, 'necessities': 2, 'unsupervised': 2, 'vessel': 2, 'zoning': 2, 'underwriters': 2, 'ranging': 2, 'pursuing': 2, 'dive': 2, 'avoiding': 2, 'pitfalls': 2, 'mvp': 2, 'ecc': 2, 'forecasts': 2, 'mixture': 2, 'fluid': 2, 'mechanics': 2, 'thermodynamics': 2, 'elevated': 2, 'mice': 2, 'noble': 2, 'invoicing': 2, 'logged': 2, 'accounted': 2, 'resistance': 2, 'hydraulics': 2, 'siemens': 2, 'tidy': 2, 'dependability': 2, 'mange': 2, 'conducive': 2, 'formation': 2, 'tellus': 2, 'ante': 2, 'norms': 2, 'operationally': 2, 'travelling': 2, 'stationing': 2, 'paths': 2, 'schema': 2, 'optimum': 2, 'assign': 2, 'spam': 2, 'virus': 2, 'abs': 2, 'veteran': 2, 'closeout': 2, 'exchanger': 2, 'juggle': 2, 'costs': 2, 'enters': 2, 'computes': 2, 'dollars': 2, 'assessors': 2, 'possessing': 2, 'decisive': 2, 'accommodating': 2, 'sabre': 2, 'apollo': 2, 'topsides': 2, 'totality': 2, 'option': 2, 'harsh': 2, 'ice': 2, 'prone': 2, 'gathers': 2, 'incorporates': 2, 'recognizes': 2, 'symptoms': 2, 'integrates': 2, 'serves': 2, 'acknowledges': 2, 'expresses': 2, 'listens': 2, 'attentively': 2, 'viewpoints': 2, 'openly': 2, 'delegates': 2, 'conveys': 2, 'redirects': 2, 'removes': 2, 'solved': 2, 'accords': 2, 'residents': 2, 'newfoundland': 2, 'labrador': 2, 'canadians': 2, 'hp': 2, 'disk': 2, 'fiber': 2, 'archive': 2, 'nas': 2, 'connect': 2, 'protective': 2, 'cluster': 2, 'optimize': 2, 'frequency': 2, 'corrosion': 2, 'continuing': 2, 'frame': 2, 'basically': 2, 'stubbornness': 2, 'disagree': 2, 'lover': 2, 'puzzles': 2, 'wannabe': 2, 'informally': 2, 'subjects': 2, 'format': 2, 'traders': 2, 'cleaner': 2, 'hypotheses': 2, 'station': 2, 'pneumatic': 2, 'nomenclature': 2, 'capacities': 2, 'theories': 2, 'lockout': 2, 'lifts': 2, 'prints': 2, 'gauge': 2, 'stool': 2, 'stairways': 2, 'crawling': 2, 'clearances': 2, 'lying': 2, 'lowering': 2, 'removing': 2, 'hatch': 2, 'uneven': 2, 'loose': 2, 'grating': 2, 'staircases': 2, 'irregularly': 2, 'cylinders': 2, 'pressured': 2, 'gases': 2, 'compressed': 2, 'height': 2, 'compartments': 2, 'serviced': 2, 'mounted': 2, 'voltage': 2, 'ground': 2, 'poles': 2, 'portable': 2, 'breakers': 2, 'manually': 2, 'pulled': 2, 'pushed': 2, 'incumbent': 2, 'tag': 2, 'undertake': 2, 'undergone': 2, 'handover': 2, 'estimation': 2, 'delegated': 2, 'keyboard': 2, 'continued': 2, 'welcomed': 2, 'persons': 2, 'hacker': 2, 'refining': 2, 'cook': 2, 'attendant': 2, 'clerk': 2, 'resort': 2, 'formatting': 2, 'releases': 2, 'typically': 2, 'agreement': 2, 'variable': 2, 'red': 2, 'webcam': 2, 'treating': 2, 'steam': 2, 'generator': 2, 'expenditure': 2, 'investigative': 2, 'binding': 2, 'diffuse': 2, 'angry': 2, 'irate': 2, 'justice': 2, 'investigator': 2, 'mom': 2, 'deputies': 2, 'demeanour': 2, 'notwithstanding': 2, 'cope': 2, 'convince': 2, 'proposed': 2, 'versatile': 2, 'leeway': 2, 'permits': 2, 'supervise': 2, 'correspond': 2, 'deviation': 2, 'differentiates': 2, 'slicks': 2, 'spokesperson': 2, 'patent': 2, 'residual': 2, 'feeds': 2, 'rigging': 2, 'utilizes': 2, 'winner': 2, 'professing': 2, 'christian': 2, 'secretarial': 2, 'violation': 2, 'dismissal': 2, 'conscientious': 2, 'discernment': 2, 'wise': 2, 'visitors': 2, 'notifications': 2, 'chairman': 2, 'deacons': 2, 'deaths': 2, 'hospitalizations': 2, 'accidents': 2, 'births': 2, 'bulletin': 2, 'prayer': 2, 'secretary': 2, 'letters': 2, 'mailing': 2, 'disseminate': 2, 'occasions': 2, 'departure': 2, 'pto': 2, 'bills': 2, 'committee': 2, 'volunteer': 2, 'participant': 2, 'invoice': 2, 'constitute': 2, 'kingdom': 2, 'mapper': 2, 'surfer': 2, 'triton': 2, 'geophysical': 2, 'ocean': 2, 'headquarters': 2, 'ranks': 2, 'explosive': 2, 'doubled': 2, 'visionary': 2, 'hydrology': 2, 'epa': 2, 'wastewater': 2, 'disposal': 2, 'spill': 2, 'blackberry': 2, 'method': 2, 'valve': 2, 'decorating': 2, 'tenants': 2, 'shop': 2, 'pumps': 2, 'exchangers': 2, 'budgetary': 2, 'surf': 2, 'town': 2, 'bakersfield': 2, 'geographical': 2, 'directing': 2, 'bonuses': 2, 'prevailing': 2, 'prelim': 2, 'fringe': 2, 'bacon': 2, 'contractors': 2, 'mentors': 2, 'drills': 2, 'approves': 2, 'hygiene': 2, 'sentence': 2, 'punctuation': 2, 'computerized': 2, 'kern': 2, 'adult': 2, 'inhalation': 2, 'highway': 2, 'messenger': 2, 'landline': 1, 'explorer': 1, 'larger': 1, 'viewing': 1, 'consignments': 1, 'acc': 1, 'webmaster': 1, 'moment': 1, 'gregory': 1, 'dea': 1, 'immense': 1, 'exploit': 1, 'dna': 1, 'combining': 1, 'colour': 1, 'analyzers': 1, 'fiddler': 1, 'session': 1, 'charles': 1, 'sleek': 1, 'realised': 1, 'eyes': 1, 'tirelessly': 1, 'refinements': 1, 'groovy': 1, 'confer': 1, 'sanitary': 1, 'needle': 1, 'macros': 1, 'sample': 1, 'influences': 1, 'bureaucracy': 1, 'agnosticism': 1, 'religious': 1, 'feelings': 1, 'averse': 1, 'extending': 1, 'archives': 1, 'denver': 1, 'kernel': 1, 'loader': 1, 'grub': 1, 'commissioned': 1, 'aviation': 1, 'worth': 1, 'manageing': 1, 'proved': 1, 'perfectionist': 1, 'hobby': 1, 'questionnaires': 1, 'undertaken': 1, 'rounder': 1, 'careful': 1, 'facts': 1, 'maturity': 1, 'telephony': 1, 'outages': 1, 'restoration': 1, 'santa': 1, 'wlan': 1, 'multilingual': 1, 'official': 1, 'alphanumeric': 1, 'scanners': 1, 'gifted': 1, 'shipments': 1, 'jack': 1, 'trucks': 1, 'postage': 1, 'calculator': 1, 'packing': 1, 'alertness': 1, 'wizard': 1, 'rotterdam': 1, 'substations': 1, 'compounding': 1, 'physicians': 1, 'requisition': 1, 'bother': 1, 'composite': 1, 'stacking': 1, 'lamination': 1, 'bonded': 1, 'assemblies': 1, 'cure': 1, 'feedbacks': 1, 'replicate': 1, 'curate': 1, 'wits': 1, 'uncertainties': 1, 'answers': 1, 'stones': 1, 'unturned': 1, 'reveal': 1, 'bigger': 1, 'chops': 1, 'wondering': 1, 'kudos': 1, 'optimism': 1, 'distress': 1, 'dawn': 1, 'forces': 1, 'weep': 1, 'trend': 1, 'crucially': 1, 'mistakes': 1, 'italian': 1, 'cairo': 1, 'gulf': 1, 'passions': 1, 'balancers': 1, 'packs': 1, 'conjunction': 1, 'lab': 1, 'knit': 1, 'conceptualize': 1, 'switchboard': 1, 'photo': 1, 'correction': 1, 'variances': 1, 'cartoons': 1, 'satirize': 1, 'cuban': 1, 'cuba': 1, 'objections': 1, 'macroeconomic': 1, 'origination': 1, 'governance': 1, 'dissect': 1, 'empirical': 1, 'economist': 1, 'columbia': 1, 'exercises': 1, 'econometric': 1, 'stochastic': 1, 'sophistication': 1, 'expeditiously': 1, 'predicting': 1, 'classes': 1, 'borrowers': 1, 'consisting': 1, 'district': 1, 'washington': 1, 'shooting': 1, 'fluctuating': 1, 'hindi': 1, 'conceptualizing': 1, 'innovators': 1, 'backgrounders': 1, 'radian': 1, 'ded': 1, 'relative': 1, 'lifetime': 1, 'defuse': 1, 'tense': 1, 'novices': 1, 'azure': 1, 'warp': 1, 'guaranteed': 1, 'storm': 1, 'controller': 1, 'principal': 1, 'optimistic': 1, 'authentic': 1, 'consensus': 1, 'checklist': 1, 'accomplishment': 1, 'mastery': 1, 'shorter': 1, 'ramp': 1, 'necessitating': 1, 'undergrad': 1, 'voicing': 1, 'radio': 1, 'comprehensiveness': 1, 'announcer': 1, 'bulletins': 1, 'newscasts': 1, 'attire': 1, 'recorded': 1, 'immerse': 1, 'paris': 1, 'fits': 1, 'multinational': 1, 'currencies': 1, 'leveraged': 1, 'retailing': 1, 'universal': 1, 'aligning': 1, 'iterating': 1, 'buffers': 1, 'scrubber': 1, 'driers': 1, 'opinion': 1, 'nhs': 1, 'sorts': 1, 'iterations': 1, 'pouches': 1, 'alarm': 1, 'sat': 1, 'proximity': 1, 'fellows': 1, 'exceptions': 1, 'unpaid': 1, 'reimbursed': 1, 'lunches': 1, 'mondays': 1, 'mmpi': 1, 'emergent': 1, 'manipulation': 1, 'cheerleader': 1, 'economies': 1, 'butt': 1, 'oregon': 1, 'highschool': 1, 'captivate': 1, 'storyline': 1, 'revisions': 1, 'determining': 1, 'topic': 1, 'foresee': 1, 'jazz': 1, 'bus': 1, 'investing': 1, 'revolutionizing': 1, 'commanding': 1, 'downloads': 1, 'inpatient': 1, 'outpatient': 1, 'clinic': 1, 'interacts': 1, 'practitioners': 1, 'interruptions': 1, 'reacts': 1, 'forge': 1, 'manifest': 1, 'seniorities': 1, 'ambiguous': 1, 'chief': 1, 'officer': 1, 'specialists': 1, 'rooms': 1, 'stylistic': 1, 'rationalize': 1, 'sketching': 1, 'mood': 1, 'metal': 1, 'welding': 1, 'strain': 1, 'tolerate': 1, 'heights': 1, 'aerial': 1, 'myriad': 1, 'pusher': 1, 'talks': 1, 'hide': 1, 'forums': 1, 'anonymous': 1, 'incredibly': 1, 'ego': 1, 'embedded': 1, 'releasing': 1, 'cooperatively': 1, 'stakes': 1, 'lingual': 1, 'behaviour': 1, 'ball': 1, 'drip': 1, 'hero': 1, 'embody': 1, 'bay': 1, 'systematize': 1, 'gold': 1, 'attorneys': 1, 'ribbon': 1, 'offended': 1, 'motivating': 1, 'coast': 1, 'stretching': 1, 'affiliates': 1, 'trustworthy': 1, 'forefront': 1, 'launcher': 1, 'cities': 1, 'pain': 1, 'executed': 1, 'weathered': 1, 'sponsorships': 1, 'partly': 1, 'delicate': 1, 'burgeoning': 1, 'strategist': 1, 'nurtured': 1, 'gaining': 1, 'fin': 1, 'advocacy': 1, 'boarding': 1, 'probing': 1, 'fiscal': 1, 'spatial': 1, 'attainable': 1, 'indicators': 1, 'positivity': 1, 'sincerity': 1, 'ambulatory': 1, 'mainstream': 1, 'paramedics': 1, 'suggestions': 1, 'admit': 1, 'consume': 1, 'gulp': 1, 'switch': 1, 'mocha': 1, 'cfc': 1, 'testings': 1, 'colors': 1, 'counterparts': 1, 'spf': 1, 'seniors': 1, 'fruitful': 1, 'focussed': 1, 'playing': 1, 'aggressively': 1, 'cia': 1, 'low': 1, 'margin': 1, 'inspired': 1, 'solves': 1, 'technicolor': 1, 'ventures': 1, 'nw': 1, 'hope': 1, 'segmentation': 1, 'reflecting': 1, 'seller': 1, 'metric': 1, 'dealership': 1, 'permissions': 1, 'laugh': 1, 'dedicate': 1, 'african': 1, 'spider': 1, 'rising': 1, 'stars': 1, 'dream': 1, 'upward': 1, 'acute': 1, 'disease': 1, 'credentials': 1, 'named': 1, 'formulation': 1, 'outs': 1, 'embed': 1, 'definitions': 1, 'continuity': 1, 'refresh': 1, 'auditors': 1, 'implemented': 1, 'attained': 1, 'boundaries': 1, 'pressures': 1, 'projection': 1, 'dss': 1, 'tenders': 1, 'dictionaries': 1, 'triage': 1, 'defects': 1, 'backlogs': 1, 'nose': 1, 'constitutes': 1, 'incremental': 1, 'billions': 1, 'typed': 1, 'japanese': 1, 'bottlenecks': 1, 'paralegal': 1, 'brisk': 1, 'dominant': 1, 'pair': 1, 'clusters': 1, 'fuelled': 1, 'award': 1, 'breakthrough': 1, 'exquisite': 1, 'adapts': 1, 'happiness': 1, 'contributed': 1, 'digitally': 1, 'shoot': 1, 'authoritatively': 1, 'solo': 1, 'campus': 1, 'pulse': 1, 'secrets': 1, 'romantic': 1, 'walks': 1, 'pictures': 1, 'beans': 1, 'enjoyment': 1, 'dirty': 1, 'masses': 1, 'considerations': 1, 'artistry': 1, 'sign': 1, 'turning': 1, 'link': 1, 'addict': 1, 'distracts': 1, 'campaigner': 1, 'insider': 1, 'programme': 1, 'mucking': 1, 'journalists': 1, 'folks': 1, 'rallied': 1, 'troops': 1, 'hit': 1, 'score': 1, 'briefing': 1, 'cookies': 1, 'headers': 1, 'tertiary': 1, 'assessor': 1, 'accreditation': 1, 'pressurised': 1, 'moderator': 1, 'favorable': 1, 'complacent': 1, 'suppressed': 1, 'thirsty': 1, 'stuff': 1, 'plug': 1, 'der': 1, 'als': 1, 'zu': 1, 'aus': 1, 'sind': 1, 'wort': 1, 'uns': 1, 'dispose': 1, 'obstacle': 1, 'refund': 1, 'mode': 1, 'accountancy': 1, 'singaporeans': 1, 'singapore': 1, 'prs': 1, 'older': 1, 'views': 1, 'indexes': 1, 'documenting': 1, 'vss': 1, 'cvs': 1, 'understandable': 1, 'implications': 1, 'theme': 1, 'composer': 1, 'multiplicity': 1, 'finisher': 1, 'correcting': 1, 'urdu': 1, 'macroeconomics': 1, 'practically': 1, 'squad': 1, 'thoughtful': 1, 'respectfully': 1, 'blunt': 1, 'beliefs': 1, 'loosely': 1, 'held': 1, 'unafraid': 1, 'experiments': 1, 'assumptions': 1, 'fidelity': 1, 'crisp': 1, 'imagery': 1, 'fired': 1, 'consciously': 1, 'keyed': 1, 'unresolved': 1, 'feasible': 1, 'citizenship': 1, 'layers': 1, 'deeper': 1, 'consortium': 1, 'spatially': 1, 'evangelists': 1, 'differentiation': 1, 'timetable': 1, 'competitors': 1, 'twinned': 1, 'unquestionably': 1, 'achiever': 1, 'squat': 1, 'cart': 1, 'tokyo': 1, 'japan': 1, 'cocos': 1, 'unreal': 1, 'coffee': 1, 'conversational': 1, 'domains': 1, 'thermal': 1, 'finite': 1, 'element': 1, 'precise': 1, 'innate': 1, 'composition': 1, 'preamble': 1, 'tonne': 1, 'notably': 1, 'graduated': 1, 'precious': 1, 'accompanying': 1, 'meaningfully': 1, 'bursting': 1, 'scss': 1, 'solar': 1, 'lighting': 1, 'accessories': 1, 'powers': 1, 'pack': 1, 'tuned': 1, 'holding': 1, 'romanian': 1, 'balkans': 1, 'commit': 1, 'july': 1, 'plain': 1, 'alienating': 1, 'dominate': 1, 'spend': 1, 'smarter': 1, 'scenic': 1, 'studios': 1, 'replacement': 1, 'polishing': 1, 'acrylic': 1, 'tops': 1, 'mv': 1, 'zone': 1, 'econometrics': 1, 'isolation': 1, 'revise': 1, 'mixer': 1, 'mixing': 1, 'bagels': 1, 'muffins': 1, 'fairness': 1, 'radical': 1, 'radically': 1, 'stands': 1, 'identifiable': 1, 'maximising': 1, 'fanaticism': 1, 'prerequisite': 1, 'assimilate': 1, 'punches': 1, 'improvisation': 1, 'outrageously': 1, 'calendar': 1, 'publish': 1, 'freelancers': 1, 'barrister': 1, 'chambers': 1, 'narrowing': 1, 'unsuitable': 1, 'practises': 1, 'calculated': 1, 'specializing': 1, 'instilling': 1, 'interdependent': 1, 'granularities': 1, 'freelance': 1, 'mortgages': 1, 'clips': 1, 'article': 1, 'redesigned': 1, 'geographically': 1, 'dispersed': 1, 'distill': 1, 'clever': 1, 'zones': 1, 'shelf': 1, 'proficiencies': 1, 'persuasion': 1, 'elite': 1, 'reusable': 1, 'charting': 1, 'commitments': 1, 'advancing': 1, 'unbiased': 1, 'justified': 1, 'selections': 1, 'oss': 1, 'wow': 1, 'joy': 1, 'proposal': 1, 'negotiator': 1, 'quotations': 1, 'coders': 1, 'hses': 1, 'diplomacy': 1, 'arena': 1, 'pcp': 1, 'testimonials': 1, 'prn': 1, 'judge': 1, 'wishing': 1, 'heading': 1, 'welfare': 1, 'pertinent': 1, 'cobra': 1, 'medicare': 1, 'skip': 1, 'tracing': 1, 'analog': 1, 'converters': 1, 'schematic': 1, 'halt': 1, 'hass': 1, 'vaguely': 1, 'inductive': 1, 'lifelong': 1, 'pursue': 1, 'behavioral': 1, 'resonate': 1, 'emotionally': 1, 'reps': 1, 'measuring': 1, 'dashboards': 1, 'redesigns': 1, 'purposeful': 1, 'intent': 1, 'chart': 1, 'ace': 1, 'scene': 1, 'ecosystem': 1, 'performers': 1, 'europe': 1, 'bear': 1, 'exemplifies': 1, 'architects': 1, 'intellectually': 1, 'remuneration': 1, 'structuring': 1, 'enriching': 1, 'tap': 1, 'extramural': 1, 'meticulously': 1, 'tivoli': 1, 'redwood': 1, 'exhibits': 1, 'mergers': 1, 'acquisitions': 1, 'additionally': 1, 'negotiations': 1, 'penchant': 1, 'consoles': 1, 'touchscreen': 1, 'lender': 1, 'addressing': 1, 'viable': 1, 'hunting': 1, 'acuity': 1, 'firsthand': 1, 'balinese': 1, 'hinduism': 1, 'jakarta': 1, 'sumatra': 1, 'indonesia': 1, 'hebrew': 1, 'carriers': 1, 'wholesalers': 1, 'binder': 1, 'tam': 1, 'reduced': 1, 'recommendation': 1, 'shareholder': 1, 'transformed': 1, 'expanding': 1, 'continue': 1, 'hourly': 1, 'empowerment': 1, 'reachable': 1, 'resonating': 1, 'stream': 1, 'microbiology': 1, 'penetrate': 1, 'increases': 1, 'rankings': 1, 'irrespective': 1, 'likes': 1, 'hitting': 1, 'journalist': 1, 'creole': 1, 'annoying': 1, 'polished': 1, 'athletes': 1, 'speakers': 1, 'wealth': 1, 'interrupting': 1, 'inappropriate': 1, 'consult': 1, 'expense': 1, 'census': 1, 'irs': 1, 'levers': 1, 'sought': 1, 'obtainable': 1, 'offish': 1, 'weaknesses': 1, 'careers': 1, 'offset': 1, 'lambda': 1, 'expressions': 1, 'tradeoff': 1, 'jeans': 1, 'sneakers': 1, 'permissible': 1, 'directs': 1, 'agreements': 1, 'hectic': 1, 'arms': 1, 'periodically': 1, 'ordinates': 1, 'humanities': 1, 'overlapping': 1, 'overturned': 1, 'west': 1, 'pediatric': 1, 'scoff': 1, 'inefficient': 1, 'tabs': 1, 'obvious': 1, 'ingredients': 1, 'coder': 1, 'imagine': 1, 'complimented': 1, 'overseeing': 1, 'freely': 1, 'stretcher': 1, 'stair': 1, 'chair': 1, 'paramedic': 1, 'tricky': 1, 'combo': 1, 'funny': 1, 'furniture': 1, 'excavation': 1, 'fall': 1, 'statistic': 1, 'publishes': 1, 'compares': 1, 'modeled': 1, 'portfolios': 1, 'interdepartmental': 1, 'viewable': 1, 'concurrently': 1, 'contingent': 1, 'enhanced': 1, 'america': 1, 'retailers': 1, 'americas': 1, 'largest': 1, 'deploys': 1, 'customized': 1, 'enhancing': 1, 'profitability': 1, 'todays': 1, 'recognizable': 1, 'headquartered': 1, 'worldwide': 1, 'consists': 1, 'epsilon': 1, 'owns': 1, 'miles': 1, 'canadas': 1, 'coalition': 1, 'columbus': 1, 'analyzes': 1, 'nyse': 1, 'bonfire': 1, 'crucible': 1, 'alerting': 1, 'bamboo': 1, 'elastic': 1, 'activeness': 1, 'league': 1, 'soccer': 1, 'semi': 1, 'targeted': 1, 'horizontal': 1, 'furthering': 1, 'realized': 1, 'intrigued': 1, 'broaden': 1, 'greatest': 1, 'deeply': 1, 'rogue': 1, 'treasure': 1, 'discoveries': 1, 'surrounded': 1, 'finally': 1, 'permit': 1, 'greece': 1, 'athens': 1, 'kit': 1, 'premiere': 1, 'autism': 1, 'delay': 1, 'extensively': 1, 'exploration': 1, 'defend': 1, 'investor': 1, 'oklahoma': 1, 'predictive': 1, 'bordering': 1, 'obsession': 1, 'redefining': 1, 'eat': 1, 'founded': 1, 'wall': 1, 'journal': 1, 'accelerator': 1, 'composed': 1, 'brute': 1, 'craving': 1, 'daba': 1, 'affinity': 1, 'ford': 1, 'aim': 1, 'mutually': 1, 'boilers': 1, 'appliance': 1, 'conversion': 1, 'ignite': 1, 'georgia': 1, 'contacted': 1, 'standpoint': 1, 'solely': 1, 'coded': 1, 'fakes': 1, 'moles': 1, 'complicated': 1, 'interconnected': 1, 'fanatic': 1, 'sporting': 1, 'sprinkled': 1, 'intrinsically': 1, 'tick': 1, 'satisfied': 1, 'paramount': 1, 'preferences': 1, 'neglecting': 1, 'appreciating': 1, 'unusual': 1, 'freshers': 1, 'fortune': 1, 'computation': 1, 'aggregate': 1, 'endless': 1, 'prices': 1, 'recreate': 1, 'motivator': 1, 'transparent': 1, 'simultaneous': 1, 'intellectual': 1, 'exiting': 1, 'matching': 1, 'lunch': 1, 'macs': 1, 'chapter': 1, 'indianapolis': 1, 'fulfilled': 1, 'newsletters': 1, 'brochures': 1, 'absences': 1, 'polite': 1, 'ordination': 1, 'clearance': 1, 'inquiring': 1, 'advertise': 1, 'lived': 1, 'balls': 1, 'structurally': 1, 'obtaining': 1, 'grad': 1, 'rewrite': 1, 'mongoose': 1, 'pig': 1, 'spark': 1, 'sentry': 1, 'hive': 1, 'redshift': 1, 'responsibly': 1, 'unrestricted': 1, 'restriction': 1, 'freeze': 1, 'dryers': 1, 'cutters': 1, 'jacks': 1, 'mercer': 1, 'beating': 1, 'commented': 1, 'stokes': 1, 'apex': 1, 'chatter': 1, 'exterior': 1, 'roofing': 1, 'siding': 1, 'crew': 1, 'merchandising': 1, 'shelving': 1, 'cycles': 1, 'optimized': 1, 'trustworthiness': 1, 'satisfying': 1, 'collaborator': 1, 'distinct': 1, 'syntax': 1, 'depend': 1, 'drill': 1, 'specifics': 1, 'photograph': 1, 'strings': 1, 'pending': 1, 'indexing': 1, 'snapshot': 1, 'pong': 1, 'favourite': 1, 'pastimes': 1, 'tweeting': 1, 'humourous': 1, 'affiliate': 1, 'physiology': 1, 'welcoming': 1, 'eclipse': 1, 'subversion': 1, 'unified': 1, 'advantages': 1, 'genres': 1, 'raise': 1, 'placement': 1, 'overflow': 1, 'linguistics': 1, 'ratios': 1, 'believers': 1, 'playground': 1, 'geochemistry': 1, 'petrel': 1, 'matrices': 1, 'geometry': 1, 'distinction': 1, 'mornings': 1, 'rivers': 1, 'elm': 1, 'mott': 1, 'mills': 1, 'airport': 1, 'hidden': 1, 'twin': 1, 'respective': 1, 'charged': 1, 'unpredictable': 1, 'necessity': 1, 'skies': 1, 'palettes': 1, 'leisure': 1, 'tennis': 1, 'orchestrate': 1, 'moderated': 1, 'tenacious': 1, 'dots': 1, 'revising': 1, 'balsamic': 1, 'formed': 1, 'rounded': 1, 'extract': 1, 'asp': 1, 'sizable': 1, 'empower': 1, 'budgeted': 1, 'dynamics': 1, 'sockets': 1, 'institute': 1, 'encompassing': 1, 'interventions': 1, 'conceptional': 1, 'perceived': 1, 'spelling': 1, 'chicago': 1, 'authors': 1, 'jaguar': 1, 'proofing': 1, 'launches': 1, 'verticals': 1, 'partnered': 1, 'introduction': 1, 'pads': 1, 'hole': 1, 'testers': 1, 'workloads': 1, 'microprocessors': 1, 'circuits': 1, 'electromechanical': 1, 'lives': 1, 'discussing': 1, 'trick': 1, 'naturally': 1, 'readable': 1, 'accessible': 1, 'ghent': 1, 'crafted': 1, 'sixth': 1, 'produces': 1, 'thirst': 1, 'compassion': 1, 'allied': 1, 'aesthetic': 1, 'postings': 1, 'blogger': 1, 'assessing': 1, 'apprenticeships': 1, 'concurrent': 1, 'disorders': 1, 'accessing': 1, 'cooperative': 1, 'population': 1, 'interpreters': 1, 'blow': 1, 'minds': 1, 'comforts': 1, 'medicine': 1, 'trip': 1, 'bloomfield': 1, 'mobiles': 1, 'grid': 1, 'jasmine': 1, 'multitude': 1, 'grades': 1, 'parents': 1, 'fostering': 1, 'adjusted': 1, 'interpreting': 1, 'capturing': 1, 'succinctness': 1, 'imagination': 1, 'striving': 1, 'bespoke': 1, 'presenter': 1, 'crossover': 1, 'establishments': 1, 'bars': 1, 'demonstrations': 1, 'concord': 1, 'cookie': 1, 'cache': 1, 'ethereal': 1, 'prerequisites': 1, 'men': 1, 'cocoa': 1, 'offering': 1, 'showcase': 1, 'belief': 1, 'rep': 1, 'firing': 1, 'resilient': 1, 'artist': 1, 'tibetan': 1, 'backlog': 1, 'owners': 1, 'checked': 1, 'situated': 1, 'nursery': 1, 'tuesdays': 1, 'wednesdays': 1, 'thursdays': 1, 'initially': 1, 'complying': 1, 'alpha': 1, 'pharmaceuticals': 1, 'administered': 1, 'parables': 1, 'homes': 1, 'washing': 1, 'dressing': 1, 'continence': 1, 'catheter': 1, 'stoma': 1, 'peg': 1, 'feeding': 1, 'medication': 1, 'worker': 1, 'edinburgh': 1, 'parsley': 1, 'slot': 1, 'formative': 1, 'bending': 1, 'reviewed': 1, 'complexity': 1, 'strategists': 1, 'rationale': 1, 'discrepancies': 1, 'googling': 1, 'seal': 1, 'worthiness': 1, 'delinquent': 1, 'tuesday': 1, 'thursday': 1, 'supplemental': 1, 'enrollment': 1, 'mainframe': 1, 'cobol': 1, 'migrate': 1, 'preventative': 1, 'batch': 1, 'collaborated': 1, 'transfers': 1, 'worry': 1, 'calibre': 1, 'generalist': 1, 'iaas': 1, 'perfection': 1, 'flaws': 1, 'bugs': 1, 'tester': 1, 'eff': 1, 'copier': 1, 'minimizing': 1, 'rework': 1, 'majority': 1, 'chains': 1, 'describing': 1, 'maker': 1, 'possibility': 1, 'workweek': 1, 'provision': 1, 'puppet': 1, 'securing': 1, 'visualizations': 1, 'relish': 1, 'picking': 1, 'choosing': 1, 'transparency': 1, 'conclusions': 1, 'repetitive': 1, 'terrifying': 1, 'falls': 1, 'maximise': 1, 'discovery': 1, 'queues': 1, 'nlp': 1, 'blocking': 1, 'aarhus': 1, 'denmark': 1, 'excellently': 1, 'synthesis': 1, 'insurances': 1, 'measured': 1, 'instinct': 1, 'guarantee': 1, 'builds': 1, 'labs': 1, 'prince': 1, 'comprise': 1, 'irregular': 1, 'authorized': 1, 'showing': 1, 'measurement': 1, 'ottawa': 1, 'illness': 1, 'strengthen': 1, 'interdisciplinary': 1, 'dialogue': 1, 'discussion': 1, 'drugs': 1, 'sexuality': 1, 'child': 1, 'fnma': 1, 'conforming': 1, 'jumbo': 1, 'equity': 1, 'headcount': 1, 'cherry': 1, 'resumes': 1, 'attract': 1, 'affairs': 1, 'felonies': 1, 'theft': 1, 'mx': 1, 'node': 1, 'karma': 1, 'protractor': 1, 'daring': 1, 'lock': 1, 'hack': 1, 'ends': 1, 'creed': 1, 'religion': 1, 'origin': 1, 'sex': 1, 'sexual': 1, 'marital': 1, 'inclination': 1, 'personalized': 1, 'constituency': 1, 'weekdays': 1, 'booking': 1, 'lakefront': 1, 'aloha': 1, 'damage': 1, 'weight': 1, 'counter': 1, 'extraction': 1, 'essentials': 1, 'vehicles': 1, 'acting': 1, 'spirited': 1, 'obsessive': 1, 'iteration': 1, 'provoking': 1, 'saving': 1, 'purposes': 1, 'hypothesizing': 1, 'readership': 1, 'tongue': 1, 'curves': 1, 'thrown': 1, 'salesperson': 1, 'cop': 1, 'identified': 1, 'embrace': 1, 'ta': 1, 'advising': 1, 'frank': 1, 'bankruptcy': 1, 'inquisitive': 1, 'plugged': 1, 'animations': 1, 'parallax': 1, 'infancy': 1, 'founder': 1, 'crate': 1, 'strive': 1, 'enemy': 1, 'charismatic': 1, 'gaap': 1, 'artwork': 1, 'killer': 1, 'represented': 1, 'comics': 1, 'drawn': 1, 'authentication': 1, 'margins': 1, 'seniority': 1, 'upper': 1, 'honours': 1, 'euro': 1, 'telemarketing': 1, 'recover': 1, 'unexpected': 1, 'realize': 1, 'casualty': 1, 'logistical': 1, 'metalworking': 1, 'wooden': 1, 'advantageous': 1, 'flourish': 1, 'trusting': 1, 'treat': 1, 'reflection': 1, 'ambassador': 1, 'discern': 1, 'judiciously': 1, 'evaluative': 1, 'wisely': 1, 'sms': 1, 'bulk': 1, 'africa': 1, 'syndication': 1, 'podcasts': 1, 'rss': 1, 'streaming': 1, 'airs': 1, 'credential': 1, 'boolean': 1, 'conflicts': 1, 'speeds': 1, 'theatre': 1, 'resolutions': 1, 'bold': 1, 'repeat': 1, 'marketer': 1, 'translating': 1, 'slack': 1, 'unglamorous': 1, 'integral': 1, 'reformation': 1, 'obsessed': 1, 'goodness': 1, 'retrieval': 1, 'tiered': 1, 'niche': 1, 'foursquare': 1, 'exploiting': 1, 'buffer': 1, 'experimenting': 1, 'optimise': 1, 'fed': 1, 'composing': 1, 'corporations': 1, 'obsolete': 1, 'migrations': 1, 'isolated': 1, 'backups': 1, 'register': 1, 'referrals': 1, 'catalog': 1, 'comprehend': 1, 'gangways': 1, 'scan': 1, 'length': 1, 'shopping': 1, 'fueling': 1, 'banks': 1, 'writes': 1, 'edits': 1, 'awarded': 1, 'enforcement': 1, 'hrs': 1, 'negotiates': 1, 'consultation': 1, 'formulates': 1, 'insert': 1, 'mastering': 1, 'advertisers': 1, 'robotic': 1, 'fixtures': 1, 'gd': 1, 'plastics': 1, 'compression': 1, 'sponsor': 1, 'nuclear': 1, 'renewable': 1, 'faces': 1, 'ingenuity': 1, 'electricity': 1, 'gearboxes': 1, 'allen': 1, 'robotics': 1, 'sensors': 1, 'personable': 1, 'specificity': 1, 'opposed': 1, 'fractions': 1, 'currency': 1, 'concern': 1, 'logo': 1, 'buttons': 1, 'scheme': 1, 'typeface': 1, 'dolor': 1, 'felis': 1, 'purus': 1, 'dui': 1, 'diam': 1, 'integer': 1, 'errands': 1, 'attach': 1, 'intrusion': 1, 'firewall': 1, 'https': 1, 'radius': 1, 'forensic': 1, 'mitigate': 1, 'intruder': 1, 'detection': 1, 'threat': 1, 'export': 1, 'import': 1, 'door': 1, 'appointment': 1, 'paste': 1, 'compensate': 1, 'bolt': 1, 'welds': 1, 'buckling': 1, 'plates': 1, 'columns': 1, 'fatigue': 1, 'adheres': 1, 'tackling': 1, 'innovate': 1, 'discriminate': 1, 'ethnicity': 1, 'gender': 1, 'protected': 1, 'gatekeeper': 1, 'relay': 1, 'agendas': 1, 'arrange': 1, 'graduates': 1, 'marine': 1, 'nautical': 1, 'shipyard': 1, 'objectively': 1, 'validates': 1, 'endorsements': 1, 'renewal': 1, 'evaluates': 1, 'quest': 1, 'dun': 1, 'bradstreet': 1, 'runs': 1, 'estimators': 1, 'exposures': 1, 'inputs': 1, 'worksheets': 1, 'premiums': 1, 'refunds': 1, 'selects': 1, 'declarations': 1, 'exclusions': 1, 'commissions': 1, 'attains': 1, 'continues': 1, 'deemed': 1, 'strives': 1, 'seminars': 1, 'staffing': 1, 'downstream': 1, 'ethernet': 1, 'das': 1, 'raid': 1, 'scsi': 1, 'alerts': 1, 'consolidation': 1, 'provisioning': 1, 'brocade': 1, 'substitute': 1, 'placing': 1, 'firms': 1, 'behaviors': 1, 'meaningful': 1, 'specialize': 1, 'gloves': 1, 'heeled': 1, 'boots': 1, 'remains': 1, 'accepting': 1, 'proposes': 1, 'cons': 1, 'defining': 1, 'sift': 1, 'terabytes': 1, 'grammars': 1, 'petabyte': 1, 'historical': 1, 'considerable': 1, 'ambiguity': 1, 'column': 1, 'fitness': 1, 'pigging': 1, 'dialing': 1, 'dozens': 1, 'possession': 1, 'finalising': 1, 'majors': 1, 'music': 1, 'movies': 1, 'rank': 1, 'norwegian': 1, 'included': 1, 'communicated': 1, 'easier': 1, 'reason': 1, 'finer': 1, 'alphabetic': 1, 'displayed': 1, 'corrections': 1, 'inquires': 1, 'entered': 1, 'scalping': 1, 'algorithm': 1, 'deviate': 1, 'professions': 1, 'teacher': 1, 'copywriter': 1, 'poker': 1, 'psychologist': 1, 'professor': 1, 'psychiatrist': 1, 'jailer': 1, 'emergencies': 1, 'communicable': 1, 'diseases': 1, 'toxins': 1, 'violent': 1, 'diluted': 1, 'bleach': 1, 'alcohol': 1, 'chlorine': 1, 'cleanser': 1, 'pesticides': 1, 'inmate': 1, 'emit': 1, 'pepper': 1, 'aerosol': 1, 'spray': 1, 'gel': 1, 'foam': 1, 'toxic': 1, 'smoke': 1, 'conscientiousness': 1, 'producers': 1, 'sphere': 1, 'fingers': 1, 'enroll': 1, 'await': 1, 'grant': 1, 'prompt': 1, 'mails': 1, 'relays': 1, 'fuses': 1, 'undergo': 1, 'suited': 1, 'intends': 1, 'banqueting': 1, 'storekeeper': 1, 'dishes': 1, 'cashier': 1, 'captain': 1, 'waiter': 1, 'washer': 1, 'stylist': 1, 'lobby': 1, 'guest': 1, 'warder': 1, 'nurses': 1, 'housekeeper': 1, 'translators': 1, 'teachers': 1, 'therapist': 1, 'spa': 1, 'adviser': 1, 'cafe': 1, 'continental': 1, 'waitress': 1, 'masseur': 1, 'intercontinental': 1, 'hostess': 1, 'powered': 1, 'reflect': 1, 'clarifying': 1, 'categorizing': 1, 'funneling': 1, 'copywriters': 1, 'artists': 1, 'icons': 1, 'banners': 1, 'registering': 1, 'introducing': 1, 'precautions': 1, 'enforcing': 1, 'submissions': 1, 'summarizing': 1, 'breakdowns': 1, 'ongoing': 1, 'portals': 1, 'entities': 1, 'contributors': 1, 'demos': 1, 'configurations': 1, 'prospective': 1, 'sells': 1, 'escalates': 1, 'relies': 1, 'exercising': 1, 'protects': 1, 'accomplishes': 1, 'conducts': 1, 'breed': 1, 'vice': 1, 'presidents': 1, 'portions': 1, 'enabling': 1, 'covering': 1, 'hone': 1, 'acquire': 1, 'conducted': 1, 'sheer': 1, 'unbeatable': 1, 'mcs': 1, 'uta': 1, 'xmas': 1, 'tree': 1, 'commissioning': 1, 'tie': 1, 'fat': 1, 'venturi': 1, 'meters': 1, 'closed': 1, 'loop': 1, 'thermoplastic': 1, 'steel': 1, 'tube': 1, 'chokes': 1, 'headless': 1, 'commander': 1, 'freight': 1, 'dispatch': 1, 'searches': 1, 'requisitions': 1, 'schooling': 1, 'opening': 1, 'initialize': 1, 'contingency': 1, 'visible': 1, 'stepping': 1, 'outdoor': 1, 'ordinate': 1, 'packaged': 1, 'actuarial': 1, 'designations': 1, 'scanned': 1, 'dual': 1, 'ram': 1, 'microphone': 1, 'gb': 1, 'wood': 1, 'flooring': 1, 'estimated': 1, 'animal': 1, 'filled': 1, 'afternoon': 1, 'wisconsin': 1, 'transforming': 1, 'initiation': 1, 'practitioner': 1, 'historic': 1, 'drawing': 1, 'arbitrage': 1, 'prop': 1, 'derivatives': 1, 'modes': 1, 'greeks': 1, 'eventually': 1, 'technicalities': 1, 'yard': 1, 'died': 1, 'told': 1, 'wonderful': 1, 'decided': 1, 'mothers': 1, 'husband': 1, 'daughters': 1, 'staffs': 1, 'nanny': 1, 'maid': 1, 'strictly': 1, 'allowance': 1, 'apartment': 1, 'excels': 1, 'contributes': 1, 'struts': 1, 'orchestration': 1, 'enterprises': 1, 'tiles': 1, 'pa': 1, 'dermatology': 1, 'advertisements': 1, 'trademarks': 1, 'logos': 1, 'category': 1, 'uniformity': 1, 'differentiators': 1, 'sketches': 1, 'dad': 1, 'gaps': 1, 'gig': 1, 'rockwell': 1, 'vts': 1, 'assembler': 1, 'straight': 1, 'abet': 1, 'processors': 1, 'postal': 1, 'appraised': 1, 'verified': 1, 'omissions': 1, 'legality': 1, 'centralized': 1, 'dramatically': 1, 'longer': 1, 'recruits': 1, 'tours': 1, 'stick': 1, 'velcro': 1, 'sponsored': 1, 'signing': 1, 'tiers': 1, 'succession': 1, 'loved': 1, 'holds': 1, 'unlimited': 1, 'rap': 1, 'unsurpassed': 1, 'australian': 1, 'onshore': 1, 'standby': 1, 'flexibly': 1, 'shutdowns': 1, 'gateways': 1, 'rotate': 1, 'geologist': 1, 'tectonics': 1, 'stratigraphy': 1, 'fault': 1, 'hazards': 1, 'surveying': 1, 'geodetic': 1, 'datums': 1, 'currents': 1, 'applicability': 1, 'scour': 1, 'quantifying': 1, 'slope': 1, 'stability': 1, 'relevance': 1, 'geophysicist': 1, 'dating': 1, 'phased': 1, 'naval': 1, 'interstate': 1, 'flatbed': 1, 'reefer': 1, 'resins': 1, 'lubricants': 1, 'mold': 1, 'paint': 1, 'laser': 1, 'etch': 1, 'electrodes': 1, 'superintendent': 1, 'leases': 1, 'forwarded': 1, 'mentioned': 1, 'freelancer': 1, 'saudi': 1, 'arabia': 1, 'dictation': 1, 'jargon': 1, 'abbreviations': 1, 'returning': 1, 'reasoning': 1, 'globally': 1, 'pharmacy': 1, 'selected': 1, 'arranges': 1, 'reads': 1, 'formally': 1, 'philosophies': 1, 'consequences': 1, 'quietly': 1, 'concessions': 1, 'damaging': 1, 'truthful': 1, 'unvarnished': 1, 'truth': 1, 'aspiration': 1, 'factors': 1, 'transferable': 1, 'schemas': 1, 'kph': 1, 'centres': 1, 'manufactures': 1, 'persuasively': 1, 'router': 1, 'gateway': 1, 'suits': 1, 'conclude': 1, 'sorting': 1, 'sending': 1, 'mailings': 1, 'daytime': 1, 'smith': 1, 'faxing': 1, 'returns': 1, 'society': 1, 'inspector': 1, 'commission': 1, 'lms': 1, 'varieties': 1, 'regulated': 1, 'sterile': 1, 'corn': 1, 'soybeans': 1, 'agronomy': 1, 'retrieving': 1, 'copying': 1, 'transmitting': 1, 'protect': 1, 'attending': 1, 'societies': 1, 'hemisphere': 1, 'depict': 1, 'lending': 1, 'facilitator': 1, 'miner': 1, 'notify': 1, 'president': 1, 'min': 1, 'bce': 1, 'aaa': 1, 'employing': 1, 'inclusive': 1, 'embraces': 1, 'dispute': 1, 'sensitivity': 1, 'affirmative': 1, 'piston': 1, 'tenure': 1, 'mount': 1, 'reels': 1, 'readers': 1, 'incidental': 1, 'labeling': 1, 'replenishing': 1, 'dislike': 1, 'dab': 1, 'fee': 1, 'vague': 1, 'suspicion': 1, 'graphical': 1, 'conveying': 1, 'photography': 1, 'translation': 1, 'movie': 1, 'relation': 1, 'messages': 1, 'popular': 1, 'niches': 1, 'proofread': 1, 'discussed': 1, 'shortly': 1, 'constituent': 1, 'floating': 1, 'hull': 1, 'quantities': 1, 'storing': 1, 'registrations': 1, 'forecast': 1, 'geometrical': 1, 'tolerances': 1, 'linkages': 1, 'iii': 1, 'dependencies': 1, 'parameters': 1, 'sterility': 1, 'complement': 1, 'simplification': 1, 'ethically': 1, 'assert': 1, 'mdi': 1, 'abc': 1, 'aba': 1, 'baa': 1, 'assemble': 1, 'vacations': 1, 'drainage': 1, 'illinois': 1, 'typist': 1, 'jointly': 1, 'landmark': 1, 'completions': 1, 'nws': 1, 'prolonged': 1, 'twisting': 1, 'steady': 1, 'cabling': 1, 'barracuda': 1, 'prescriptions': 1, 'lens': 1, 'blanks': 1, 'fabricate': 1, 'inspecting': 1, 'mounting': 1, 'finished': 1, 'recording': 1, 'informing': 1}\n"
          ]
        }
      ]
    },
    {
      "cell_type": "code",
      "source": [
        "import math\n",
        "\n",
        "N = 1400\n",
        "tf_idf = {c: [dict() for i in range(1400)] for c in cols}\n",
        "\n",
        "def calc_tf_idf(col: str):\n",
        "  for i in range(1400):\n",
        "    for word in tfreq_list[col][i]:\n",
        "      tf = tfreq_list[col][i][word]\n",
        "      df = dfreq[col][word]\n",
        "      idf = math.log(N / (1 + df))\n",
        "      tf_idf[col][i][word] = tf * idf\n",
        "    tf_idf[col][i] = dict(sorted(tf_idf[col][i].items(), key=lambda x:x[1], reverse=True))\n",
        "\n",
        "for c in cols:\n",
        "  calc_tf_idf(c)\n",
        "\n",
        "for i in range(1400):\n",
        "  for c in cols:\n",
        "    if len(tf_idf[c][i]) == 0:\n",
        "      print(f\"{i} \", end=\"\")\n"
      ],
      "metadata": {
        "colab": {
          "base_uri": "https://localhost:8080/"
        },
        "id": "mz2kWQPsccIt",
        "outputId": "09d8faa9-29cc-4863-f036-f0f6ee39a1b9"
      },
      "execution_count": null,
      "outputs": [
        {
          "output_type": "stream",
          "name": "stdout",
          "text": [
            "13 245 385 435 549 558 585 850 908 933 1049 1079 1079 1118 {'description': 68.37151037938439, 'requirements': 38.16486681065515}\n"
          ]
        }
      ]
    },
    {
      "cell_type": "markdown",
      "source": [
        "(Printing average number of words in each column)"
      ],
      "metadata": {
        "id": "u1i3AfIjhxee"
      }
    },
    {
      "cell_type": "code",
      "source": [
        "key_num = [\n",
        "    {c: [] for c in cols},\n",
        "    {c: [] for c in cols}\n",
        "]\n",
        "\n",
        "for idx, r in sample_df.iterrows():\n",
        "  for c in cols:\n",
        "    if len(tf_idf[c][idx]) != 0:\n",
        "      key_num[r['profile_yn']][c].append(len(tf_idf[c][idx]))\n",
        "\n",
        "for i in range(2):\n",
        "  for c in cols:\n",
        "    key_num[i][c] = sum(key_num[i][c]) / len(key_num[i][c])\n",
        "\n",
        "print(key_num)"
      ],
      "metadata": {
        "colab": {
          "base_uri": "https://localhost:8080/"
        },
        "id": "3SnXPApXsQGJ",
        "outputId": "8dc51b62-2861-41ed-da18-f21dfbf01006"
      },
      "execution_count": null,
      "outputs": [
        {
          "output_type": "stream",
          "name": "stdout",
          "text": [
            "[{'description': 60.612132352941174, 'requirements': 30.423572744014734}, {'description': 73.32004689331771, 'requirements': 43.13356973995272}]\n"
          ]
        }
      ]
    },
    {
      "cell_type": "markdown",
      "source": [
        "Selecting 5 keywords with highest tf-idf value for each cell"
      ],
      "metadata": {
        "id": "QlwyTusSh41V"
      }
    },
    {
      "cell_type": "code",
      "source": [
        "cols = ['description', 'requirements']\n",
        "keyword_cnt = 5\n",
        "\n",
        "def add_keywords(kw_cnt: int, col: str):\n",
        "  col_name = f'{col[:3]}_keywords'\n",
        "  sample_df[col_name] = None\n",
        "  for i in range(1400):\n",
        "    keywords = []\n",
        "    for j in range(kw_cnt):\n",
        "      if len(tf_idf[col][i].keys()) <= j:\n",
        "        break\n",
        "      keywords.append(list(tf_idf[col][i].keys())[j])\n",
        "    sample_df.at[i, col_name] = keywords\n",
        "\n",
        "for c in cols:\n",
        "  add_keywords(keyword_cnt, c)\n",
        "\n",
        "sample_df"
      ],
      "metadata": {
        "colab": {
          "base_uri": "https://localhost:8080/",
          "height": 597
        },
        "id": "s2y0mDV5pRuk",
        "outputId": "2591b717-1f04-4d61-8881-ce03f76cd083"
      },
      "execution_count": null,
      "outputs": [
        {
          "output_type": "execute_result",
          "data": {
            "text/plain": [
              "                                                  title  \\\n",
              "0     [international, broadcaster, dari, pashto, lan...   \n",
              "1                                   [manager, bulgaria]   \n",
              "2                                    [product, manager]   \n",
              "3                 [tourism, content, writer, freelance]   \n",
              "4                                 [designer, developer]   \n",
              "...                                                 ...   \n",
              "1395                           [center, representative]   \n",
              "1396                        [administrative, assistant]   \n",
              "1397             [cash, hand, job, staff, needed, time]   \n",
              "1398                               [director, strategy]   \n",
              "1399                                             [work]   \n",
              "\n",
              "                                            description  \\\n",
              "0     [international, broadcaster, years, current, e...   \n",
              "1     [searching, strong, leader, responsibility, qu...   \n",
              "2     [vibrant, individual, join, fast, entrepreneur...   \n",
              "3     [software, service, company, mobile, tools, or...   \n",
              "4     [company, digital, ventures, boston, consultin...   \n",
              "...                                                 ...   \n",
              "1395  [responsible, collection, delinquent, inquirie...   \n",
              "1396  [assistant, email, resume, apply, normal, part...   \n",
              "1397  [cash, hand, job, staff, needed, free, time, p...   \n",
              "1398  [director, strategy, interested, company, doub...   \n",
              "1399  [seeking, professionals, walks, life, variety,...   \n",
              "\n",
              "                                           requirements  fraudulent  \\\n",
              "0     [international, broadcaster, properly, complet...           0   \n",
              "1     [role, requirements, years, experience, managi...           0   \n",
              "2     [haves, start, environment, flexibility, adapt...           0   \n",
              "3     [proven, writing, skills, healthy, list, speci...           0   \n",
              "4     [education, undergraduate, degree, graphic, de...           0   \n",
              "...                                                 ...         ...   \n",
              "1395  [maintain, attention, concentration, extended,...           1   \n",
              "1396  [normal, confident, easy, firm, flexible, hard...           1   \n",
              "1397                             [experience, required]           1   \n",
              "1398  [requirements, experience, management, consult...           1   \n",
              "1399  [entry, level, traders, understanding, economi...           1   \n",
              "\n",
              "      profile_yn                                       des_keywords  \\\n",
              "0              1  [broadcaster, news, international, target, adapt]   \n",
              "1              0  [group, amend, automatic, progression, personnel]   \n",
              "2              1  [machine, change, building, alleviation, infor...   \n",
              "3              1  [content, tourism, audience, organizations, blog]   \n",
              "4              1       [digital, ventures, class, consulting, firm]   \n",
              "...          ...                                                ...   \n",
              "1395           1  [correct, prevent, errors, properties, recurre...   \n",
              "1396           0  [gatekeeper, presidents, assistant, externally...   \n",
              "1397           0                [cash, afternoon, fee, rg, morning]   \n",
              "1398           1  [evaluation, talent, function, percentile, cap...   \n",
              "1399           0  [trading, walks, professions, professionals, v...   \n",
              "\n",
              "                                           req_keywords  \n",
              "0        [fails, week, properly, broadcaster, revising]  \n",
              "1     [advantage, writing, diagnosing, arena, defining]  \n",
              "2          [haves, submit, making, propel, complicated]  \n",
              "3            [tourism, typo, buyers, adapting, persona]  \n",
              "4            [visual, design, graphic, user, possesses]  \n",
              "...                                                 ...  \n",
              "1395  [vendors, customers, necessities, concentratio...  \n",
              "1396    [dealing, issues, initiate, anticipates, steps]  \n",
              "1397                             [required, experience]  \n",
              "1398  [consulting, polish, profitable, venture, inte...  \n",
              "1399      [trading, financial, advisor, human, finance]  \n",
              "\n",
              "[1400 rows x 7 columns]"
            ],
            "text/html": [
              "\n",
              "  <div id=\"df-029911bc-68e8-47b8-ac96-e30f4f23c7c2\" class=\"colab-df-container\">\n",
              "    <div>\n",
              "<style scoped>\n",
              "    .dataframe tbody tr th:only-of-type {\n",
              "        vertical-align: middle;\n",
              "    }\n",
              "\n",
              "    .dataframe tbody tr th {\n",
              "        vertical-align: top;\n",
              "    }\n",
              "\n",
              "    .dataframe thead th {\n",
              "        text-align: right;\n",
              "    }\n",
              "</style>\n",
              "<table border=\"1\" class=\"dataframe\">\n",
              "  <thead>\n",
              "    <tr style=\"text-align: right;\">\n",
              "      <th></th>\n",
              "      <th>title</th>\n",
              "      <th>description</th>\n",
              "      <th>requirements</th>\n",
              "      <th>fraudulent</th>\n",
              "      <th>profile_yn</th>\n",
              "      <th>des_keywords</th>\n",
              "      <th>req_keywords</th>\n",
              "    </tr>\n",
              "  </thead>\n",
              "  <tbody>\n",
              "    <tr>\n",
              "      <th>0</th>\n",
              "      <td>[international, broadcaster, dari, pashto, lan...</td>\n",
              "      <td>[international, broadcaster, years, current, e...</td>\n",
              "      <td>[international, broadcaster, properly, complet...</td>\n",
              "      <td>0</td>\n",
              "      <td>1</td>\n",
              "      <td>[broadcaster, news, international, target, adapt]</td>\n",
              "      <td>[fails, week, properly, broadcaster, revising]</td>\n",
              "    </tr>\n",
              "    <tr>\n",
              "      <th>1</th>\n",
              "      <td>[manager, bulgaria]</td>\n",
              "      <td>[searching, strong, leader, responsibility, qu...</td>\n",
              "      <td>[role, requirements, years, experience, managi...</td>\n",
              "      <td>0</td>\n",
              "      <td>0</td>\n",
              "      <td>[group, amend, automatic, progression, personnel]</td>\n",
              "      <td>[advantage, writing, diagnosing, arena, defining]</td>\n",
              "    </tr>\n",
              "    <tr>\n",
              "      <th>2</th>\n",
              "      <td>[product, manager]</td>\n",
              "      <td>[vibrant, individual, join, fast, entrepreneur...</td>\n",
              "      <td>[haves, start, environment, flexibility, adapt...</td>\n",
              "      <td>0</td>\n",
              "      <td>1</td>\n",
              "      <td>[machine, change, building, alleviation, infor...</td>\n",
              "      <td>[haves, submit, making, propel, complicated]</td>\n",
              "    </tr>\n",
              "    <tr>\n",
              "      <th>3</th>\n",
              "      <td>[tourism, content, writer, freelance]</td>\n",
              "      <td>[software, service, company, mobile, tools, or...</td>\n",
              "      <td>[proven, writing, skills, healthy, list, speci...</td>\n",
              "      <td>0</td>\n",
              "      <td>1</td>\n",
              "      <td>[content, tourism, audience, organizations, blog]</td>\n",
              "      <td>[tourism, typo, buyers, adapting, persona]</td>\n",
              "    </tr>\n",
              "    <tr>\n",
              "      <th>4</th>\n",
              "      <td>[designer, developer]</td>\n",
              "      <td>[company, digital, ventures, boston, consultin...</td>\n",
              "      <td>[education, undergraduate, degree, graphic, de...</td>\n",
              "      <td>0</td>\n",
              "      <td>1</td>\n",
              "      <td>[digital, ventures, class, consulting, firm]</td>\n",
              "      <td>[visual, design, graphic, user, possesses]</td>\n",
              "    </tr>\n",
              "    <tr>\n",
              "      <th>...</th>\n",
              "      <td>...</td>\n",
              "      <td>...</td>\n",
              "      <td>...</td>\n",
              "      <td>...</td>\n",
              "      <td>...</td>\n",
              "      <td>...</td>\n",
              "      <td>...</td>\n",
              "    </tr>\n",
              "    <tr>\n",
              "      <th>1395</th>\n",
              "      <td>[center, representative]</td>\n",
              "      <td>[responsible, collection, delinquent, inquirie...</td>\n",
              "      <td>[maintain, attention, concentration, extended,...</td>\n",
              "      <td>1</td>\n",
              "      <td>1</td>\n",
              "      <td>[correct, prevent, errors, properties, recurre...</td>\n",
              "      <td>[vendors, customers, necessities, concentratio...</td>\n",
              "    </tr>\n",
              "    <tr>\n",
              "      <th>1396</th>\n",
              "      <td>[administrative, assistant]</td>\n",
              "      <td>[assistant, email, resume, apply, normal, part...</td>\n",
              "      <td>[normal, confident, easy, firm, flexible, hard...</td>\n",
              "      <td>1</td>\n",
              "      <td>0</td>\n",
              "      <td>[gatekeeper, presidents, assistant, externally...</td>\n",
              "      <td>[dealing, issues, initiate, anticipates, steps]</td>\n",
              "    </tr>\n",
              "    <tr>\n",
              "      <th>1397</th>\n",
              "      <td>[cash, hand, job, staff, needed, time]</td>\n",
              "      <td>[cash, hand, job, staff, needed, free, time, p...</td>\n",
              "      <td>[experience, required]</td>\n",
              "      <td>1</td>\n",
              "      <td>0</td>\n",
              "      <td>[cash, afternoon, fee, rg, morning]</td>\n",
              "      <td>[required, experience]</td>\n",
              "    </tr>\n",
              "    <tr>\n",
              "      <th>1398</th>\n",
              "      <td>[director, strategy]</td>\n",
              "      <td>[director, strategy, interested, company, doub...</td>\n",
              "      <td>[requirements, experience, management, consult...</td>\n",
              "      <td>1</td>\n",
              "      <td>1</td>\n",
              "      <td>[evaluation, talent, function, percentile, cap...</td>\n",
              "      <td>[consulting, polish, profitable, venture, inte...</td>\n",
              "    </tr>\n",
              "    <tr>\n",
              "      <th>1399</th>\n",
              "      <td>[work]</td>\n",
              "      <td>[seeking, professionals, walks, life, variety,...</td>\n",
              "      <td>[entry, level, traders, understanding, economi...</td>\n",
              "      <td>1</td>\n",
              "      <td>0</td>\n",
              "      <td>[trading, walks, professions, professionals, v...</td>\n",
              "      <td>[trading, financial, advisor, human, finance]</td>\n",
              "    </tr>\n",
              "  </tbody>\n",
              "</table>\n",
              "<p>1400 rows × 7 columns</p>\n",
              "</div>\n",
              "    <div class=\"colab-df-buttons\">\n",
              "\n",
              "  <div class=\"colab-df-container\">\n",
              "    <button class=\"colab-df-convert\" onclick=\"convertToInteractive('df-029911bc-68e8-47b8-ac96-e30f4f23c7c2')\"\n",
              "            title=\"Convert this dataframe to an interactive table.\"\n",
              "            style=\"display:none;\">\n",
              "\n",
              "  <svg xmlns=\"http://www.w3.org/2000/svg\" height=\"24px\" viewBox=\"0 -960 960 960\">\n",
              "    <path d=\"M120-120v-720h720v720H120Zm60-500h600v-160H180v160Zm220 220h160v-160H400v160Zm0 220h160v-160H400v160ZM180-400h160v-160H180v160Zm440 0h160v-160H620v160ZM180-180h160v-160H180v160Zm440 0h160v-160H620v160Z\"/>\n",
              "  </svg>\n",
              "    </button>\n",
              "\n",
              "  <style>\n",
              "    .colab-df-container {\n",
              "      display:flex;\n",
              "      gap: 12px;\n",
              "    }\n",
              "\n",
              "    .colab-df-convert {\n",
              "      background-color: #E8F0FE;\n",
              "      border: none;\n",
              "      border-radius: 50%;\n",
              "      cursor: pointer;\n",
              "      display: none;\n",
              "      fill: #1967D2;\n",
              "      height: 32px;\n",
              "      padding: 0 0 0 0;\n",
              "      width: 32px;\n",
              "    }\n",
              "\n",
              "    .colab-df-convert:hover {\n",
              "      background-color: #E2EBFA;\n",
              "      box-shadow: 0px 1px 2px rgba(60, 64, 67, 0.3), 0px 1px 3px 1px rgba(60, 64, 67, 0.15);\n",
              "      fill: #174EA6;\n",
              "    }\n",
              "\n",
              "    .colab-df-buttons div {\n",
              "      margin-bottom: 4px;\n",
              "    }\n",
              "\n",
              "    [theme=dark] .colab-df-convert {\n",
              "      background-color: #3B4455;\n",
              "      fill: #D2E3FC;\n",
              "    }\n",
              "\n",
              "    [theme=dark] .colab-df-convert:hover {\n",
              "      background-color: #434B5C;\n",
              "      box-shadow: 0px 1px 3px 1px rgba(0, 0, 0, 0.15);\n",
              "      filter: drop-shadow(0px 1px 2px rgba(0, 0, 0, 0.3));\n",
              "      fill: #FFFFFF;\n",
              "    }\n",
              "  </style>\n",
              "\n",
              "    <script>\n",
              "      const buttonEl =\n",
              "        document.querySelector('#df-029911bc-68e8-47b8-ac96-e30f4f23c7c2 button.colab-df-convert');\n",
              "      buttonEl.style.display =\n",
              "        google.colab.kernel.accessAllowed ? 'block' : 'none';\n",
              "\n",
              "      async function convertToInteractive(key) {\n",
              "        const element = document.querySelector('#df-029911bc-68e8-47b8-ac96-e30f4f23c7c2');\n",
              "        const dataTable =\n",
              "          await google.colab.kernel.invokeFunction('convertToInteractive',\n",
              "                                                    [key], {});\n",
              "        if (!dataTable) return;\n",
              "\n",
              "        const docLinkHtml = 'Like what you see? Visit the ' +\n",
              "          '<a target=\"_blank\" href=https://colab.research.google.com/notebooks/data_table.ipynb>data table notebook</a>'\n",
              "          + ' to learn more about interactive tables.';\n",
              "        element.innerHTML = '';\n",
              "        dataTable['output_type'] = 'display_data';\n",
              "        await google.colab.output.renderOutput(dataTable, element);\n",
              "        const docLink = document.createElement('div');\n",
              "        docLink.innerHTML = docLinkHtml;\n",
              "        element.appendChild(docLink);\n",
              "      }\n",
              "    </script>\n",
              "  </div>\n",
              "\n",
              "\n",
              "<div id=\"df-25db56ce-ea88-420d-87d8-218049ce2195\">\n",
              "  <button class=\"colab-df-quickchart\" onclick=\"quickchart('df-25db56ce-ea88-420d-87d8-218049ce2195')\"\n",
              "            title=\"Suggest charts\"\n",
              "            style=\"display:none;\">\n",
              "\n",
              "<svg xmlns=\"http://www.w3.org/2000/svg\" height=\"24px\"viewBox=\"0 0 24 24\"\n",
              "     width=\"24px\">\n",
              "    <g>\n",
              "        <path d=\"M19 3H5c-1.1 0-2 .9-2 2v14c0 1.1.9 2 2 2h14c1.1 0 2-.9 2-2V5c0-1.1-.9-2-2-2zM9 17H7v-7h2v7zm4 0h-2V7h2v10zm4 0h-2v-4h2v4z\"/>\n",
              "    </g>\n",
              "</svg>\n",
              "  </button>\n",
              "\n",
              "<style>\n",
              "  .colab-df-quickchart {\n",
              "      --bg-color: #E8F0FE;\n",
              "      --fill-color: #1967D2;\n",
              "      --hover-bg-color: #E2EBFA;\n",
              "      --hover-fill-color: #174EA6;\n",
              "      --disabled-fill-color: #AAA;\n",
              "      --disabled-bg-color: #DDD;\n",
              "  }\n",
              "\n",
              "  [theme=dark] .colab-df-quickchart {\n",
              "      --bg-color: #3B4455;\n",
              "      --fill-color: #D2E3FC;\n",
              "      --hover-bg-color: #434B5C;\n",
              "      --hover-fill-color: #FFFFFF;\n",
              "      --disabled-bg-color: #3B4455;\n",
              "      --disabled-fill-color: #666;\n",
              "  }\n",
              "\n",
              "  .colab-df-quickchart {\n",
              "    background-color: var(--bg-color);\n",
              "    border: none;\n",
              "    border-radius: 50%;\n",
              "    cursor: pointer;\n",
              "    display: none;\n",
              "    fill: var(--fill-color);\n",
              "    height: 32px;\n",
              "    padding: 0;\n",
              "    width: 32px;\n",
              "  }\n",
              "\n",
              "  .colab-df-quickchart:hover {\n",
              "    background-color: var(--hover-bg-color);\n",
              "    box-shadow: 0 1px 2px rgba(60, 64, 67, 0.3), 0 1px 3px 1px rgba(60, 64, 67, 0.15);\n",
              "    fill: var(--button-hover-fill-color);\n",
              "  }\n",
              "\n",
              "  .colab-df-quickchart-complete:disabled,\n",
              "  .colab-df-quickchart-complete:disabled:hover {\n",
              "    background-color: var(--disabled-bg-color);\n",
              "    fill: var(--disabled-fill-color);\n",
              "    box-shadow: none;\n",
              "  }\n",
              "\n",
              "  .colab-df-spinner {\n",
              "    border: 2px solid var(--fill-color);\n",
              "    border-color: transparent;\n",
              "    border-bottom-color: var(--fill-color);\n",
              "    animation:\n",
              "      spin 1s steps(1) infinite;\n",
              "  }\n",
              "\n",
              "  @keyframes spin {\n",
              "    0% {\n",
              "      border-color: transparent;\n",
              "      border-bottom-color: var(--fill-color);\n",
              "      border-left-color: var(--fill-color);\n",
              "    }\n",
              "    20% {\n",
              "      border-color: transparent;\n",
              "      border-left-color: var(--fill-color);\n",
              "      border-top-color: var(--fill-color);\n",
              "    }\n",
              "    30% {\n",
              "      border-color: transparent;\n",
              "      border-left-color: var(--fill-color);\n",
              "      border-top-color: var(--fill-color);\n",
              "      border-right-color: var(--fill-color);\n",
              "    }\n",
              "    40% {\n",
              "      border-color: transparent;\n",
              "      border-right-color: var(--fill-color);\n",
              "      border-top-color: var(--fill-color);\n",
              "    }\n",
              "    60% {\n",
              "      border-color: transparent;\n",
              "      border-right-color: var(--fill-color);\n",
              "    }\n",
              "    80% {\n",
              "      border-color: transparent;\n",
              "      border-right-color: var(--fill-color);\n",
              "      border-bottom-color: var(--fill-color);\n",
              "    }\n",
              "    90% {\n",
              "      border-color: transparent;\n",
              "      border-bottom-color: var(--fill-color);\n",
              "    }\n",
              "  }\n",
              "</style>\n",
              "\n",
              "  <script>\n",
              "    async function quickchart(key) {\n",
              "      const quickchartButtonEl =\n",
              "        document.querySelector('#' + key + ' button');\n",
              "      quickchartButtonEl.disabled = true;  // To prevent multiple clicks.\n",
              "      quickchartButtonEl.classList.add('colab-df-spinner');\n",
              "      try {\n",
              "        const charts = await google.colab.kernel.invokeFunction(\n",
              "            'suggestCharts', [key], {});\n",
              "      } catch (error) {\n",
              "        console.error('Error during call to suggestCharts:', error);\n",
              "      }\n",
              "      quickchartButtonEl.classList.remove('colab-df-spinner');\n",
              "      quickchartButtonEl.classList.add('colab-df-quickchart-complete');\n",
              "    }\n",
              "    (() => {\n",
              "      let quickchartButtonEl =\n",
              "        document.querySelector('#df-25db56ce-ea88-420d-87d8-218049ce2195 button');\n",
              "      quickchartButtonEl.style.display =\n",
              "        google.colab.kernel.accessAllowed ? 'block' : 'none';\n",
              "    })();\n",
              "  </script>\n",
              "</div>\n",
              "\n",
              "  <div id=\"id_c6875c62-0bf2-4135-b85d-8e5ca3868846\">\n",
              "    <style>\n",
              "      .colab-df-generate {\n",
              "        background-color: #E8F0FE;\n",
              "        border: none;\n",
              "        border-radius: 50%;\n",
              "        cursor: pointer;\n",
              "        display: none;\n",
              "        fill: #1967D2;\n",
              "        height: 32px;\n",
              "        padding: 0 0 0 0;\n",
              "        width: 32px;\n",
              "      }\n",
              "\n",
              "      .colab-df-generate:hover {\n",
              "        background-color: #E2EBFA;\n",
              "        box-shadow: 0px 1px 2px rgba(60, 64, 67, 0.3), 0px 1px 3px 1px rgba(60, 64, 67, 0.15);\n",
              "        fill: #174EA6;\n",
              "      }\n",
              "\n",
              "      [theme=dark] .colab-df-generate {\n",
              "        background-color: #3B4455;\n",
              "        fill: #D2E3FC;\n",
              "      }\n",
              "\n",
              "      [theme=dark] .colab-df-generate:hover {\n",
              "        background-color: #434B5C;\n",
              "        box-shadow: 0px 1px 3px 1px rgba(0, 0, 0, 0.15);\n",
              "        filter: drop-shadow(0px 1px 2px rgba(0, 0, 0, 0.3));\n",
              "        fill: #FFFFFF;\n",
              "      }\n",
              "    </style>\n",
              "    <button class=\"colab-df-generate\" onclick=\"generateWithVariable('sample_df')\"\n",
              "            title=\"Generate code using this dataframe.\"\n",
              "            style=\"display:none;\">\n",
              "\n",
              "  <svg xmlns=\"http://www.w3.org/2000/svg\" height=\"24px\"viewBox=\"0 0 24 24\"\n",
              "       width=\"24px\">\n",
              "    <path d=\"M7,19H8.4L18.45,9,17,7.55,7,17.6ZM5,21V16.75L18.45,3.32a2,2,0,0,1,2.83,0l1.4,1.43a1.91,1.91,0,0,1,.58,1.4,1.91,1.91,0,0,1-.58,1.4L9.25,21ZM18.45,9,17,7.55Zm-12,3A5.31,5.31,0,0,0,4.9,8.1,5.31,5.31,0,0,0,1,6.5,5.31,5.31,0,0,0,4.9,4.9,5.31,5.31,0,0,0,6.5,1,5.31,5.31,0,0,0,8.1,4.9,5.31,5.31,0,0,0,12,6.5,5.46,5.46,0,0,0,6.5,12Z\"/>\n",
              "  </svg>\n",
              "    </button>\n",
              "    <script>\n",
              "      (() => {\n",
              "      const buttonEl =\n",
              "        document.querySelector('#id_c6875c62-0bf2-4135-b85d-8e5ca3868846 button.colab-df-generate');\n",
              "      buttonEl.style.display =\n",
              "        google.colab.kernel.accessAllowed ? 'block' : 'none';\n",
              "\n",
              "      buttonEl.onclick = () => {\n",
              "        google.colab.notebook.generateWithVariable('sample_df');\n",
              "      }\n",
              "      })();\n",
              "    </script>\n",
              "  </div>\n",
              "\n",
              "    </div>\n",
              "  </div>\n"
            ]
          },
          "metadata": {},
          "execution_count": 14
        }
      ]
    },
    {
      "cell_type": "markdown",
      "source": [
        "Loading vector space model for comparing word similarity"
      ],
      "metadata": {
        "id": "dReGBSZUh8Ws"
      }
    },
    {
      "cell_type": "code",
      "source": [
        "from gensim.models import KeyedVectors\n",
        "import gensim.downloader as api\n",
        "\n",
        "\n",
        "model_path = \"/content/drive/MyDrive/Work/Projects/Data_Analysis/\"\n",
        "\n",
        "# model = api.load(\"word2vec-google-news-300\")\n",
        "# model.save(model_path + 'word2vvec-google-new-300.model')"
      ],
      "metadata": {
        "id": "ECDAJMc3sm-f"
      },
      "execution_count": null,
      "outputs": []
    },
    {
      "cell_type": "code",
      "source": [
        "model = KeyedVectors.load(model_path + 'word2vvec-google-new-300.model')\n",
        "sim_score = model.similarity(\"you\", \"suck\")\n",
        "print(f\"score : {sim_score}\")"
      ],
      "metadata": {
        "colab": {
          "base_uri": "https://localhost:8080/"
        },
        "id": "W46n65Aaw5eP",
        "outputId": "b29a10b8-d63b-4ec6-8914-19e9b56eb721"
      },
      "execution_count": null,
      "outputs": [
        {
          "output_type": "stream",
          "name": "stdout",
          "text": [
            "score : 0.3054656982421875\n"
          ]
        }
      ]
    },
    {
      "cell_type": "markdown",
      "source": [
        "Calculating ~25 similarity values for 5 keywords each in two columns.\n",
        "Emphasizes similarity values over 0.25 and lessens values below 0.25.\n",
        "Yields final sim score & saves it in dataframe.\n",
        "Process is repeated for column pairs (title/desc), (desc/req)."
      ],
      "metadata": {
        "id": "8YngOSA6iBTC"
      }
    },
    {
      "cell_type": "code",
      "source": [
        "import numpy as np\n",
        "\n",
        "cols = [\n",
        "    'title',\n",
        "    'des_keywords',\n",
        "    'req_keywords',\n",
        "    'rel_sim_score1',\n",
        "    'rel_sim_score2'\n",
        "]\n",
        "\n",
        "sample_df[cols[3]] = None\n",
        "sample_df[cols[4]] = None\n",
        "\n",
        "sim_standard = 0.25\n",
        "rel_sim_score1 = 0\n",
        "rel_sim_score2 = 0\n",
        "\n",
        "for idx, r in sample_df.iterrows():\n",
        "  rel_sim_scores1 = []\n",
        "  rel_sim_scores2 = []\n",
        "\n",
        "  for word2 in r[cols[1]]:\n",
        "    for word1 in r[cols[0]]:\n",
        "      try:\n",
        "        rel_sim_score1 = model.similarity(word1, word2)\n",
        "        rel_sim_scores1.append((word1 != word2) * (rel_sim_score1 / sim_standard) ** 2)\n",
        "      except KeyError:\n",
        "        rel_sim_scores1.append(0)\n",
        "    for word3 in r[cols[2]]:\n",
        "      try:\n",
        "        rel_sim_score2 = model.similarity(word2, word3)\n",
        "        rel_sim_scores2.append((word2 != word3) * (rel_sim_score2 / sim_standard) ** 2)\n",
        "      except KeyError:\n",
        "        rel_sim_scores2.append(0)\n",
        "\n",
        "  if len(rel_sim_scores1) == 0:\n",
        "    rel_sim_scores1.append(0)\n",
        "  if len(rel_sim_scores2) == 0:\n",
        "    rel_sim_scores2.append(0)\n",
        "\n",
        "  sample_df.at[idx, cols[3]] = np.sqrt(sum(rel_sim_scores1)) / len(rel_sim_scores1)\n",
        "  sample_df.at[idx, cols[4]] = np.sqrt(sum(rel_sim_scores2)) / len(rel_sim_scores2)\n",
        "\n",
        "sample_df"
      ],
      "metadata": {
        "colab": {
          "base_uri": "https://localhost:8080/",
          "height": 753
        },
        "id": "9_VzG1Qsvbrb",
        "outputId": "74019d62-6668-4f6a-c24b-9015d1238959"
      },
      "execution_count": null,
      "outputs": [
        {
          "output_type": "execute_result",
          "data": {
            "text/plain": [
              "                                                  title  \\\n",
              "0     [international, broadcaster, dari, pashto, lan...   \n",
              "1                                   [manager, bulgaria]   \n",
              "2                                    [product, manager]   \n",
              "3                 [tourism, content, writer, freelance]   \n",
              "4                                 [designer, developer]   \n",
              "...                                                 ...   \n",
              "1395                           [center, representative]   \n",
              "1396                        [administrative, assistant]   \n",
              "1397             [cash, hand, job, staff, needed, time]   \n",
              "1398                               [director, strategy]   \n",
              "1399                                             [work]   \n",
              "\n",
              "                                            description  \\\n",
              "0     [international, broadcaster, years, current, e...   \n",
              "1     [searching, strong, leader, responsibility, qu...   \n",
              "2     [vibrant, individual, join, fast, entrepreneur...   \n",
              "3     [software, service, company, mobile, tools, or...   \n",
              "4     [company, digital, ventures, boston, consultin...   \n",
              "...                                                 ...   \n",
              "1395  [responsible, collection, delinquent, inquirie...   \n",
              "1396  [assistant, email, resume, apply, normal, part...   \n",
              "1397  [cash, hand, job, staff, needed, free, time, p...   \n",
              "1398  [director, strategy, interested, company, doub...   \n",
              "1399  [seeking, professionals, walks, life, variety,...   \n",
              "\n",
              "                                           requirements  fraudulent  \\\n",
              "0     [international, broadcaster, properly, complet...           0   \n",
              "1     [role, requirements, years, experience, managi...           0   \n",
              "2     [haves, start, environment, flexibility, adapt...           0   \n",
              "3     [proven, writing, skills, healthy, list, speci...           0   \n",
              "4     [education, undergraduate, degree, graphic, de...           0   \n",
              "...                                                 ...         ...   \n",
              "1395  [maintain, attention, concentration, extended,...           1   \n",
              "1396  [normal, confident, easy, firm, flexible, hard...           1   \n",
              "1397                             [experience, required]           1   \n",
              "1398  [requirements, experience, management, consult...           1   \n",
              "1399  [entry, level, traders, understanding, economi...           1   \n",
              "\n",
              "      profile_yn                                       des_keywords  \\\n",
              "0              1  [broadcaster, news, international, target, adapt]   \n",
              "1              0  [group, amend, automatic, progression, personnel]   \n",
              "2              1  [machine, change, building, alleviation, infor...   \n",
              "3              1  [content, tourism, audience, organizations, blog]   \n",
              "4              1       [digital, ventures, class, consulting, firm]   \n",
              "...          ...                                                ...   \n",
              "1395           1  [correct, prevent, errors, properties, recurre...   \n",
              "1396           0  [gatekeeper, presidents, assistant, externally...   \n",
              "1397           0                [cash, afternoon, fee, rg, morning]   \n",
              "1398           1  [evaluation, talent, function, percentile, cap...   \n",
              "1399           0  [trading, walks, professions, professionals, v...   \n",
              "\n",
              "                                           req_keywords rel_sim_score1  \\\n",
              "0        [fails, week, properly, broadcaster, revising]       0.080526   \n",
              "1     [advantage, writing, diagnosing, arena, defining]       0.103928   \n",
              "2          [haves, submit, making, propel, complicated]       0.115751   \n",
              "3            [tourism, typo, buyers, adapting, persona]       0.142865   \n",
              "4            [visual, design, graphic, user, possesses]       0.212908   \n",
              "...                                                 ...            ...   \n",
              "1395  [vendors, customers, necessities, concentratio...       0.064813   \n",
              "1396    [dealing, issues, initiate, anticipates, steps]       0.215824   \n",
              "1397                             [required, experience]       0.090161   \n",
              "1398  [consulting, polish, profitable, venture, inte...       0.125236   \n",
              "1399      [trading, financial, advisor, human, finance]       0.367998   \n",
              "\n",
              "     rel_sim_score2  \n",
              "0          0.083744  \n",
              "1           0.08175  \n",
              "2          0.091644  \n",
              "3          0.095052  \n",
              "4          0.115824  \n",
              "...             ...  \n",
              "1395        0.09481  \n",
              "1396       0.084562  \n",
              "1397       0.146961  \n",
              "1398       0.102869  \n",
              "1399        0.09802  \n",
              "\n",
              "[1400 rows x 9 columns]"
            ],
            "text/html": [
              "\n",
              "  <div id=\"df-b4e5bac8-482f-41f4-a396-8d306930d99d\" class=\"colab-df-container\">\n",
              "    <div>\n",
              "<style scoped>\n",
              "    .dataframe tbody tr th:only-of-type {\n",
              "        vertical-align: middle;\n",
              "    }\n",
              "\n",
              "    .dataframe tbody tr th {\n",
              "        vertical-align: top;\n",
              "    }\n",
              "\n",
              "    .dataframe thead th {\n",
              "        text-align: right;\n",
              "    }\n",
              "</style>\n",
              "<table border=\"1\" class=\"dataframe\">\n",
              "  <thead>\n",
              "    <tr style=\"text-align: right;\">\n",
              "      <th></th>\n",
              "      <th>title</th>\n",
              "      <th>description</th>\n",
              "      <th>requirements</th>\n",
              "      <th>fraudulent</th>\n",
              "      <th>profile_yn</th>\n",
              "      <th>des_keywords</th>\n",
              "      <th>req_keywords</th>\n",
              "      <th>rel_sim_score1</th>\n",
              "      <th>rel_sim_score2</th>\n",
              "    </tr>\n",
              "  </thead>\n",
              "  <tbody>\n",
              "    <tr>\n",
              "      <th>0</th>\n",
              "      <td>[international, broadcaster, dari, pashto, lan...</td>\n",
              "      <td>[international, broadcaster, years, current, e...</td>\n",
              "      <td>[international, broadcaster, properly, complet...</td>\n",
              "      <td>0</td>\n",
              "      <td>1</td>\n",
              "      <td>[broadcaster, news, international, target, adapt]</td>\n",
              "      <td>[fails, week, properly, broadcaster, revising]</td>\n",
              "      <td>0.080526</td>\n",
              "      <td>0.083744</td>\n",
              "    </tr>\n",
              "    <tr>\n",
              "      <th>1</th>\n",
              "      <td>[manager, bulgaria]</td>\n",
              "      <td>[searching, strong, leader, responsibility, qu...</td>\n",
              "      <td>[role, requirements, years, experience, managi...</td>\n",
              "      <td>0</td>\n",
              "      <td>0</td>\n",
              "      <td>[group, amend, automatic, progression, personnel]</td>\n",
              "      <td>[advantage, writing, diagnosing, arena, defining]</td>\n",
              "      <td>0.103928</td>\n",
              "      <td>0.08175</td>\n",
              "    </tr>\n",
              "    <tr>\n",
              "      <th>2</th>\n",
              "      <td>[product, manager]</td>\n",
              "      <td>[vibrant, individual, join, fast, entrepreneur...</td>\n",
              "      <td>[haves, start, environment, flexibility, adapt...</td>\n",
              "      <td>0</td>\n",
              "      <td>1</td>\n",
              "      <td>[machine, change, building, alleviation, infor...</td>\n",
              "      <td>[haves, submit, making, propel, complicated]</td>\n",
              "      <td>0.115751</td>\n",
              "      <td>0.091644</td>\n",
              "    </tr>\n",
              "    <tr>\n",
              "      <th>3</th>\n",
              "      <td>[tourism, content, writer, freelance]</td>\n",
              "      <td>[software, service, company, mobile, tools, or...</td>\n",
              "      <td>[proven, writing, skills, healthy, list, speci...</td>\n",
              "      <td>0</td>\n",
              "      <td>1</td>\n",
              "      <td>[content, tourism, audience, organizations, blog]</td>\n",
              "      <td>[tourism, typo, buyers, adapting, persona]</td>\n",
              "      <td>0.142865</td>\n",
              "      <td>0.095052</td>\n",
              "    </tr>\n",
              "    <tr>\n",
              "      <th>4</th>\n",
              "      <td>[designer, developer]</td>\n",
              "      <td>[company, digital, ventures, boston, consultin...</td>\n",
              "      <td>[education, undergraduate, degree, graphic, de...</td>\n",
              "      <td>0</td>\n",
              "      <td>1</td>\n",
              "      <td>[digital, ventures, class, consulting, firm]</td>\n",
              "      <td>[visual, design, graphic, user, possesses]</td>\n",
              "      <td>0.212908</td>\n",
              "      <td>0.115824</td>\n",
              "    </tr>\n",
              "    <tr>\n",
              "      <th>...</th>\n",
              "      <td>...</td>\n",
              "      <td>...</td>\n",
              "      <td>...</td>\n",
              "      <td>...</td>\n",
              "      <td>...</td>\n",
              "      <td>...</td>\n",
              "      <td>...</td>\n",
              "      <td>...</td>\n",
              "      <td>...</td>\n",
              "    </tr>\n",
              "    <tr>\n",
              "      <th>1395</th>\n",
              "      <td>[center, representative]</td>\n",
              "      <td>[responsible, collection, delinquent, inquirie...</td>\n",
              "      <td>[maintain, attention, concentration, extended,...</td>\n",
              "      <td>1</td>\n",
              "      <td>1</td>\n",
              "      <td>[correct, prevent, errors, properties, recurre...</td>\n",
              "      <td>[vendors, customers, necessities, concentratio...</td>\n",
              "      <td>0.064813</td>\n",
              "      <td>0.09481</td>\n",
              "    </tr>\n",
              "    <tr>\n",
              "      <th>1396</th>\n",
              "      <td>[administrative, assistant]</td>\n",
              "      <td>[assistant, email, resume, apply, normal, part...</td>\n",
              "      <td>[normal, confident, easy, firm, flexible, hard...</td>\n",
              "      <td>1</td>\n",
              "      <td>0</td>\n",
              "      <td>[gatekeeper, presidents, assistant, externally...</td>\n",
              "      <td>[dealing, issues, initiate, anticipates, steps]</td>\n",
              "      <td>0.215824</td>\n",
              "      <td>0.084562</td>\n",
              "    </tr>\n",
              "    <tr>\n",
              "      <th>1397</th>\n",
              "      <td>[cash, hand, job, staff, needed, time]</td>\n",
              "      <td>[cash, hand, job, staff, needed, free, time, p...</td>\n",
              "      <td>[experience, required]</td>\n",
              "      <td>1</td>\n",
              "      <td>0</td>\n",
              "      <td>[cash, afternoon, fee, rg, morning]</td>\n",
              "      <td>[required, experience]</td>\n",
              "      <td>0.090161</td>\n",
              "      <td>0.146961</td>\n",
              "    </tr>\n",
              "    <tr>\n",
              "      <th>1398</th>\n",
              "      <td>[director, strategy]</td>\n",
              "      <td>[director, strategy, interested, company, doub...</td>\n",
              "      <td>[requirements, experience, management, consult...</td>\n",
              "      <td>1</td>\n",
              "      <td>1</td>\n",
              "      <td>[evaluation, talent, function, percentile, cap...</td>\n",
              "      <td>[consulting, polish, profitable, venture, inte...</td>\n",
              "      <td>0.125236</td>\n",
              "      <td>0.102869</td>\n",
              "    </tr>\n",
              "    <tr>\n",
              "      <th>1399</th>\n",
              "      <td>[work]</td>\n",
              "      <td>[seeking, professionals, walks, life, variety,...</td>\n",
              "      <td>[entry, level, traders, understanding, economi...</td>\n",
              "      <td>1</td>\n",
              "      <td>0</td>\n",
              "      <td>[trading, walks, professions, professionals, v...</td>\n",
              "      <td>[trading, financial, advisor, human, finance]</td>\n",
              "      <td>0.367998</td>\n",
              "      <td>0.09802</td>\n",
              "    </tr>\n",
              "  </tbody>\n",
              "</table>\n",
              "<p>1400 rows × 9 columns</p>\n",
              "</div>\n",
              "    <div class=\"colab-df-buttons\">\n",
              "\n",
              "  <div class=\"colab-df-container\">\n",
              "    <button class=\"colab-df-convert\" onclick=\"convertToInteractive('df-b4e5bac8-482f-41f4-a396-8d306930d99d')\"\n",
              "            title=\"Convert this dataframe to an interactive table.\"\n",
              "            style=\"display:none;\">\n",
              "\n",
              "  <svg xmlns=\"http://www.w3.org/2000/svg\" height=\"24px\" viewBox=\"0 -960 960 960\">\n",
              "    <path d=\"M120-120v-720h720v720H120Zm60-500h600v-160H180v160Zm220 220h160v-160H400v160Zm0 220h160v-160H400v160ZM180-400h160v-160H180v160Zm440 0h160v-160H620v160ZM180-180h160v-160H180v160Zm440 0h160v-160H620v160Z\"/>\n",
              "  </svg>\n",
              "    </button>\n",
              "\n",
              "  <style>\n",
              "    .colab-df-container {\n",
              "      display:flex;\n",
              "      gap: 12px;\n",
              "    }\n",
              "\n",
              "    .colab-df-convert {\n",
              "      background-color: #E8F0FE;\n",
              "      border: none;\n",
              "      border-radius: 50%;\n",
              "      cursor: pointer;\n",
              "      display: none;\n",
              "      fill: #1967D2;\n",
              "      height: 32px;\n",
              "      padding: 0 0 0 0;\n",
              "      width: 32px;\n",
              "    }\n",
              "\n",
              "    .colab-df-convert:hover {\n",
              "      background-color: #E2EBFA;\n",
              "      box-shadow: 0px 1px 2px rgba(60, 64, 67, 0.3), 0px 1px 3px 1px rgba(60, 64, 67, 0.15);\n",
              "      fill: #174EA6;\n",
              "    }\n",
              "\n",
              "    .colab-df-buttons div {\n",
              "      margin-bottom: 4px;\n",
              "    }\n",
              "\n",
              "    [theme=dark] .colab-df-convert {\n",
              "      background-color: #3B4455;\n",
              "      fill: #D2E3FC;\n",
              "    }\n",
              "\n",
              "    [theme=dark] .colab-df-convert:hover {\n",
              "      background-color: #434B5C;\n",
              "      box-shadow: 0px 1px 3px 1px rgba(0, 0, 0, 0.15);\n",
              "      filter: drop-shadow(0px 1px 2px rgba(0, 0, 0, 0.3));\n",
              "      fill: #FFFFFF;\n",
              "    }\n",
              "  </style>\n",
              "\n",
              "    <script>\n",
              "      const buttonEl =\n",
              "        document.querySelector('#df-b4e5bac8-482f-41f4-a396-8d306930d99d button.colab-df-convert');\n",
              "      buttonEl.style.display =\n",
              "        google.colab.kernel.accessAllowed ? 'block' : 'none';\n",
              "\n",
              "      async function convertToInteractive(key) {\n",
              "        const element = document.querySelector('#df-b4e5bac8-482f-41f4-a396-8d306930d99d');\n",
              "        const dataTable =\n",
              "          await google.colab.kernel.invokeFunction('convertToInteractive',\n",
              "                                                    [key], {});\n",
              "        if (!dataTable) return;\n",
              "\n",
              "        const docLinkHtml = 'Like what you see? Visit the ' +\n",
              "          '<a target=\"_blank\" href=https://colab.research.google.com/notebooks/data_table.ipynb>data table notebook</a>'\n",
              "          + ' to learn more about interactive tables.';\n",
              "        element.innerHTML = '';\n",
              "        dataTable['output_type'] = 'display_data';\n",
              "        await google.colab.output.renderOutput(dataTable, element);\n",
              "        const docLink = document.createElement('div');\n",
              "        docLink.innerHTML = docLinkHtml;\n",
              "        element.appendChild(docLink);\n",
              "      }\n",
              "    </script>\n",
              "  </div>\n",
              "\n",
              "\n",
              "<div id=\"df-5795a622-917d-466c-bfca-9b2352c50ba5\">\n",
              "  <button class=\"colab-df-quickchart\" onclick=\"quickchart('df-5795a622-917d-466c-bfca-9b2352c50ba5')\"\n",
              "            title=\"Suggest charts\"\n",
              "            style=\"display:none;\">\n",
              "\n",
              "<svg xmlns=\"http://www.w3.org/2000/svg\" height=\"24px\"viewBox=\"0 0 24 24\"\n",
              "     width=\"24px\">\n",
              "    <g>\n",
              "        <path d=\"M19 3H5c-1.1 0-2 .9-2 2v14c0 1.1.9 2 2 2h14c1.1 0 2-.9 2-2V5c0-1.1-.9-2-2-2zM9 17H7v-7h2v7zm4 0h-2V7h2v10zm4 0h-2v-4h2v4z\"/>\n",
              "    </g>\n",
              "</svg>\n",
              "  </button>\n",
              "\n",
              "<style>\n",
              "  .colab-df-quickchart {\n",
              "      --bg-color: #E8F0FE;\n",
              "      --fill-color: #1967D2;\n",
              "      --hover-bg-color: #E2EBFA;\n",
              "      --hover-fill-color: #174EA6;\n",
              "      --disabled-fill-color: #AAA;\n",
              "      --disabled-bg-color: #DDD;\n",
              "  }\n",
              "\n",
              "  [theme=dark] .colab-df-quickchart {\n",
              "      --bg-color: #3B4455;\n",
              "      --fill-color: #D2E3FC;\n",
              "      --hover-bg-color: #434B5C;\n",
              "      --hover-fill-color: #FFFFFF;\n",
              "      --disabled-bg-color: #3B4455;\n",
              "      --disabled-fill-color: #666;\n",
              "  }\n",
              "\n",
              "  .colab-df-quickchart {\n",
              "    background-color: var(--bg-color);\n",
              "    border: none;\n",
              "    border-radius: 50%;\n",
              "    cursor: pointer;\n",
              "    display: none;\n",
              "    fill: var(--fill-color);\n",
              "    height: 32px;\n",
              "    padding: 0;\n",
              "    width: 32px;\n",
              "  }\n",
              "\n",
              "  .colab-df-quickchart:hover {\n",
              "    background-color: var(--hover-bg-color);\n",
              "    box-shadow: 0 1px 2px rgba(60, 64, 67, 0.3), 0 1px 3px 1px rgba(60, 64, 67, 0.15);\n",
              "    fill: var(--button-hover-fill-color);\n",
              "  }\n",
              "\n",
              "  .colab-df-quickchart-complete:disabled,\n",
              "  .colab-df-quickchart-complete:disabled:hover {\n",
              "    background-color: var(--disabled-bg-color);\n",
              "    fill: var(--disabled-fill-color);\n",
              "    box-shadow: none;\n",
              "  }\n",
              "\n",
              "  .colab-df-spinner {\n",
              "    border: 2px solid var(--fill-color);\n",
              "    border-color: transparent;\n",
              "    border-bottom-color: var(--fill-color);\n",
              "    animation:\n",
              "      spin 1s steps(1) infinite;\n",
              "  }\n",
              "\n",
              "  @keyframes spin {\n",
              "    0% {\n",
              "      border-color: transparent;\n",
              "      border-bottom-color: var(--fill-color);\n",
              "      border-left-color: var(--fill-color);\n",
              "    }\n",
              "    20% {\n",
              "      border-color: transparent;\n",
              "      border-left-color: var(--fill-color);\n",
              "      border-top-color: var(--fill-color);\n",
              "    }\n",
              "    30% {\n",
              "      border-color: transparent;\n",
              "      border-left-color: var(--fill-color);\n",
              "      border-top-color: var(--fill-color);\n",
              "      border-right-color: var(--fill-color);\n",
              "    }\n",
              "    40% {\n",
              "      border-color: transparent;\n",
              "      border-right-color: var(--fill-color);\n",
              "      border-top-color: var(--fill-color);\n",
              "    }\n",
              "    60% {\n",
              "      border-color: transparent;\n",
              "      border-right-color: var(--fill-color);\n",
              "    }\n",
              "    80% {\n",
              "      border-color: transparent;\n",
              "      border-right-color: var(--fill-color);\n",
              "      border-bottom-color: var(--fill-color);\n",
              "    }\n",
              "    90% {\n",
              "      border-color: transparent;\n",
              "      border-bottom-color: var(--fill-color);\n",
              "    }\n",
              "  }\n",
              "</style>\n",
              "\n",
              "  <script>\n",
              "    async function quickchart(key) {\n",
              "      const quickchartButtonEl =\n",
              "        document.querySelector('#' + key + ' button');\n",
              "      quickchartButtonEl.disabled = true;  // To prevent multiple clicks.\n",
              "      quickchartButtonEl.classList.add('colab-df-spinner');\n",
              "      try {\n",
              "        const charts = await google.colab.kernel.invokeFunction(\n",
              "            'suggestCharts', [key], {});\n",
              "      } catch (error) {\n",
              "        console.error('Error during call to suggestCharts:', error);\n",
              "      }\n",
              "      quickchartButtonEl.classList.remove('colab-df-spinner');\n",
              "      quickchartButtonEl.classList.add('colab-df-quickchart-complete');\n",
              "    }\n",
              "    (() => {\n",
              "      let quickchartButtonEl =\n",
              "        document.querySelector('#df-5795a622-917d-466c-bfca-9b2352c50ba5 button');\n",
              "      quickchartButtonEl.style.display =\n",
              "        google.colab.kernel.accessAllowed ? 'block' : 'none';\n",
              "    })();\n",
              "  </script>\n",
              "</div>\n",
              "\n",
              "  <div id=\"id_48e69823-0b0d-4f83-9c94-fd40e1fd5755\">\n",
              "    <style>\n",
              "      .colab-df-generate {\n",
              "        background-color: #E8F0FE;\n",
              "        border: none;\n",
              "        border-radius: 50%;\n",
              "        cursor: pointer;\n",
              "        display: none;\n",
              "        fill: #1967D2;\n",
              "        height: 32px;\n",
              "        padding: 0 0 0 0;\n",
              "        width: 32px;\n",
              "      }\n",
              "\n",
              "      .colab-df-generate:hover {\n",
              "        background-color: #E2EBFA;\n",
              "        box-shadow: 0px 1px 2px rgba(60, 64, 67, 0.3), 0px 1px 3px 1px rgba(60, 64, 67, 0.15);\n",
              "        fill: #174EA6;\n",
              "      }\n",
              "\n",
              "      [theme=dark] .colab-df-generate {\n",
              "        background-color: #3B4455;\n",
              "        fill: #D2E3FC;\n",
              "      }\n",
              "\n",
              "      [theme=dark] .colab-df-generate:hover {\n",
              "        background-color: #434B5C;\n",
              "        box-shadow: 0px 1px 3px 1px rgba(0, 0, 0, 0.15);\n",
              "        filter: drop-shadow(0px 1px 2px rgba(0, 0, 0, 0.3));\n",
              "        fill: #FFFFFF;\n",
              "      }\n",
              "    </style>\n",
              "    <button class=\"colab-df-generate\" onclick=\"generateWithVariable('sample_df')\"\n",
              "            title=\"Generate code using this dataframe.\"\n",
              "            style=\"display:none;\">\n",
              "\n",
              "  <svg xmlns=\"http://www.w3.org/2000/svg\" height=\"24px\"viewBox=\"0 0 24 24\"\n",
              "       width=\"24px\">\n",
              "    <path d=\"M7,19H8.4L18.45,9,17,7.55,7,17.6ZM5,21V16.75L18.45,3.32a2,2,0,0,1,2.83,0l1.4,1.43a1.91,1.91,0,0,1,.58,1.4,1.91,1.91,0,0,1-.58,1.4L9.25,21ZM18.45,9,17,7.55Zm-12,3A5.31,5.31,0,0,0,4.9,8.1,5.31,5.31,0,0,0,1,6.5,5.31,5.31,0,0,0,4.9,4.9,5.31,5.31,0,0,0,6.5,1,5.31,5.31,0,0,0,8.1,4.9,5.31,5.31,0,0,0,12,6.5,5.46,5.46,0,0,0,6.5,12Z\"/>\n",
              "  </svg>\n",
              "    </button>\n",
              "    <script>\n",
              "      (() => {\n",
              "      const buttonEl =\n",
              "        document.querySelector('#id_48e69823-0b0d-4f83-9c94-fd40e1fd5755 button.colab-df-generate');\n",
              "      buttonEl.style.display =\n",
              "        google.colab.kernel.accessAllowed ? 'block' : 'none';\n",
              "\n",
              "      buttonEl.onclick = () => {\n",
              "        google.colab.notebook.generateWithVariable('sample_df');\n",
              "      }\n",
              "      })();\n",
              "    </script>\n",
              "  </div>\n",
              "\n",
              "    </div>\n",
              "  </div>\n"
            ]
          },
          "metadata": {},
          "execution_count": 19
        }
      ]
    },
    {
      "cell_type": "markdown",
      "source": [
        "Printing final dataframe with extracted similarity quantities.\n",
        "Here, rel_sim_score1 is for (title/desc), rel_sim_score2 is for (desc/req)."
      ],
      "metadata": {
        "id": "Y4_q--3NiWfb"
      }
    },
    {
      "cell_type": "code",
      "source": [
        "col = sample_df.columns\n",
        "final_df = sample_df[[col[4], col[7], col[8], col[3]]]\n",
        "final_df"
      ],
      "metadata": {
        "colab": {
          "base_uri": "https://localhost:8080/",
          "height": 423
        },
        "id": "cM_uH9hZ9oSX",
        "outputId": "a9ecfe6a-2efb-4066-eddb-d96eb7f6228b"
      },
      "execution_count": null,
      "outputs": [
        {
          "output_type": "execute_result",
          "data": {
            "text/plain": [
              "      profile_yn rel_sim_score1 rel_sim_score2  fraudulent\n",
              "0              1       0.080526       0.083744           0\n",
              "1              0       0.103928        0.08175           0\n",
              "2              1       0.115751       0.091644           0\n",
              "3              1       0.142865       0.095052           0\n",
              "4              1       0.212908       0.115824           0\n",
              "...          ...            ...            ...         ...\n",
              "1395           1       0.064813        0.09481           1\n",
              "1396           0       0.215824       0.084562           1\n",
              "1397           0       0.090161       0.146961           1\n",
              "1398           1       0.125236       0.102869           1\n",
              "1399           0       0.367998        0.09802           1\n",
              "\n",
              "[1400 rows x 4 columns]"
            ],
            "text/html": [
              "\n",
              "  <div id=\"df-295bbc50-4199-4f67-a703-5b31f5ed8b8f\" class=\"colab-df-container\">\n",
              "    <div>\n",
              "<style scoped>\n",
              "    .dataframe tbody tr th:only-of-type {\n",
              "        vertical-align: middle;\n",
              "    }\n",
              "\n",
              "    .dataframe tbody tr th {\n",
              "        vertical-align: top;\n",
              "    }\n",
              "\n",
              "    .dataframe thead th {\n",
              "        text-align: right;\n",
              "    }\n",
              "</style>\n",
              "<table border=\"1\" class=\"dataframe\">\n",
              "  <thead>\n",
              "    <tr style=\"text-align: right;\">\n",
              "      <th></th>\n",
              "      <th>profile_yn</th>\n",
              "      <th>rel_sim_score1</th>\n",
              "      <th>rel_sim_score2</th>\n",
              "      <th>fraudulent</th>\n",
              "    </tr>\n",
              "  </thead>\n",
              "  <tbody>\n",
              "    <tr>\n",
              "      <th>0</th>\n",
              "      <td>1</td>\n",
              "      <td>0.080526</td>\n",
              "      <td>0.083744</td>\n",
              "      <td>0</td>\n",
              "    </tr>\n",
              "    <tr>\n",
              "      <th>1</th>\n",
              "      <td>0</td>\n",
              "      <td>0.103928</td>\n",
              "      <td>0.08175</td>\n",
              "      <td>0</td>\n",
              "    </tr>\n",
              "    <tr>\n",
              "      <th>2</th>\n",
              "      <td>1</td>\n",
              "      <td>0.115751</td>\n",
              "      <td>0.091644</td>\n",
              "      <td>0</td>\n",
              "    </tr>\n",
              "    <tr>\n",
              "      <th>3</th>\n",
              "      <td>1</td>\n",
              "      <td>0.142865</td>\n",
              "      <td>0.095052</td>\n",
              "      <td>0</td>\n",
              "    </tr>\n",
              "    <tr>\n",
              "      <th>4</th>\n",
              "      <td>1</td>\n",
              "      <td>0.212908</td>\n",
              "      <td>0.115824</td>\n",
              "      <td>0</td>\n",
              "    </tr>\n",
              "    <tr>\n",
              "      <th>...</th>\n",
              "      <td>...</td>\n",
              "      <td>...</td>\n",
              "      <td>...</td>\n",
              "      <td>...</td>\n",
              "    </tr>\n",
              "    <tr>\n",
              "      <th>1395</th>\n",
              "      <td>1</td>\n",
              "      <td>0.064813</td>\n",
              "      <td>0.09481</td>\n",
              "      <td>1</td>\n",
              "    </tr>\n",
              "    <tr>\n",
              "      <th>1396</th>\n",
              "      <td>0</td>\n",
              "      <td>0.215824</td>\n",
              "      <td>0.084562</td>\n",
              "      <td>1</td>\n",
              "    </tr>\n",
              "    <tr>\n",
              "      <th>1397</th>\n",
              "      <td>0</td>\n",
              "      <td>0.090161</td>\n",
              "      <td>0.146961</td>\n",
              "      <td>1</td>\n",
              "    </tr>\n",
              "    <tr>\n",
              "      <th>1398</th>\n",
              "      <td>1</td>\n",
              "      <td>0.125236</td>\n",
              "      <td>0.102869</td>\n",
              "      <td>1</td>\n",
              "    </tr>\n",
              "    <tr>\n",
              "      <th>1399</th>\n",
              "      <td>0</td>\n",
              "      <td>0.367998</td>\n",
              "      <td>0.09802</td>\n",
              "      <td>1</td>\n",
              "    </tr>\n",
              "  </tbody>\n",
              "</table>\n",
              "<p>1400 rows × 4 columns</p>\n",
              "</div>\n",
              "    <div class=\"colab-df-buttons\">\n",
              "\n",
              "  <div class=\"colab-df-container\">\n",
              "    <button class=\"colab-df-convert\" onclick=\"convertToInteractive('df-295bbc50-4199-4f67-a703-5b31f5ed8b8f')\"\n",
              "            title=\"Convert this dataframe to an interactive table.\"\n",
              "            style=\"display:none;\">\n",
              "\n",
              "  <svg xmlns=\"http://www.w3.org/2000/svg\" height=\"24px\" viewBox=\"0 -960 960 960\">\n",
              "    <path d=\"M120-120v-720h720v720H120Zm60-500h600v-160H180v160Zm220 220h160v-160H400v160Zm0 220h160v-160H400v160ZM180-400h160v-160H180v160Zm440 0h160v-160H620v160ZM180-180h160v-160H180v160Zm440 0h160v-160H620v160Z\"/>\n",
              "  </svg>\n",
              "    </button>\n",
              "\n",
              "  <style>\n",
              "    .colab-df-container {\n",
              "      display:flex;\n",
              "      gap: 12px;\n",
              "    }\n",
              "\n",
              "    .colab-df-convert {\n",
              "      background-color: #E8F0FE;\n",
              "      border: none;\n",
              "      border-radius: 50%;\n",
              "      cursor: pointer;\n",
              "      display: none;\n",
              "      fill: #1967D2;\n",
              "      height: 32px;\n",
              "      padding: 0 0 0 0;\n",
              "      width: 32px;\n",
              "    }\n",
              "\n",
              "    .colab-df-convert:hover {\n",
              "      background-color: #E2EBFA;\n",
              "      box-shadow: 0px 1px 2px rgba(60, 64, 67, 0.3), 0px 1px 3px 1px rgba(60, 64, 67, 0.15);\n",
              "      fill: #174EA6;\n",
              "    }\n",
              "\n",
              "    .colab-df-buttons div {\n",
              "      margin-bottom: 4px;\n",
              "    }\n",
              "\n",
              "    [theme=dark] .colab-df-convert {\n",
              "      background-color: #3B4455;\n",
              "      fill: #D2E3FC;\n",
              "    }\n",
              "\n",
              "    [theme=dark] .colab-df-convert:hover {\n",
              "      background-color: #434B5C;\n",
              "      box-shadow: 0px 1px 3px 1px rgba(0, 0, 0, 0.15);\n",
              "      filter: drop-shadow(0px 1px 2px rgba(0, 0, 0, 0.3));\n",
              "      fill: #FFFFFF;\n",
              "    }\n",
              "  </style>\n",
              "\n",
              "    <script>\n",
              "      const buttonEl =\n",
              "        document.querySelector('#df-295bbc50-4199-4f67-a703-5b31f5ed8b8f button.colab-df-convert');\n",
              "      buttonEl.style.display =\n",
              "        google.colab.kernel.accessAllowed ? 'block' : 'none';\n",
              "\n",
              "      async function convertToInteractive(key) {\n",
              "        const element = document.querySelector('#df-295bbc50-4199-4f67-a703-5b31f5ed8b8f');\n",
              "        const dataTable =\n",
              "          await google.colab.kernel.invokeFunction('convertToInteractive',\n",
              "                                                    [key], {});\n",
              "        if (!dataTable) return;\n",
              "\n",
              "        const docLinkHtml = 'Like what you see? Visit the ' +\n",
              "          '<a target=\"_blank\" href=https://colab.research.google.com/notebooks/data_table.ipynb>data table notebook</a>'\n",
              "          + ' to learn more about interactive tables.';\n",
              "        element.innerHTML = '';\n",
              "        dataTable['output_type'] = 'display_data';\n",
              "        await google.colab.output.renderOutput(dataTable, element);\n",
              "        const docLink = document.createElement('div');\n",
              "        docLink.innerHTML = docLinkHtml;\n",
              "        element.appendChild(docLink);\n",
              "      }\n",
              "    </script>\n",
              "  </div>\n",
              "\n",
              "\n",
              "<div id=\"df-6beead51-6c4c-417d-92f9-899d28964d68\">\n",
              "  <button class=\"colab-df-quickchart\" onclick=\"quickchart('df-6beead51-6c4c-417d-92f9-899d28964d68')\"\n",
              "            title=\"Suggest charts\"\n",
              "            style=\"display:none;\">\n",
              "\n",
              "<svg xmlns=\"http://www.w3.org/2000/svg\" height=\"24px\"viewBox=\"0 0 24 24\"\n",
              "     width=\"24px\">\n",
              "    <g>\n",
              "        <path d=\"M19 3H5c-1.1 0-2 .9-2 2v14c0 1.1.9 2 2 2h14c1.1 0 2-.9 2-2V5c0-1.1-.9-2-2-2zM9 17H7v-7h2v7zm4 0h-2V7h2v10zm4 0h-2v-4h2v4z\"/>\n",
              "    </g>\n",
              "</svg>\n",
              "  </button>\n",
              "\n",
              "<style>\n",
              "  .colab-df-quickchart {\n",
              "      --bg-color: #E8F0FE;\n",
              "      --fill-color: #1967D2;\n",
              "      --hover-bg-color: #E2EBFA;\n",
              "      --hover-fill-color: #174EA6;\n",
              "      --disabled-fill-color: #AAA;\n",
              "      --disabled-bg-color: #DDD;\n",
              "  }\n",
              "\n",
              "  [theme=dark] .colab-df-quickchart {\n",
              "      --bg-color: #3B4455;\n",
              "      --fill-color: #D2E3FC;\n",
              "      --hover-bg-color: #434B5C;\n",
              "      --hover-fill-color: #FFFFFF;\n",
              "      --disabled-bg-color: #3B4455;\n",
              "      --disabled-fill-color: #666;\n",
              "  }\n",
              "\n",
              "  .colab-df-quickchart {\n",
              "    background-color: var(--bg-color);\n",
              "    border: none;\n",
              "    border-radius: 50%;\n",
              "    cursor: pointer;\n",
              "    display: none;\n",
              "    fill: var(--fill-color);\n",
              "    height: 32px;\n",
              "    padding: 0;\n",
              "    width: 32px;\n",
              "  }\n",
              "\n",
              "  .colab-df-quickchart:hover {\n",
              "    background-color: var(--hover-bg-color);\n",
              "    box-shadow: 0 1px 2px rgba(60, 64, 67, 0.3), 0 1px 3px 1px rgba(60, 64, 67, 0.15);\n",
              "    fill: var(--button-hover-fill-color);\n",
              "  }\n",
              "\n",
              "  .colab-df-quickchart-complete:disabled,\n",
              "  .colab-df-quickchart-complete:disabled:hover {\n",
              "    background-color: var(--disabled-bg-color);\n",
              "    fill: var(--disabled-fill-color);\n",
              "    box-shadow: none;\n",
              "  }\n",
              "\n",
              "  .colab-df-spinner {\n",
              "    border: 2px solid var(--fill-color);\n",
              "    border-color: transparent;\n",
              "    border-bottom-color: var(--fill-color);\n",
              "    animation:\n",
              "      spin 1s steps(1) infinite;\n",
              "  }\n",
              "\n",
              "  @keyframes spin {\n",
              "    0% {\n",
              "      border-color: transparent;\n",
              "      border-bottom-color: var(--fill-color);\n",
              "      border-left-color: var(--fill-color);\n",
              "    }\n",
              "    20% {\n",
              "      border-color: transparent;\n",
              "      border-left-color: var(--fill-color);\n",
              "      border-top-color: var(--fill-color);\n",
              "    }\n",
              "    30% {\n",
              "      border-color: transparent;\n",
              "      border-left-color: var(--fill-color);\n",
              "      border-top-color: var(--fill-color);\n",
              "      border-right-color: var(--fill-color);\n",
              "    }\n",
              "    40% {\n",
              "      border-color: transparent;\n",
              "      border-right-color: var(--fill-color);\n",
              "      border-top-color: var(--fill-color);\n",
              "    }\n",
              "    60% {\n",
              "      border-color: transparent;\n",
              "      border-right-color: var(--fill-color);\n",
              "    }\n",
              "    80% {\n",
              "      border-color: transparent;\n",
              "      border-right-color: var(--fill-color);\n",
              "      border-bottom-color: var(--fill-color);\n",
              "    }\n",
              "    90% {\n",
              "      border-color: transparent;\n",
              "      border-bottom-color: var(--fill-color);\n",
              "    }\n",
              "  }\n",
              "</style>\n",
              "\n",
              "  <script>\n",
              "    async function quickchart(key) {\n",
              "      const quickchartButtonEl =\n",
              "        document.querySelector('#' + key + ' button');\n",
              "      quickchartButtonEl.disabled = true;  // To prevent multiple clicks.\n",
              "      quickchartButtonEl.classList.add('colab-df-spinner');\n",
              "      try {\n",
              "        const charts = await google.colab.kernel.invokeFunction(\n",
              "            'suggestCharts', [key], {});\n",
              "      } catch (error) {\n",
              "        console.error('Error during call to suggestCharts:', error);\n",
              "      }\n",
              "      quickchartButtonEl.classList.remove('colab-df-spinner');\n",
              "      quickchartButtonEl.classList.add('colab-df-quickchart-complete');\n",
              "    }\n",
              "    (() => {\n",
              "      let quickchartButtonEl =\n",
              "        document.querySelector('#df-6beead51-6c4c-417d-92f9-899d28964d68 button');\n",
              "      quickchartButtonEl.style.display =\n",
              "        google.colab.kernel.accessAllowed ? 'block' : 'none';\n",
              "    })();\n",
              "  </script>\n",
              "</div>\n",
              "\n",
              "  <div id=\"id_cab8b7c3-4f3e-4599-9e92-d3319ae4a629\">\n",
              "    <style>\n",
              "      .colab-df-generate {\n",
              "        background-color: #E8F0FE;\n",
              "        border: none;\n",
              "        border-radius: 50%;\n",
              "        cursor: pointer;\n",
              "        display: none;\n",
              "        fill: #1967D2;\n",
              "        height: 32px;\n",
              "        padding: 0 0 0 0;\n",
              "        width: 32px;\n",
              "      }\n",
              "\n",
              "      .colab-df-generate:hover {\n",
              "        background-color: #E2EBFA;\n",
              "        box-shadow: 0px 1px 2px rgba(60, 64, 67, 0.3), 0px 1px 3px 1px rgba(60, 64, 67, 0.15);\n",
              "        fill: #174EA6;\n",
              "      }\n",
              "\n",
              "      [theme=dark] .colab-df-generate {\n",
              "        background-color: #3B4455;\n",
              "        fill: #D2E3FC;\n",
              "      }\n",
              "\n",
              "      [theme=dark] .colab-df-generate:hover {\n",
              "        background-color: #434B5C;\n",
              "        box-shadow: 0px 1px 3px 1px rgba(0, 0, 0, 0.15);\n",
              "        filter: drop-shadow(0px 1px 2px rgba(0, 0, 0, 0.3));\n",
              "        fill: #FFFFFF;\n",
              "      }\n",
              "    </style>\n",
              "    <button class=\"colab-df-generate\" onclick=\"generateWithVariable('final_df')\"\n",
              "            title=\"Generate code using this dataframe.\"\n",
              "            style=\"display:none;\">\n",
              "\n",
              "  <svg xmlns=\"http://www.w3.org/2000/svg\" height=\"24px\"viewBox=\"0 0 24 24\"\n",
              "       width=\"24px\">\n",
              "    <path d=\"M7,19H8.4L18.45,9,17,7.55,7,17.6ZM5,21V16.75L18.45,3.32a2,2,0,0,1,2.83,0l1.4,1.43a1.91,1.91,0,0,1,.58,1.4,1.91,1.91,0,0,1-.58,1.4L9.25,21ZM18.45,9,17,7.55Zm-12,3A5.31,5.31,0,0,0,4.9,8.1,5.31,5.31,0,0,0,1,6.5,5.31,5.31,0,0,0,4.9,4.9,5.31,5.31,0,0,0,6.5,1,5.31,5.31,0,0,0,8.1,4.9,5.31,5.31,0,0,0,12,6.5,5.46,5.46,0,0,0,6.5,12Z\"/>\n",
              "  </svg>\n",
              "    </button>\n",
              "    <script>\n",
              "      (() => {\n",
              "      const buttonEl =\n",
              "        document.querySelector('#id_cab8b7c3-4f3e-4599-9e92-d3319ae4a629 button.colab-df-generate');\n",
              "      buttonEl.style.display =\n",
              "        google.colab.kernel.accessAllowed ? 'block' : 'none';\n",
              "\n",
              "      buttonEl.onclick = () => {\n",
              "        google.colab.notebook.generateWithVariable('final_df');\n",
              "      }\n",
              "      })();\n",
              "    </script>\n",
              "  </div>\n",
              "\n",
              "    </div>\n",
              "  </div>\n"
            ]
          },
          "metadata": {},
          "execution_count": 20
        }
      ]
    },
    {
      "cell_type": "markdown",
      "source": [
        "#Logistic Regression"
      ],
      "metadata": {
        "id": "hzWWqDFP8Goz"
      }
    },
    {
      "cell_type": "markdown",
      "source": [
        "##Graph 1 (profile_yn & rel_sim_score2)"
      ],
      "metadata": {
        "id": "fSakVYSZ7ckb"
      }
    },
    {
      "cell_type": "markdown",
      "source": [
        "Logistic Regression model, with quantities from profile_yn and rel_sim_score2."
      ],
      "metadata": {
        "id": "VXHpwot2iv8J"
      }
    },
    {
      "cell_type": "code",
      "source": [
        "m1_x = final_df.loc[:, ['profile_yn', 'rel_sim_score2']]\n",
        "m1_y = final_df.loc[:, 'fraudulent']\n",
        "print(m1_x)\n",
        "print(m1_y)"
      ],
      "metadata": {
        "colab": {
          "base_uri": "https://localhost:8080/"
        },
        "id": "etFhT8VA7RNb",
        "outputId": "ca47a9a7-5ca0-4bd7-990b-41a6cf18a8e5"
      },
      "execution_count": null,
      "outputs": [
        {
          "output_type": "stream",
          "name": "stdout",
          "text": [
            "      profile_yn rel_sim_score2\n",
            "0              1       0.083744\n",
            "1              0        0.08175\n",
            "2              1       0.091644\n",
            "3              1       0.095052\n",
            "4              1       0.115824\n",
            "...          ...            ...\n",
            "1395           1        0.09481\n",
            "1396           0       0.084562\n",
            "1397           0       0.146961\n",
            "1398           1       0.102869\n",
            "1399           0        0.09802\n",
            "\n",
            "[1400 rows x 2 columns]\n",
            "0       0\n",
            "1       0\n",
            "2       0\n",
            "3       0\n",
            "4       0\n",
            "       ..\n",
            "1395    1\n",
            "1396    1\n",
            "1397    1\n",
            "1398    1\n",
            "1399    1\n",
            "Name: fraudulent, Length: 1400, dtype: int64\n"
          ]
        }
      ]
    },
    {
      "cell_type": "markdown",
      "source": [
        "Training Logistic Regression Model"
      ],
      "metadata": {
        "id": "ISnJRPw1i3mo"
      }
    },
    {
      "cell_type": "code",
      "source": [
        "from sklearn.linear_model import LogisticRegression\n",
        "from sklearn.model_selection import train_test_split\n",
        "\n",
        "x_train, x_test, y_train, y_test = train_test_split(m1_x, m1_y, test_size=0.2)\n",
        "# x_train = x_train.values.reshape(-1,1)\n",
        "log_model = LogisticRegression()\n",
        "log_model.fit(x_train,y_train)"
      ],
      "metadata": {
        "colab": {
          "base_uri": "https://localhost:8080/",
          "height": 74
        },
        "id": "nTbgFghA7S-1",
        "outputId": "15660b2f-68ce-4053-e210-7b198bc5d8df"
      },
      "execution_count": null,
      "outputs": [
        {
          "output_type": "execute_result",
          "data": {
            "text/plain": [
              "LogisticRegression()"
            ],
            "text/html": [
              "<style>#sk-container-id-5 {color: black;background-color: white;}#sk-container-id-5 pre{padding: 0;}#sk-container-id-5 div.sk-toggleable {background-color: white;}#sk-container-id-5 label.sk-toggleable__label {cursor: pointer;display: block;width: 100%;margin-bottom: 0;padding: 0.3em;box-sizing: border-box;text-align: center;}#sk-container-id-5 label.sk-toggleable__label-arrow:before {content: \"▸\";float: left;margin-right: 0.25em;color: #696969;}#sk-container-id-5 label.sk-toggleable__label-arrow:hover:before {color: black;}#sk-container-id-5 div.sk-estimator:hover label.sk-toggleable__label-arrow:before {color: black;}#sk-container-id-5 div.sk-toggleable__content {max-height: 0;max-width: 0;overflow: hidden;text-align: left;background-color: #f0f8ff;}#sk-container-id-5 div.sk-toggleable__content pre {margin: 0.2em;color: black;border-radius: 0.25em;background-color: #f0f8ff;}#sk-container-id-5 input.sk-toggleable__control:checked~div.sk-toggleable__content {max-height: 200px;max-width: 100%;overflow: auto;}#sk-container-id-5 input.sk-toggleable__control:checked~label.sk-toggleable__label-arrow:before {content: \"▾\";}#sk-container-id-5 div.sk-estimator input.sk-toggleable__control:checked~label.sk-toggleable__label {background-color: #d4ebff;}#sk-container-id-5 div.sk-label input.sk-toggleable__control:checked~label.sk-toggleable__label {background-color: #d4ebff;}#sk-container-id-5 input.sk-hidden--visually {border: 0;clip: rect(1px 1px 1px 1px);clip: rect(1px, 1px, 1px, 1px);height: 1px;margin: -1px;overflow: hidden;padding: 0;position: absolute;width: 1px;}#sk-container-id-5 div.sk-estimator {font-family: monospace;background-color: #f0f8ff;border: 1px dotted black;border-radius: 0.25em;box-sizing: border-box;margin-bottom: 0.5em;}#sk-container-id-5 div.sk-estimator:hover {background-color: #d4ebff;}#sk-container-id-5 div.sk-parallel-item::after {content: \"\";width: 100%;border-bottom: 1px solid gray;flex-grow: 1;}#sk-container-id-5 div.sk-label:hover label.sk-toggleable__label {background-color: #d4ebff;}#sk-container-id-5 div.sk-serial::before {content: \"\";position: absolute;border-left: 1px solid gray;box-sizing: border-box;top: 0;bottom: 0;left: 50%;z-index: 0;}#sk-container-id-5 div.sk-serial {display: flex;flex-direction: column;align-items: center;background-color: white;padding-right: 0.2em;padding-left: 0.2em;position: relative;}#sk-container-id-5 div.sk-item {position: relative;z-index: 1;}#sk-container-id-5 div.sk-parallel {display: flex;align-items: stretch;justify-content: center;background-color: white;position: relative;}#sk-container-id-5 div.sk-item::before, #sk-container-id-5 div.sk-parallel-item::before {content: \"\";position: absolute;border-left: 1px solid gray;box-sizing: border-box;top: 0;bottom: 0;left: 50%;z-index: -1;}#sk-container-id-5 div.sk-parallel-item {display: flex;flex-direction: column;z-index: 1;position: relative;background-color: white;}#sk-container-id-5 div.sk-parallel-item:first-child::after {align-self: flex-end;width: 50%;}#sk-container-id-5 div.sk-parallel-item:last-child::after {align-self: flex-start;width: 50%;}#sk-container-id-5 div.sk-parallel-item:only-child::after {width: 0;}#sk-container-id-5 div.sk-dashed-wrapped {border: 1px dashed gray;margin: 0 0.4em 0.5em 0.4em;box-sizing: border-box;padding-bottom: 0.4em;background-color: white;}#sk-container-id-5 div.sk-label label {font-family: monospace;font-weight: bold;display: inline-block;line-height: 1.2em;}#sk-container-id-5 div.sk-label-container {text-align: center;}#sk-container-id-5 div.sk-container {/* jupyter's `normalize.less` sets `[hidden] { display: none; }` but bootstrap.min.css set `[hidden] { display: none !important; }` so we also need the `!important` here to be able to override the default hidden behavior on the sphinx rendered scikit-learn.org. See: https://github.com/scikit-learn/scikit-learn/issues/21755 */display: inline-block !important;position: relative;}#sk-container-id-5 div.sk-text-repr-fallback {display: none;}</style><div id=\"sk-container-id-5\" class=\"sk-top-container\"><div class=\"sk-text-repr-fallback\"><pre>LogisticRegression()</pre><b>In a Jupyter environment, please rerun this cell to show the HTML representation or trust the notebook. <br />On GitHub, the HTML representation is unable to render, please try loading this page with nbviewer.org.</b></div><div class=\"sk-container\" hidden><div class=\"sk-item\"><div class=\"sk-estimator sk-toggleable\"><input class=\"sk-toggleable__control sk-hidden--visually\" id=\"sk-estimator-id-5\" type=\"checkbox\" checked><label for=\"sk-estimator-id-5\" class=\"sk-toggleable__label sk-toggleable__label-arrow\">LogisticRegression</label><div class=\"sk-toggleable__content\"><pre>LogisticRegression()</pre></div></div></div></div></div>"
            ]
          },
          "metadata": {},
          "execution_count": 62
        }
      ]
    },
    {
      "cell_type": "code",
      "source": [
        "# x_test = x_test.values.reshape(-1,1)\n",
        "result = log_model.predict(x_test)\n",
        "\n",
        "count = 0\n",
        "for i in range(len(result)):\n",
        "  count += result[i] == y_test.iloc[i]\n",
        "\n",
        "print(count / len(result))"
      ],
      "metadata": {
        "colab": {
          "base_uri": "https://localhost:8080/"
        },
        "id": "5kroPJBj7gwV",
        "outputId": "8e0ae434-099a-4b59-d58a-340c7cb55790"
      },
      "execution_count": null,
      "outputs": [
        {
          "output_type": "stream",
          "name": "stdout",
          "text": [
            "0.7642857142857142\n"
          ]
        }
      ]
    },
    {
      "cell_type": "markdown",
      "source": [
        "Displaying logistic regression model results alongside training/test data in scatterplot with matplotlib."
      ],
      "metadata": {
        "id": "sHWogWs7i5fQ"
      }
    },
    {
      "cell_type": "code",
      "source": [
        "import numpy as np\n",
        "import matplotlib.pyplot as plt\n",
        "\n",
        "x1_min, x1_max = m1_x.iloc[:, 0].min() - 1, m1_x.iloc[:, 0].max() + 1\n",
        "x2_min, x2_max = m1_x.iloc[:, 1].min() - 1, m1_x.iloc[:, 1].max() + 1\n",
        "\n",
        "xx, yy = np.meshgrid(np.arange(x1_min,x1_max, 0.01), np.arange(x2_min,x2_max, 0.01))\n",
        "\n",
        "z = log_model.predict(np.c_[xx.ravel(),yy.ravel()])\n",
        "z = z.reshape(xx.shape)\n",
        "\n",
        "contour = plt.contour(xx,yy,z,colors='black',levels=[0.5],linewidths=2)\n",
        "\n",
        "plt.clabel(contour,inline=True,fontsize=8)\n",
        "plt.contourf(xx,yy,z,cmap=plt.cm.RdBu,alpha=0.3)\n",
        "plt.scatter(x_train.iloc[:,0],x_train.iloc[:,1],c=y_train,cmap=plt.cm.RdBu,edgecolors='k')\n",
        "plt.scatter(x_test.iloc[:,0],x_test.iloc[:,1],c=y_test,marker='x',cmap=plt.cm.RdBu,edgecolors='k')\n",
        "plt.show()"
      ],
      "metadata": {
        "colab": {
          "base_uri": "https://localhost:8080/",
          "height": 541
        },
        "id": "RWuPJNRx7h2f",
        "outputId": "e4fa9afa-7d94-40e9-b03c-2a2fd6c84f82"
      },
      "execution_count": null,
      "outputs": [
        {
          "output_type": "stream",
          "name": "stderr",
          "text": [
            "/usr/local/lib/python3.10/dist-packages/sklearn/base.py:439: UserWarning: X does not have valid feature names, but LogisticRegression was fitted with feature names\n",
            "  warnings.warn(\n",
            "<ipython-input-64-26e0f7911dd8>:19: UserWarning: You passed a edgecolor/edgecolors ('k') for an unfilled marker ('x').  Matplotlib is ignoring the edgecolor in favor of the facecolor.  This behavior may change in the future.\n",
            "  plt.scatter(x_test.iloc[:,0],x_test.iloc[:,1],c=y_test,marker='x',cmap=plt.cm.RdBu,edgecolors='k')\n"
          ]
        },
        {
          "output_type": "stream",
          "name": "stdout",
          "text": [
            "<class 'pandas.core.series.Series'>\n"
          ]
        },
        {
          "output_type": "display_data",
          "data": {
            "text/plain": [
              "<Figure size 640x480 with 1 Axes>"
            ],
            "image/png": "[encoded data removed]"
          },
          "metadata": {}
        }
      ]
    },
    {
      "cell_type": "markdown",
      "source": [
        "Summary of model: only factor in data being split is profile_yn, with rel_sim_score1 having no effect. Usage of profile_yn for logistic regression is seemingly unfit. Better usage for Decision Tree (below)."
      ],
      "metadata": {
        "id": "OJA4EXKJjRYR"
      }
    },
    {
      "cell_type": "markdown",
      "source": [
        "##Graph 2 (rel_sim_score1 & rel_sim_score2)"
      ],
      "metadata": {
        "id": "4zU6XkOl7TlH"
      }
    },
    {
      "cell_type": "markdown",
      "source": [
        "Logistic Regression model, with quantities from rel_sim_score1 and rel_sim_score2."
      ],
      "metadata": {
        "id": "8nTMNqLojEof"
      }
    },
    {
      "cell_type": "code",
      "source": [
        "m2_x = final_df.loc[:, ['rel_sim_score1', 'rel_sim_score2']]\n",
        "m2_y = final_df.loc[:, 'fraudulent']\n",
        "print(m2_x)\n",
        "print(m2_y)"
      ],
      "metadata": {
        "colab": {
          "base_uri": "https://localhost:8080/"
        },
        "id": "_uaKCAAJye7E",
        "outputId": "fc6e48d2-5eef-4b17-bfea-7c022d9b5223"
      },
      "execution_count": null,
      "outputs": [
        {
          "output_type": "stream",
          "name": "stdout",
          "text": [
            "     rel_sim_score1 rel_sim_score2\n",
            "0          0.080526       0.083744\n",
            "1          0.103928        0.08175\n",
            "2          0.115751       0.091644\n",
            "3          0.142865       0.095052\n",
            "4          0.212908       0.115824\n",
            "...             ...            ...\n",
            "1395       0.064813        0.09481\n",
            "1396       0.215824       0.084562\n",
            "1397       0.090161       0.146961\n",
            "1398       0.125236       0.102869\n",
            "1399       0.367998        0.09802\n",
            "\n",
            "[1400 rows x 2 columns]\n",
            "0       0\n",
            "1       0\n",
            "2       0\n",
            "3       0\n",
            "4       0\n",
            "       ..\n",
            "1395    1\n",
            "1396    1\n",
            "1397    1\n",
            "1398    1\n",
            "1399    1\n",
            "Name: fraudulent, Length: 1400, dtype: int64\n"
          ]
        }
      ]
    },
    {
      "cell_type": "markdown",
      "source": [
        "Training Logistic Regression Model"
      ],
      "metadata": {
        "id": "E_eBRlaujCqG"
      }
    },
    {
      "cell_type": "code",
      "source": [
        "from sklearn.linear_model import LogisticRegression\n",
        "from sklearn.model_selection import train_test_split\n",
        "\n",
        "x_train, x_test, y_train, y_test = train_test_split(m2_x, m2_y, test_size=0.2)\n",
        "# x_train = x_train.values.reshape(-1,1)\n",
        "log_model = LogisticRegression()\n",
        "log_model.fit(x_train,y_train)"
      ],
      "metadata": {
        "colab": {
          "base_uri": "https://localhost:8080/"
        },
        "id": "NE8IjNzCzr8C",
        "outputId": "0ddf2904-9c47-407d-b515-e97eda46ff8c"
      },
      "execution_count": null,
      "outputs": [
        {
          "output_type": "execute_result",
          "data": {
            "text/plain": [
              "LogisticRegression()"
            ],
            "text/html": [
              "<style>#sk-container-id-2 {color: black;background-color: white;}#sk-container-id-2 pre{padding: 0;}#sk-container-id-2 div.sk-toggleable {background-color: white;}#sk-container-id-2 label.sk-toggleable__label {cursor: pointer;display: block;width: 100%;margin-bottom: 0;padding: 0.3em;box-sizing: border-box;text-align: center;}#sk-container-id-2 label.sk-toggleable__label-arrow:before {content: \"▸\";float: left;margin-right: 0.25em;color: #696969;}#sk-container-id-2 label.sk-toggleable__label-arrow:hover:before {color: black;}#sk-container-id-2 div.sk-estimator:hover label.sk-toggleable__label-arrow:before {color: black;}#sk-container-id-2 div.sk-toggleable__content {max-height: 0;max-width: 0;overflow: hidden;text-align: left;background-color: #f0f8ff;}#sk-container-id-2 div.sk-toggleable__content pre {margin: 0.2em;color: black;border-radius: 0.25em;background-color: #f0f8ff;}#sk-container-id-2 input.sk-toggleable__control:checked~div.sk-toggleable__content {max-height: 200px;max-width: 100%;overflow: auto;}#sk-container-id-2 input.sk-toggleable__control:checked~label.sk-toggleable__label-arrow:before {content: \"▾\";}#sk-container-id-2 div.sk-estimator input.sk-toggleable__control:checked~label.sk-toggleable__label {background-color: #d4ebff;}#sk-container-id-2 div.sk-label input.sk-toggleable__control:checked~label.sk-toggleable__label {background-color: #d4ebff;}#sk-container-id-2 input.sk-hidden--visually {border: 0;clip: rect(1px 1px 1px 1px);clip: rect(1px, 1px, 1px, 1px);height: 1px;margin: -1px;overflow: hidden;padding: 0;position: absolute;width: 1px;}#sk-container-id-2 div.sk-estimator {font-family: monospace;background-color: #f0f8ff;border: 1px dotted black;border-radius: 0.25em;box-sizing: border-box;margin-bottom: 0.5em;}#sk-container-id-2 div.sk-estimator:hover {background-color: #d4ebff;}#sk-container-id-2 div.sk-parallel-item::after {content: \"\";width: 100%;border-bottom: 1px solid gray;flex-grow: 1;}#sk-container-id-2 div.sk-label:hover label.sk-toggleable__label {background-color: #d4ebff;}#sk-container-id-2 div.sk-serial::before {content: \"\";position: absolute;border-left: 1px solid gray;box-sizing: border-box;top: 0;bottom: 0;left: 50%;z-index: 0;}#sk-container-id-2 div.sk-serial {display: flex;flex-direction: column;align-items: center;background-color: white;padding-right: 0.2em;padding-left: 0.2em;position: relative;}#sk-container-id-2 div.sk-item {position: relative;z-index: 1;}#sk-container-id-2 div.sk-parallel {display: flex;align-items: stretch;justify-content: center;background-color: white;position: relative;}#sk-container-id-2 div.sk-item::before, #sk-container-id-2 div.sk-parallel-item::before {content: \"\";position: absolute;border-left: 1px solid gray;box-sizing: border-box;top: 0;bottom: 0;left: 50%;z-index: -1;}#sk-container-id-2 div.sk-parallel-item {display: flex;flex-direction: column;z-index: 1;position: relative;background-color: white;}#sk-container-id-2 div.sk-parallel-item:first-child::after {align-self: flex-end;width: 50%;}#sk-container-id-2 div.sk-parallel-item:last-child::after {align-self: flex-start;width: 50%;}#sk-container-id-2 div.sk-parallel-item:only-child::after {width: 0;}#sk-container-id-2 div.sk-dashed-wrapped {border: 1px dashed gray;margin: 0 0.4em 0.5em 0.4em;box-sizing: border-box;padding-bottom: 0.4em;background-color: white;}#sk-container-id-2 div.sk-label label {font-family: monospace;font-weight: bold;display: inline-block;line-height: 1.2em;}#sk-container-id-2 div.sk-label-container {text-align: center;}#sk-container-id-2 div.sk-container {/* jupyter's `normalize.less` sets `[hidden] { display: none; }` but bootstrap.min.css set `[hidden] { display: none !important; }` so we also need the `!important` here to be able to override the default hidden behavior on the sphinx rendered scikit-learn.org. See: https://github.com/scikit-learn/scikit-learn/issues/21755 */display: inline-block !important;position: relative;}#sk-container-id-2 div.sk-text-repr-fallback {display: none;}</style><div id=\"sk-container-id-2\" class=\"sk-top-container\"><div class=\"sk-text-repr-fallback\"><pre>LogisticRegression()</pre><b>In a Jupyter environment, please rerun this cell to show the HTML representation or trust the notebook. <br />On GitHub, the HTML representation is unable to render, please try loading this page with nbviewer.org.</b></div><div class=\"sk-container\" hidden><div class=\"sk-item\"><div class=\"sk-estimator sk-toggleable\"><input class=\"sk-toggleable__control sk-hidden--visually\" id=\"sk-estimator-id-2\" type=\"checkbox\" checked><label for=\"sk-estimator-id-2\" class=\"sk-toggleable__label sk-toggleable__label-arrow\">LogisticRegression</label><div class=\"sk-toggleable__content\"><pre>LogisticRegression()</pre></div></div></div></div></div>"
            ]
          },
          "metadata": {},
          "execution_count": 26
        }
      ]
    },
    {
      "cell_type": "code",
      "source": [
        "# x_test = x_test.values.reshape(-1,1)\n",
        "result = log_model.predict(x_test)\n",
        "\n",
        "count = 0\n",
        "for i in range(len(result)):\n",
        "  count += result[i] == y_test.iloc[i]\n",
        "\n",
        "print(count / len(result))"
      ],
      "metadata": {
        "colab": {
          "base_uri": "https://localhost:8080/"
        },
        "id": "1Xla-JI20Gtt",
        "outputId": "e3328d23-f2d8-44d8-f3ca-9c859521bb96"
      },
      "execution_count": null,
      "outputs": [
        {
          "output_type": "stream",
          "name": "stdout",
          "text": [
            "0.48928571428571427\n"
          ]
        }
      ]
    },
    {
      "cell_type": "markdown",
      "source": [
        "Displaying logistic regression model results alongside training/test data in scatterplot with matplotlib."
      ],
      "metadata": {
        "id": "gp1zn85ajAxP"
      }
    },
    {
      "cell_type": "code",
      "source": [
        "import numpy as np\n",
        "import matplotlib.pyplot as plt\n",
        "\n",
        "x1_min, x1_max = m1_x.iloc[:, 0].min() - 1, m1_x.iloc[:, 0].max() + 1\n",
        "x2_min, x2_max = m1_x.iloc[:, 1].min() - 1, m1_x.iloc[:, 1].max() + 1\n",
        "\n",
        "xx, yy = np.meshgrid(np.arange(x1_min,x1_max, 0.01), np.arange(x2_min,x2_max, 0.01))\n",
        "\n",
        "z = log_model.predict(np.c_[xx.ravel(),yy.ravel()])\n",
        "z = z.reshape(xx.shape)\n",
        "\n",
        "contour = plt.contour(xx,yy,z,colors='black',levels=[0.5],linewidths=2)\n",
        "\n",
        "plt.clabel(contour,inline=True,fontsize=8)\n",
        "plt.contourf(xx,yy,z,cmap=plt.cm.RdBu,alpha=0.3)\n",
        "plt.scatter(x_train.iloc[:,0],x_train.iloc[:,1],c=y_train,cmap=plt.cm.RdBu,edgecolors='k')\n",
        "plt.scatter(x_test.iloc[:,0],x_test.iloc[:,1],c=y_test,marker='x',cmap=plt.cm.RdBu,edgecolors='k')\n",
        "plt.show()\n"
      ],
      "metadata": {
        "colab": {
          "base_uri": "https://localhost:8080/"
        },
        "id": "VgiJIJH50NEG",
        "outputId": "026061d3-da2d-487c-d4af-16c191a08c91"
      },
      "execution_count": null,
      "outputs": [
        {
          "output_type": "stream",
          "name": "stderr",
          "text": [
            "/usr/local/lib/python3.10/dist-packages/sklearn/base.py:439: UserWarning: X does not have valid feature names, but LogisticRegression was fitted with feature names\n",
            "  warnings.warn(\n",
            "<ipython-input-28-443a7e655034>:17: UserWarning: You passed a edgecolor/edgecolors ('k') for an unfilled marker ('x').  Matplotlib is ignoring the edgecolor in favor of the facecolor.  This behavior may change in the future.\n",
            "  plt.scatter(x_test.iloc[:,0],x_test.iloc[:,1],c=y_test,marker='x',cmap=plt.cm.RdBu,edgecolors='k')\n"
          ]
        },
        {
          "output_type": "display_data",
          "data": {
            "text/plain": [
              "<Figure size 640x480 with 1 Axes>"
            ],
            "image/png": "[encoded data removed]"
          },
          "metadata": {}
        }
      ]
    },
    {
      "cell_type": "markdown",
      "source": [
        "Summary of model: Inconclusive division. Perhaps extracted quantities weren't as meaningful. Different data manipulation method required."
      ],
      "metadata": {
        "id": "yGzw69E-jdFq"
      }
    },
    {
      "cell_type": "markdown",
      "source": [
        "#Decision Tree"
      ],
      "metadata": {
        "id": "wMGWM1VY9ECD"
      }
    },
    {
      "cell_type": "markdown",
      "source": [
        "Importing Decision Tree Model"
      ],
      "metadata": {
        "id": "gxdpYHl2jdjB"
      }
    },
    {
      "cell_type": "code",
      "source": [
        "from sklearn.tree import DecisionTreeClassifier\n",
        "from sklearn.metrics import accuracy_score, classification_report\n",
        "\n",
        "x_col = ['profile_yn', 'rel_sim_score1', 'rel_sim_score2']\n",
        "y_col = 'fraudulent'\n",
        "\n",
        "dt1_x = final_df.loc[:, x_col]\n",
        "dt1_y = final_df.loc[:, y_col]\n",
        "\n",
        "print(dt1_x)\n",
        "print(dt1_y)"
      ],
      "metadata": {
        "colab": {
          "base_uri": "https://localhost:8080/"
        },
        "id": "2YpKqD56kmvA",
        "outputId": "6c067b32-1705-4073-cfa3-3558a546fde9"
      },
      "execution_count": null,
      "outputs": [
        {
          "output_type": "stream",
          "name": "stdout",
          "text": [
            "      profile_yn rel_sim_score1 rel_sim_score2\n",
            "0              1       0.080526       0.083744\n",
            "1              0       0.103928        0.08175\n",
            "2              1       0.115751       0.091644\n",
            "3              1       0.142865       0.095052\n",
            "4              1       0.212908       0.115824\n",
            "...          ...            ...            ...\n",
            "1395           1       0.064813        0.09481\n",
            "1396           0       0.215824       0.084562\n",
            "1397           0       0.090161       0.146961\n",
            "1398           1       0.125236       0.102869\n",
            "1399           0       0.367998        0.09802\n",
            "\n",
            "[1400 rows x 3 columns]\n",
            "0       0\n",
            "1       0\n",
            "2       0\n",
            "3       0\n",
            "4       0\n",
            "       ..\n",
            "1395    1\n",
            "1396    1\n",
            "1397    1\n",
            "1398    1\n",
            "1399    1\n",
            "Name: fraudulent, Length: 1400, dtype: int64\n"
          ]
        }
      ]
    },
    {
      "cell_type": "markdown",
      "source": [
        "Training Decision Tree Model"
      ],
      "metadata": {
        "id": "pt_N_Jkcjfff"
      }
    },
    {
      "cell_type": "code",
      "source": [
        "x_train, x_test, y_train, y_test = train_test_split(dt1_x, dt1_y, test_size=0.2)\n",
        "dt1_model = DecisionTreeClassifier(max_depth=3, random_state=42)\n",
        "dt1_model.fit(x_train, y_train)\n",
        "\n",
        "print(f\"acc: {accuracy_score(y_test, dt1_model.predict(x_test))}\")\n",
        "print(f\"{classification_report(y_test, dt1_model.predict(x_test))}\")"
      ],
      "metadata": {
        "colab": {
          "base_uri": "https://localhost:8080/"
        },
        "id": "UieQHK1NkpFq",
        "outputId": "fc894fbc-59d0-47f9-9ce8-e2f5a2c021a2"
      },
      "execution_count": null,
      "outputs": [
        {
          "output_type": "stream",
          "name": "stdout",
          "text": [
            "acc: 0.7178571428571429\n",
            "              precision    recall  f1-score   support\n",
            "\n",
            "           0       0.65      0.89      0.75       133\n",
            "           1       0.85      0.56      0.68       147\n",
            "\n",
            "    accuracy                           0.72       280\n",
            "   macro avg       0.75      0.73      0.71       280\n",
            "weighted avg       0.75      0.72      0.71       280\n",
            "\n"
          ]
        }
      ]
    },
    {
      "cell_type": "code",
      "source": [
        "from sklearn.tree import plot_tree\n",
        "\n",
        "plt.figure(figsize=(20, 10))\n",
        "plot_tree(dt1_model, filled=True, feature_names=x_col, class_names=['true', 'false'], rounded=True)"
      ],
      "metadata": {
        "colab": {
          "base_uri": "https://localhost:8080/",
          "height": 956
        },
        "id": "2rhohn2ulAvt",
        "outputId": "111657d6-c405-494b-8e02-40d7470b78ef"
      },
      "execution_count": null,
      "outputs": [
        {
          "output_type": "execute_result",
          "data": {
            "text/plain": [
              "[Text(0.5, 0.875, 'profile_yn <= 0.5\\ngini = 0.5\\nsamples = 1120\\nvalue = [567, 553]\\nclass = true'),\n",
              " Text(0.25, 0.625, 'rel_sim_score1 <= 0.282\\ngini = 0.321\\nsamples = 434\\nvalue = [87, 347]\\nclass = false'),\n",
              " Text(0.125, 0.375, 'rel_sim_score1 <= 0.21\\ngini = 0.302\\nsamples = 410\\nvalue = [76, 334]\\nclass = false'),\n",
              " Text(0.0625, 0.125, 'gini = 0.327\\nsamples = 365\\nvalue = [75, 290]\\nclass = false'),\n",
              " Text(0.1875, 0.125, 'gini = 0.043\\nsamples = 45\\nvalue = [1, 44]\\nclass = false'),\n",
              " Text(0.375, 0.375, 'rel_sim_score1 <= 0.333\\ngini = 0.497\\nsamples = 24\\nvalue = [11, 13]\\nclass = false'),\n",
              " Text(0.3125, 0.125, 'gini = 0.473\\nsamples = 13\\nvalue = [8, 5]\\nclass = true'),\n",
              " Text(0.4375, 0.125, 'gini = 0.397\\nsamples = 11\\nvalue = [3, 8]\\nclass = false'),\n",
              " Text(0.75, 0.625, 'rel_sim_score1 <= 0.099\\ngini = 0.42\\nsamples = 686\\nvalue = [480, 206]\\nclass = true'),\n",
              " Text(0.625, 0.375, 'rel_sim_score2 <= 0.097\\ngini = 0.246\\nsamples = 139\\nvalue = [119, 20]\\nclass = true'),\n",
              " Text(0.5625, 0.125, 'gini = 0.317\\nsamples = 86\\nvalue = [69, 17]\\nclass = true'),\n",
              " Text(0.6875, 0.125, 'gini = 0.107\\nsamples = 53\\nvalue = [50, 3]\\nclass = true'),\n",
              " Text(0.875, 0.375, 'rel_sim_score2 <= 0.203\\ngini = 0.449\\nsamples = 547\\nvalue = [361, 186]\\nclass = true'),\n",
              " Text(0.8125, 0.125, 'gini = 0.457\\nsamples = 526\\nvalue = [340, 186]\\nclass = true'),\n",
              " Text(0.9375, 0.125, 'gini = 0.0\\nsamples = 21\\nvalue = [21, 0]\\nclass = true')]"
            ]
          },
          "metadata": {},
          "execution_count": 75
        },
        {
          "output_type": "display_data",
          "data": {
            "text/plain": [
              "<Figure size 2000x1000 with 1 Axes>"
            ],
            "image/png": "[encoded data removed]"
          },
          "metadata": {}
        }
      ]
    },
    {
      "cell_type": "markdown",
      "source": [
        "Model results: Decision Tree classification is arguably pretty good.\n",
        "However main factor for classification is once again profile_yn.\n",
        "Idea to initially split data with profile_yn, then run logistic regression afterwards (shown below)."
      ],
      "metadata": {
        "id": "Z39eZTYTjqDC"
      }
    },
    {
      "cell_type": "markdown",
      "source": [
        "# Decision + Logistic Regression"
      ],
      "metadata": {
        "id": "MnFwiEs6mug0"
      }
    },
    {
      "cell_type": "markdown",
      "source": [
        "(Rationale explained above)"
      ],
      "metadata": {
        "id": "w7Tudd_0khQf"
      }
    },
    {
      "cell_type": "code",
      "source": [
        "final_df_py = final_df.loc[final_df.loc[:, 'profile_yn'] == 1]\n",
        "final_df_pn = final_df.loc[final_df.loc[:, 'profile_yn'] == 0]"
      ],
      "metadata": {
        "id": "HRYYSX1bmxuj"
      },
      "execution_count": null,
      "outputs": []
    },
    {
      "cell_type": "markdown",
      "source": [
        "##Profile: Y"
      ],
      "metadata": {
        "id": "HTuA_WeUqY7p"
      }
    },
    {
      "cell_type": "code",
      "source": [
        "x_col = ['rel_sim_score1', 'rel_sim_score2']\n",
        "y_col = 'fraudulent'\n",
        "\n",
        "py_x = final_df_py.loc[:, x_col]\n",
        "py_y = final_df_py.loc[:, y_col]"
      ],
      "metadata": {
        "id": "cj10Z28ana9H"
      },
      "execution_count": null,
      "outputs": []
    },
    {
      "cell_type": "code",
      "source": [
        "x_train, x_test, y_train, y_test = train_test_split(py_x, py_y, test_size=0.2)\n",
        "# x_train = x_train.values.reshape(-1,1)\n",
        "log_model = LogisticRegression()\n",
        "log_model.fit(x_train, y_train)"
      ],
      "metadata": {
        "colab": {
          "base_uri": "https://localhost:8080/",
          "height": 74
        },
        "id": "ytbvIKF0nkMt",
        "outputId": "240a2235-c3a3-4b57-9d2e-afbaf6ae3f69"
      },
      "execution_count": null,
      "outputs": [
        {
          "output_type": "execute_result",
          "data": {
            "text/plain": [
              "LogisticRegression()"
            ],
            "text/html": [
              "<style>#sk-container-id-7 {color: black;background-color: white;}#sk-container-id-7 pre{padding: 0;}#sk-container-id-7 div.sk-toggleable {background-color: white;}#sk-container-id-7 label.sk-toggleable__label {cursor: pointer;display: block;width: 100%;margin-bottom: 0;padding: 0.3em;box-sizing: border-box;text-align: center;}#sk-container-id-7 label.sk-toggleable__label-arrow:before {content: \"▸\";float: left;margin-right: 0.25em;color: #696969;}#sk-container-id-7 label.sk-toggleable__label-arrow:hover:before {color: black;}#sk-container-id-7 div.sk-estimator:hover label.sk-toggleable__label-arrow:before {color: black;}#sk-container-id-7 div.sk-toggleable__content {max-height: 0;max-width: 0;overflow: hidden;text-align: left;background-color: #f0f8ff;}#sk-container-id-7 div.sk-toggleable__content pre {margin: 0.2em;color: black;border-radius: 0.25em;background-color: #f0f8ff;}#sk-container-id-7 input.sk-toggleable__control:checked~div.sk-toggleable__content {max-height: 200px;max-width: 100%;overflow: auto;}#sk-container-id-7 input.sk-toggleable__control:checked~label.sk-toggleable__label-arrow:before {content: \"▾\";}#sk-container-id-7 div.sk-estimator input.sk-toggleable__control:checked~label.sk-toggleable__label {background-color: #d4ebff;}#sk-container-id-7 div.sk-label input.sk-toggleable__control:checked~label.sk-toggleable__label {background-color: #d4ebff;}#sk-container-id-7 input.sk-hidden--visually {border: 0;clip: rect(1px 1px 1px 1px);clip: rect(1px, 1px, 1px, 1px);height: 1px;margin: -1px;overflow: hidden;padding: 0;position: absolute;width: 1px;}#sk-container-id-7 div.sk-estimator {font-family: monospace;background-color: #f0f8ff;border: 1px dotted black;border-radius: 0.25em;box-sizing: border-box;margin-bottom: 0.5em;}#sk-container-id-7 div.sk-estimator:hover {background-color: #d4ebff;}#sk-container-id-7 div.sk-parallel-item::after {content: \"\";width: 100%;border-bottom: 1px solid gray;flex-grow: 1;}#sk-container-id-7 div.sk-label:hover label.sk-toggleable__label {background-color: #d4ebff;}#sk-container-id-7 div.sk-serial::before {content: \"\";position: absolute;border-left: 1px solid gray;box-sizing: border-box;top: 0;bottom: 0;left: 50%;z-index: 0;}#sk-container-id-7 div.sk-serial {display: flex;flex-direction: column;align-items: center;background-color: white;padding-right: 0.2em;padding-left: 0.2em;position: relative;}#sk-container-id-7 div.sk-item {position: relative;z-index: 1;}#sk-container-id-7 div.sk-parallel {display: flex;align-items: stretch;justify-content: center;background-color: white;position: relative;}#sk-container-id-7 div.sk-item::before, #sk-container-id-7 div.sk-parallel-item::before {content: \"\";position: absolute;border-left: 1px solid gray;box-sizing: border-box;top: 0;bottom: 0;left: 50%;z-index: -1;}#sk-container-id-7 div.sk-parallel-item {display: flex;flex-direction: column;z-index: 1;position: relative;background-color: white;}#sk-container-id-7 div.sk-parallel-item:first-child::after {align-self: flex-end;width: 50%;}#sk-container-id-7 div.sk-parallel-item:last-child::after {align-self: flex-start;width: 50%;}#sk-container-id-7 div.sk-parallel-item:only-child::after {width: 0;}#sk-container-id-7 div.sk-dashed-wrapped {border: 1px dashed gray;margin: 0 0.4em 0.5em 0.4em;box-sizing: border-box;padding-bottom: 0.4em;background-color: white;}#sk-container-id-7 div.sk-label label {font-family: monospace;font-weight: bold;display: inline-block;line-height: 1.2em;}#sk-container-id-7 div.sk-label-container {text-align: center;}#sk-container-id-7 div.sk-container {/* jupyter's `normalize.less` sets `[hidden] { display: none; }` but bootstrap.min.css set `[hidden] { display: none !important; }` so we also need the `!important` here to be able to override the default hidden behavior on the sphinx rendered scikit-learn.org. See: https://github.com/scikit-learn/scikit-learn/issues/21755 */display: inline-block !important;position: relative;}#sk-container-id-7 div.sk-text-repr-fallback {display: none;}</style><div id=\"sk-container-id-7\" class=\"sk-top-container\"><div class=\"sk-text-repr-fallback\"><pre>LogisticRegression()</pre><b>In a Jupyter environment, please rerun this cell to show the HTML representation or trust the notebook. <br />On GitHub, the HTML representation is unable to render, please try loading this page with nbviewer.org.</b></div><div class=\"sk-container\" hidden><div class=\"sk-item\"><div class=\"sk-estimator sk-toggleable\"><input class=\"sk-toggleable__control sk-hidden--visually\" id=\"sk-estimator-id-7\" type=\"checkbox\" checked><label for=\"sk-estimator-id-7\" class=\"sk-toggleable__label sk-toggleable__label-arrow\">LogisticRegression</label><div class=\"sk-toggleable__content\"><pre>LogisticRegression()</pre></div></div></div></div></div>"
            ]
          },
          "metadata": {},
          "execution_count": 78
        }
      ]
    },
    {
      "cell_type": "code",
      "source": [
        "# x_test = x_test.values.reshape(-1,1)\n",
        "result = log_model.predict(x_test)\n",
        "\n",
        "count = 0\n",
        "for i in range(len(result)):\n",
        "  count += result[i] == y_test.iloc[i]\n",
        "\n",
        "print(count / len(result))"
      ],
      "metadata": {
        "colab": {
          "base_uri": "https://localhost:8080/"
        },
        "id": "GF7w-_hbnkQb",
        "outputId": "c2195790-08e7-4fc9-cda6-0ed3098333d9"
      },
      "execution_count": null,
      "outputs": [
        {
          "output_type": "stream",
          "name": "stdout",
          "text": [
            "0.7341040462427746\n"
          ]
        }
      ]
    },
    {
      "cell_type": "code",
      "source": [
        "x1_min, x1_max = m1_x.iloc[:, 0].min() - 1, m1_x.iloc[:, 0].max() + 1\n",
        "x2_min, x2_max = m1_x.iloc[:, 1].min() - 1, m1_x.iloc[:, 1].max() + 1\n",
        "\n",
        "xx, yy = np.meshgrid(np.arange(x1_min,x1_max, 0.01), np.arange(x2_min,x2_max, 0.01))\n",
        "\n",
        "z = log_model.predict(np.c_[xx.ravel(),yy.ravel()])\n",
        "z = z.reshape(xx.shape)\n",
        "\n",
        "contour = plt.contour(xx,yy,z,colors='black',levels=[0.5],linewidths=2)\n",
        "\n",
        "\n",
        "plt.clabel(contour,inline=True,fontsize=8)\n",
        "plt.contourf(xx,yy,z,cmap=plt.cm.RdBu,alpha=0.3)\n",
        "plt.scatter(x_train.iloc[:,0],x_train.iloc[:,1],c=y_train,cmap=plt.cm.RdBu,edgecolors='k')\n",
        "plt.scatter(x_test.iloc[:,0],x_test.iloc[:,1],c=y_test,marker='x',cmap=plt.cm.RdBu,edgecolors='k')\n",
        "plt.show()"
      ],
      "metadata": {
        "colab": {
          "base_uri": "https://localhost:8080/",
          "height": 523
        },
        "id": "t4FMXdnrnkUb",
        "outputId": "d2e949a4-ad24-470a-bab7-671df9044c22"
      },
      "execution_count": null,
      "outputs": [
        {
          "output_type": "stream",
          "name": "stderr",
          "text": [
            "/usr/local/lib/python3.10/dist-packages/sklearn/base.py:439: UserWarning: X does not have valid feature names, but LogisticRegression was fitted with feature names\n",
            "  warnings.warn(\n",
            "<ipython-input-80-31ae8ff92f47>:15: UserWarning: You passed a edgecolor/edgecolors ('k') for an unfilled marker ('x').  Matplotlib is ignoring the edgecolor in favor of the facecolor.  This behavior may change in the future.\n",
            "  plt.scatter(x_test.iloc[:,0],x_test.iloc[:,1],c=y_test,marker='x',cmap=plt.cm.RdBu,edgecolors='k')\n"
          ]
        },
        {
          "output_type": "display_data",
          "data": {
            "text/plain": [
              "<Figure size 640x480 with 1 Axes>"
            ],
            "image/png": "[encoded data removed]"
          },
          "metadata": {}
        }
      ]
    },
    {
      "cell_type": "markdown",
      "source": [
        "Model results: inconclusive."
      ],
      "metadata": {
        "id": "y1wq5CPeklIp"
      }
    },
    {
      "cell_type": "markdown",
      "source": [
        "##Profile: N"
      ],
      "metadata": {
        "id": "nFG6gzr2qbh2"
      }
    },
    {
      "cell_type": "code",
      "source": [
        "x_col = ['rel_sim_score1', 'rel_sim_score2']\n",
        "y_col = 'fraudulent'\n",
        "\n",
        "py_x = final_df_pn.loc[:, x_col]\n",
        "py_y = final_df_pn.loc[:, y_col]"
      ],
      "metadata": {
        "id": "5uWBGxUvnkXW"
      },
      "execution_count": null,
      "outputs": []
    },
    {
      "cell_type": "code",
      "source": [
        "x_train, x_test, y_train, y_test = train_test_split(py_x, py_y, test_size=0.2)\n",
        "# x_train = x_train.values.reshape(-1,1)\n",
        "log_model = LogisticRegression()\n",
        "log_model.fit(x_train, y_train)"
      ],
      "metadata": {
        "colab": {
          "base_uri": "https://localhost:8080/",
          "height": 74
        },
        "id": "JJhUd0edqetc",
        "outputId": "98bd4b45-2d49-40d8-f97c-9e82f66f8efb"
      },
      "execution_count": null,
      "outputs": [
        {
          "output_type": "execute_result",
          "data": {
            "text/plain": [
              "LogisticRegression()"
            ],
            "text/html": [
              "<style>#sk-container-id-8 {color: black;background-color: white;}#sk-container-id-8 pre{padding: 0;}#sk-container-id-8 div.sk-toggleable {background-color: white;}#sk-container-id-8 label.sk-toggleable__label {cursor: pointer;display: block;width: 100%;margin-bottom: 0;padding: 0.3em;box-sizing: border-box;text-align: center;}#sk-container-id-8 label.sk-toggleable__label-arrow:before {content: \"▸\";float: left;margin-right: 0.25em;color: #696969;}#sk-container-id-8 label.sk-toggleable__label-arrow:hover:before {color: black;}#sk-container-id-8 div.sk-estimator:hover label.sk-toggleable__label-arrow:before {color: black;}#sk-container-id-8 div.sk-toggleable__content {max-height: 0;max-width: 0;overflow: hidden;text-align: left;background-color: #f0f8ff;}#sk-container-id-8 div.sk-toggleable__content pre {margin: 0.2em;color: black;border-radius: 0.25em;background-color: #f0f8ff;}#sk-container-id-8 input.sk-toggleable__control:checked~div.sk-toggleable__content {max-height: 200px;max-width: 100%;overflow: auto;}#sk-container-id-8 input.sk-toggleable__control:checked~label.sk-toggleable__label-arrow:before {content: \"▾\";}#sk-container-id-8 div.sk-estimator input.sk-toggleable__control:checked~label.sk-toggleable__label {background-color: #d4ebff;}#sk-container-id-8 div.sk-label input.sk-toggleable__control:checked~label.sk-toggleable__label {background-color: #d4ebff;}#sk-container-id-8 input.sk-hidden--visually {border: 0;clip: rect(1px 1px 1px 1px);clip: rect(1px, 1px, 1px, 1px);height: 1px;margin: -1px;overflow: hidden;padding: 0;position: absolute;width: 1px;}#sk-container-id-8 div.sk-estimator {font-family: monospace;background-color: #f0f8ff;border: 1px dotted black;border-radius: 0.25em;box-sizing: border-box;margin-bottom: 0.5em;}#sk-container-id-8 div.sk-estimator:hover {background-color: #d4ebff;}#sk-container-id-8 div.sk-parallel-item::after {content: \"\";width: 100%;border-bottom: 1px solid gray;flex-grow: 1;}#sk-container-id-8 div.sk-label:hover label.sk-toggleable__label {background-color: #d4ebff;}#sk-container-id-8 div.sk-serial::before {content: \"\";position: absolute;border-left: 1px solid gray;box-sizing: border-box;top: 0;bottom: 0;left: 50%;z-index: 0;}#sk-container-id-8 div.sk-serial {display: flex;flex-direction: column;align-items: center;background-color: white;padding-right: 0.2em;padding-left: 0.2em;position: relative;}#sk-container-id-8 div.sk-item {position: relative;z-index: 1;}#sk-container-id-8 div.sk-parallel {display: flex;align-items: stretch;justify-content: center;background-color: white;position: relative;}#sk-container-id-8 div.sk-item::before, #sk-container-id-8 div.sk-parallel-item::before {content: \"\";position: absolute;border-left: 1px solid gray;box-sizing: border-box;top: 0;bottom: 0;left: 50%;z-index: -1;}#sk-container-id-8 div.sk-parallel-item {display: flex;flex-direction: column;z-index: 1;position: relative;background-color: white;}#sk-container-id-8 div.sk-parallel-item:first-child::after {align-self: flex-end;width: 50%;}#sk-container-id-8 div.sk-parallel-item:last-child::after {align-self: flex-start;width: 50%;}#sk-container-id-8 div.sk-parallel-item:only-child::after {width: 0;}#sk-container-id-8 div.sk-dashed-wrapped {border: 1px dashed gray;margin: 0 0.4em 0.5em 0.4em;box-sizing: border-box;padding-bottom: 0.4em;background-color: white;}#sk-container-id-8 div.sk-label label {font-family: monospace;font-weight: bold;display: inline-block;line-height: 1.2em;}#sk-container-id-8 div.sk-label-container {text-align: center;}#sk-container-id-8 div.sk-container {/* jupyter's `normalize.less` sets `[hidden] { display: none; }` but bootstrap.min.css set `[hidden] { display: none !important; }` so we also need the `!important` here to be able to override the default hidden behavior on the sphinx rendered scikit-learn.org. See: https://github.com/scikit-learn/scikit-learn/issues/21755 */display: inline-block !important;position: relative;}#sk-container-id-8 div.sk-text-repr-fallback {display: none;}</style><div id=\"sk-container-id-8\" class=\"sk-top-container\"><div class=\"sk-text-repr-fallback\"><pre>LogisticRegression()</pre><b>In a Jupyter environment, please rerun this cell to show the HTML representation or trust the notebook. <br />On GitHub, the HTML representation is unable to render, please try loading this page with nbviewer.org.</b></div><div class=\"sk-container\" hidden><div class=\"sk-item\"><div class=\"sk-estimator sk-toggleable\"><input class=\"sk-toggleable__control sk-hidden--visually\" id=\"sk-estimator-id-8\" type=\"checkbox\" checked><label for=\"sk-estimator-id-8\" class=\"sk-toggleable__label sk-toggleable__label-arrow\">LogisticRegression</label><div class=\"sk-toggleable__content\"><pre>LogisticRegression()</pre></div></div></div></div></div>"
            ]
          },
          "metadata": {},
          "execution_count": 82
        }
      ]
    },
    {
      "cell_type": "code",
      "source": [
        "# x_test = x_test.values.reshape(-1,1)\n",
        "result = log_model.predict(x_test)\n",
        "\n",
        "count = 0\n",
        "for i in range(len(result)):\n",
        "  count += result[i] == y_test.iloc[i]\n",
        "\n",
        "print(count / len(result))"
      ],
      "metadata": {
        "colab": {
          "base_uri": "https://localhost:8080/"
        },
        "id": "jqWnUsomqf40",
        "outputId": "d531dbf0-5e42-408d-c02d-e3bf0d656d2e"
      },
      "execution_count": null,
      "outputs": [
        {
          "output_type": "stream",
          "name": "stdout",
          "text": [
            "0.7685185185185185\n"
          ]
        }
      ]
    },
    {
      "cell_type": "code",
      "source": [
        "x1_min, x1_max = m1_x.iloc[:, 0].min() - 1, m1_x.iloc[:, 0].max() + 1\n",
        "x2_min, x2_max = m1_x.iloc[:, 1].min() - 1, m1_x.iloc[:, 1].max() + 1\n",
        "\n",
        "xx, yy = np.meshgrid(np.arange(x1_min,x1_max, 0.01), np.arange(x2_min,x2_max, 0.01))\n",
        "\n",
        "z = log_model.predict(np.c_[xx.ravel(),yy.ravel()])\n",
        "z = z.reshape(xx.shape)\n",
        "\n",
        "contour = plt.contour(xx,yy,z,colors='black',levels=[0.5],linewidths=2)\n",
        "\n",
        "\n",
        "plt.clabel(contour,inline=True,fontsize=8)\n",
        "plt.contourf(xx,yy,z,cmap=plt.cm.RdBu,alpha=0.3)\n",
        "plt.scatter(x_train.iloc[:,0],x_train.iloc[:,1],c=y_train,cmap=plt.cm.RdBu,edgecolors='k')\n",
        "plt.scatter(x_test.iloc[:,0],x_test.iloc[:,1],c=y_test,marker='x',cmap=plt.cm.RdBu,edgecolors='k')\n",
        "plt.show()"
      ],
      "metadata": {
        "colab": {
          "base_uri": "https://localhost:8080/",
          "height": 523
        },
        "id": "hAD7FYlxqgtB",
        "outputId": "622048ec-50ad-45b6-a125-832bf3ea9c3f"
      },
      "execution_count": null,
      "outputs": [
        {
          "output_type": "stream",
          "name": "stderr",
          "text": [
            "/usr/local/lib/python3.10/dist-packages/sklearn/base.py:439: UserWarning: X does not have valid feature names, but LogisticRegression was fitted with feature names\n",
            "  warnings.warn(\n",
            "<ipython-input-84-31ae8ff92f47>:15: UserWarning: You passed a edgecolor/edgecolors ('k') for an unfilled marker ('x').  Matplotlib is ignoring the edgecolor in favor of the facecolor.  This behavior may change in the future.\n",
            "  plt.scatter(x_test.iloc[:,0],x_test.iloc[:,1],c=y_test,marker='x',cmap=plt.cm.RdBu,edgecolors='k')\n"
          ]
        },
        {
          "output_type": "display_data",
          "data": {
            "text/plain": [
              "<Figure size 640x480 with 1 Axes>"
            ],
            "image/png": "[encoded data removed]"
          },
          "metadata": {}
        }
      ]
    },
    {
      "cell_type": "markdown",
      "source": [
        "Model results: inconclusive\n",
        "\n",
        "i want to kill myself"
      ],
      "metadata": {
        "id": "XeQ1c3v9km0y"
      }
    }
  ]
}